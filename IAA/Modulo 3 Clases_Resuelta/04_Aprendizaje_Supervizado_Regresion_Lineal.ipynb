{
 "cells": [
  {
   "cell_type": "markdown",
   "metadata": {},
   "source": [
    "<img style=\"float: left;;\" src='Figures/alinco.png' /></a>\n",
    "\n",
    "\n",
    "# <center> <font color= #000047> Módulo 2: Aprendizaje supervizado: Regresión Lineal "
   ]
  },
  {
   "cell_type": "markdown",
   "metadata": {},
   "source": [
    "## Introducción"
   ]
  },
  {
   "cell_type": "markdown",
   "metadata": {},
   "source": [
    "El Aprendizaje Supervizado se podría definir como un tipo de aprendizaje en IA en el que un algoritmo es entrenado con variables que incluyen los valores que queremos predecir; a estos valores conocidos se les llama `“etiquetas”` y se usan también para la evaluación del modelo. El aprendizaje supervisado se puede subdividir en dos tipos: \n",
    "\n",
    "- Clasificación\n",
    "\n",
    "- Regresión."
   ]
  },
  {
   "cell_type": "markdown",
   "metadata": {},
   "source": [
    "### Clasificación\n",
    "\n",
    "En cuanto a clasificación, el objetivo es predecir las etiquetas de clase categóricas de nuevos registros, con base en observaciones pasadas. Dependiendo de la etiqueta, se puede decir que la clasificación es binaria o multiclase. "
   ]
  },
  {
   "cell_type": "markdown",
   "metadata": {},
   "source": [
    "### Regresión\n",
    "\n",
    "Respecto a regresión, se trata del proceso estadístico predictivo en el que el modelo intenta predecir un valor continuo (como ventas, precio, calificaciones) mediante la relación entre variables dependientes e independientes. Es decir, se encuentra una ecuación en la que se sustituyen los valores de las variables y como resultado se obtiene el valor a predecir "
   ]
  },
  {
   "cell_type": "markdown",
   "metadata": {},
   "source": [
    "### Algunos algortimos de Aprendizaje Supervizado\n",
    "\n",
    "- **Regresión lineal:** Se trata de una regresión en la que al graficar la ecuación se forma una línea recta. Para obtener dicha ecuación, se usa el método de los cuadrados mínimos.\n",
    "\n",
    "\n",
    "- **Regresión logística:** Es una regresión usada principalmente en problemas de clasificación binaria. A pesar de la aparente incongruencia, se trata de una regresión porque el resultado de la ecuación es la probabilidad de que pertenezca a una clase, que dependiendo del umbral que se utilice, se clasifica como positivo o negativo.\n",
    "\n",
    "\n",
    "- **Support Vector Machine (SVM):** Típicamente se usa para problemas de clasificación, pero también se puede usar para regresión. En este algoritmo se construye un hiperplano que separa las clases de datos lo más posible.\n",
    "\n",
    "\n",
    "- **Árboles de decisión:** Algoritmo de clasificación similar a un diagrama de flujo, en el que se evalúan valores en cada nodo para llegar a una clasificación al final.\n",
    "\n",
    "\n",
    "- **Random Forest:** Este algoritmo consiste en combinar una gran cantidad de árboles de decisión independientes entre sí para reducir la varianza. Debido al conjunto de árboles, se le dio el nombre de “bosque”.\n",
    "\n"
   ]
  },
  {
   "cell_type": "markdown",
   "metadata": {},
   "source": [
    "## Regresión Lineal (Repaso)"
   ]
  },
  {
   "cell_type": "markdown",
   "metadata": {},
   "source": [
    "\n",
    "Consideremos un polinomio de grado uno:\n",
    "\n",
    "$$y = \\beta_1 x + \\beta_0.$$\n",
    "\n",
    "Esta es una **línea recta** que tiene pendiente $\\beta_1$. Sabemos que habrá una línea conectando dos puntos cualesquiera. Por tanto, *una ecuación polinómica de primer grado es un ajuste perfecto entre dos puntos*.\n",
    "\n",
    "Si consideramos ahora un polinomio de segundo grado,\n",
    "\n",
    "$$y = \\beta_2 x^2 + \\beta_1 x + \\beta_0,$$\n",
    "\n",
    "este se ajustará exactamente a tres puntos. Si aumentamos el grado de la función a la de un polinomio de tercer grado, obtenemos:\n",
    "\n",
    "$$y = \\beta_3 x^3 + \\beta_2 x^2 + \\beta_1 x + \\beta_0,$$\n",
    "\n",
    "que se ajustará a cuatro puntos.\n",
    "\n",
    "**Ejemplos**\n",
    "1. Encontrar la línea recta que pasa exactamente por los puntos $(0,1)$ y $(1,0)$.\n",
    "2. Encontrar la parábola que pasa exactamente por los puntos $(-1,1)$, $(0,0)$ y $(1,1)$.\n",
    "\n",
    "**Solución**\n",
    "1. Consideramos $y=\\beta_1 x + \\beta_0$. Evaluando en el punto $(0,1)$, obtenemos $\\beta_1(0) + \\beta_0 = 1$. Ahora, evaluando en el punto $(1,0)$, obtenemos $\\beta_1(1) + \\beta_0 = 0$. De esta manera,\n",
    "$$\\left[\\begin{array}{cc} 1 & 0 \\\\ 1 & 1\\end{array}\\right]\\left[\\begin{array}{c} \\beta_0 \\\\ \\beta_1\\end{array}\\right]=\\left[\\begin{array}{c} 1 \\\\ 0\\end{array}\\right].$$\n",
    "Resolviendo, $\\beta_0=-\\beta_1=1$."
   ]
  },
  {
   "cell_type": "code",
   "execution_count": 1,
   "metadata": {},
   "outputs": [],
   "source": [
    "# Importar numpy y el matplotlib.pyplot\n",
    "import numpy as np\n",
    "from matplotlib import pyplot as plt"
   ]
  },
  {
   "cell_type": "code",
   "execution_count": 2,
   "metadata": {},
   "outputs": [
    {
     "name": "stdout",
     "output_type": "stream",
     "text": [
      "Help on function solve in module numpy.linalg:\n",
      "\n",
      "solve(a, b)\n",
      "    Solve a linear matrix equation, or system of linear scalar equations.\n",
      "    \n",
      "    Computes the \"exact\" solution, `x`, of the well-determined, i.e., full\n",
      "    rank, linear matrix equation `ax = b`.\n",
      "    \n",
      "    Parameters\n",
      "    ----------\n",
      "    a : (..., M, M) array_like\n",
      "        Coefficient matrix.\n",
      "    b : {(..., M,), (..., M, K)}, array_like\n",
      "        Ordinate or \"dependent variable\" values.\n",
      "    \n",
      "    Returns\n",
      "    -------\n",
      "    x : {(..., M,), (..., M, K)} ndarray\n",
      "        Solution to the system a x = b.  Returned shape is identical to `b`.\n",
      "    \n",
      "    Raises\n",
      "    ------\n",
      "    LinAlgError\n",
      "        If `a` is singular or not square.\n",
      "    \n",
      "    See Also\n",
      "    --------\n",
      "    scipy.linalg.solve : Similar function in SciPy.\n",
      "    \n",
      "    Notes\n",
      "    -----\n",
      "    \n",
      "    .. versionadded:: 1.8.0\n",
      "    \n",
      "    Broadcasting rules apply, see the `numpy.linalg` documentation for\n",
      "    details.\n",
      "    \n",
      "    The solutions are computed using LAPACK routine ``_gesv``.\n",
      "    \n",
      "    `a` must be square and of full-rank, i.e., all rows (or, equivalently,\n",
      "    columns) must be linearly independent; if either is not true, use\n",
      "    `lstsq` for the least-squares best \"solution\" of the\n",
      "    system/equation.\n",
      "    \n",
      "    References\n",
      "    ----------\n",
      "    .. [1] G. Strang, *Linear Algebra and Its Applications*, 2nd Ed., Orlando,\n",
      "           FL, Academic Press, Inc., 1980, pg. 22.\n",
      "    \n",
      "    Examples\n",
      "    --------\n",
      "    Solve the system of equations ``x0 + 2 * x1 = 1`` and ``3 * x0 + 5 * x1 = 2``:\n",
      "    \n",
      "    >>> a = np.array([[1, 2], [3, 5]])\n",
      "    >>> b = np.array([1, 2])\n",
      "    >>> x = np.linalg.solve(a, b)\n",
      "    >>> x\n",
      "    array([-1.,  1.])\n",
      "    \n",
      "    Check that the solution is correct:\n",
      "    \n",
      "    >>> np.allclose(np.dot(a, x), b)\n",
      "    True\n",
      "\n"
     ]
    }
   ],
   "source": [
    "help(np.linalg.solve)"
   ]
  },
  {
   "cell_type": "code",
   "execution_count": 3,
   "metadata": {},
   "outputs": [
    {
     "data": {
      "text/plain": [
       "array([ 1., -1.])"
      ]
     },
     "execution_count": 3,
     "metadata": {},
     "output_type": "execute_result"
    }
   ],
   "source": [
    "#Encontrar beta_0 y beta_1 resolviendo el sistema\n",
    "A = np.array([[1,0],\n",
    "             [1,1]])\n",
    "h = np.array([1,0])\n",
    "# h = ?\n",
    "beta = np.linalg.solve(A,h)\n",
    "beta"
   ]
  },
  {
   "cell_type": "code",
   "execution_count": 4,
   "metadata": {},
   "outputs": [
    {
     "data": {
      "text/plain": [
       "array([ 1., -1.])"
      ]
     },
     "execution_count": 4,
     "metadata": {},
     "output_type": "execute_result"
    }
   ],
   "source": [
    "# A*beta = h\n",
    "# (A^-1)*A*beta = (A^-1)*h\n",
    "# I*beta = (A^-1)*h\n",
    "# beta = (A^-1)*h\n",
    "beta = np.linalg.inv(A).dot(h)\n",
    "beta"
   ]
  },
  {
   "cell_type": "markdown",
   "metadata": {},
   "source": [
    "$$y = -x + 1$$"
   ]
  },
  {
   "cell_type": "code",
   "execution_count": 6,
   "metadata": {},
   "outputs": [],
   "source": [
    "P1 = (0,1)\n",
    "P2 = (1,0)\n"
   ]
  },
  {
   "cell_type": "code",
   "execution_count": 11,
   "metadata": {},
   "outputs": [
    {
     "data": {
      "image/png": "[encoded data removed]",
      "text/plain": [
       "<Figure size 432x288 with 1 Axes>"
      ]
     },
     "metadata": {
      "needs_background": "light"
     },
     "output_type": "display_data"
    }
   ],
   "source": [
    " #Graficando la recata encontrada\n",
    "plt.figure(figsize=(6,4))\n",
    "plt.plot(P1[0],P1[1], 'ro', ms=10, label=f'{P1}' )\n",
    "plt.plot(P2[0],P2[1], 'ro', ms=10, label=f'{P2}' )\n",
    "\n",
    "x_num = np.linspace(-1,2,num=100)\n",
    "y_num = beta[0] + beta[1]*x_num\n",
    "\n",
    "plt.plot(x_num,y_num, 'b', lw=3, label=f'$y=${np.round(beta[0],2)} + {np.round(beta[1],2)}$x$')\n",
    "plt.xlabel('$x$')\n",
    "plt.ylabel('$y$')\n",
    "plt.legend(loc='best')\n",
    "plt.grid()"
   ]
  },
  {
   "cell_type": "code",
   "execution_count": null,
   "metadata": {},
   "outputs": [],
   "source": []
  },
  {
   "cell_type": "markdown",
   "metadata": {},
   "source": [
    "2. Consideramos $y=\\beta_2 x^2 + \\beta_1 x + \\beta_0$. Evaluando en el punto $(-1,1)$, obtenemos $\\beta_2(-1)^2 + \\beta_1(-1) + \\beta_0 = 1$. Ahora, evaluando en el punto $(0,0)$, obtenemos $\\beta_2(0)^2 + \\beta_1(0) + \\beta_0 = 0$. Finalmente, evaluando en el punto $(1,1)$, obtenemos $\\beta_2(1)^2 + \\beta_1(1) + \\beta_0 = 1$. De esta manera,\n",
    "$$\\left[\\begin{array}{ccc} 1 & -1 & 1 \\\\ 1 & 0 & 0 \\\\ 1 & 1 & 1 \\end{array}\\right]\\left[\\begin{array}{c} \\beta_0 \\\\ \\beta_1 \\\\ \\beta_2 \\end{array}\\right]=\\left[\\begin{array}{c} 1 \\\\ 0 \\\\ 1 \\end{array}\\right].$$\n",
    "Resolviendo, $\\beta_0=\\beta_1=0$ y $\\beta_2=1$."
   ]
  },
  {
   "cell_type": "code",
   "execution_count": 12,
   "metadata": {},
   "outputs": [],
   "source": [
    "#Encontrar beta_0, beta_1, beta_2\n",
    "A = np.array([[1,-1,1],\n",
    "              [1,0,0],\n",
    "              [1,1,1]])\n",
    "h = np.array([1,0,1])\n"
   ]
  },
  {
   "cell_type": "code",
   "execution_count": 13,
   "metadata": {},
   "outputs": [
    {
     "data": {
      "text/plain": [
       "array([0., 0., 1.])"
      ]
     },
     "execution_count": 13,
     "metadata": {},
     "output_type": "execute_result"
    }
   ],
   "source": [
    "beta = np.linalg.solve(A,h)\n",
    "beta"
   ]
  },
  {
   "cell_type": "markdown",
   "metadata": {},
   "source": [
    "$$ y = x^2 $$"
   ]
  },
  {
   "cell_type": "code",
   "execution_count": 14,
   "metadata": {},
   "outputs": [],
   "source": [
    "P1 = (-1,1)\n",
    "P2 = (0,0)\n",
    "P3 = (1,1)"
   ]
  },
  {
   "cell_type": "code",
   "execution_count": 16,
   "metadata": {},
   "outputs": [
    {
     "data": {
      "image/png": "[encoded data removed]",
      "text/plain": [
       "<Figure size 432x288 with 1 Axes>"
      ]
     },
     "metadata": {
      "needs_background": "light"
     },
     "output_type": "display_data"
    }
   ],
   "source": [
    "plt.figure(figsize=(6,4))\n",
    "plt.plot(P1[0],P1[1], 'ro', ms=10, label=f'{P1}' )\n",
    "plt.plot(P2[0],P2[1], 'ro', ms=10, label=f'{P2}' )\n",
    "plt.plot(P3[0],P3[1], 'ro', ms=10, label=f'{P3}' )\n",
    "\n",
    "x_num = np.linspace(-2,2,num=100)\n",
    "#y_num = beta[0] + beta[1]*x_num\n",
    "y_num = beta[0] + beta[1]*x_num + beta[2]*x_num**2\n",
    "\n",
    "\n",
    "plt.plot(x_num,y_num, 'b', lw=3, label=f'$y=${np.round(beta[0],2)} + {np.round(beta[1],2)}$x$ + {np.round(beta[2],2)}$x^2$')\n",
    "plt.xlabel('$x$')\n",
    "plt.ylabel('$y$')\n",
    "plt.legend(loc='best')\n",
    "plt.grid()"
   ]
  },
  {
   "cell_type": "markdown",
   "metadata": {},
   "source": [
    "### ¿Qué tienen en común los anteriores problemas?\n",
    "Las curvas están completamente determinadas por los puntos (datos limpios, suficientes y necesarios).\n",
    "\n",
    "Esto se traduce en que, al llevar el problema a un sistema de ecuaciones lineales, existe una única solución: **no hay necesidad, ni se puede optimizar nada**.\n",
    "\n",
    "¿Tendremos datos así de '*bonitos*' en la vida real?\n",
    "\n",
    "La realidad es que los datos que encontraremos en nuestra vida profesional se parecen más a esto..."
   ]
  },
  {
   "cell_type": "code",
   "execution_count": 17,
   "metadata": {},
   "outputs": [],
   "source": [
    "N = 100\n",
    "x = np.linspace(0,10,N)\n",
    "y = 10 + 2*x + np.random.normal(loc=0,scale=2,size=(N,))\n"
   ]
  },
  {
   "cell_type": "code",
   "execution_count": 18,
   "metadata": {},
   "outputs": [
    {
     "data": {
      "image/png": "[encoded data removed]",
      "text/plain": [
       "<Figure size 432x288 with 1 Axes>"
      ]
     },
     "metadata": {
      "needs_background": "light"
     },
     "output_type": "display_data"
    }
   ],
   "source": [
    "#Graficar datos\n",
    "plt.figure(figsize=(6,4))\n",
    "plt.plot(x,y,'^r', label='datos')\n",
    "plt.xlabel('$x$')\n",
    "plt.ylabel('$y$')\n",
    "plt.legend(loc='best')\n",
    "plt.grid()"
   ]
  },
  {
   "cell_type": "code",
   "execution_count": null,
   "metadata": {},
   "outputs": [],
   "source": []
  },
  {
   "cell_type": "markdown",
   "metadata": {},
   "source": [
    "### ¿Cómo ajustamos una curva a esto?"
   ]
  },
  {
   "cell_type": "markdown",
   "metadata": {},
   "source": [
    "Consideramos entonces ajustes de la forma $\\hat{f}(x) = \\beta_0+\\beta_1 x = \\left[1 \\quad x\\right]\\left[\\begin{array}{c} \\beta_0 \\\\ \\beta_1 \\end{array}\\right]=\\left[1 \\quad x\\right]\\boldsymbol{\\beta}$ (lineas rectas).\n",
    "\n",
    "Para decir '*mejor*', tenemos que definir algún sentido en que una recta se ajuste *mejor* que otra.\n",
    "\n",
    "**Mínimos cuadrados**: el objetivo es seleccionar los coeficientes $\\boldsymbol{\\beta}=\\left[\\beta_0 \\quad \\beta_1 \\right]^T$, de forma que la función evaluada en los puntos $x_i$ ($\\hat{f}(x_i)$) aproxime los valores correspondientes $y_i$.\n",
    "\n",
    "La formulación por mínimos cuadrados, encuentra los $\\boldsymbol{\\beta}=\\left[\\beta_0 \\quad \\beta_1 \\right]^T$ que minimiza\n",
    "$$\\frac{1}{2n}\\sum_{i=1}^{n}(y_i-\\hat{f}(x_i))^2=\\frac{1}{2n}\\sum_{i=1}^{n}(y_i-(\\beta_0+ \\beta_1x_i))^2=\\frac{1}{2n}\\sum_{i=1}^{n}(y_i-\\left[1 \\quad x_i\\right]\\boldsymbol{\\beta})^2=\\frac{1}{2n}\\left|\\left|\\boldsymbol{y}-\\boldsymbol{X}\\boldsymbol{\\beta}\\right|\\right|^2,$$\n",
    "\n",
    "donde $\\boldsymbol{y}=\\left[y_1\\quad\\dots\\quad y_n\\right]^T$, y $\\boldsymbol{X}=\\left[\\begin{array}{ccc}1 & x_1\\\\ \\vdots & \\vdots \\\\ 1 & x_n\\end{array}\\right].$ Esto es,\n",
    "\n",
    "$$\\boldsymbol{\\beta}^{ls} = \\arg \\min_{\\boldsymbol{\\beta}} \\left|\\left|\\boldsymbol{y}-\\boldsymbol{X}\\boldsymbol{\\beta}\\right|\\right|^2$$"
   ]
  },
  {
   "cell_type": "code",
   "execution_count": null,
   "metadata": {},
   "outputs": [],
   "source": []
  },
  {
   "cell_type": "markdown",
   "metadata": {},
   "source": [
    "### Ejemplo (gradiente descendente)"
   ]
  },
  {
   "cell_type": "markdown",
   "metadata": {},
   "source": [
    "\n",
    "El objetivo es estimar el modelo $\\hat{y} = \\hat{f}(x) = \\beta_0+\\beta_1 x = \\left[1 \\quad x\\right]\\left[\\begin{array}{c} \\beta_0 \\\\ \\beta_1 \\end{array}\\right]=\\left[1 \\quad x\\right]\\boldsymbol{\\beta}$ (lineas rectas).\n"
   ]
  },
  {
   "cell_type": "code",
   "execution_count": 19,
   "metadata": {},
   "outputs": [],
   "source": [
    "import pandas as pd"
   ]
  },
  {
   "cell_type": "code",
   "execution_count": null,
   "metadata": {},
   "outputs": [],
   "source": [
    "## ex1data1.txt"
   ]
  },
  {
   "cell_type": "code",
   "execution_count": 20,
   "metadata": {},
   "outputs": [
    {
     "data": {
      "text/html": [
       "<div>\n",
       "<style scoped>\n",
       "    .dataframe tbody tr th:only-of-type {\n",
       "        vertical-align: middle;\n",
       "    }\n",
       "\n",
       "    .dataframe tbody tr th {\n",
       "        vertical-align: top;\n",
       "    }\n",
       "\n",
       "    .dataframe thead th {\n",
       "        text-align: right;\n",
       "    }\n",
       "</style>\n",
       "<table border=\"1\" class=\"dataframe\">\n",
       "  <thead>\n",
       "    <tr style=\"text-align: right;\">\n",
       "      <th></th>\n",
       "      <th>population</th>\n",
       "      <th>profit</th>\n",
       "    </tr>\n",
       "  </thead>\n",
       "  <tbody>\n",
       "    <tr>\n",
       "      <th>0</th>\n",
       "      <td>6.1101</td>\n",
       "      <td>17.59200</td>\n",
       "    </tr>\n",
       "    <tr>\n",
       "      <th>1</th>\n",
       "      <td>5.5277</td>\n",
       "      <td>9.13020</td>\n",
       "    </tr>\n",
       "    <tr>\n",
       "      <th>2</th>\n",
       "      <td>8.5186</td>\n",
       "      <td>13.66200</td>\n",
       "    </tr>\n",
       "    <tr>\n",
       "      <th>3</th>\n",
       "      <td>7.0032</td>\n",
       "      <td>11.85400</td>\n",
       "    </tr>\n",
       "    <tr>\n",
       "      <th>4</th>\n",
       "      <td>5.8598</td>\n",
       "      <td>6.82330</td>\n",
       "    </tr>\n",
       "    <tr>\n",
       "      <th>...</th>\n",
       "      <td>...</td>\n",
       "      <td>...</td>\n",
       "    </tr>\n",
       "    <tr>\n",
       "      <th>92</th>\n",
       "      <td>5.8707</td>\n",
       "      <td>7.20290</td>\n",
       "    </tr>\n",
       "    <tr>\n",
       "      <th>93</th>\n",
       "      <td>5.3054</td>\n",
       "      <td>1.98690</td>\n",
       "    </tr>\n",
       "    <tr>\n",
       "      <th>94</th>\n",
       "      <td>8.2934</td>\n",
       "      <td>0.14454</td>\n",
       "    </tr>\n",
       "    <tr>\n",
       "      <th>95</th>\n",
       "      <td>13.3940</td>\n",
       "      <td>9.05510</td>\n",
       "    </tr>\n",
       "    <tr>\n",
       "      <th>96</th>\n",
       "      <td>5.4369</td>\n",
       "      <td>0.61705</td>\n",
       "    </tr>\n",
       "  </tbody>\n",
       "</table>\n",
       "<p>97 rows × 2 columns</p>\n",
       "</div>"
      ],
      "text/plain": [
       "    population    profit\n",
       "0       6.1101  17.59200\n",
       "1       5.5277   9.13020\n",
       "2       8.5186  13.66200\n",
       "3       7.0032  11.85400\n",
       "4       5.8598   6.82330\n",
       "..         ...       ...\n",
       "92      5.8707   7.20290\n",
       "93      5.3054   1.98690\n",
       "94      8.2934   0.14454\n",
       "95     13.3940   9.05510\n",
       "96      5.4369   0.61705\n",
       "\n",
       "[97 rows x 2 columns]"
      ]
     },
     "execution_count": 20,
     "metadata": {},
     "output_type": "execute_result"
    }
   ],
   "source": [
    "data = pd.read_csv('Data/ex1data1.txt', names=['population', 'profit'])\n",
    "data"
   ]
  },
  {
   "cell_type": "code",
   "execution_count": 21,
   "metadata": {},
   "outputs": [
    {
     "data": {
      "text/plain": [
       "Text(0, 0.5, 'profit')"
      ]
     },
     "execution_count": 21,
     "metadata": {},
     "output_type": "execute_result"
    },
    {
     "data": {
      "image/png": "[encoded data removed]",
      "text/plain": [
       "<Figure size 432x288 with 1 Axes>"
      ]
     },
     "metadata": {
      "needs_background": "light"
     },
     "output_type": "display_data"
    }
   ],
   "source": [
    "plt.figure(figsize=(6,4))\n",
    "plt.scatter(data['population'],data['profit'])\n",
    "plt.xlabel('population')\n",
    "plt.ylabel('profit')"
   ]
  },
  {
   "cell_type": "code",
   "execution_count": 25,
   "metadata": {},
   "outputs": [
    {
     "data": {
      "text/html": [
       "<div>\n",
       "<style scoped>\n",
       "    .dataframe tbody tr th:only-of-type {\n",
       "        vertical-align: middle;\n",
       "    }\n",
       "\n",
       "    .dataframe tbody tr th {\n",
       "        vertical-align: top;\n",
       "    }\n",
       "\n",
       "    .dataframe thead th {\n",
       "        text-align: right;\n",
       "    }\n",
       "</style>\n",
       "<table border=\"1\" class=\"dataframe\">\n",
       "  <thead>\n",
       "    <tr style=\"text-align: right;\">\n",
       "      <th></th>\n",
       "      <th>population</th>\n",
       "    </tr>\n",
       "  </thead>\n",
       "  <tbody>\n",
       "    <tr>\n",
       "      <th>0</th>\n",
       "      <td>6.1101</td>\n",
       "    </tr>\n",
       "    <tr>\n",
       "      <th>1</th>\n",
       "      <td>5.5277</td>\n",
       "    </tr>\n",
       "    <tr>\n",
       "      <th>2</th>\n",
       "      <td>8.5186</td>\n",
       "    </tr>\n",
       "    <tr>\n",
       "      <th>3</th>\n",
       "      <td>7.0032</td>\n",
       "    </tr>\n",
       "    <tr>\n",
       "      <th>4</th>\n",
       "      <td>5.8598</td>\n",
       "    </tr>\n",
       "    <tr>\n",
       "      <th>...</th>\n",
       "      <td>...</td>\n",
       "    </tr>\n",
       "    <tr>\n",
       "      <th>92</th>\n",
       "      <td>5.8707</td>\n",
       "    </tr>\n",
       "    <tr>\n",
       "      <th>93</th>\n",
       "      <td>5.3054</td>\n",
       "    </tr>\n",
       "    <tr>\n",
       "      <th>94</th>\n",
       "      <td>8.2934</td>\n",
       "    </tr>\n",
       "    <tr>\n",
       "      <th>95</th>\n",
       "      <td>13.3940</td>\n",
       "    </tr>\n",
       "    <tr>\n",
       "      <th>96</th>\n",
       "      <td>5.4369</td>\n",
       "    </tr>\n",
       "  </tbody>\n",
       "</table>\n",
       "<p>97 rows × 1 columns</p>\n",
       "</div>"
      ],
      "text/plain": [
       "    population\n",
       "0       6.1101\n",
       "1       5.5277\n",
       "2       8.5186\n",
       "3       7.0032\n",
       "4       5.8598\n",
       "..         ...\n",
       "92      5.8707\n",
       "93      5.3054\n",
       "94      8.2934\n",
       "95     13.3940\n",
       "96      5.4369\n",
       "\n",
       "[97 rows x 1 columns]"
      ]
     },
     "execution_count": 25,
     "metadata": {},
     "output_type": "execute_result"
    }
   ],
   "source": [
    "data[['population']]"
   ]
  },
  {
   "cell_type": "code",
   "execution_count": 26,
   "metadata": {},
   "outputs": [
    {
     "data": {
      "text/html": [
       "<div>\n",
       "<style scoped>\n",
       "    .dataframe tbody tr th:only-of-type {\n",
       "        vertical-align: middle;\n",
       "    }\n",
       "\n",
       "    .dataframe tbody tr th {\n",
       "        vertical-align: top;\n",
       "    }\n",
       "\n",
       "    .dataframe thead th {\n",
       "        text-align: right;\n",
       "    }\n",
       "</style>\n",
       "<table border=\"1\" class=\"dataframe\">\n",
       "  <thead>\n",
       "    <tr style=\"text-align: right;\">\n",
       "      <th></th>\n",
       "      <th>population</th>\n",
       "    </tr>\n",
       "  </thead>\n",
       "  <tbody>\n",
       "    <tr>\n",
       "      <th>0</th>\n",
       "      <td>6.1101</td>\n",
       "    </tr>\n",
       "    <tr>\n",
       "      <th>1</th>\n",
       "      <td>5.5277</td>\n",
       "    </tr>\n",
       "    <tr>\n",
       "      <th>2</th>\n",
       "      <td>8.5186</td>\n",
       "    </tr>\n",
       "    <tr>\n",
       "      <th>3</th>\n",
       "      <td>7.0032</td>\n",
       "    </tr>\n",
       "    <tr>\n",
       "      <th>4</th>\n",
       "      <td>5.8598</td>\n",
       "    </tr>\n",
       "    <tr>\n",
       "      <th>...</th>\n",
       "      <td>...</td>\n",
       "    </tr>\n",
       "    <tr>\n",
       "      <th>92</th>\n",
       "      <td>5.8707</td>\n",
       "    </tr>\n",
       "    <tr>\n",
       "      <th>93</th>\n",
       "      <td>5.3054</td>\n",
       "    </tr>\n",
       "    <tr>\n",
       "      <th>94</th>\n",
       "      <td>8.2934</td>\n",
       "    </tr>\n",
       "    <tr>\n",
       "      <th>95</th>\n",
       "      <td>13.3940</td>\n",
       "    </tr>\n",
       "    <tr>\n",
       "      <th>96</th>\n",
       "      <td>5.4369</td>\n",
       "    </tr>\n",
       "  </tbody>\n",
       "</table>\n",
       "<p>97 rows × 1 columns</p>\n",
       "</div>"
      ],
      "text/plain": [
       "    population\n",
       "0       6.1101\n",
       "1       5.5277\n",
       "2       8.5186\n",
       "3       7.0032\n",
       "4       5.8598\n",
       "..         ...\n",
       "92      5.8707\n",
       "93      5.3054\n",
       "94      8.2934\n",
       "95     13.3940\n",
       "96      5.4369\n",
       "\n",
       "[97 rows x 1 columns]"
      ]
     },
     "execution_count": 26,
     "metadata": {},
     "output_type": "execute_result"
    }
   ],
   "source": [
    "X_df = data[['population']]\n",
    "X_df"
   ]
  },
  {
   "cell_type": "code",
   "execution_count": 28,
   "metadata": {},
   "outputs": [
    {
     "data": {
      "text/html": [
       "<div>\n",
       "<style scoped>\n",
       "    .dataframe tbody tr th:only-of-type {\n",
       "        vertical-align: middle;\n",
       "    }\n",
       "\n",
       "    .dataframe tbody tr th {\n",
       "        vertical-align: top;\n",
       "    }\n",
       "\n",
       "    .dataframe thead th {\n",
       "        text-align: right;\n",
       "    }\n",
       "</style>\n",
       "<table border=\"1\" class=\"dataframe\">\n",
       "  <thead>\n",
       "    <tr style=\"text-align: right;\">\n",
       "      <th></th>\n",
       "      <th>profit</th>\n",
       "    </tr>\n",
       "  </thead>\n",
       "  <tbody>\n",
       "    <tr>\n",
       "      <th>0</th>\n",
       "      <td>17.59200</td>\n",
       "    </tr>\n",
       "    <tr>\n",
       "      <th>1</th>\n",
       "      <td>9.13020</td>\n",
       "    </tr>\n",
       "    <tr>\n",
       "      <th>2</th>\n",
       "      <td>13.66200</td>\n",
       "    </tr>\n",
       "    <tr>\n",
       "      <th>3</th>\n",
       "      <td>11.85400</td>\n",
       "    </tr>\n",
       "    <tr>\n",
       "      <th>4</th>\n",
       "      <td>6.82330</td>\n",
       "    </tr>\n",
       "    <tr>\n",
       "      <th>...</th>\n",
       "      <td>...</td>\n",
       "    </tr>\n",
       "    <tr>\n",
       "      <th>92</th>\n",
       "      <td>7.20290</td>\n",
       "    </tr>\n",
       "    <tr>\n",
       "      <th>93</th>\n",
       "      <td>1.98690</td>\n",
       "    </tr>\n",
       "    <tr>\n",
       "      <th>94</th>\n",
       "      <td>0.14454</td>\n",
       "    </tr>\n",
       "    <tr>\n",
       "      <th>95</th>\n",
       "      <td>9.05510</td>\n",
       "    </tr>\n",
       "    <tr>\n",
       "      <th>96</th>\n",
       "      <td>0.61705</td>\n",
       "    </tr>\n",
       "  </tbody>\n",
       "</table>\n",
       "<p>97 rows × 1 columns</p>\n",
       "</div>"
      ],
      "text/plain": [
       "      profit\n",
       "0   17.59200\n",
       "1    9.13020\n",
       "2   13.66200\n",
       "3   11.85400\n",
       "4    6.82330\n",
       "..       ...\n",
       "92   7.20290\n",
       "93   1.98690\n",
       "94   0.14454\n",
       "95   9.05510\n",
       "96   0.61705\n",
       "\n",
       "[97 rows x 1 columns]"
      ]
     },
     "execution_count": 28,
     "metadata": {},
     "output_type": "execute_result"
    }
   ],
   "source": [
    "Y_df = data[['profit']]\n",
    "Y_df"
   ]
  },
  {
   "cell_type": "markdown",
   "metadata": {},
   "source": [
    "$$ \\hat{y} = \\beta_1x + \\beta_0$$\n",
    "$$ \\hat{y} = X  \\beta$$\n",
    "$$ X = [x, 1]$$\n",
    "$$ \\beta = [\\beta_1, \\beta_0]$$"
   ]
  },
  {
   "cell_type": "code",
   "execution_count": null,
   "metadata": {},
   "outputs": [],
   "source": []
  },
  {
   "cell_type": "markdown",
   "metadata": {},
   "source": [
    "# Implementar la función de costo \n",
    "\n",
    "Formalmente definimos la funcion de costo como el error cuadrático medio, qué deberemos minimizar.\n",
    "\n",
    "$$ J(\\beta) = \\frac{1}{2m}\\sum_{i=1}^m (\\hat{y}(x_i) - y_i)^2$$\n",
    "\n",
    "$\\beta = [\\beta_0, \\beta_1]$\n",
    "\n",
    "si derivamos parcialmente e igualamos a cero $\\frac{\\partial J(\\beta)}{\\partial \\beta}=0$\n",
    "\n",
    "tendríamos que las ecuaciones del algoritmo de gradiente descendente son:\n",
    "\n",
    "$$ \\beta_0 = \\beta_0 - \\alpha \\frac{1}{m} \\sum_{i=1}^m (\\hat{y}(x_i) - y_i)$$\n",
    "\n",
    "$$ \\beta_1 = \\beta_1 - \\alpha \\frac{1}{m} \\sum_{i=1}^m (\\hat{y}(x_i) - y_i)x_i$$\n",
    "\n"
   ]
  },
  {
   "cell_type": "markdown",
   "metadata": {},
   "source": [
    "$$X=[1;x]$$\n",
    "$$\\beta=[\\beta_0;\\beta_1]$$\n",
    "$$\\hat{y}=X^T\\beta = \\beta_1 x +\\beta_0$$\n"
   ]
  },
  {
   "cell_type": "markdown",
   "metadata": {},
   "source": [
    "### implementacion de la función de costo"
   ]
  },
  {
   "cell_type": "code",
   "execution_count": 30,
   "metadata": {},
   "outputs": [],
   "source": [
    "def cost_function(X,y,beta):\n",
    "    m=len(y)\n",
    "    #Calcular la función de costo\n",
    "    J = np.sum((X.dot(beta) - y)**2)/(2*m)\n",
    "    return J"
   ]
  },
  {
   "cell_type": "code",
   "execution_count": 32,
   "metadata": {},
   "outputs": [
    {
     "data": {
      "text/html": [
       "<div>\n",
       "<style scoped>\n",
       "    .dataframe tbody tr th:only-of-type {\n",
       "        vertical-align: middle;\n",
       "    }\n",
       "\n",
       "    .dataframe tbody tr th {\n",
       "        vertical-align: top;\n",
       "    }\n",
       "\n",
       "    .dataframe thead th {\n",
       "        text-align: right;\n",
       "    }\n",
       "</style>\n",
       "<table border=\"1\" class=\"dataframe\">\n",
       "  <thead>\n",
       "    <tr style=\"text-align: right;\">\n",
       "      <th></th>\n",
       "      <th>population</th>\n",
       "      <th>one</th>\n",
       "    </tr>\n",
       "  </thead>\n",
       "  <tbody>\n",
       "    <tr>\n",
       "      <th>0</th>\n",
       "      <td>6.1101</td>\n",
       "      <td>1</td>\n",
       "    </tr>\n",
       "    <tr>\n",
       "      <th>1</th>\n",
       "      <td>5.5277</td>\n",
       "      <td>1</td>\n",
       "    </tr>\n",
       "    <tr>\n",
       "      <th>2</th>\n",
       "      <td>8.5186</td>\n",
       "      <td>1</td>\n",
       "    </tr>\n",
       "    <tr>\n",
       "      <th>3</th>\n",
       "      <td>7.0032</td>\n",
       "      <td>1</td>\n",
       "    </tr>\n",
       "    <tr>\n",
       "      <th>4</th>\n",
       "      <td>5.8598</td>\n",
       "      <td>1</td>\n",
       "    </tr>\n",
       "    <tr>\n",
       "      <th>...</th>\n",
       "      <td>...</td>\n",
       "      <td>...</td>\n",
       "    </tr>\n",
       "    <tr>\n",
       "      <th>92</th>\n",
       "      <td>5.8707</td>\n",
       "      <td>1</td>\n",
       "    </tr>\n",
       "    <tr>\n",
       "      <th>93</th>\n",
       "      <td>5.3054</td>\n",
       "      <td>1</td>\n",
       "    </tr>\n",
       "    <tr>\n",
       "      <th>94</th>\n",
       "      <td>8.2934</td>\n",
       "      <td>1</td>\n",
       "    </tr>\n",
       "    <tr>\n",
       "      <th>95</th>\n",
       "      <td>13.3940</td>\n",
       "      <td>1</td>\n",
       "    </tr>\n",
       "    <tr>\n",
       "      <th>96</th>\n",
       "      <td>5.4369</td>\n",
       "      <td>1</td>\n",
       "    </tr>\n",
       "  </tbody>\n",
       "</table>\n",
       "<p>97 rows × 2 columns</p>\n",
       "</div>"
      ],
      "text/plain": [
       "    population  one\n",
       "0       6.1101    1\n",
       "1       5.5277    1\n",
       "2       8.5186    1\n",
       "3       7.0032    1\n",
       "4       5.8598    1\n",
       "..         ...  ...\n",
       "92      5.8707    1\n",
       "93      5.3054    1\n",
       "94      8.2934    1\n",
       "95     13.3940    1\n",
       "96      5.4369    1\n",
       "\n",
       "[97 rows x 2 columns]"
      ]
     },
     "execution_count": 32,
     "metadata": {},
     "output_type": "execute_result"
    }
   ],
   "source": [
    "X_df['one'] = 1\n",
    "X_df"
   ]
  },
  {
   "cell_type": "code",
   "execution_count": 37,
   "metadata": {},
   "outputs": [
    {
     "data": {
      "text/plain": [
       "(97,)"
      ]
     },
     "execution_count": 37,
     "metadata": {},
     "output_type": "execute_result"
    }
   ],
   "source": [
    "X = X_df.values\n",
    "y = np.array(Y_df).flatten()\n"
   ]
  },
  {
   "cell_type": "code",
   "execution_count": 38,
   "metadata": {},
   "outputs": [
    {
     "data": {
      "text/plain": [
       "array([0, 0])"
      ]
     },
     "execution_count": 38,
     "metadata": {},
     "output_type": "execute_result"
    }
   ],
   "source": [
    "beta=np.array([0,0])\n",
    "beta"
   ]
  },
  {
   "cell_type": "code",
   "execution_count": 39,
   "metadata": {},
   "outputs": [
    {
     "data": {
      "text/plain": [
       "32.072733877455676"
      ]
     },
     "execution_count": 39,
     "metadata": {},
     "output_type": "execute_result"
    }
   ],
   "source": [
    "cost_function(X,y,beta)"
   ]
  },
  {
   "cell_type": "markdown",
   "metadata": {},
   "source": [
    "$$ \\beta_0 = \\beta_0 - \\alpha \\frac{1}{m} \\sum_{i=1}^m (\\hat{y}(x_i) - y_i)$$\n",
    "\n",
    "$$ \\beta_1 = \\beta_1 - \\alpha \\frac{1}{m} \\sum_{i=1}^m (\\hat{y}(x_i) - y_i)x_i$$\n",
    "\n"
   ]
  },
  {
   "cell_type": "code",
   "execution_count": 40,
   "metadata": {},
   "outputs": [],
   "source": [
    "# algoritmo de gradiente descendente\n",
    "def gradiente_descent(X,y,beta,alpha,iterations):\n",
    "    cost_history = [0]*iterations\n",
    "    m=len(y)\n",
    "    for it in range(iterations):\n",
    "        y_hat = X.dot(beta)\n",
    "        loss = (y_hat - y)\n",
    "        gradiente = X.T.dot(loss)/m\n",
    "        beta = beta - alpha*gradiente\n",
    "        \n",
    "        cost = cost_function(X,y,beta)\n",
    "        cost_history[it] = cost\n",
    "        \n",
    "    return beta, cost_history\n",
    "        "
   ]
  },
  {
   "cell_type": "code",
   "execution_count": 41,
   "metadata": {},
   "outputs": [],
   "source": [
    "iterations = 15000\n",
    "alpha=0.01\n"
   ]
  },
  {
   "cell_type": "code",
   "execution_count": 42,
   "metadata": {},
   "outputs": [],
   "source": [
    "(beta, cost_history) = gradiente_descent(X,y,beta,alpha,iterations)"
   ]
  },
  {
   "cell_type": "code",
   "execution_count": 43,
   "metadata": {},
   "outputs": [
    {
     "data": {
      "text/plain": [
       "array([ 1.19303364, -3.89578088])"
      ]
     },
     "execution_count": 43,
     "metadata": {},
     "output_type": "execute_result"
    }
   ],
   "source": [
    "beta"
   ]
  },
  {
   "cell_type": "code",
   "execution_count": 44,
   "metadata": {},
   "outputs": [
    {
     "data": {
      "text/plain": [
       "[6.737190464870009,\n",
       " 5.9315935686049555,\n",
       " 5.901154707081388,\n",
       " 5.895228586444221,\n",
       " 5.8900949431173295,\n",
       " 5.885004158443647,\n",
       " 5.879932480491418,\n",
       " 5.874879094762575,\n",
       " 5.869843911806385,\n",
       " 5.8648268653129305,\n",
       " 5.859827889932181,\n",
       " 5.85484692057229,\n",
       " 5.849883892376587,\n",
       " 5.844938740722034,\n",
       " 5.840011401218361,\n",
       " 5.835101809707226,\n",
       " 5.830209902261388,\n",
       " 5.825335615183863,\n",
       " 5.820478885007099,\n",
       " 5.815639648492154,\n",
       " 5.810817842627869,\n",
       " 5.806013404630044,\n",
       " 5.801226271940628,\n",
       " 5.7964563822269,\n",
       " 5.7917036733806535,\n",
       " 5.7869680835173956,\n",
       " 5.782249550975539,\n",
       " 5.777548014315596,\n",
       " 5.772863412319381,\n",
       " 5.768195683989212,\n",
       " 5.76354476854712,\n",
       " 5.758910605434047,\n",
       " 5.754293134309077,\n",
       " 5.749692295048629,\n",
       " 5.745108027745684,\n",
       " 5.740540272709012,\n",
       " 5.735988970462381,\n",
       " 5.731454061743792,\n",
       " 5.726935487504702,\n",
       " 5.722433188909257,\n",
       " 5.717947107333529,\n",
       " 5.713477184364749,\n",
       " 5.709023361800549,\n",
       " 5.704585581648199,\n",
       " 5.700163786123857,\n",
       " 5.695757917651815,\n",
       " 5.691367918863751,\n",
       " 5.68699373259798,\n",
       " 5.682635301898707,\n",
       " 5.678292570015292,\n",
       " 5.673965480401506,\n",
       " 5.669653976714796,\n",
       " 5.6653580028155535,\n",
       " 5.6610775027663784,\n",
       " 5.656812420831359,\n",
       " 5.6525627014753335,\n",
       " 5.648328289363181,\n",
       " 5.644109129359092,\n",
       " 5.639905166525854,\n",
       " 5.635716346124135,\n",
       " 5.631542613611772,\n",
       " 5.627383914643055,\n",
       " 5.623240195068026,\n",
       " 5.619111400931778,\n",
       " 5.61499747847374,\n",
       " 5.610898374126984,\n",
       " 5.606814034517531,\n",
       " 5.602744406463646,\n",
       " 5.598689436975159,\n",
       " 5.59464907325276,\n",
       " 5.590623262687323,\n",
       " 5.586611952859217,\n",
       " 5.5826150915376225,\n",
       " 5.578632626679853,\n",
       " 5.574664506430678,\n",
       " 5.570710679121643,\n",
       " 5.566771093270403,\n",
       " 5.562845697580051,\n",
       " 5.558934440938442,\n",
       " 5.555037272417543,\n",
       " 5.551154141272754,\n",
       " 5.547284996942256,\n",
       " 5.5434297890463515,\n",
       " 5.539588467386808,\n",
       " 5.535760981946204,\n",
       " 5.531947282887275,\n",
       " 5.5281473205522715,\n",
       " 5.524361045462306,\n",
       " 5.520588408316713,\n",
       " 5.5168293599924025,\n",
       " 5.513083851543225,\n",
       " 5.5093518341993315,\n",
       " 5.5056332593665385,\n",
       " 5.501928078625699,\n",
       " 5.498236243732065,\n",
       " 5.494557706614666,\n",
       " 5.490892419375677,\n",
       " 5.487240334289805,\n",
       " 5.483601403803652,\n",
       " 5.479975580535112,\n",
       " 5.476362817272741,\n",
       " 5.472763066975151,\n",
       " 5.469176282770398,\n",
       " 5.465602417955358,\n",
       " 5.462041425995137,\n",
       " 5.4584932605224585,\n",
       " 5.454957875337047,\n",
       " 5.451435224405051,\n",
       " 5.4479252618584235,\n",
       " 5.444427941994333,\n",
       " 5.440943219274565,\n",
       " 5.437471048324934,\n",
       " 5.434011383934687,\n",
       " 5.430564181055919,\n",
       " 5.427129394802985,\n",
       " 5.423706980451918,\n",
       " 5.420296893439836,\n",
       " 5.416899089364382,\n",
       " 5.413513523983123,\n",
       " 5.410140153212988,\n",
       " 5.406778933129694,\n",
       " 5.403429819967165,\n",
       " 5.400092770116975,\n",
       " 5.396767740127768,\n",
       " 5.393454686704697,\n",
       " 5.390153566708862,\n",
       " 5.386864337156746,\n",
       " 5.383586955219661,\n",
       " 5.380321378223178,\n",
       " 5.37706756364658,\n",
       " 5.373825469122317,\n",
       " 5.37059505243543,\n",
       " 5.367376271523024,\n",
       " 5.364169084473712,\n",
       " 5.360973449527068,\n",
       " 5.357789325073084,\n",
       " 5.354616669651632,\n",
       " 5.3514554419519165,\n",
       " 5.348305600811943,\n",
       " 5.34516710521798,\n",
       " 5.342039914304029,\n",
       " 5.338923987351284,\n",
       " 5.335819283787603,\n",
       " 5.332725763186988,\n",
       " 5.329643385269053,\n",
       " 5.326572109898499,\n",
       " 5.323511897084587,\n",
       " 5.32046270698063,\n",
       " 5.317424499883461,\n",
       " 5.314397236232924,\n",
       " 5.311380876611354,\n",
       " 5.3083753817430726,\n",
       " 5.305380712493861,\n",
       " 5.302396829870465,\n",
       " 5.2994236950200815,\n",
       " 5.296461269229852,\n",
       " 5.29350951392636,\n",
       " 5.290568390675129,\n",
       " 5.287637861180118,\n",
       " 5.284717887283231,\n",
       " 5.281808430963811,\n",
       " 5.278909454338152,\n",
       " 5.276020919659,\n",
       " 5.27314278931507,\n",
       " 5.270275025830544,\n",
       " 5.267417591864593,\n",
       " 5.264570450210885,\n",
       " 5.261733563797111,\n",
       " 5.2589068956844836,\n",
       " 5.256090409067273,\n",
       " 5.253284067272322,\n",
       " 5.250487833758564,\n",
       " 5.2477016721165555,\n",
       " 5.244925546067995,\n",
       " 5.242159419465253,\n",
       " 5.2394032562909025,\n",
       " 5.236657020657251,\n",
       " 5.2339206768058695,\n",
       " 5.2311941891071285,\n",
       " 5.228477522059736,\n",
       " 5.225770640290271,\n",
       " 5.223073508552729,\n",
       " 5.220386091728056,\n",
       " 5.217708354823696,\n",
       " 5.215040262973137,\n",
       " 5.212381781435449,\n",
       " 5.2097328755948435,\n",
       " 5.207093510960208,\n",
       " 5.204463653164672,\n",
       " 5.201843267965149,\n",
       " 5.199232321241896,\n",
       " 5.1966307789980615,\n",
       " 5.194038607359259,\n",
       " 5.191455772573107,\n",
       " 5.188882241008802,\n",
       " 5.1863179791566765,\n",
       " 5.18376295362776,\n",
       " 5.181217131153349,\n",
       " 5.1786804785845755,\n",
       " 5.176152962891967,\n",
       " 5.173634551165022,\n",
       " 5.171125210611782,\n",
       " 5.168624908558404,\n",
       " 5.166133612448731,\n",
       " 5.163651289843875,\n",
       " 5.161177908421789,\n",
       " 5.15871343597685,\n",
       " 5.156257840419434,\n",
       " 5.153811089775505,\n",
       " 5.151373152186197,\n",
       " 5.148943995907395,\n",
       " 5.146523589309322,\n",
       " 5.144111900876139,\n",
       " 5.141708899205515,\n",
       " 5.139314553008234,\n",
       " 5.136928831107778,\n",
       " 5.134551702439933,\n",
       " 5.1321831360523635,\n",
       " 5.129823101104237,\n",
       " 5.127471566865799,\n",
       " 5.12512850271798,\n",
       " 5.122793878152007,\n",
       " 5.120467662768992,\n",
       " 5.118149826279542,\n",
       " 5.115840338503367,\n",
       " 5.113539169368884,\n",
       " 5.111246288912825,\n",
       " 5.108961667279848,\n",
       " 5.10668527472215,\n",
       " 5.104417081599077,\n",
       " 5.102157058376736,\n",
       " 5.099905175627619,\n",
       " 5.097661404030211,\n",
       " 5.09542571436861,\n",
       " 5.093198077532151,\n",
       " 5.090978464515021,\n",
       " 5.088766846415887,\n",
       " 5.086563194437517,\n",
       " 5.084367479886401,\n",
       " 5.082179674172386,\n",
       " 5.079999748808297,\n",
       " 5.0778276754095675,\n",
       " 5.075663425693872,\n",
       " 5.073506971480756,\n",
       " 5.071358284691268,\n",
       " 5.069217337347596,\n",
       " 5.067084101572705,\n",
       " 5.064958549589969,\n",
       " 5.06284065372281,\n",
       " 5.060730386394342,\n",
       " 5.05862772012701,\n",
       " 5.056532627542231,\n",
       " 5.054445081360036,\n",
       " 5.052365054398719,\n",
       " 5.050292519574479,\n",
       " 5.0482274499010735,\n",
       " 5.046169818489457,\n",
       " 5.044119598547441,\n",
       " 5.042076763379341,\n",
       " 5.040041286385627,\n",
       " 5.038013141062576,\n",
       " 5.035992301001939,\n",
       " 5.033978739890578,\n",
       " 5.031972431510141,\n",
       " 5.029973349736707,\n",
       " 5.027981468540455,\n",
       " 5.025996761985324,\n",
       " 5.024019204228667,\n",
       " 5.022048769520927,\n",
       " 5.020085432205293,\n",
       " 5.018129166717367,\n",
       " 5.016179947584834,\n",
       " 5.014237749427129,\n",
       " 5.012302546955106,\n",
       " 5.010374314970709,\n",
       " 5.008453028366642,\n",
       " 5.006538662126046,\n",
       " 5.004631191322175,\n",
       " 5.002730591118061,\n",
       " 5.0008368367662,\n",
       " 4.998949903608226,\n",
       " 4.997069767074595,\n",
       " 4.995196402684257,\n",
       " 4.993329786044343,\n",
       " 4.991469892849846,\n",
       " 4.9896166988833,\n",
       " 4.987770180014478,\n",
       " 4.98593031220006,\n",
       " 4.984097071483333,\n",
       " 4.982270433993872,\n",
       " 4.9804503759472345,\n",
       " 4.978636873644648,\n",
       " 4.9768299034727,\n",
       " 4.975029441903031,\n",
       " 4.973235465492034,\n",
       " 4.971447950880541,\n",
       " 4.969666874793521,\n",
       " 4.967892214039785,\n",
       " 4.966123945511668,\n",
       " 4.964362046184744,\n",
       " 4.962606493117519,\n",
       " 4.96085726345113,\n",
       " 4.959114334409053,\n",
       " 4.957377683296804,\n",
       " 4.95564728750164,\n",
       " 4.95392312449227,\n",
       " 4.95220517181856,\n",
       " 4.95049340711124,\n",
       " 4.948787808081611,\n",
       " 4.9470883525212574,\n",
       " 4.94539501830176,\n",
       " 4.943707783374399,\n",
       " 4.942026625769877,\n",
       " 4.940351523598029,\n",
       " 4.938682455047537,\n",
       " 4.937019398385641,\n",
       " 4.935362331957869,\n",
       " 4.933711234187743,\n",
       " 4.9320660835764984,\n",
       " 4.930426858702819,\n",
       " 4.928793538222535,\n",
       " 4.927166100868362,\n",
       " 4.925544525449623,\n",
       " 4.923928790851962,\n",
       " 4.922318876037079,\n",
       " 4.920714760042454,\n",
       " 4.919116421981069,\n",
       " 4.91752384104114,\n",
       " 4.915936996485852,\n",
       " 4.914355867653075,\n",
       " 4.912780433955111,\n",
       " 4.911210674878409,\n",
       " 4.9096465699833125,\n",
       " 4.908088098903784,\n",
       " 4.906535241347148,\n",
       " 4.904987977093815,\n",
       " 4.903446285997033,\n",
       " 4.90191014798261,\n",
       " 4.9003795430486665,\n",
       " 4.898854451265366,\n",
       " 4.897334852774656,\n",
       " 4.895820727790016,\n",
       " 4.894312056596192,\n",
       " 4.892808819548944,\n",
       " 4.89131099707479,\n",
       " 4.889818569670749,\n",
       " 4.88833151790409,\n",
       " 4.88684982241208,\n",
       " 4.885373463901725,\n",
       " 4.883902423149523,\n",
       " 4.88243668100122,\n",
       " 4.880976218371547,\n",
       " 4.879521016243985,\n",
       " 4.878071055670509,\n",
       " 4.876626317771341,\n",
       " 4.875186783734713,\n",
       " 4.87375243481661,\n",
       " 4.872323252340535,\n",
       " 4.8708992176972625,\n",
       " 4.869480312344593,\n",
       " 4.868066517807122,\n",
       " 4.866657815675987,\n",
       " 4.865254187608633,\n",
       " 4.863855615328574,\n",
       " 4.862462080625159,\n",
       " 4.861073565353324,\n",
       " 4.859690051433372,\n",
       " 4.858311520850714,\n",
       " 4.856937955655664,\n",
       " 4.855569337963178,\n",
       " 4.854205649952639,\n",
       " 4.852846873867617,\n",
       " 4.85149299201564,\n",
       " 4.850143986767962,\n",
       " 4.8487998405593355,\n",
       " 4.847460535887785,\n",
       " 4.84612605531437,\n",
       " 4.844796381462969,\n",
       " 4.8434714970200465,\n",
       " 4.842151384734428,\n",
       " 4.840836027417081,\n",
       " 4.839525407940883,\n",
       " 4.838219509240404,\n",
       " 4.836918314311682,\n",
       " 4.835621806212003,\n",
       " 4.834329968059677,\n",
       " 4.833042783033826,\n",
       " 4.8317602343741575,\n",
       " 4.830482305380745,\n",
       " 4.829208979413817,\n",
       " 4.827940239893541,\n",
       " 4.826676070299799,\n",
       " 4.825416454171979,\n",
       " 4.824161375108761,\n",
       " 4.822910816767899,\n",
       " 4.821664762866011,\n",
       " 4.8204231971783695,\n",
       " 4.819186103538688,\n",
       " 4.817953465838902,\n",
       " 4.816725268028978,\n",
       " 4.8155014941166865,\n",
       " 4.814282128167403,\n",
       " 4.813067154303901,\n",
       " 4.811856556706141,\n",
       " 4.810650319611066,\n",
       " 4.809448427312395,\n",
       " 4.808250864160425,\n",
       " 4.807057614561817,\n",
       " 4.805868662979403,\n",
       " 4.804683993931975,\n",
       " 4.80350359199409,\n",
       " 4.802327441795866,\n",
       " 4.80115552802278,\n",
       " 4.799987835415476,\n",
       " 4.798824348769555,\n",
       " 4.7976650529353915,\n",
       " 4.796509932817919,\n",
       " 4.795358973376449,\n",
       " 4.7942121596244665,\n",
       " 4.793069476629436,\n",
       " 4.791930909512612,\n",
       " 4.790796443448837,\n",
       " 4.789666063666355,\n",
       " 4.788539755446615,\n",
       " 4.787417504124084,\n",
       " 4.786299295086054,\n",
       " 4.785185113772448,\n",
       " 4.784074945675635,\n",
       " 4.7829687763402395,\n",
       " 4.781866591362954,\n",
       " 4.780768376392351,\n",
       " 4.779674117128695,\n",
       " 4.778583799323759,\n",
       " 4.777497408780635,\n",
       " 4.776414931353552,\n",
       " 4.775336352947692,\n",
       " 4.774261659519006,\n",
       " 4.773190837074032,\n",
       " 4.772123871669708,\n",
       " 4.771060749413197,\n",
       " 4.770001456461701,\n",
       " 4.768945979022287,\n",
       " 4.767894303351698,\n",
       " 4.7668464157561825,\n",
       " 4.765802302591315,\n",
       " 4.764761950261812,\n",
       " 4.763725345221363,\n",
       " 4.762692473972447,\n",
       " 4.761663323066164,\n",
       " 4.760637879102053,\n",
       " 4.7596161287279255,\n",
       " 4.75859805863968,\n",
       " 4.757583655581141,\n",
       " 4.7565729063438775,\n",
       " 4.755565797767038,\n",
       " 4.7545623167371724,\n",
       " 4.753562450188067,\n",
       " 4.752566185100569,\n",
       " 4.751573508502425,\n",
       " 4.750584407468098,\n",
       " 4.7495988691186195,\n",
       " 4.7486168806214,\n",
       " 4.7476384291900775,\n",
       " 4.7466635020843455,\n",
       " 4.745692086609787,\n",
       " 4.744724170117706,\n",
       " 4.743759740004973,\n",
       " 4.742798783713851,\n",
       " 4.741841288731832,\n",
       " 4.740887242591484,\n",
       " 4.739936632870274,\n",
       " 4.738989447190423,\n",
       " 4.738045673218728,\n",
       " 4.737105298666416,\n",
       " 4.736168311288972,\n",
       " 4.735234698885989,\n",
       " 4.734304449301005,\n",
       " 4.733377550421342,\n",
       " 4.732453990177952,\n",
       " 4.731533756545261,\n",
       " 4.730616837541011,\n",
       " 4.7297032212260985,\n",
       " 4.7287928957044265,\n",
       " 4.7278858491227505,\n",
       " 4.726982069670518,\n",
       " 4.726081545579717,\n",
       " 4.725184265124721,\n",
       " 4.724290216622143,\n",
       " 4.7233993884306775,\n",
       " 4.722511768950947,\n",
       " 4.721627346625359,\n",
       " 4.7207461099379495,\n",
       " 4.7198680474142325,\n",
       " 4.718993147621053,\n",
       " 4.7181213991664395,\n",
       " 4.717252790699451,\n",
       " 4.716387310910036,\n",
       " 4.715524948528875,\n",
       " 4.7146656923272445,\n",
       " 4.713809531116866,\n",
       " 4.712956453749759,\n",
       " 4.712106449118099,\n",
       " 4.711259506154067,\n",
       " 4.710415613829716,\n",
       " 4.709574761156817,\n",
       " 4.708736937186721,\n",
       " 4.707902131010216,\n",
       " 4.707070331757381,\n",
       " 4.706241528597455,\n",
       " 4.70541571073868,\n",
       " 4.7045928674281745,\n",
       " 4.7037729879517896,\n",
       " 4.702956061633963,\n",
       " 4.70214207783759,\n",
       " 4.701331025963877,\n",
       " 4.700522895452207,\n",
       " 4.699717675780005,\n",
       " 4.698915356462592,\n",
       " 4.6981159270530615,\n",
       " 4.6973193771421275,\n",
       " 4.696525696358007,\n",
       " 4.695734874366266,\n",
       " 4.694946900869703,\n",
       " 4.694161765608201,\n",
       " 4.6933794583586,\n",
       " 4.692599968934568,\n",
       " 4.691823287186457,\n",
       " 4.691049403001182,\n",
       " 4.69027830630208,\n",
       " 4.689509987048791,\n",
       " 4.688744435237113,\n",
       " 4.687981640898881,\n",
       " 4.6872215941018345,\n",
       " 4.686464284949491,\n",
       " 4.685709703581008,\n",
       " 4.684957840171069,\n",
       " 4.684208684929745,\n",
       " 4.683462228102367,\n",
       " 4.682718459969402,\n",
       " 4.681977370846331,\n",
       " 4.681238951083514,\n",
       " 4.680503191066067,\n",
       " 4.679770081213745,\n",
       " 4.679039611980803,\n",
       " 4.678311773855883,\n",
       " 4.677586557361888,\n",
       " 4.676863953055852,\n",
       " 4.676143951528825,\n",
       " 4.675426543405748,\n",
       " 4.674711719345328,\n",
       " 4.6739994700399246,\n",
       " 4.673289786215413,\n",
       " 4.672582658631084,\n",
       " 4.671878078079505,\n",
       " 4.671176035386413,\n",
       " 4.6704765214105874,\n",
       " 4.669779527043733,\n",
       " 4.669085043210365,\n",
       " 4.668393060867689,\n",
       " 4.667703571005477,\n",
       " 4.667016564645957,\n",
       " 4.666332032843698,\n",
       " 4.665649966685489,\n",
       " 4.664970357290219,\n",
       " 4.664293195808771,\n",
       " 4.6636184734239015,\n",
       " 4.662946181350124,\n",
       " 4.6622763108336,\n",
       " 4.661608853152018,\n",
       " 4.660943799614486,\n",
       " 4.660281141561418,\n",
       " 4.659620870364415,\n",
       " 4.65896297742616,\n",
       " 4.658307454180302,\n",
       " 4.657654292091346,\n",
       " 4.657003482654543,\n",
       " 4.6563550173957715,\n",
       " 4.65570888787144,\n",
       " 4.655065085668367,\n",
       " 4.654423602403678,\n",
       " 4.653784429724688,\n",
       " 4.6531475593088025,\n",
       " 4.6525129828634,\n",
       " 4.651880692125735,\n",
       " 4.651250678862817,\n",
       " 4.650622934871314,\n",
       " 4.649997451977443,\n",
       " 4.649374222036858,\n",
       " 4.648753236934556,\n",
       " 4.648134488584754,\n",
       " 4.647517968930801,\n",
       " 4.646903669945062,\n",
       " 4.64629158362882,\n",
       " 4.645681702012166,\n",
       " 4.6450740171539,\n",
       " 4.644468521141423,\n",
       " 4.6438652060906405,\n",
       " 4.643264064145854,\n",
       " 4.642665087479663,\n",
       " 4.6420682682928565,\n",
       " 4.6414735988143185,\n",
       " 4.6408810713009245,\n",
       " 4.64029067803744,\n",
       " 4.63970241133642,\n",
       " 4.6391162635381065,\n",
       " 4.638532227010339,\n",
       " 4.637950294148439,\n",
       " 4.637370457375125,\n",
       " 4.636792709140407,\n",
       " 4.636217041921488,\n",
       " 4.6356434482226705,\n",
       " 4.635071920575256,\n",
       " 4.634502451537443,\n",
       " 4.633935033694242,\n",
       " 4.633369659657368,\n",
       " 4.632806322065146,\n",
       " 4.632245013582422,\n",
       " 4.63168572690046,\n",
       " 4.63112845473685,\n",
       " 4.630573189835415,\n",
       " 4.630019924966111,\n",
       " 4.6294686529249365,\n",
       " 4.628919366533842,\n",
       " 4.62837205864063,\n",
       " 4.627826722118864,\n",
       " 4.627283349867778,\n",
       " 4.626741934812184,\n",
       " 4.626202469902373,\n",
       " 4.625664948114038,\n",
       " 4.625129362448163,\n",
       " 4.62459570593095,\n",
       " 4.6240639716137135,\n",
       " 4.623534152572803,\n",
       " 4.623006241909502,\n",
       " 4.622480232749945,\n",
       " 4.621956118245025,\n",
       " 4.621433891570306,\n",
       " 4.620913545925933,\n",
       " 4.62039507453654,\n",
       " 4.619878470651173,\n",
       " 4.619363727543187,\n",
       " 4.618850838510172,\n",
       " 4.618339796873855,\n",
       " 4.6178305959800205,\n",
       " 4.617323229198419,\n",
       " 4.616817689922686,\n",
       " 4.61631397157025,\n",
       " 4.61581206758225,\n",
       " 4.61531197142345,\n",
       " 4.6148136765821555,\n",
       " 4.614317176570121,\n",
       " 4.613822464922479,\n",
       " 4.613329535197642,\n",
       " 4.612838380977227,\n",
       " 4.612348995865971,\n",
       " 4.611861373491643,\n",
       " 4.611375507504967,\n",
       " 4.6108913915795355,\n",
       " 4.610409019411731,\n",
       " 4.609928384720636,\n",
       " 4.609449481247963,\n",
       " 4.6089723027579605,\n",
       " 4.608496843037341,\n",
       " 4.608023095895198,\n",
       " 4.60755105516292,\n",
       " 4.60708071469412,\n",
       " 4.606612068364545,\n",
       " 4.606145110072004,\n",
       " 4.605679833736285,\n",
       " 4.605216233299077,\n",
       " 4.60475430272389,\n",
       " 4.604294035995977,\n",
       " 4.603835427122256,\n",
       " 4.603378470131233,\n",
       " 4.60292315907292,\n",
       " 4.602469488018764,\n",
       " 4.602017451061564,\n",
       " 4.6015670423153985,\n",
       " 4.601118255915542,\n",
       " 4.600671086018399,\n",
       " 4.600225526801421,\n",
       " 4.59978157246303,\n",
       " 4.599339217222544,\n",
       " 4.598898455320108,\n",
       " 4.5984592810166065,\n",
       " 4.598021688593604,\n",
       " 4.597585672353254,\n",
       " 4.597151226618241,\n",
       " 4.596718345731694,\n",
       " 4.596287024057118,\n",
       " 4.595857255978325,\n",
       " 4.595429035899349,\n",
       " 4.595002358244384,\n",
       " 4.594577217457711,\n",
       " 4.594153608003618,\n",
       " 4.59373152436633,\n",
       " 4.593310961049945,\n",
       " 4.5928919125783585,\n",
       " 4.592474373495182,\n",
       " 4.592058338363686,\n",
       " 4.591643801766726,\n",
       " 4.591230758306666,\n",
       " 4.590819202605312,\n",
       " 4.590409129303844,\n",
       " 4.590000533062744,\n",
       " 4.589593408561723,\n",
       " 4.5891877504996605,\n",
       " 4.588783553594528,\n",
       " 4.5883808125833205,\n",
       " 4.587979522221995,\n",
       " 4.587579677285392,\n",
       " 4.587181272567177,\n",
       " 4.586784302879765,\n",
       " 4.586388763054259,\n",
       " 4.585994647940378,\n",
       " 4.585601952406392,\n",
       " 4.585210671339057,\n",
       " 4.5848207996435475,\n",
       " 4.584432332243384,\n",
       " 4.584045264080381,\n",
       " 4.5836595901145625,\n",
       " 4.583275305324111,\n",
       " 4.582892404705298,\n",
       " 4.582510883272419,\n",
       " 4.582130736057722,\n",
       " 4.581751958111356,\n",
       " 4.581374544501292,\n",
       " 4.580998490313272,\n",
       " 4.580623790650735,\n",
       " 4.580250440634761,\n",
       " 4.579878435403997,\n",
       " 4.579507770114606,\n",
       " 4.579138439940198,\n",
       " 4.5787704400717635,\n",
       " 4.578403765717619,\n",
       " 4.578038412103337,\n",
       " 4.57767437447169,\n",
       " 4.577311648082583,\n",
       " 4.576950228212997,\n",
       " 4.576590110156924,\n",
       " 4.576231289225308,\n",
       " 4.57587376074598,\n",
       " 4.575517520063601,\n",
       " 4.575162562539603,\n",
       " 4.574808883552121,\n",
       " 4.574456478495943,\n",
       " 4.574105342782438,\n",
       " 4.573755471839511,\n",
       " 4.573406861111529,\n",
       " 4.573059506059272,\n",
       " 4.5727134021598665,\n",
       " 4.572368544906735,\n",
       " 4.572024929809525,\n",
       " 4.571682552394068,\n",
       " 4.5713414082023025,\n",
       " 4.571001492792229,\n",
       " 4.5706628017378454,\n",
       " 4.570325330629095,\n",
       " 4.569989075071803,\n",
       " 4.569654030687624,\n",
       " 4.56932019311398,\n",
       " 4.568987558004012,\n",
       " 4.568656121026514,\n",
       " 4.568325877865882,\n",
       " 4.567996824222056,\n",
       " 4.567668955810467,\n",
       " 4.567342268361972,\n",
       " 4.567016757622818,\n",
       " 4.56669241935456,\n",
       " 4.566369249334026,\n",
       " 4.566047243353257,\n",
       " 4.565726397219448,\n",
       " 4.565406706754898,\n",
       " 4.565088167796951,\n",
       " 4.564770776197949,\n",
       " 4.564454527825168,\n",
       " 4.564139418560777,\n",
       " 4.563825444301772,\n",
       " 4.563512600959929,\n",
       " 4.5632008844617475,\n",
       " 4.562890290748406,\n",
       " 4.562580815775695,\n",
       " 4.562272455513976,\n",
       " 4.561965205948124,\n",
       " 4.561659063077478,\n",
       " 4.561354022915784,\n",
       " 4.56105008149115,\n",
       " 4.560747234845985,\n",
       " 4.560445479036962,\n",
       " 4.560144810134948,\n",
       " 4.559845224224967,\n",
       " 4.559546717406144,\n",
       " 4.559249285791658,\n",
       " 4.558952925508681,\n",
       " 4.558657632698341,\n",
       " 4.558363403515664,\n",
       " 4.558070234129523,\n",
       " 4.557778120722592,\n",
       " 4.557487059491295,\n",
       " 4.557197046645755,\n",
       " 4.556908078409751,\n",
       " 4.556620151020654,\n",
       " 4.556333260729399,\n",
       " 4.556047403800417,\n",
       " 4.5557625765115946,\n",
       " 4.555478775154231,\n",
       " 4.555195996032977,\n",
       " 4.554914235465802,\n",
       " 4.554633489783926,\n",
       " 4.554353755331798,\n",
       " 4.554075028467021,\n",
       " 4.553797305560327,\n",
       " 4.553520582995515,\n",
       " 4.553244857169412,\n",
       " 4.552970124491824,\n",
       " 4.552696381385485,\n",
       " 4.5524236242860185,\n",
       " 4.5521518496418825,\n",
       " 4.551881053914331,\n",
       " 4.551611233577363,\n",
       " 4.551342385117677,\n",
       " 4.551074505034629,\n",
       " 4.550807589840181,\n",
       " 4.55054163605886,\n",
       " 4.550276640227711,\n",
       " 4.550012598896254,\n",
       " 4.549749508626434,\n",
       " 4.549487365992583,\n",
       " 4.549226167581372,\n",
       " 4.5489659099917645,\n",
       " 4.548706589834975,\n",
       " 4.548448203734425,\n",
       " 4.548190748325698,\n",
       " 4.547934220256497,\n",
       " 4.547678616186597,\n",
       " 4.547423932787805,\n",
       " 4.547170166743919,\n",
       " 4.546917314750677,\n",
       " 4.546665373515724,\n",
       " 4.54641433975856,\n",
       " 4.546164210210503,\n",
       " 4.545914981614642,\n",
       " 4.545666650725801,\n",
       " 4.54541921431049,\n",
       " 4.545172669146869,\n",
       " 4.544927012024698,\n",
       " 4.544682239745306,\n",
       " 4.544438349121537,\n",
       " 4.5441953369777215,\n",
       " 4.543953200149624,\n",
       " 4.543711935484408,\n",
       " 4.543471539840591,\n",
       " 4.543232010088012,\n",
       " 4.542993343107778,\n",
       " 4.542755535792234,\n",
       " 4.542518585044916,\n",
       " 4.5422824877805175,\n",
       " 4.5420472409248385,\n",
       " 4.541812841414758,\n",
       " 4.541579286198186,\n",
       " 4.541346572234027,\n",
       " 4.541114696492135,\n",
       " 4.540883655953286,\n",
       " 4.540653447609125,\n",
       " 4.540424068462133,\n",
       " 4.540195515525591,\n",
       " 4.5399677858235385,\n",
       " 4.53974087639073,\n",
       " 4.539514784272604,\n",
       " 4.539289506525238,\n",
       " 4.539065040215319,\n",
       " 4.538841382420094,\n",
       " 4.5386185302273425,\n",
       " 4.538396480735327,\n",
       " 4.538175231052767,\n",
       " 4.537954778298796,\n",
       " 4.537735119602923,\n",
       " 4.537516252104996,\n",
       " 4.537298172955165,\n",
       " 4.537080879313848,\n",
       " 4.5368643683516865,\n",
       " 4.536648637249516,\n",
       " 4.536433683198326,\n",
       " 4.536219503399223,\n",
       " 4.536006095063398,\n",
       " 4.535793455412081,\n",
       " 4.535581581676518,\n",
       " 4.535370471097922,\n",
       " 4.53516012092745,\n",
       " 4.53495052842615,\n",
       " 4.534741690864944,\n",
       " 4.534533605524584,\n",
       " 4.534326269695611,\n",
       " 4.5341196806783275,\n",
       " 4.533913835782764,\n",
       " 4.533708732328634,\n",
       " 4.5335043676453095,\n",
       " 4.533300739071782,\n",
       " 4.533097843956623,\n",
       " 4.532895679657961,\n",
       " 4.532694243543436,\n",
       " 4.532493532990172,\n",
       " 4.532293545384737,\n",
       " 4.532094278123115,\n",
       " 4.53189572861067,\n",
       " 4.531697894262111,\n",
       " 4.531500772501458,\n",
       " 4.531304360762013,\n",
       " 4.531108656486318,\n",
       " 4.5309136571261295,\n",
       " 4.530719360142384,\n",
       " 4.53052576300516,\n",
       " 4.530332863193653,\n",
       " 4.530140658196133,\n",
       " 4.529949145509925,\n",
       " 4.52975832264136,\n",
       " 4.529568187105754,\n",
       " 4.529378736427375,\n",
       " 4.529189968139407,\n",
       " 4.5290018797839195,\n",
       " 4.5288144689118335,\n",
       " 4.5286277330828915,\n",
       " 4.528441669865631,\n",
       " 4.528256276837341,\n",
       " 4.528071551584041,\n",
       " 4.527887491700442,\n",
       " 4.527704094789922,\n",
       " 4.527521358464489,\n",
       " 4.527339280344758,\n",
       " 4.527157858059903,\n",
       " 4.52697708924765,\n",
       " 4.526796971554226,\n",
       " 4.52661750263434,\n",
       " 4.526438680151146,\n",
       " 4.526260501776218,\n",
       " 4.526082965189512,\n",
       " 4.525906068079348,\n",
       " 4.525729808142366,\n",
       " 4.525554183083503,\n",
       " 4.5253791906159675,\n",
       " 4.525204828461203,\n",
       " 4.525031094348856,\n",
       " 4.524857986016757,\n",
       " 4.524685501210879,\n",
       " 4.5245136376853194,\n",
       " 4.52434239320226,\n",
       " 4.524171765531945,\n",
       " 4.524001752452653,\n",
       " 4.523832351750661,\n",
       " 4.523663561220222,\n",
       " 4.523495378663532,\n",
       " 4.523327801890707,\n",
       " 4.523160828719747,\n",
       " 4.5229944569765115,\n",
       " 4.522828684494693,\n",
       " 4.52266350911579,\n",
       " 4.522498928689068,\n",
       " 4.522334941071547,\n",
       " 4.52217154412796,\n",
       " 4.522008735730734,\n",
       " 4.521846513759959,\n",
       " 4.521684876103361,\n",
       " 4.521523820656275,\n",
       " 4.521363345321613,\n",
       " 4.521203448009848,\n",
       " 4.52104412663897,\n",
       " 4.520885379134478,\n",
       " 4.520727203429336,\n",
       " 4.520569597463956,\n",
       " 4.520412559186166,\n",
       " 4.52025608655119,\n",
       " 4.520100177521617,\n",
       " 4.51994483006737,\n",
       " 4.519790042165688,\n",
       " 4.5196358118010975,\n",
       " 4.519482136965378,\n",
       " 4.519329015657548,\n",
       " 4.519176445883833,\n",
       " 4.519024425657637,\n",
       " 4.518872952999525,\n",
       " 4.518722025937183,\n",
       " 4.518571642505413,\n",
       " 4.518421800746084,\n",
       " 4.518272498708126,\n",
       " 4.518123734447491,\n",
       " 4.517975506027139,\n",
       " 4.5178278115170025,\n",
       " 4.517680648993969,\n",
       " 4.517534016541851,\n",
       " 4.517387912251361,\n",
       " 4.517242334220096,\n",
       " 4.517097280552497,\n",
       " 4.51695274935984,\n",
       " 4.516808738760196,\n",
       " 4.516665246878423,\n",
       " 4.516522271846126,\n",
       " 4.516379811801645,\n",
       " 4.516237864890023,\n",
       " 4.516096429262984,\n",
       " 4.515955503078913,\n",
       " ...]"
      ]
     },
     "execution_count": 44,
     "metadata": {},
     "output_type": "execute_result"
    }
   ],
   "source": [
    "cost_history"
   ]
  },
  {
   "cell_type": "markdown",
   "metadata": {},
   "source": [
    "$$\\hat{y} = 1.193 x - 3.89$$"
   ]
  },
  {
   "cell_type": "code",
   "execution_count": 47,
   "metadata": {},
   "outputs": [
    {
     "data": {
      "text/plain": [
       "Text(0, 0.5, 'profit')"
      ]
     },
     "execution_count": 47,
     "metadata": {},
     "output_type": "execute_result"
    },
    {
     "data": {
      "image/png": "[encoded data removed]",
      "text/plain": [
       "<Figure size 432x288 with 1 Axes>"
      ]
     },
     "metadata": {
      "needs_background": "light"
     },
     "output_type": "display_data"
    }
   ],
   "source": [
    "plt.figure(figsize=(6,4))\n",
    "plt.scatter(data['population'],data['profit'])\n",
    "x_num = np.linspace(4.5,25,num=100)\n",
    "y_num = beta[0]*x_num + beta[1]\n",
    "\n",
    "plt.plot(x_num,y_num,'r', lw=3)\n",
    "plt.xlabel('population')\n",
    "plt.ylabel('profit')"
   ]
  },
  {
   "cell_type": "code",
   "execution_count": 48,
   "metadata": {},
   "outputs": [
    {
     "data": {
      "text/plain": [
       "[<matplotlib.lines.Line2D at 0x22bb74293a0>]"
      ]
     },
     "execution_count": 48,
     "metadata": {},
     "output_type": "execute_result"
    },
    {
     "data": {
      "image/png": "[encoded data removed]",
      "text/plain": [
       "<Figure size 432x288 with 1 Axes>"
      ]
     },
     "metadata": {
      "needs_background": "light"
     },
     "output_type": "display_data"
    }
   ],
   "source": [
    "plt.plot(cost_history)"
   ]
  },
  {
   "cell_type": "code",
   "execution_count": null,
   "metadata": {},
   "outputs": [],
   "source": []
  },
  {
   "cell_type": "code",
   "execution_count": 49,
   "metadata": {},
   "outputs": [],
   "source": [
    "# Predecir un nuevo valor\n",
    "\n",
    "# y_pred = [x,1]*beta\n",
    "x_new = 17\n",
    "y_predict = np.array([x_new,1]).dot(beta) # y= beta1x+beta0\n"
   ]
  },
  {
   "cell_type": "code",
   "execution_count": 50,
   "metadata": {},
   "outputs": [
    {
     "data": {
      "text/plain": [
       "16.385791072906276"
      ]
     },
     "execution_count": 50,
     "metadata": {},
     "output_type": "execute_result"
    }
   ],
   "source": [
    "y_predict"
   ]
  },
  {
   "cell_type": "code",
   "execution_count": 51,
   "metadata": {},
   "outputs": [],
   "source": [
    "#[xn1,xn2; 1,1]\n",
    "X_new = np.array([[17,1],\n",
    "                  [19,1]])\n"
   ]
  },
  {
   "cell_type": "code",
   "execution_count": 52,
   "metadata": {},
   "outputs": [],
   "source": [
    "def predict(X_new, beta):\n",
    "    return X_new.dot(beta)\n",
    "    "
   ]
  },
  {
   "cell_type": "code",
   "execution_count": 54,
   "metadata": {},
   "outputs": [
    {
     "data": {
      "text/plain": [
       "array([16.38579107, 18.77185836])"
      ]
     },
     "execution_count": 54,
     "metadata": {},
     "output_type": "execute_result"
    }
   ],
   "source": [
    "predict(X_new, beta)"
   ]
  },
  {
   "cell_type": "markdown",
   "metadata": {},
   "source": [
    "## Ejemplo (scipy)"
   ]
  },
  {
   "cell_type": "code",
   "execution_count": 56,
   "metadata": {},
   "outputs": [],
   "source": [
    "# Importar el módulo optimize de la librería scipy\n",
    "from scipy import optimize as opt"
   ]
  },
  {
   "cell_type": "code",
   "execution_count": 59,
   "metadata": {},
   "outputs": [
    {
     "name": "stdout",
     "output_type": "stream",
     "text": [
      "Help on function minimize in module scipy.optimize._minimize:\n",
      "\n",
      "minimize(fun, x0, args=(), method=None, jac=None, hess=None, hessp=None, bounds=None, constraints=(), tol=None, callback=None, options=None)\n",
      "    Minimization of scalar function of one or more variables.\n",
      "    \n",
      "    Parameters\n",
      "    ----------\n",
      "    fun : callable\n",
      "        The objective function to be minimized.\n",
      "    \n",
      "            ``fun(x, *args) -> float``\n",
      "    \n",
      "        where ``x`` is an 1-D array with shape (n,) and ``args``\n",
      "        is a tuple of the fixed parameters needed to completely\n",
      "        specify the function.\n",
      "    x0 : ndarray, shape (n,)\n",
      "        Initial guess. Array of real elements of size (n,),\n",
      "        where 'n' is the number of independent variables.\n",
      "    args : tuple, optional\n",
      "        Extra arguments passed to the objective function and its\n",
      "        derivatives (`fun`, `jac` and `hess` functions).\n",
      "    method : str or callable, optional\n",
      "        Type of solver.  Should be one of\n",
      "    \n",
      "            - 'Nelder-Mead' :ref:`(see here) <optimize.minimize-neldermead>`\n",
      "            - 'Powell'      :ref:`(see here) <optimize.minimize-powell>`\n",
      "            - 'CG'          :ref:`(see here) <optimize.minimize-cg>`\n",
      "            - 'BFGS'        :ref:`(see here) <optimize.minimize-bfgs>`\n",
      "            - 'Newton-CG'   :ref:`(see here) <optimize.minimize-newtoncg>`\n",
      "            - 'L-BFGS-B'    :ref:`(see here) <optimize.minimize-lbfgsb>`\n",
      "            - 'TNC'         :ref:`(see here) <optimize.minimize-tnc>`\n",
      "            - 'COBYLA'      :ref:`(see here) <optimize.minimize-cobyla>`\n",
      "            - 'SLSQP'       :ref:`(see here) <optimize.minimize-slsqp>`\n",
      "            - 'trust-constr':ref:`(see here) <optimize.minimize-trustconstr>`\n",
      "            - 'dogleg'      :ref:`(see here) <optimize.minimize-dogleg>`\n",
      "            - 'trust-ncg'   :ref:`(see here) <optimize.minimize-trustncg>`\n",
      "            - 'trust-exact' :ref:`(see here) <optimize.minimize-trustexact>`\n",
      "            - 'trust-krylov' :ref:`(see here) <optimize.minimize-trustkrylov>`\n",
      "            - custom - a callable object (added in version 0.14.0),\n",
      "              see below for description.\n",
      "    \n",
      "        If not given, chosen to be one of ``BFGS``, ``L-BFGS-B``, ``SLSQP``,\n",
      "        depending if the problem has constraints or bounds.\n",
      "    jac : {callable,  '2-point', '3-point', 'cs', bool}, optional\n",
      "        Method for computing the gradient vector. Only for CG, BFGS,\n",
      "        Newton-CG, L-BFGS-B, TNC, SLSQP, dogleg, trust-ncg, trust-krylov,\n",
      "        trust-exact and trust-constr.\n",
      "        If it is a callable, it should be a function that returns the gradient\n",
      "        vector:\n",
      "    \n",
      "            ``jac(x, *args) -> array_like, shape (n,)``\n",
      "    \n",
      "        where ``x`` is an array with shape (n,) and ``args`` is a tuple with\n",
      "        the fixed parameters. If `jac` is a Boolean and is True, `fun` is\n",
      "        assumed to return and objective and gradient as an ``(f, g)`` tuple.\n",
      "        Methods 'Newton-CG', 'trust-ncg', 'dogleg', 'trust-exact', and\n",
      "        'trust-krylov' require that either a callable be supplied, or that\n",
      "        `fun` return the objective and gradient.\n",
      "        If None or False, the gradient will be estimated using 2-point finite\n",
      "        difference estimation with an absolute step size.\n",
      "        Alternatively, the keywords  {'2-point', '3-point', 'cs'} can be used\n",
      "        to select a finite difference scheme for numerical estimation of the\n",
      "        gradient with a relative step size. These finite difference schemes\n",
      "        obey any specified `bounds`.\n",
      "    hess : {callable, '2-point', '3-point', 'cs', HessianUpdateStrategy}, optional\n",
      "        Method for computing the Hessian matrix. Only for Newton-CG, dogleg,\n",
      "        trust-ncg,  trust-krylov, trust-exact and trust-constr. If it is\n",
      "        callable, it should return the  Hessian matrix:\n",
      "    \n",
      "            ``hess(x, *args) -> {LinearOperator, spmatrix, array}, (n, n)``\n",
      "    \n",
      "        where x is a (n,) ndarray and `args` is a tuple with the fixed\n",
      "        parameters. LinearOperator and sparse matrix returns are\n",
      "        allowed only for 'trust-constr' method. Alternatively, the keywords\n",
      "        {'2-point', '3-point', 'cs'} select a finite difference scheme\n",
      "        for numerical estimation. Or, objects implementing\n",
      "        `HessianUpdateStrategy` interface can be used to approximate\n",
      "        the Hessian. Available quasi-Newton methods implementing\n",
      "        this interface are:\n",
      "    \n",
      "            - `BFGS`;\n",
      "            - `SR1`.\n",
      "    \n",
      "        Whenever the gradient is estimated via finite-differences,\n",
      "        the Hessian cannot be estimated with options\n",
      "        {'2-point', '3-point', 'cs'} and needs to be\n",
      "        estimated using one of the quasi-Newton strategies.\n",
      "        Finite-difference options {'2-point', '3-point', 'cs'} and\n",
      "        `HessianUpdateStrategy` are available only for 'trust-constr' method.\n",
      "    hessp : callable, optional\n",
      "        Hessian of objective function times an arbitrary vector p. Only for\n",
      "        Newton-CG, trust-ncg, trust-krylov, trust-constr.\n",
      "        Only one of `hessp` or `hess` needs to be given.  If `hess` is\n",
      "        provided, then `hessp` will be ignored.  `hessp` must compute the\n",
      "        Hessian times an arbitrary vector:\n",
      "    \n",
      "            ``hessp(x, p, *args) ->  ndarray shape (n,)``\n",
      "    \n",
      "        where x is a (n,) ndarray, p is an arbitrary vector with\n",
      "        dimension (n,) and `args` is a tuple with the fixed\n",
      "        parameters.\n",
      "    bounds : sequence or `Bounds`, optional\n",
      "        Bounds on variables for L-BFGS-B, TNC, SLSQP, Powell, and\n",
      "        trust-constr methods. There are two ways to specify the bounds:\n",
      "    \n",
      "            1. Instance of `Bounds` class.\n",
      "            2. Sequence of ``(min, max)`` pairs for each element in `x`. None\n",
      "               is used to specify no bound.\n",
      "    \n",
      "    constraints : {Constraint, dict} or List of {Constraint, dict}, optional\n",
      "        Constraints definition (only for COBYLA, SLSQP and trust-constr).\n",
      "    \n",
      "        Constraints for 'trust-constr' are defined as a single object or a\n",
      "        list of objects specifying constraints to the optimization problem.\n",
      "        Available constraints are:\n",
      "    \n",
      "            - `LinearConstraint`\n",
      "            - `NonlinearConstraint`\n",
      "    \n",
      "        Constraints for COBYLA, SLSQP are defined as a list of dictionaries.\n",
      "        Each dictionary with fields:\n",
      "    \n",
      "            type : str\n",
      "                Constraint type: 'eq' for equality, 'ineq' for inequality.\n",
      "            fun : callable\n",
      "                The function defining the constraint.\n",
      "            jac : callable, optional\n",
      "                The Jacobian of `fun` (only for SLSQP).\n",
      "            args : sequence, optional\n",
      "                Extra arguments to be passed to the function and Jacobian.\n",
      "    \n",
      "        Equality constraint means that the constraint function result is to\n",
      "        be zero whereas inequality means that it is to be non-negative.\n",
      "        Note that COBYLA only supports inequality constraints.\n",
      "    tol : float, optional\n",
      "        Tolerance for termination. For detailed control, use solver-specific\n",
      "        options.\n",
      "    options : dict, optional\n",
      "        A dictionary of solver options. All methods accept the following\n",
      "        generic options:\n",
      "    \n",
      "            maxiter : int\n",
      "                Maximum number of iterations to perform. Depending on the\n",
      "                method each iteration may use several function evaluations.\n",
      "            disp : bool\n",
      "                Set to True to print convergence messages.\n",
      "    \n",
      "        For method-specific options, see :func:`show_options()`.\n",
      "    callback : callable, optional\n",
      "        Called after each iteration. For 'trust-constr' it is a callable with\n",
      "        the signature:\n",
      "    \n",
      "            ``callback(xk, OptimizeResult state) -> bool``\n",
      "    \n",
      "        where ``xk`` is the current parameter vector. and ``state``\n",
      "        is an `OptimizeResult` object, with the same fields\n",
      "        as the ones from the return. If callback returns True\n",
      "        the algorithm execution is terminated.\n",
      "        For all the other methods, the signature is:\n",
      "    \n",
      "            ``callback(xk)``\n",
      "    \n",
      "        where ``xk`` is the current parameter vector.\n",
      "    \n",
      "    Returns\n",
      "    -------\n",
      "    res : OptimizeResult\n",
      "        The optimization result represented as a ``OptimizeResult`` object.\n",
      "        Important attributes are: ``x`` the solution array, ``success`` a\n",
      "        Boolean flag indicating if the optimizer exited successfully and\n",
      "        ``message`` which describes the cause of the termination. See\n",
      "        `OptimizeResult` for a description of other attributes.\n",
      "    \n",
      "    See also\n",
      "    --------\n",
      "    minimize_scalar : Interface to minimization algorithms for scalar\n",
      "        univariate functions\n",
      "    show_options : Additional options accepted by the solvers\n",
      "    \n",
      "    Notes\n",
      "    -----\n",
      "    This section describes the available solvers that can be selected by the\n",
      "    'method' parameter. The default method is *BFGS*.\n",
      "    \n",
      "    **Unconstrained minimization**\n",
      "    \n",
      "    Method :ref:`Nelder-Mead <optimize.minimize-neldermead>` uses the\n",
      "    Simplex algorithm [1]_, [2]_. This algorithm is robust in many\n",
      "    applications. However, if numerical computation of derivative can be\n",
      "    trusted, other algorithms using the first and/or second derivatives\n",
      "    information might be preferred for their better performance in\n",
      "    general.\n",
      "    \n",
      "    Method :ref:`CG <optimize.minimize-cg>` uses a nonlinear conjugate\n",
      "    gradient algorithm by Polak and Ribiere, a variant of the\n",
      "    Fletcher-Reeves method described in [5]_ pp.120-122. Only the\n",
      "    first derivatives are used.\n",
      "    \n",
      "    Method :ref:`BFGS <optimize.minimize-bfgs>` uses the quasi-Newton\n",
      "    method of Broyden, Fletcher, Goldfarb, and Shanno (BFGS) [5]_\n",
      "    pp. 136. It uses the first derivatives only. BFGS has proven good\n",
      "    performance even for non-smooth optimizations. This method also\n",
      "    returns an approximation of the Hessian inverse, stored as\n",
      "    `hess_inv` in the OptimizeResult object.\n",
      "    \n",
      "    Method :ref:`Newton-CG <optimize.minimize-newtoncg>` uses a\n",
      "    Newton-CG algorithm [5]_ pp. 168 (also known as the truncated\n",
      "    Newton method). It uses a CG method to the compute the search\n",
      "    direction. See also *TNC* method for a box-constrained\n",
      "    minimization with a similar algorithm. Suitable for large-scale\n",
      "    problems.\n",
      "    \n",
      "    Method :ref:`dogleg <optimize.minimize-dogleg>` uses the dog-leg\n",
      "    trust-region algorithm [5]_ for unconstrained minimization. This\n",
      "    algorithm requires the gradient and Hessian; furthermore the\n",
      "    Hessian is required to be positive definite.\n",
      "    \n",
      "    Method :ref:`trust-ncg <optimize.minimize-trustncg>` uses the\n",
      "    Newton conjugate gradient trust-region algorithm [5]_ for\n",
      "    unconstrained minimization. This algorithm requires the gradient\n",
      "    and either the Hessian or a function that computes the product of\n",
      "    the Hessian with a given vector. Suitable for large-scale problems.\n",
      "    \n",
      "    Method :ref:`trust-krylov <optimize.minimize-trustkrylov>` uses\n",
      "    the Newton GLTR trust-region algorithm [14]_, [15]_ for unconstrained\n",
      "    minimization. This algorithm requires the gradient\n",
      "    and either the Hessian or a function that computes the product of\n",
      "    the Hessian with a given vector. Suitable for large-scale problems.\n",
      "    On indefinite problems it requires usually less iterations than the\n",
      "    `trust-ncg` method and is recommended for medium and large-scale problems.\n",
      "    \n",
      "    Method :ref:`trust-exact <optimize.minimize-trustexact>`\n",
      "    is a trust-region method for unconstrained minimization in which\n",
      "    quadratic subproblems are solved almost exactly [13]_. This\n",
      "    algorithm requires the gradient and the Hessian (which is\n",
      "    *not* required to be positive definite). It is, in many\n",
      "    situations, the Newton method to converge in fewer iteraction\n",
      "    and the most recommended for small and medium-size problems.\n",
      "    \n",
      "    **Bound-Constrained minimization**\n",
      "    \n",
      "    Method :ref:`L-BFGS-B <optimize.minimize-lbfgsb>` uses the L-BFGS-B\n",
      "    algorithm [6]_, [7]_ for bound constrained minimization.\n",
      "    \n",
      "    Method :ref:`Powell <optimize.minimize-powell>` is a modification\n",
      "    of Powell's method [3]_, [4]_ which is a conjugate direction\n",
      "    method. It performs sequential one-dimensional minimizations along\n",
      "    each vector of the directions set (`direc` field in `options` and\n",
      "    `info`), which is updated at each iteration of the main\n",
      "    minimization loop. The function need not be differentiable, and no\n",
      "    derivatives are taken. If bounds are not provided, then an\n",
      "    unbounded line search will be used. If bounds are provided and\n",
      "    the initial guess is within the bounds, then every function\n",
      "    evaluation throughout the minimization procedure will be within\n",
      "    the bounds. If bounds are provided, the initial guess is outside\n",
      "    the bounds, and `direc` is full rank (default has full rank), then\n",
      "    some function evaluations during the first iteration may be\n",
      "    outside the bounds, but every function evaluation after the first\n",
      "    iteration will be within the bounds. If `direc` is not full rank,\n",
      "    then some parameters may not be optimized and the solution is not\n",
      "    guaranteed to be within the bounds.\n",
      "    \n",
      "    Method :ref:`TNC <optimize.minimize-tnc>` uses a truncated Newton\n",
      "    algorithm [5]_, [8]_ to minimize a function with variables subject\n",
      "    to bounds. This algorithm uses gradient information; it is also\n",
      "    called Newton Conjugate-Gradient. It differs from the *Newton-CG*\n",
      "    method described above as it wraps a C implementation and allows\n",
      "    each variable to be given upper and lower bounds.\n",
      "    \n",
      "    **Constrained Minimization**\n",
      "    \n",
      "    Method :ref:`COBYLA <optimize.minimize-cobyla>` uses the\n",
      "    Constrained Optimization BY Linear Approximation (COBYLA) method\n",
      "    [9]_, [10]_, [11]_. The algorithm is based on linear\n",
      "    approximations to the objective function and each constraint. The\n",
      "    method wraps a FORTRAN implementation of the algorithm. The\n",
      "    constraints functions 'fun' may return either a single number\n",
      "    or an array or list of numbers.\n",
      "    \n",
      "    Method :ref:`SLSQP <optimize.minimize-slsqp>` uses Sequential\n",
      "    Least SQuares Programming to minimize a function of several\n",
      "    variables with any combination of bounds, equality and inequality\n",
      "    constraints. The method wraps the SLSQP Optimization subroutine\n",
      "    originally implemented by Dieter Kraft [12]_. Note that the\n",
      "    wrapper handles infinite values in bounds by converting them into\n",
      "    large floating values.\n",
      "    \n",
      "    Method :ref:`trust-constr <optimize.minimize-trustconstr>` is a\n",
      "    trust-region algorithm for constrained optimization. It swiches\n",
      "    between two implementations depending on the problem definition.\n",
      "    It is the most versatile constrained minimization algorithm\n",
      "    implemented in SciPy and the most appropriate for large-scale problems.\n",
      "    For equality constrained problems it is an implementation of Byrd-Omojokun\n",
      "    Trust-Region SQP method described in [17]_ and in [5]_, p. 549. When\n",
      "    inequality constraints  are imposed as well, it swiches to the trust-region\n",
      "    interior point  method described in [16]_. This interior point algorithm,\n",
      "    in turn, solves inequality constraints by introducing slack variables\n",
      "    and solving a sequence of equality-constrained barrier problems\n",
      "    for progressively smaller values of the barrier parameter.\n",
      "    The previously described equality constrained SQP method is\n",
      "    used to solve the subproblems with increasing levels of accuracy\n",
      "    as the iterate gets closer to a solution.\n",
      "    \n",
      "    **Finite-Difference Options**\n",
      "    \n",
      "    For Method :ref:`trust-constr <optimize.minimize-trustconstr>`\n",
      "    the gradient and the Hessian may be approximated using\n",
      "    three finite-difference schemes: {'2-point', '3-point', 'cs'}.\n",
      "    The scheme 'cs' is, potentially, the most accurate but it\n",
      "    requires the function to correctly handles complex inputs and to\n",
      "    be differentiable in the complex plane. The scheme '3-point' is more\n",
      "    accurate than '2-point' but requires twice as many operations.\n",
      "    \n",
      "    **Custom minimizers**\n",
      "    \n",
      "    It may be useful to pass a custom minimization method, for example\n",
      "    when using a frontend to this method such as `scipy.optimize.basinhopping`\n",
      "    or a different library.  You can simply pass a callable as the ``method``\n",
      "    parameter.\n",
      "    \n",
      "    The callable is called as ``method(fun, x0, args, **kwargs, **options)``\n",
      "    where ``kwargs`` corresponds to any other parameters passed to `minimize`\n",
      "    (such as `callback`, `hess`, etc.), except the `options` dict, which has\n",
      "    its contents also passed as `method` parameters pair by pair.  Also, if\n",
      "    `jac` has been passed as a bool type, `jac` and `fun` are mangled so that\n",
      "    `fun` returns just the function values and `jac` is converted to a function\n",
      "    returning the Jacobian.  The method shall return an `OptimizeResult`\n",
      "    object.\n",
      "    \n",
      "    The provided `method` callable must be able to accept (and possibly ignore)\n",
      "    arbitrary parameters; the set of parameters accepted by `minimize` may\n",
      "    expand in future versions and then these parameters will be passed to\n",
      "    the method.  You can find an example in the scipy.optimize tutorial.\n",
      "    \n",
      "    .. versionadded:: 0.11.0\n",
      "    \n",
      "    References\n",
      "    ----------\n",
      "    .. [1] Nelder, J A, and R Mead. 1965. A Simplex Method for Function\n",
      "        Minimization. The Computer Journal 7: 308-13.\n",
      "    .. [2] Wright M H. 1996. Direct search methods: Once scorned, now\n",
      "        respectable, in Numerical Analysis 1995: Proceedings of the 1995\n",
      "        Dundee Biennial Conference in Numerical Analysis (Eds. D F\n",
      "        Griffiths and G A Watson). Addison Wesley Longman, Harlow, UK.\n",
      "        191-208.\n",
      "    .. [3] Powell, M J D. 1964. An efficient method for finding the minimum of\n",
      "       a function of several variables without calculating derivatives. The\n",
      "       Computer Journal 7: 155-162.\n",
      "    .. [4] Press W, S A Teukolsky, W T Vetterling and B P Flannery.\n",
      "       Numerical Recipes (any edition), Cambridge University Press.\n",
      "    .. [5] Nocedal, J, and S J Wright. 2006. Numerical Optimization.\n",
      "       Springer New York.\n",
      "    .. [6] Byrd, R H and P Lu and J. Nocedal. 1995. A Limited Memory\n",
      "       Algorithm for Bound Constrained Optimization. SIAM Journal on\n",
      "       Scientific and Statistical Computing 16 (5): 1190-1208.\n",
      "    .. [7] Zhu, C and R H Byrd and J Nocedal. 1997. L-BFGS-B: Algorithm\n",
      "       778: L-BFGS-B, FORTRAN routines for large scale bound constrained\n",
      "       optimization. ACM Transactions on Mathematical Software 23 (4):\n",
      "       550-560.\n",
      "    .. [8] Nash, S G. Newton-Type Minimization Via the Lanczos Method.\n",
      "       1984. SIAM Journal of Numerical Analysis 21: 770-778.\n",
      "    .. [9] Powell, M J D. A direct search optimization method that models\n",
      "       the objective and constraint functions by linear interpolation.\n",
      "       1994. Advances in Optimization and Numerical Analysis, eds. S. Gomez\n",
      "       and J-P Hennart, Kluwer Academic (Dordrecht), 51-67.\n",
      "    .. [10] Powell M J D. Direct search algorithms for optimization\n",
      "       calculations. 1998. Acta Numerica 7: 287-336.\n",
      "    .. [11] Powell M J D. A view of algorithms for optimization without\n",
      "       derivatives. 2007.Cambridge University Technical Report DAMTP\n",
      "       2007/NA03\n",
      "    .. [12] Kraft, D. A software package for sequential quadratic\n",
      "       programming. 1988. Tech. Rep. DFVLR-FB 88-28, DLR German Aerospace\n",
      "       Center -- Institute for Flight Mechanics, Koln, Germany.\n",
      "    .. [13] Conn, A. R., Gould, N. I., and Toint, P. L.\n",
      "       Trust region methods. 2000. Siam. pp. 169-200.\n",
      "    .. [14] F. Lenders, C. Kirches, A. Potschka: \"trlib: A vector-free\n",
      "       implementation of the GLTR method for iterative solution of\n",
      "       the trust region problem\", :arxiv:`1611.04718`\n",
      "    .. [15] N. Gould, S. Lucidi, M. Roma, P. Toint: \"Solving the\n",
      "       Trust-Region Subproblem using the Lanczos Method\",\n",
      "       SIAM J. Optim., 9(2), 504--525, (1999).\n",
      "    .. [16] Byrd, Richard H., Mary E. Hribar, and Jorge Nocedal. 1999.\n",
      "        An interior point algorithm for large-scale nonlinear  programming.\n",
      "        SIAM Journal on Optimization 9.4: 877-900.\n",
      "    .. [17] Lalee, Marucha, Jorge Nocedal, and Todd Plantega. 1998. On the\n",
      "        implementation of an algorithm for large-scale equality constrained\n",
      "        optimization. SIAM Journal on Optimization 8.3: 682-706.\n",
      "    \n",
      "    Examples\n",
      "    --------\n",
      "    Let us consider the problem of minimizing the Rosenbrock function. This\n",
      "    function (and its respective derivatives) is implemented in `rosen`\n",
      "    (resp. `rosen_der`, `rosen_hess`) in the `scipy.optimize`.\n",
      "    \n",
      "    >>> from scipy.optimize import minimize, rosen, rosen_der\n",
      "    \n",
      "    A simple application of the *Nelder-Mead* method is:\n",
      "    \n",
      "    >>> x0 = [1.3, 0.7, 0.8, 1.9, 1.2]\n",
      "    >>> res = minimize(rosen, x0, method='Nelder-Mead', tol=1e-6)\n",
      "    >>> res.x\n",
      "    array([ 1.,  1.,  1.,  1.,  1.])\n",
      "    \n",
      "    Now using the *BFGS* algorithm, using the first derivative and a few\n",
      "    options:\n",
      "    \n",
      "    >>> res = minimize(rosen, x0, method='BFGS', jac=rosen_der,\n",
      "    ...                options={'gtol': 1e-6, 'disp': True})\n",
      "    Optimization terminated successfully.\n",
      "             Current function value: 0.000000\n",
      "             Iterations: 26\n",
      "             Function evaluations: 31\n",
      "             Gradient evaluations: 31\n",
      "    >>> res.x\n",
      "    array([ 1.,  1.,  1.,  1.,  1.])\n",
      "    >>> print(res.message)\n",
      "    Optimization terminated successfully.\n",
      "    >>> res.hess_inv\n",
      "    array([[ 0.00749589,  0.01255155,  0.02396251,  0.04750988,  0.09495377],  # may vary\n",
      "           [ 0.01255155,  0.02510441,  0.04794055,  0.09502834,  0.18996269],\n",
      "           [ 0.02396251,  0.04794055,  0.09631614,  0.19092151,  0.38165151],\n",
      "           [ 0.04750988,  0.09502834,  0.19092151,  0.38341252,  0.7664427 ],\n",
      "           [ 0.09495377,  0.18996269,  0.38165151,  0.7664427,   1.53713523]])\n",
      "    \n",
      "    \n",
      "    Next, consider a minimization problem with several constraints (namely\n",
      "    Example 16.4 from [5]_). The objective function is:\n",
      "    \n",
      "    >>> fun = lambda x: (x[0] - 1)**2 + (x[1] - 2.5)**2\n",
      "    \n",
      "    There are three constraints defined as:\n",
      "    \n",
      "    >>> cons = ({'type': 'ineq', 'fun': lambda x:  x[0] - 2 * x[1] + 2},\n",
      "    ...         {'type': 'ineq', 'fun': lambda x: -x[0] - 2 * x[1] + 6},\n",
      "    ...         {'type': 'ineq', 'fun': lambda x: -x[0] + 2 * x[1] + 2})\n",
      "    \n",
      "    And variables must be positive, hence the following bounds:\n",
      "    \n",
      "    >>> bnds = ((0, None), (0, None))\n",
      "    \n",
      "    The optimization problem is solved using the SLSQP method as:\n",
      "    \n",
      "    >>> res = minimize(fun, (2, 0), method='SLSQP', bounds=bnds,\n",
      "    ...                constraints=cons)\n",
      "    \n",
      "    It should converge to the theoretical solution (1.4 ,1.7).\n",
      "\n"
     ]
    }
   ],
   "source": [
    "help(opt.minimize)"
   ]
  },
  {
   "cell_type": "markdown",
   "metadata": {},
   "source": [
    "Parámetros importantes:\n",
    "- fun: función $f(x)$, se debe definir antes de llamar minimize, como `def f(x): ... return ...`\n",
    "- x0: valor inicial. En una función no lineal, en general, hay múltiples mínimos. Dependiendo de la semilla caerá en uno de esos mínimos. Se ingresa como $x0 = \\text{np.array}([x_{01},\\dots,x_{0n}])$.\n",
    "- bounds: como en linprog.\n",
    "- constraints: funciones que definen las restricciones $g_i(x)$ y $h_j(x)$. Se definen igual que $f(x)$ y se ingresan como {'ineq': g_i, 'eq': h_j}."
   ]
  },
  {
   "cell_type": "markdown",
   "metadata": {},
   "source": [
    "Primero debemos construir la función objetivo y la semilla inicial:"
   ]
  },
  {
   "cell_type": "code",
   "execution_count": 61,
   "metadata": {},
   "outputs": [],
   "source": [
    "N = 100\n",
    "x = np.linspace(0,10,N)\n",
    "y = 10 + 2*x + np.random.normal(loc=0,scale=2,size=(N,))\n"
   ]
  },
  {
   "cell_type": "code",
   "execution_count": 62,
   "metadata": {},
   "outputs": [
    {
     "data": {
      "image/png": "[encoded data removed]",
      "text/plain": [
       "<Figure size 432x288 with 1 Axes>"
      ]
     },
     "metadata": {
      "needs_background": "light"
     },
     "output_type": "display_data"
    }
   ],
   "source": [
    "#Graficar datos\n",
    "plt.figure(figsize=(6,4))\n",
    "plt.plot(x,y,'^r', label='datos')\n",
    "plt.xlabel('$x$')\n",
    "plt.ylabel('$y$')\n",
    "plt.legend(loc='best')\n",
    "plt.grid()"
   ]
  },
  {
   "cell_type": "code",
   "execution_count": 66,
   "metadata": {},
   "outputs": [],
   "source": [
    "def min_sq(beta,x_points,y_points):\n",
    "    n=len(x_points)\n",
    "    f_hat = beta[0]+beta[1]*x_points\n",
    "    J = (1/(2*n))*((y_points-f_hat)**2).sum()\n",
    "    return J"
   ]
  },
  {
   "cell_type": "code",
   "execution_count": 67,
   "metadata": {},
   "outputs": [],
   "source": [
    "beta_ini = [0,0]\n"
   ]
  },
  {
   "cell_type": "code",
   "execution_count": 68,
   "metadata": {},
   "outputs": [
    {
     "data": {
      "text/plain": [
       "      fun: 2.2763230385740254\n",
       " hess_inv: array([[ 3.86549339, -0.57374336],\n",
       "       [-0.57374336,  0.1148718 ]])\n",
       "      jac: array([ 8.94069672e-08, -3.18884850e-06])\n",
       "  message: 'Optimization terminated successfully.'\n",
       "     nfev: 27\n",
       "      nit: 8\n",
       "     njev: 9\n",
       "   status: 0\n",
       "  success: True\n",
       "        x: array([9.84475891, 2.00599516])"
      ]
     },
     "execution_count": 68,
     "metadata": {},
     "output_type": "execute_result"
    }
   ],
   "source": [
    "sol = opt.minimize(fun = min_sq, x0= beta_ini, args=(x,y))\n",
    "sol"
   ]
  },
  {
   "cell_type": "code",
   "execution_count": 69,
   "metadata": {},
   "outputs": [
    {
     "data": {
      "text/plain": [
       "array([9.84475891, 2.00599516])"
      ]
     },
     "execution_count": 69,
     "metadata": {},
     "output_type": "execute_result"
    }
   ],
   "source": [
    "beta = sol.x\n",
    "beta"
   ]
  },
  {
   "cell_type": "markdown",
   "metadata": {},
   "source": [
    "$$ \\hat{f} = 2.005x + 9.844$$"
   ]
  },
  {
   "cell_type": "code",
   "execution_count": 71,
   "metadata": {},
   "outputs": [
    {
     "data": {
      "image/png": "[encoded data removed]",
      "text/plain": [
       "<Figure size 432x288 with 1 Axes>"
      ]
     },
     "metadata": {
      "needs_background": "light"
     },
     "output_type": "display_data"
    }
   ],
   "source": [
    "# Grafica de los puntos y la recta ajustada\n",
    "# Graficar la recta resultamte que más se ajusta a lso datos\n",
    "#Graficar datos\n",
    "plt.figure(figsize=(6,4))\n",
    "plt.plot(x,y,'^r', label='datos')\n",
    "y_num = beta[0]+beta[1]*x\n",
    "\n",
    "plt.plot(x,y_num, 'b',lw=3, label=f'Recta ajustada: $y=${np.round(beta[0],2)} + {np.round(beta[1],2)}$x$')\n",
    "plt.xlabel('$x$')\n",
    "plt.ylabel('$y$')\n",
    "plt.legend(loc='best')\n",
    "plt.grid()"
   ]
  },
  {
   "cell_type": "markdown",
   "metadata": {},
   "source": [
    "## Ejemplo Usando la librería de sklearn"
   ]
  },
  {
   "cell_type": "markdown",
   "metadata": {},
   "source": [
    "### Ejemplo1:"
   ]
  },
  {
   "cell_type": "code",
   "execution_count": 72,
   "metadata": {},
   "outputs": [],
   "source": [
    "from sklearn.linear_model import LinearRegression\n",
    "from sklearn.metrics import mean_squared_error, r2_score"
   ]
  },
  {
   "cell_type": "code",
   "execution_count": 73,
   "metadata": {},
   "outputs": [
    {
     "data": {
      "text/html": [
       "<div>\n",
       "<style scoped>\n",
       "    .dataframe tbody tr th:only-of-type {\n",
       "        vertical-align: middle;\n",
       "    }\n",
       "\n",
       "    .dataframe tbody tr th {\n",
       "        vertical-align: top;\n",
       "    }\n",
       "\n",
       "    .dataframe thead th {\n",
       "        text-align: right;\n",
       "    }\n",
       "</style>\n",
       "<table border=\"1\" class=\"dataframe\">\n",
       "  <thead>\n",
       "    <tr style=\"text-align: right;\">\n",
       "      <th></th>\n",
       "      <th>population</th>\n",
       "      <th>profit</th>\n",
       "    </tr>\n",
       "  </thead>\n",
       "  <tbody>\n",
       "    <tr>\n",
       "      <th>0</th>\n",
       "      <td>6.1101</td>\n",
       "      <td>17.59200</td>\n",
       "    </tr>\n",
       "    <tr>\n",
       "      <th>1</th>\n",
       "      <td>5.5277</td>\n",
       "      <td>9.13020</td>\n",
       "    </tr>\n",
       "    <tr>\n",
       "      <th>2</th>\n",
       "      <td>8.5186</td>\n",
       "      <td>13.66200</td>\n",
       "    </tr>\n",
       "    <tr>\n",
       "      <th>3</th>\n",
       "      <td>7.0032</td>\n",
       "      <td>11.85400</td>\n",
       "    </tr>\n",
       "    <tr>\n",
       "      <th>4</th>\n",
       "      <td>5.8598</td>\n",
       "      <td>6.82330</td>\n",
       "    </tr>\n",
       "    <tr>\n",
       "      <th>...</th>\n",
       "      <td>...</td>\n",
       "      <td>...</td>\n",
       "    </tr>\n",
       "    <tr>\n",
       "      <th>92</th>\n",
       "      <td>5.8707</td>\n",
       "      <td>7.20290</td>\n",
       "    </tr>\n",
       "    <tr>\n",
       "      <th>93</th>\n",
       "      <td>5.3054</td>\n",
       "      <td>1.98690</td>\n",
       "    </tr>\n",
       "    <tr>\n",
       "      <th>94</th>\n",
       "      <td>8.2934</td>\n",
       "      <td>0.14454</td>\n",
       "    </tr>\n",
       "    <tr>\n",
       "      <th>95</th>\n",
       "      <td>13.3940</td>\n",
       "      <td>9.05510</td>\n",
       "    </tr>\n",
       "    <tr>\n",
       "      <th>96</th>\n",
       "      <td>5.4369</td>\n",
       "      <td>0.61705</td>\n",
       "    </tr>\n",
       "  </tbody>\n",
       "</table>\n",
       "<p>97 rows × 2 columns</p>\n",
       "</div>"
      ],
      "text/plain": [
       "    population    profit\n",
       "0       6.1101  17.59200\n",
       "1       5.5277   9.13020\n",
       "2       8.5186  13.66200\n",
       "3       7.0032  11.85400\n",
       "4       5.8598   6.82330\n",
       "..         ...       ...\n",
       "92      5.8707   7.20290\n",
       "93      5.3054   1.98690\n",
       "94      8.2934   0.14454\n",
       "95     13.3940   9.05510\n",
       "96      5.4369   0.61705\n",
       "\n",
       "[97 rows x 2 columns]"
      ]
     },
     "execution_count": 73,
     "metadata": {},
     "output_type": "execute_result"
    }
   ],
   "source": [
    "data = pd.read_csv('Data/ex1data1.txt', names=['population','profit'])\n",
    "data"
   ]
  },
  {
   "cell_type": "code",
   "execution_count": 74,
   "metadata": {},
   "outputs": [],
   "source": [
    "x = data['population'].values.reshape(-1,1)\n",
    "y = data['profit'].values.reshape(-1,1)"
   ]
  },
  {
   "cell_type": "code",
   "execution_count": 75,
   "metadata": {},
   "outputs": [
    {
     "data": {
      "text/plain": [
       "LinearRegression()"
      ]
     },
     "execution_count": 75,
     "metadata": {},
     "output_type": "execute_result"
    }
   ],
   "source": [
    "model = LinearRegression()\n",
    "model.fit(x,y)"
   ]
  },
  {
   "cell_type": "code",
   "execution_count": 80,
   "metadata": {},
   "outputs": [
    {
     "data": {
      "text/plain": [
       "array([[1.19303364]])"
      ]
     },
     "execution_count": 80,
     "metadata": {},
     "output_type": "execute_result"
    }
   ],
   "source": [
    "b1=model.coef_\n",
    "b1"
   ]
  },
  {
   "cell_type": "markdown",
   "metadata": {},
   "source": [
    "- **model.coef**: Coeficientes que acompañan a la variable independiente $\\beta_1, ..., \\beta_n$"
   ]
  },
  {
   "cell_type": "code",
   "execution_count": 79,
   "metadata": {},
   "outputs": [
    {
     "data": {
      "text/plain": [
       "array([-3.89578088])"
      ]
     },
     "execution_count": 79,
     "metadata": {},
     "output_type": "execute_result"
    }
   ],
   "source": [
    "b0 = model.intercept_\n",
    "b0"
   ]
  },
  {
   "cell_type": "markdown",
   "metadata": {},
   "source": [
    "- **model.intercept_**: Coeficiente de intercepción al eje de las abcisas $\\beta_0$"
   ]
  },
  {
   "cell_type": "code",
   "execution_count": 81,
   "metadata": {},
   "outputs": [
    {
     "data": {
      "text/plain": [
       "[array([-3.89578088]), array([[1.19303364]])]"
      ]
     },
     "execution_count": 81,
     "metadata": {},
     "output_type": "execute_result"
    }
   ],
   "source": [
    "beta=[b0,b1]\n",
    "beta"
   ]
  },
  {
   "cell_type": "markdown",
   "metadata": {},
   "source": [
    "### Modelo obtenido:\n",
    "$$ \\hat{y} = 1.19x -3.895$$"
   ]
  },
  {
   "cell_type": "code",
   "execution_count": 84,
   "metadata": {},
   "outputs": [
    {
     "data": {
      "text/plain": [
       "array([[23.54399294]])"
      ]
     },
     "execution_count": 84,
     "metadata": {},
     "output_type": "execute_result"
    }
   ],
   "source": [
    "model.predict(np.array([23]).reshape(1,-1))"
   ]
  },
  {
   "cell_type": "code",
   "execution_count": null,
   "metadata": {},
   "outputs": [],
   "source": []
  },
  {
   "cell_type": "code",
   "execution_count": null,
   "metadata": {},
   "outputs": [],
   "source": [
    "# Graficar la recta resultamte que más se ajusta a lso datos\n"
   ]
  },
  {
   "cell_type": "markdown",
   "metadata": {},
   "source": [
    "#### ¿Cómo predecir un nuevo elemento?"
   ]
  },
  {
   "cell_type": "code",
   "execution_count": null,
   "metadata": {},
   "outputs": [],
   "source": []
  },
  {
   "cell_type": "markdown",
   "metadata": {},
   "source": [
    "## Ejemplo 2:"
   ]
  },
  {
   "cell_type": "code",
   "execution_count": 85,
   "metadata": {},
   "outputs": [
    {
     "data": {
      "text/html": [
       "<div>\n",
       "<style scoped>\n",
       "    .dataframe tbody tr th:only-of-type {\n",
       "        vertical-align: middle;\n",
       "    }\n",
       "\n",
       "    .dataframe tbody tr th {\n",
       "        vertical-align: top;\n",
       "    }\n",
       "\n",
       "    .dataframe thead th {\n",
       "        text-align: right;\n",
       "    }\n",
       "</style>\n",
       "<table border=\"1\" class=\"dataframe\">\n",
       "  <thead>\n",
       "    <tr style=\"text-align: right;\">\n",
       "      <th></th>\n",
       "      <th>Position</th>\n",
       "      <th>Level</th>\n",
       "      <th>Salary</th>\n",
       "    </tr>\n",
       "  </thead>\n",
       "  <tbody>\n",
       "    <tr>\n",
       "      <th>0</th>\n",
       "      <td>Business Analyst</td>\n",
       "      <td>1</td>\n",
       "      <td>45000</td>\n",
       "    </tr>\n",
       "    <tr>\n",
       "      <th>1</th>\n",
       "      <td>Junior Consultant</td>\n",
       "      <td>2</td>\n",
       "      <td>50000</td>\n",
       "    </tr>\n",
       "    <tr>\n",
       "      <th>2</th>\n",
       "      <td>Senior Consultant</td>\n",
       "      <td>3</td>\n",
       "      <td>60000</td>\n",
       "    </tr>\n",
       "    <tr>\n",
       "      <th>3</th>\n",
       "      <td>Manager</td>\n",
       "      <td>4</td>\n",
       "      <td>80000</td>\n",
       "    </tr>\n",
       "    <tr>\n",
       "      <th>4</th>\n",
       "      <td>Country Manager</td>\n",
       "      <td>5</td>\n",
       "      <td>110000</td>\n",
       "    </tr>\n",
       "    <tr>\n",
       "      <th>5</th>\n",
       "      <td>Region Manager</td>\n",
       "      <td>6</td>\n",
       "      <td>150000</td>\n",
       "    </tr>\n",
       "    <tr>\n",
       "      <th>6</th>\n",
       "      <td>Partner</td>\n",
       "      <td>7</td>\n",
       "      <td>200000</td>\n",
       "    </tr>\n",
       "    <tr>\n",
       "      <th>7</th>\n",
       "      <td>Senior Partner</td>\n",
       "      <td>8</td>\n",
       "      <td>300000</td>\n",
       "    </tr>\n",
       "    <tr>\n",
       "      <th>8</th>\n",
       "      <td>C-level</td>\n",
       "      <td>9</td>\n",
       "      <td>500000</td>\n",
       "    </tr>\n",
       "    <tr>\n",
       "      <th>9</th>\n",
       "      <td>CEO</td>\n",
       "      <td>10</td>\n",
       "      <td>1000000</td>\n",
       "    </tr>\n",
       "  </tbody>\n",
       "</table>\n",
       "</div>"
      ],
      "text/plain": [
       "            Position  Level   Salary\n",
       "0   Business Analyst      1    45000\n",
       "1  Junior Consultant      2    50000\n",
       "2  Senior Consultant      3    60000\n",
       "3            Manager      4    80000\n",
       "4    Country Manager      5   110000\n",
       "5     Region Manager      6   150000\n",
       "6            Partner      7   200000\n",
       "7     Senior Partner      8   300000\n",
       "8            C-level      9   500000\n",
       "9                CEO     10  1000000"
      ]
     },
     "execution_count": 85,
     "metadata": {},
     "output_type": "execute_result"
    }
   ],
   "source": [
    "datos = pd.read_csv('Data/Position_Salaries.csv')\n",
    "datos"
   ]
  },
  {
   "cell_type": "code",
   "execution_count": 86,
   "metadata": {},
   "outputs": [],
   "source": [
    "x= datos['Level'].values.reshape(-1,1)\n",
    "y= datos['Salary'].values.reshape(-1,1)"
   ]
  },
  {
   "cell_type": "code",
   "execution_count": 87,
   "metadata": {},
   "outputs": [
    {
     "data": {
      "image/png": "[encoded data removed]",
      "text/plain": [
       "<Figure size 432x288 with 1 Axes>"
      ]
     },
     "metadata": {
      "needs_background": "light"
     },
     "output_type": "display_data"
    }
   ],
   "source": [
    "#Graficar datos\n",
    "plt.figure(figsize=(6,4))\n",
    "plt.plot(x,y,'^r', label='datos')\n",
    "plt.xlabel('$level$')\n",
    "plt.ylabel('$salary$')\n",
    "plt.legend(loc='best')\n",
    "plt.grid()"
   ]
  },
  {
   "cell_type": "code",
   "execution_count": 91,
   "metadata": {},
   "outputs": [
    {
     "name": "stdout",
     "output_type": "stream",
     "text": [
      "Error cuadrático medio: 26695878787.878788\n",
      "r2_score: 0.6690412331929895\n"
     ]
    },
    {
     "data": {
      "image/png": "[encoded data removed]",
      "text/plain": [
       "<Figure size 432x288 with 1 Axes>"
      ]
     },
     "metadata": {
      "needs_background": "light"
     },
     "output_type": "display_data"
    }
   ],
   "source": [
    "#Aplicar un modelo de regresion lineal \n",
    "#1.- entrnamiento de los datos usando LinearRegression\n",
    "model = LinearRegression()\n",
    "model.fit(x,y)\n",
    "\n",
    "#2.- Valores predecidos de x\n",
    "y_pred = model.predict(x)\n",
    "\n",
    "#3.- Graficar el modelo con los datos\n",
    "plt.figure(figsize=(6,4))\n",
    "plt.plot(x,y,'^r', label='datos')\n",
    "plt.plot(x,y_pred,'b',lw=3, label='modelo ajustado')\n",
    "plt.xlabel('$level$')\n",
    "plt.ylabel('$salary$')\n",
    "plt.legend(loc='best')\n",
    "plt.grid()\n",
    "\n",
    "#4.- obtenomos el error del modelo\n",
    "print(f'Error cuadrático medio: {mean_squared_error(y,y_pred)}')\n",
    "print(f'r2_score: {r2_score(y,y_pred)}')"
   ]
  },
  {
   "cell_type": "markdown",
   "metadata": {},
   "source": [
    "## Regresión Polinomial"
   ]
  },
  {
   "cell_type": "markdown",
   "metadata": {},
   "source": [
    "### Aplicar un modelo polinomial de grado 2"
   ]
  },
  {
   "cell_type": "code",
   "execution_count": null,
   "metadata": {},
   "outputs": [],
   "source": [
    "# y_hat = beta_2*x^2 + beta_1*x + beta_0"
   ]
  },
  {
   "cell_type": "code",
   "execution_count": 92,
   "metadata": {},
   "outputs": [],
   "source": [
    "from sklearn.preprocessing import PolynomialFeatures"
   ]
  },
  {
   "cell_type": "code",
   "execution_count": 101,
   "metadata": {},
   "outputs": [],
   "source": [
    "poly = PolynomialFeatures(degree=3, include_bias=True)\n",
    "x_poly = poly.fit_transform(x)"
   ]
  },
  {
   "cell_type": "code",
   "execution_count": 102,
   "metadata": {},
   "outputs": [
    {
     "data": {
      "text/plain": [
       "array([[ 1],\n",
       "       [ 2],\n",
       "       [ 3],\n",
       "       [ 4],\n",
       "       [ 5],\n",
       "       [ 6],\n",
       "       [ 7],\n",
       "       [ 8],\n",
       "       [ 9],\n",
       "       [10]], dtype=int64)"
      ]
     },
     "execution_count": 102,
     "metadata": {},
     "output_type": "execute_result"
    }
   ],
   "source": [
    "x"
   ]
  },
  {
   "cell_type": "code",
   "execution_count": 103,
   "metadata": {},
   "outputs": [
    {
     "data": {
      "text/plain": [
       "array([[   1.,    1.,    1.,    1.],\n",
       "       [   1.,    2.,    4.,    8.],\n",
       "       [   1.,    3.,    9.,   27.],\n",
       "       [   1.,    4.,   16.,   64.],\n",
       "       [   1.,    5.,   25.,  125.],\n",
       "       [   1.,    6.,   36.,  216.],\n",
       "       [   1.,    7.,   49.,  343.],\n",
       "       [   1.,    8.,   64.,  512.],\n",
       "       [   1.,    9.,   81.,  729.],\n",
       "       [   1.,   10.,  100., 1000.]])"
      ]
     },
     "execution_count": 103,
     "metadata": {},
     "output_type": "execute_result"
    }
   ],
   "source": [
    "x_poly"
   ]
  },
  {
   "cell_type": "code",
   "execution_count": 104,
   "metadata": {},
   "outputs": [],
   "source": [
    "# y_hat = beta_2x^2 + beta_1 x + beta_0"
   ]
  },
  {
   "cell_type": "code",
   "execution_count": 105,
   "metadata": {},
   "outputs": [
    {
     "name": "stdout",
     "output_type": "stream",
     "text": [
      "Error cuadrático medio: 1515662004.6620107\n",
      "r2_score: 0.9812097727913366\n"
     ]
    },
    {
     "data": {
      "image/png": "[encoded data removed]",
      "text/plain": [
       "<Figure size 432x288 with 1 Axes>"
      ]
     },
     "metadata": {
      "needs_background": "light"
     },
     "output_type": "display_data"
    }
   ],
   "source": [
    "#Obtener el modelo polinomial\n",
    "\n",
    "#1.-\n",
    "model = LinearRegression()\n",
    "model.fit(x_poly, y)\n",
    "\n",
    "#2.-\n",
    "y_pred_pol = model.predict(x_poly)\n",
    "\n",
    "#3.- Graficar\n",
    "plt.figure(figsize=(6,4))\n",
    "plt.plot(x,y,'^r', label='datos')\n",
    "plt.plot(x,y_pred,'b',lw=3, label='modelo lineal ajustado ')\n",
    "plt.plot(x,y_pred_pol,'g',lw=3, label='modelo ajustado polinomial')\n",
    "plt.xlabel('$level$')\n",
    "plt.ylabel('$salary$')\n",
    "plt.legend(loc='best')\n",
    "plt.grid()\n",
    "\n",
    "#4.- obtenomos el error del modelo\n",
    "print(f'Error cuadrático medio: {mean_squared_error(y,y_pred_pol)}')\n",
    "print(f'r2_score: {r2_score(y,y_pred_pol)}')"
   ]
  },
  {
   "cell_type": "code",
   "execution_count": null,
   "metadata": {},
   "outputs": [],
   "source": []
  },
  {
   "cell_type": "markdown",
   "metadata": {},
   "source": [
    "## Actividad : Predecir los niveles utilizando un modelo polinomial de grado 3\n",
    "\n",
    "- Crear un modelo polinomial de grado 3\n",
    "- Predecir los siguientes niveles: x_new=[11, 13, 15]\n",
    "- Graficar los salarios de los valores de x_new"
   ]
  },
  {
   "cell_type": "markdown",
   "metadata": {},
   "source": [
    "$$\\hat{y} = \\beta_3 x^3 + \\beta_2 x^2 + \\beta_1 x + \\beta_0$$"
   ]
  },
  {
   "cell_type": "code",
   "execution_count": 106,
   "metadata": {},
   "outputs": [
    {
     "data": {
      "text/plain": [
       "array([[     0.        , 180664.33566432, -48548.95104895,\n",
       "          4120.04662005]])"
      ]
     },
     "execution_count": 106,
     "metadata": {},
     "output_type": "execute_result"
    }
   ],
   "source": [
    "model.coef_"
   ]
  },
  {
   "cell_type": "code",
   "execution_count": 107,
   "metadata": {},
   "outputs": [
    {
     "data": {
      "text/plain": [
       "array([-121333.33333331])"
      ]
     },
     "execution_count": 107,
     "metadata": {},
     "output_type": "execute_result"
    }
   ],
   "source": [
    "model.intercept_"
   ]
  },
  {
   "cell_type": "code",
   "execution_count": 108,
   "metadata": {},
   "outputs": [],
   "source": [
    "b3 = model.coef_[0,3]\n",
    "b2 = model.coef_[0,2]\n",
    "b1 = model.coef_[0,1]\n",
    "b0 = model.intercept_\n"
   ]
  },
  {
   "cell_type": "code",
   "execution_count": 109,
   "metadata": {},
   "outputs": [
    {
     "data": {
      "text/plain": [
       "array([83979.16666666])"
      ]
     },
     "execution_count": 109,
     "metadata": {},
     "output_type": "execute_result"
    }
   ],
   "source": [
    "x_new=4.5\n",
    "y_new_pred = b3*x_new**3 + b2*x_new**2 + b1*x_new + b0\n",
    "y_new_pred"
   ]
  },
  {
   "cell_type": "code",
   "execution_count": 113,
   "metadata": {},
   "outputs": [
    {
     "data": {
      "text/plain": [
       "array([[ 1.   ,  4.5  , 20.25 , 91.125]])"
      ]
     },
     "execution_count": 113,
     "metadata": {},
     "output_type": "execute_result"
    }
   ],
   "source": [
    "x_new = np.array([[4.5]])\n",
    "x_new_poly = poly.fit_transform(x_new)\n",
    "x_new_poly"
   ]
  },
  {
   "cell_type": "code",
   "execution_count": 114,
   "metadata": {},
   "outputs": [
    {
     "data": {
      "text/plain": [
       "array([[83979.16666667]])"
      ]
     },
     "execution_count": 114,
     "metadata": {},
     "output_type": "execute_result"
    }
   ],
   "source": [
    "model.predict(x_new_poly)"
   ]
  },
  {
   "cell_type": "code",
   "execution_count": 115,
   "metadata": {},
   "outputs": [
    {
     "data": {
      "text/plain": [
       "array([[1.0000e+00, 4.5000e+00, 2.0250e+01, 9.1125e+01],\n",
       "       [1.0000e+00, 2.5000e+00, 6.2500e+00, 1.5625e+01],\n",
       "       [1.0000e+00, 1.1000e+01, 1.2100e+02, 1.3310e+03],\n",
       "       [1.0000e+00, 1.5000e+01, 2.2500e+02, 3.3750e+03]])"
      ]
     },
     "execution_count": 115,
     "metadata": {},
     "output_type": "execute_result"
    }
   ],
   "source": [
    "x_new = np.array([[4.5],[2.5],[11],[15]])\n",
    "x_new_poly = poly.fit_transform(x_new)\n",
    "x_new_poly"
   ]
  },
  {
   "cell_type": "code",
   "execution_count": 116,
   "metadata": {},
   "outputs": [
    {
     "data": {
      "text/plain": [
       "array([[  83979.16666667],\n",
       "       [  91272.29020979],\n",
       "       [1475333.33333331],\n",
       "       [5570275.05827491]])"
      ]
     },
     "execution_count": 116,
     "metadata": {},
     "output_type": "execute_result"
    }
   ],
   "source": [
    "model.predict(x_new_poly)"
   ]
  },
  {
   "cell_type": "markdown",
   "metadata": {},
   "source": [
    "## Regresión Lineal Multiple"
   ]
  },
  {
   "cell_type": "markdown",
   "metadata": {},
   "source": [
    "## Ejemplo"
   ]
  },
  {
   "cell_type": "code",
   "execution_count": 118,
   "metadata": {},
   "outputs": [
    {
     "data": {
      "text/html": [
       "<div>\n",
       "<style scoped>\n",
       "    .dataframe tbody tr th:only-of-type {\n",
       "        vertical-align: middle;\n",
       "    }\n",
       "\n",
       "    .dataframe tbody tr th {\n",
       "        vertical-align: top;\n",
       "    }\n",
       "\n",
       "    .dataframe thead th {\n",
       "        text-align: right;\n",
       "    }\n",
       "</style>\n",
       "<table border=\"1\" class=\"dataframe\">\n",
       "  <thead>\n",
       "    <tr style=\"text-align: right;\">\n",
       "      <th></th>\n",
       "      <th>R&amp;D Spend</th>\n",
       "      <th>Administration</th>\n",
       "      <th>Marketing Spend</th>\n",
       "      <th>State</th>\n",
       "      <th>Profit</th>\n",
       "    </tr>\n",
       "  </thead>\n",
       "  <tbody>\n",
       "    <tr>\n",
       "      <th>0</th>\n",
       "      <td>165349.20</td>\n",
       "      <td>136897.80</td>\n",
       "      <td>471784.10</td>\n",
       "      <td>New York</td>\n",
       "      <td>192261.83</td>\n",
       "    </tr>\n",
       "    <tr>\n",
       "      <th>1</th>\n",
       "      <td>162597.70</td>\n",
       "      <td>151377.59</td>\n",
       "      <td>443898.53</td>\n",
       "      <td>California</td>\n",
       "      <td>191792.06</td>\n",
       "    </tr>\n",
       "    <tr>\n",
       "      <th>2</th>\n",
       "      <td>153441.51</td>\n",
       "      <td>101145.55</td>\n",
       "      <td>407934.54</td>\n",
       "      <td>Florida</td>\n",
       "      <td>191050.39</td>\n",
       "    </tr>\n",
       "    <tr>\n",
       "      <th>3</th>\n",
       "      <td>144372.41</td>\n",
       "      <td>118671.85</td>\n",
       "      <td>383199.62</td>\n",
       "      <td>New York</td>\n",
       "      <td>182901.99</td>\n",
       "    </tr>\n",
       "    <tr>\n",
       "      <th>4</th>\n",
       "      <td>142107.34</td>\n",
       "      <td>91391.77</td>\n",
       "      <td>366168.42</td>\n",
       "      <td>Florida</td>\n",
       "      <td>166187.94</td>\n",
       "    </tr>\n",
       "    <tr>\n",
       "      <th>5</th>\n",
       "      <td>131876.90</td>\n",
       "      <td>99814.71</td>\n",
       "      <td>362861.36</td>\n",
       "      <td>New York</td>\n",
       "      <td>156991.12</td>\n",
       "    </tr>\n",
       "    <tr>\n",
       "      <th>6</th>\n",
       "      <td>134615.46</td>\n",
       "      <td>147198.87</td>\n",
       "      <td>127716.82</td>\n",
       "      <td>California</td>\n",
       "      <td>156122.51</td>\n",
       "    </tr>\n",
       "    <tr>\n",
       "      <th>7</th>\n",
       "      <td>130298.13</td>\n",
       "      <td>145530.06</td>\n",
       "      <td>323876.68</td>\n",
       "      <td>Florida</td>\n",
       "      <td>155752.60</td>\n",
       "    </tr>\n",
       "    <tr>\n",
       "      <th>8</th>\n",
       "      <td>120542.52</td>\n",
       "      <td>148718.95</td>\n",
       "      <td>311613.29</td>\n",
       "      <td>New York</td>\n",
       "      <td>152211.77</td>\n",
       "    </tr>\n",
       "    <tr>\n",
       "      <th>9</th>\n",
       "      <td>123334.88</td>\n",
       "      <td>108679.17</td>\n",
       "      <td>304981.62</td>\n",
       "      <td>California</td>\n",
       "      <td>149759.96</td>\n",
       "    </tr>\n",
       "    <tr>\n",
       "      <th>10</th>\n",
       "      <td>101913.08</td>\n",
       "      <td>110594.11</td>\n",
       "      <td>229160.95</td>\n",
       "      <td>Florida</td>\n",
       "      <td>146121.95</td>\n",
       "    </tr>\n",
       "    <tr>\n",
       "      <th>11</th>\n",
       "      <td>100671.96</td>\n",
       "      <td>91790.61</td>\n",
       "      <td>249744.55</td>\n",
       "      <td>California</td>\n",
       "      <td>144259.40</td>\n",
       "    </tr>\n",
       "    <tr>\n",
       "      <th>12</th>\n",
       "      <td>93863.75</td>\n",
       "      <td>127320.38</td>\n",
       "      <td>249839.44</td>\n",
       "      <td>Florida</td>\n",
       "      <td>141585.52</td>\n",
       "    </tr>\n",
       "    <tr>\n",
       "      <th>13</th>\n",
       "      <td>91992.39</td>\n",
       "      <td>135495.07</td>\n",
       "      <td>252664.93</td>\n",
       "      <td>California</td>\n",
       "      <td>134307.35</td>\n",
       "    </tr>\n",
       "    <tr>\n",
       "      <th>14</th>\n",
       "      <td>119943.24</td>\n",
       "      <td>156547.42</td>\n",
       "      <td>256512.92</td>\n",
       "      <td>Florida</td>\n",
       "      <td>132602.65</td>\n",
       "    </tr>\n",
       "    <tr>\n",
       "      <th>15</th>\n",
       "      <td>114523.61</td>\n",
       "      <td>122616.84</td>\n",
       "      <td>261776.23</td>\n",
       "      <td>New York</td>\n",
       "      <td>129917.04</td>\n",
       "    </tr>\n",
       "    <tr>\n",
       "      <th>16</th>\n",
       "      <td>78013.11</td>\n",
       "      <td>121597.55</td>\n",
       "      <td>264346.06</td>\n",
       "      <td>California</td>\n",
       "      <td>126992.93</td>\n",
       "    </tr>\n",
       "    <tr>\n",
       "      <th>17</th>\n",
       "      <td>94657.16</td>\n",
       "      <td>145077.58</td>\n",
       "      <td>282574.31</td>\n",
       "      <td>New York</td>\n",
       "      <td>125370.37</td>\n",
       "    </tr>\n",
       "    <tr>\n",
       "      <th>18</th>\n",
       "      <td>91749.16</td>\n",
       "      <td>114175.79</td>\n",
       "      <td>294919.57</td>\n",
       "      <td>Florida</td>\n",
       "      <td>124266.90</td>\n",
       "    </tr>\n",
       "    <tr>\n",
       "      <th>19</th>\n",
       "      <td>86419.70</td>\n",
       "      <td>153514.11</td>\n",
       "      <td>0.00</td>\n",
       "      <td>New York</td>\n",
       "      <td>122776.86</td>\n",
       "    </tr>\n",
       "    <tr>\n",
       "      <th>20</th>\n",
       "      <td>76253.86</td>\n",
       "      <td>113867.30</td>\n",
       "      <td>298664.47</td>\n",
       "      <td>California</td>\n",
       "      <td>118474.03</td>\n",
       "    </tr>\n",
       "    <tr>\n",
       "      <th>21</th>\n",
       "      <td>78389.47</td>\n",
       "      <td>153773.43</td>\n",
       "      <td>299737.29</td>\n",
       "      <td>New York</td>\n",
       "      <td>111313.02</td>\n",
       "    </tr>\n",
       "    <tr>\n",
       "      <th>22</th>\n",
       "      <td>73994.56</td>\n",
       "      <td>122782.75</td>\n",
       "      <td>303319.26</td>\n",
       "      <td>Florida</td>\n",
       "      <td>110352.25</td>\n",
       "    </tr>\n",
       "    <tr>\n",
       "      <th>23</th>\n",
       "      <td>67532.53</td>\n",
       "      <td>105751.03</td>\n",
       "      <td>304768.73</td>\n",
       "      <td>Florida</td>\n",
       "      <td>108733.99</td>\n",
       "    </tr>\n",
       "    <tr>\n",
       "      <th>24</th>\n",
       "      <td>77044.01</td>\n",
       "      <td>99281.34</td>\n",
       "      <td>140574.81</td>\n",
       "      <td>New York</td>\n",
       "      <td>108552.04</td>\n",
       "    </tr>\n",
       "    <tr>\n",
       "      <th>25</th>\n",
       "      <td>64664.71</td>\n",
       "      <td>139553.16</td>\n",
       "      <td>137962.62</td>\n",
       "      <td>California</td>\n",
       "      <td>107404.34</td>\n",
       "    </tr>\n",
       "    <tr>\n",
       "      <th>26</th>\n",
       "      <td>75328.87</td>\n",
       "      <td>144135.98</td>\n",
       "      <td>134050.07</td>\n",
       "      <td>Florida</td>\n",
       "      <td>105733.54</td>\n",
       "    </tr>\n",
       "    <tr>\n",
       "      <th>27</th>\n",
       "      <td>72107.60</td>\n",
       "      <td>127864.55</td>\n",
       "      <td>353183.81</td>\n",
       "      <td>New York</td>\n",
       "      <td>105008.31</td>\n",
       "    </tr>\n",
       "    <tr>\n",
       "      <th>28</th>\n",
       "      <td>66051.52</td>\n",
       "      <td>182645.56</td>\n",
       "      <td>118148.20</td>\n",
       "      <td>Florida</td>\n",
       "      <td>103282.38</td>\n",
       "    </tr>\n",
       "    <tr>\n",
       "      <th>29</th>\n",
       "      <td>65605.48</td>\n",
       "      <td>153032.06</td>\n",
       "      <td>107138.38</td>\n",
       "      <td>New York</td>\n",
       "      <td>101004.64</td>\n",
       "    </tr>\n",
       "    <tr>\n",
       "      <th>30</th>\n",
       "      <td>61994.48</td>\n",
       "      <td>115641.28</td>\n",
       "      <td>91131.24</td>\n",
       "      <td>Florida</td>\n",
       "      <td>99937.59</td>\n",
       "    </tr>\n",
       "    <tr>\n",
       "      <th>31</th>\n",
       "      <td>61136.38</td>\n",
       "      <td>152701.92</td>\n",
       "      <td>88218.23</td>\n",
       "      <td>New York</td>\n",
       "      <td>97483.56</td>\n",
       "    </tr>\n",
       "    <tr>\n",
       "      <th>32</th>\n",
       "      <td>63408.86</td>\n",
       "      <td>129219.61</td>\n",
       "      <td>46085.25</td>\n",
       "      <td>California</td>\n",
       "      <td>97427.84</td>\n",
       "    </tr>\n",
       "    <tr>\n",
       "      <th>33</th>\n",
       "      <td>55493.95</td>\n",
       "      <td>103057.49</td>\n",
       "      <td>214634.81</td>\n",
       "      <td>Florida</td>\n",
       "      <td>96778.92</td>\n",
       "    </tr>\n",
       "    <tr>\n",
       "      <th>34</th>\n",
       "      <td>46426.07</td>\n",
       "      <td>157693.92</td>\n",
       "      <td>210797.67</td>\n",
       "      <td>California</td>\n",
       "      <td>96712.80</td>\n",
       "    </tr>\n",
       "    <tr>\n",
       "      <th>35</th>\n",
       "      <td>46014.02</td>\n",
       "      <td>85047.44</td>\n",
       "      <td>205517.64</td>\n",
       "      <td>New York</td>\n",
       "      <td>96479.51</td>\n",
       "    </tr>\n",
       "    <tr>\n",
       "      <th>36</th>\n",
       "      <td>28663.76</td>\n",
       "      <td>127056.21</td>\n",
       "      <td>201126.82</td>\n",
       "      <td>Florida</td>\n",
       "      <td>90708.19</td>\n",
       "    </tr>\n",
       "    <tr>\n",
       "      <th>37</th>\n",
       "      <td>44069.95</td>\n",
       "      <td>51283.14</td>\n",
       "      <td>197029.42</td>\n",
       "      <td>California</td>\n",
       "      <td>89949.14</td>\n",
       "    </tr>\n",
       "    <tr>\n",
       "      <th>38</th>\n",
       "      <td>20229.59</td>\n",
       "      <td>65947.93</td>\n",
       "      <td>185265.10</td>\n",
       "      <td>New York</td>\n",
       "      <td>81229.06</td>\n",
       "    </tr>\n",
       "    <tr>\n",
       "      <th>39</th>\n",
       "      <td>38558.51</td>\n",
       "      <td>82982.09</td>\n",
       "      <td>174999.30</td>\n",
       "      <td>California</td>\n",
       "      <td>81005.76</td>\n",
       "    </tr>\n",
       "    <tr>\n",
       "      <th>40</th>\n",
       "      <td>28754.33</td>\n",
       "      <td>118546.05</td>\n",
       "      <td>172795.67</td>\n",
       "      <td>California</td>\n",
       "      <td>78239.91</td>\n",
       "    </tr>\n",
       "    <tr>\n",
       "      <th>41</th>\n",
       "      <td>27892.92</td>\n",
       "      <td>84710.77</td>\n",
       "      <td>164470.71</td>\n",
       "      <td>Florida</td>\n",
       "      <td>77798.83</td>\n",
       "    </tr>\n",
       "    <tr>\n",
       "      <th>42</th>\n",
       "      <td>23640.93</td>\n",
       "      <td>96189.63</td>\n",
       "      <td>148001.11</td>\n",
       "      <td>California</td>\n",
       "      <td>71498.49</td>\n",
       "    </tr>\n",
       "    <tr>\n",
       "      <th>43</th>\n",
       "      <td>15505.73</td>\n",
       "      <td>127382.30</td>\n",
       "      <td>35534.17</td>\n",
       "      <td>New York</td>\n",
       "      <td>69758.98</td>\n",
       "    </tr>\n",
       "    <tr>\n",
       "      <th>44</th>\n",
       "      <td>22177.74</td>\n",
       "      <td>154806.14</td>\n",
       "      <td>28334.72</td>\n",
       "      <td>California</td>\n",
       "      <td>65200.33</td>\n",
       "    </tr>\n",
       "    <tr>\n",
       "      <th>45</th>\n",
       "      <td>1000.23</td>\n",
       "      <td>124153.04</td>\n",
       "      <td>1903.93</td>\n",
       "      <td>New York</td>\n",
       "      <td>64926.08</td>\n",
       "    </tr>\n",
       "    <tr>\n",
       "      <th>46</th>\n",
       "      <td>1315.46</td>\n",
       "      <td>115816.21</td>\n",
       "      <td>297114.46</td>\n",
       "      <td>Florida</td>\n",
       "      <td>49490.75</td>\n",
       "    </tr>\n",
       "    <tr>\n",
       "      <th>47</th>\n",
       "      <td>0.00</td>\n",
       "      <td>135426.92</td>\n",
       "      <td>0.00</td>\n",
       "      <td>California</td>\n",
       "      <td>42559.73</td>\n",
       "    </tr>\n",
       "    <tr>\n",
       "      <th>48</th>\n",
       "      <td>542.05</td>\n",
       "      <td>51743.15</td>\n",
       "      <td>0.00</td>\n",
       "      <td>New York</td>\n",
       "      <td>35673.41</td>\n",
       "    </tr>\n",
       "    <tr>\n",
       "      <th>49</th>\n",
       "      <td>0.00</td>\n",
       "      <td>116983.80</td>\n",
       "      <td>45173.06</td>\n",
       "      <td>California</td>\n",
       "      <td>14681.40</td>\n",
       "    </tr>\n",
       "  </tbody>\n",
       "</table>\n",
       "</div>"
      ],
      "text/plain": [
       "    R&D Spend  Administration  Marketing Spend       State     Profit\n",
       "0   165349.20       136897.80        471784.10    New York  192261.83\n",
       "1   162597.70       151377.59        443898.53  California  191792.06\n",
       "2   153441.51       101145.55        407934.54     Florida  191050.39\n",
       "3   144372.41       118671.85        383199.62    New York  182901.99\n",
       "4   142107.34        91391.77        366168.42     Florida  166187.94\n",
       "5   131876.90        99814.71        362861.36    New York  156991.12\n",
       "6   134615.46       147198.87        127716.82  California  156122.51\n",
       "7   130298.13       145530.06        323876.68     Florida  155752.60\n",
       "8   120542.52       148718.95        311613.29    New York  152211.77\n",
       "9   123334.88       108679.17        304981.62  California  149759.96\n",
       "10  101913.08       110594.11        229160.95     Florida  146121.95\n",
       "11  100671.96        91790.61        249744.55  California  144259.40\n",
       "12   93863.75       127320.38        249839.44     Florida  141585.52\n",
       "13   91992.39       135495.07        252664.93  California  134307.35\n",
       "14  119943.24       156547.42        256512.92     Florida  132602.65\n",
       "15  114523.61       122616.84        261776.23    New York  129917.04\n",
       "16   78013.11       121597.55        264346.06  California  126992.93\n",
       "17   94657.16       145077.58        282574.31    New York  125370.37\n",
       "18   91749.16       114175.79        294919.57     Florida  124266.90\n",
       "19   86419.70       153514.11             0.00    New York  122776.86\n",
       "20   76253.86       113867.30        298664.47  California  118474.03\n",
       "21   78389.47       153773.43        299737.29    New York  111313.02\n",
       "22   73994.56       122782.75        303319.26     Florida  110352.25\n",
       "23   67532.53       105751.03        304768.73     Florida  108733.99\n",
       "24   77044.01        99281.34        140574.81    New York  108552.04\n",
       "25   64664.71       139553.16        137962.62  California  107404.34\n",
       "26   75328.87       144135.98        134050.07     Florida  105733.54\n",
       "27   72107.60       127864.55        353183.81    New York  105008.31\n",
       "28   66051.52       182645.56        118148.20     Florida  103282.38\n",
       "29   65605.48       153032.06        107138.38    New York  101004.64\n",
       "30   61994.48       115641.28         91131.24     Florida   99937.59\n",
       "31   61136.38       152701.92         88218.23    New York   97483.56\n",
       "32   63408.86       129219.61         46085.25  California   97427.84\n",
       "33   55493.95       103057.49        214634.81     Florida   96778.92\n",
       "34   46426.07       157693.92        210797.67  California   96712.80\n",
       "35   46014.02        85047.44        205517.64    New York   96479.51\n",
       "36   28663.76       127056.21        201126.82     Florida   90708.19\n",
       "37   44069.95        51283.14        197029.42  California   89949.14\n",
       "38   20229.59        65947.93        185265.10    New York   81229.06\n",
       "39   38558.51        82982.09        174999.30  California   81005.76\n",
       "40   28754.33       118546.05        172795.67  California   78239.91\n",
       "41   27892.92        84710.77        164470.71     Florida   77798.83\n",
       "42   23640.93        96189.63        148001.11  California   71498.49\n",
       "43   15505.73       127382.30         35534.17    New York   69758.98\n",
       "44   22177.74       154806.14         28334.72  California   65200.33\n",
       "45    1000.23       124153.04          1903.93    New York   64926.08\n",
       "46    1315.46       115816.21        297114.46     Florida   49490.75\n",
       "47       0.00       135426.92             0.00  California   42559.73\n",
       "48     542.05        51743.15             0.00    New York   35673.41\n",
       "49       0.00       116983.80         45173.06  California   14681.40"
      ]
     },
     "execution_count": 118,
     "metadata": {},
     "output_type": "execute_result"
    }
   ],
   "source": [
    "dataset = pd.read_csv('Data/50_startups.csv')\n",
    "dataset"
   ]
  },
  {
   "cell_type": "code",
   "execution_count": 121,
   "metadata": {},
   "outputs": [],
   "source": [
    "#definir las variables dependientes e independientes\n",
    "X = dataset.iloc[:,:-1].values\n",
    "y = dataset.iloc[:,-1].values"
   ]
  },
  {
   "cell_type": "code",
   "execution_count": 122,
   "metadata": {},
   "outputs": [
    {
     "data": {
      "text/plain": [
       "array([[165349.2, 136897.8, 471784.1, 'New York'],\n",
       "       [162597.7, 151377.59, 443898.53, 'California'],\n",
       "       [153441.51, 101145.55, 407934.54, 'Florida'],\n",
       "       [144372.41, 118671.85, 383199.62, 'New York'],\n",
       "       [142107.34, 91391.77, 366168.42, 'Florida'],\n",
       "       [131876.9, 99814.71, 362861.36, 'New York'],\n",
       "       [134615.46, 147198.87, 127716.82, 'California'],\n",
       "       [130298.13, 145530.06, 323876.68, 'Florida'],\n",
       "       [120542.52, 148718.95, 311613.29, 'New York'],\n",
       "       [123334.88, 108679.17, 304981.62, 'California'],\n",
       "       [101913.08, 110594.11, 229160.95, 'Florida'],\n",
       "       [100671.96, 91790.61, 249744.55, 'California'],\n",
       "       [93863.75, 127320.38, 249839.44, 'Florida'],\n",
       "       [91992.39, 135495.07, 252664.93, 'California'],\n",
       "       [119943.24, 156547.42, 256512.92, 'Florida'],\n",
       "       [114523.61, 122616.84, 261776.23, 'New York'],\n",
       "       [78013.11, 121597.55, 264346.06, 'California'],\n",
       "       [94657.16, 145077.58, 282574.31, 'New York'],\n",
       "       [91749.16, 114175.79, 294919.57, 'Florida'],\n",
       "       [86419.7, 153514.11, 0.0, 'New York'],\n",
       "       [76253.86, 113867.3, 298664.47, 'California'],\n",
       "       [78389.47, 153773.43, 299737.29, 'New York'],\n",
       "       [73994.56, 122782.75, 303319.26, 'Florida'],\n",
       "       [67532.53, 105751.03, 304768.73, 'Florida'],\n",
       "       [77044.01, 99281.34, 140574.81, 'New York'],\n",
       "       [64664.71, 139553.16, 137962.62, 'California'],\n",
       "       [75328.87, 144135.98, 134050.07, 'Florida'],\n",
       "       [72107.6, 127864.55, 353183.81, 'New York'],\n",
       "       [66051.52, 182645.56, 118148.2, 'Florida'],\n",
       "       [65605.48, 153032.06, 107138.38, 'New York'],\n",
       "       [61994.48, 115641.28, 91131.24, 'Florida'],\n",
       "       [61136.38, 152701.92, 88218.23, 'New York'],\n",
       "       [63408.86, 129219.61, 46085.25, 'California'],\n",
       "       [55493.95, 103057.49, 214634.81, 'Florida'],\n",
       "       [46426.07, 157693.92, 210797.67, 'California'],\n",
       "       [46014.02, 85047.44, 205517.64, 'New York'],\n",
       "       [28663.76, 127056.21, 201126.82, 'Florida'],\n",
       "       [44069.95, 51283.14, 197029.42, 'California'],\n",
       "       [20229.59, 65947.93, 185265.1, 'New York'],\n",
       "       [38558.51, 82982.09, 174999.3, 'California'],\n",
       "       [28754.33, 118546.05, 172795.67, 'California'],\n",
       "       [27892.92, 84710.77, 164470.71, 'Florida'],\n",
       "       [23640.93, 96189.63, 148001.11, 'California'],\n",
       "       [15505.73, 127382.3, 35534.17, 'New York'],\n",
       "       [22177.74, 154806.14, 28334.72, 'California'],\n",
       "       [1000.23, 124153.04, 1903.93, 'New York'],\n",
       "       [1315.46, 115816.21, 297114.46, 'Florida'],\n",
       "       [0.0, 135426.92, 0.0, 'California'],\n",
       "       [542.05, 51743.15, 0.0, 'New York'],\n",
       "       [0.0, 116983.8, 45173.06, 'California']], dtype=object)"
      ]
     },
     "execution_count": 122,
     "metadata": {},
     "output_type": "execute_result"
    }
   ],
   "source": [
    "X"
   ]
  },
  {
   "cell_type": "code",
   "execution_count": 124,
   "metadata": {},
   "outputs": [],
   "source": [
    "from sklearn.compose import ColumnTransformer\n",
    "from sklearn.preprocessing import OneHotEncoder\n"
   ]
  },
  {
   "cell_type": "code",
   "execution_count": 127,
   "metadata": {},
   "outputs": [
    {
     "data": {
      "text/plain": [
       "array([[0.0, 0.0, 1.0, 165349.2, 136897.8, 471784.1],\n",
       "       [1.0, 0.0, 0.0, 162597.7, 151377.59, 443898.53],\n",
       "       [0.0, 1.0, 0.0, 153441.51, 101145.55, 407934.54],\n",
       "       [0.0, 0.0, 1.0, 144372.41, 118671.85, 383199.62],\n",
       "       [0.0, 1.0, 0.0, 142107.34, 91391.77, 366168.42],\n",
       "       [0.0, 0.0, 1.0, 131876.9, 99814.71, 362861.36],\n",
       "       [1.0, 0.0, 0.0, 134615.46, 147198.87, 127716.82],\n",
       "       [0.0, 1.0, 0.0, 130298.13, 145530.06, 323876.68],\n",
       "       [0.0, 0.0, 1.0, 120542.52, 148718.95, 311613.29],\n",
       "       [1.0, 0.0, 0.0, 123334.88, 108679.17, 304981.62],\n",
       "       [0.0, 1.0, 0.0, 101913.08, 110594.11, 229160.95],\n",
       "       [1.0, 0.0, 0.0, 100671.96, 91790.61, 249744.55],\n",
       "       [0.0, 1.0, 0.0, 93863.75, 127320.38, 249839.44],\n",
       "       [1.0, 0.0, 0.0, 91992.39, 135495.07, 252664.93],\n",
       "       [0.0, 1.0, 0.0, 119943.24, 156547.42, 256512.92],\n",
       "       [0.0, 0.0, 1.0, 114523.61, 122616.84, 261776.23],\n",
       "       [1.0, 0.0, 0.0, 78013.11, 121597.55, 264346.06],\n",
       "       [0.0, 0.0, 1.0, 94657.16, 145077.58, 282574.31],\n",
       "       [0.0, 1.0, 0.0, 91749.16, 114175.79, 294919.57],\n",
       "       [0.0, 0.0, 1.0, 86419.7, 153514.11, 0.0],\n",
       "       [1.0, 0.0, 0.0, 76253.86, 113867.3, 298664.47],\n",
       "       [0.0, 0.0, 1.0, 78389.47, 153773.43, 299737.29],\n",
       "       [0.0, 1.0, 0.0, 73994.56, 122782.75, 303319.26],\n",
       "       [0.0, 1.0, 0.0, 67532.53, 105751.03, 304768.73],\n",
       "       [0.0, 0.0, 1.0, 77044.01, 99281.34, 140574.81],\n",
       "       [1.0, 0.0, 0.0, 64664.71, 139553.16, 137962.62],\n",
       "       [0.0, 1.0, 0.0, 75328.87, 144135.98, 134050.07],\n",
       "       [0.0, 0.0, 1.0, 72107.6, 127864.55, 353183.81],\n",
       "       [0.0, 1.0, 0.0, 66051.52, 182645.56, 118148.2],\n",
       "       [0.0, 0.0, 1.0, 65605.48, 153032.06, 107138.38],\n",
       "       [0.0, 1.0, 0.0, 61994.48, 115641.28, 91131.24],\n",
       "       [0.0, 0.0, 1.0, 61136.38, 152701.92, 88218.23],\n",
       "       [1.0, 0.0, 0.0, 63408.86, 129219.61, 46085.25],\n",
       "       [0.0, 1.0, 0.0, 55493.95, 103057.49, 214634.81],\n",
       "       [1.0, 0.0, 0.0, 46426.07, 157693.92, 210797.67],\n",
       "       [0.0, 0.0, 1.0, 46014.02, 85047.44, 205517.64],\n",
       "       [0.0, 1.0, 0.0, 28663.76, 127056.21, 201126.82],\n",
       "       [1.0, 0.0, 0.0, 44069.95, 51283.14, 197029.42],\n",
       "       [0.0, 0.0, 1.0, 20229.59, 65947.93, 185265.1],\n",
       "       [1.0, 0.0, 0.0, 38558.51, 82982.09, 174999.3],\n",
       "       [1.0, 0.0, 0.0, 28754.33, 118546.05, 172795.67],\n",
       "       [0.0, 1.0, 0.0, 27892.92, 84710.77, 164470.71],\n",
       "       [1.0, 0.0, 0.0, 23640.93, 96189.63, 148001.11],\n",
       "       [0.0, 0.0, 1.0, 15505.73, 127382.3, 35534.17],\n",
       "       [1.0, 0.0, 0.0, 22177.74, 154806.14, 28334.72],\n",
       "       [0.0, 0.0, 1.0, 1000.23, 124153.04, 1903.93],\n",
       "       [0.0, 1.0, 0.0, 1315.46, 115816.21, 297114.46],\n",
       "       [1.0, 0.0, 0.0, 0.0, 135426.92, 0.0],\n",
       "       [0.0, 0.0, 1.0, 542.05, 51743.15, 0.0],\n",
       "       [1.0, 0.0, 0.0, 0.0, 116983.8, 45173.06]], dtype=object)"
      ]
     },
     "execution_count": 127,
     "metadata": {},
     "output_type": "execute_result"
    }
   ],
   "source": [
    "ct = ColumnTransformer(transformers= [('encoder', OneHotEncoder(),[3])], remainder = 'passthrough')\n",
    "X = np.array(ct.fit_transform(X))\n",
    "X"
   ]
  },
  {
   "cell_type": "code",
   "execution_count": 129,
   "metadata": {},
   "outputs": [],
   "source": [
    "#construir el modelo de regresion multiple\n",
    "from sklearn.linear_model import LinearRegression"
   ]
  },
  {
   "cell_type": "code",
   "execution_count": 130,
   "metadata": {},
   "outputs": [
    {
     "data": {
      "text/plain": [
       "LinearRegression()"
      ]
     },
     "execution_count": 130,
     "metadata": {},
     "output_type": "execute_result"
    }
   ],
   "source": [
    "modelo_mult = LinearRegression()\n",
    "modelo_mult.fit(X, y)\n"
   ]
  },
  {
   "cell_type": "code",
   "execution_count": 132,
   "metadata": {},
   "outputs": [
    {
     "data": {
      "text/plain": [
       "array([192390.57136321, 189071.32010493, 182276.18673285, 173584.97618976,\n",
       "       172277.13381668, 163473.80711842, 158099.29278418, 160155.64464938,\n",
       "       151634.74332631, 154829.66252709, 135664.64259064, 135528.60078161,\n",
       "       129282.91780691, 127431.24898632, 149694.38277549, 146143.63551379,\n",
       "       116854.0745287 , 130085.40993358, 129149.72574274, 115594.18840731,\n",
       "       116570.73444001, 117201.50508973, 114833.30513843, 110123.79610587,\n",
       "       113294.37345155, 102200.26891867, 110765.30116879, 114279.8040301 ,\n",
       "       101818.5873869 , 101721.0420294 ,  99629.0105373 ,  97617.2963202 ,\n",
       "        98988.23660304,  98061.35894838,  88974.70416293,  90420.0096061 ,\n",
       "        75423.09286559,  89577.70222197,  69606.52160904,  83684.97603991,\n",
       "        74762.74617647,  74956.31104908,  70575.99371382,  60100.2682187 ,\n",
       "        64585.14721291,  47588.36470993,  56272.99268495,  46468.23200484,\n",
       "        49123.07308287,  48185.03879259])"
      ]
     },
     "execution_count": 132,
     "metadata": {},
     "output_type": "execute_result"
    }
   ],
   "source": [
    "y_pred = modelo_mult.predict(X)\n",
    "y_pred"
   ]
  },
  {
   "cell_type": "code",
   "execution_count": 133,
   "metadata": {},
   "outputs": [
    {
     "name": "stdout",
     "output_type": "stream",
     "text": [
      "r2_score: 0.9507524843355148\n"
     ]
    }
   ],
   "source": [
    "print(f'r2_score: {r2_score(y,y_pred)}')"
   ]
  },
  {
   "cell_type": "code",
   "execution_count": 134,
   "metadata": {},
   "outputs": [
    {
     "data": {
      "text/plain": [
       "Index(['R&D Spend', 'Administration', 'Marketing Spend', 'State', 'Profit'], dtype='object')"
      ]
     },
     "execution_count": 134,
     "metadata": {},
     "output_type": "execute_result"
    }
   ],
   "source": [
    "dataset.columns"
   ]
  },
  {
   "cell_type": "code",
   "execution_count": 138,
   "metadata": {},
   "outputs": [
    {
     "data": {
      "text/plain": [
       "<mpl_toolkits.mplot3d.art3d.Path3DCollection at 0x22bba5d5a30>"
      ]
     },
     "execution_count": 138,
     "metadata": {},
     "output_type": "execute_result"
    },
    {
     "data": {
      "image/png": "[encoded data removed]",
      "text/plain": [
       "<Figure size 720x504 with 1 Axes>"
      ]
     },
     "metadata": {
      "needs_background": "light"
     },
     "output_type": "display_data"
    }
   ],
   "source": [
    "#elegir variables para graficar\n",
    "fig = plt.figure(figsize=(10,7))\n",
    "ax = plt.axes(projection='3d')\n",
    "\n",
    "ax.scatter3D(dataset['R&D Spend'], dataset['Administration'], dataset['Profit'], c='b')\n",
    "ax.scatter3D(dataset['R&D Spend'], dataset['Administration'], y_pred, c='r')"
   ]
  },
  {
   "cell_type": "code",
   "execution_count": null,
   "metadata": {},
   "outputs": [],
   "source": []
  }
 ],
 "metadata": {
  "kernelspec": {
   "display_name": "Python 3 (ipykernel)",
   "language": "python",
   "name": "python3"
  },
  "language_info": {
   "codemirror_mode": {
    "name": "ipython",
    "version": 3
   },
   "file_extension": ".py",
   "mimetype": "text/x-python",
   "name": "python",
   "nbconvert_exporter": "python",
   "pygments_lexer": "ipython3",
   "version": "3.8.8"
  }
 },
 "nbformat": 4,
 "nbformat_minor": 2
}
