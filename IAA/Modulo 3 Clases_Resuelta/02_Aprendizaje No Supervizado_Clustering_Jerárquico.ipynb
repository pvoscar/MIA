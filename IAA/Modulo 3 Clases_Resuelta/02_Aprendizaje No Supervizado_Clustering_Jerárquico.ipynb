{
 "cells": [
  {
   "cell_type": "markdown",
   "metadata": {},
   "source": [
    "<img style=\"float: left;;\" src='Figures/alinco.png' /></a>\n",
    "    \n",
    "# <center> <font color= #000047> Módulo III: Aprendizaje No supervizado: Clustering\n",
    "\n"
   ]
  },
  {
   "cell_type": "markdown",
   "metadata": {},
   "source": [
    "# Clustering"
   ]
  },
  {
   "cell_type": "markdown",
   "metadata": {},
   "source": [
    "> Se le llama “clustering” a la formación de grupos o agrupaciones entre\n",
    "muestras o entre variables.\n",
    "\n",
    "> Los “clusters” son formados por datos que cumplen una condición de\n",
    "agrupación definida en función de algún índice de similitud.\n",
    "\n",
    "> Los agrupamientos no siempre serán los mismos, ya que depende del tipo de\n",
    "dato y también depende del tipo de índice de similitud.\n",
    "\n",
    "> El “Herarchical Clustering” es un algoritmo exhaustivo que realiza la\n",
    "comparación de todos los datos contra todos. Además es clasificado como un\n",
    "algoritmo no supervisado, porque no se conoce de antemano los resultados\n",
    "del proceso de “clustering”."
   ]
  },
  {
   "cell_type": "markdown",
   "metadata": {},
   "source": [
    "<div class=\"alert alert-danger\" style=\"margin: 10px\">Diapos.</div>"
   ]
  },
  {
   "cell_type": "markdown",
   "metadata": {},
   "source": [
    "> Las variables más similares son usadas para crear un cluster o grupo.\n",
    "\n",
    "> Esto equivale a crear una nueva muestra o nueva variable combinando las similitudes de los pares más similares.\n",
    "> El criterio más usado es el llamado “complete linkage”.\n",
    "\n",
    "> Este criterio se basa en crear una nueva muestra o variables eligiendo la máxima similitud del par similar contra los demás datos."
   ]
  },
  {
   "cell_type": "markdown",
   "metadata": {},
   "source": [
    "## Métodos de Aglomeración\n",
    "\n",
    "|Método               |                         | \n",
    "|:-------------------:|:------------------------------------------|\n",
    "|**Complete**             | $d(u,v) = \\max(d(u[i],k[i]),d(v[i],k[i]))$ |\n",
    "|**Single**               | $d(u,v) = \\min(d(u[i],k[i]),d(v[i],k[i]))$ |\n",
    "|**Average**              | $d(u,v) = \\frac{n_u d(u[i],k[i]) + n_v d(v[i],k[i])}{n_u + n_v}$|\n",
    "|**Centroid**             | $d(u,v) = ||c_u - c_v ||_2 = \\sqrt(\\frac{n_u d(u[i],k[i]) + n_v d(v[i],k[i])}{n_u + n_v} - \\frac{n_u n_v d(u[i],v[i])}{(n_u + n_v)^2})$                      |\n",
    "|**Ward**                 | $d(u,v) = \\sqrt(\\frac{n_u d(u[i],k[i]) + (n_v + n_k) d(v[i],k[i]) - n_k d(u[i],v[i])}{n_u + n_v + n_k})$                      |\n",
    "\n"
   ]
  },
  {
   "cell_type": "markdown",
   "metadata": {},
   "source": [
    "## Ejemplo de Clustering Jerárquico"
   ]
  },
  {
   "cell_type": "code",
   "execution_count": 1,
   "metadata": {},
   "outputs": [],
   "source": [
    "import numpy as np\n",
    "import pandas as pd\n",
    "from matplotlib import pyplot as plt\n"
   ]
  },
  {
   "cell_type": "code",
   "execution_count": 2,
   "metadata": {},
   "outputs": [],
   "source": [
    "import scipy.spatial.distance as sc\n",
    "from scipy.cluster import hierarchy"
   ]
  },
  {
   "cell_type": "code",
   "execution_count": 6,
   "metadata": {},
   "outputs": [],
   "source": [
    "#Aplicar el clustering jerárquico\n",
    "\n",
    "a = np.random.multivariate_normal([10,10],[[3,0],[0,3]], size=100)\n",
    "b = np.random.multivariate_normal([0,20],[[3,0],[0,3]], size=100)\n",
    "c = np.random.multivariate_normal([20,20],[[3,0],[0,3]], size=100)"
   ]
  },
  {
   "cell_type": "code",
   "execution_count": 10,
   "metadata": {},
   "outputs": [
    {
     "data": {
      "text/plain": [
       "((100, 2), (100, 2), (100, 2))"
      ]
     },
     "execution_count": 10,
     "metadata": {},
     "output_type": "execute_result"
    }
   ],
   "source": [
    "c.shape, b.shape, c.shape"
   ]
  },
  {
   "cell_type": "code",
   "execution_count": 12,
   "metadata": {
    "scrolled": true
   },
   "outputs": [
    {
     "data": {
      "text/plain": [
       "array([[ 1.06090324e+01,  9.18953995e+00],\n",
       "       [ 1.45319265e+01,  1.01053553e+01],\n",
       "       [ 7.92464735e+00,  9.06835841e+00],\n",
       "       [ 1.06161145e+01,  7.73701320e+00],\n",
       "       [ 9.75352250e+00,  8.87310438e+00],\n",
       "       [ 1.11881172e+01,  1.05690093e+01],\n",
       "       [ 1.11863651e+01,  9.89329197e+00],\n",
       "       [ 6.86608790e+00,  1.11820902e+01],\n",
       "       [ 9.83420828e+00,  1.24156751e+01],\n",
       "       [ 1.11146284e+01,  8.99324083e+00],\n",
       "       [ 7.88238998e+00,  7.18026572e+00],\n",
       "       [ 9.76344380e+00,  9.00921874e+00],\n",
       "       [ 9.91681386e+00,  8.92613586e+00],\n",
       "       [ 1.15026312e+01,  1.03807629e+01],\n",
       "       [ 6.87482378e+00,  7.49702392e+00],\n",
       "       [ 9.48669283e+00,  1.01381102e+01],\n",
       "       [ 6.83954837e+00,  1.06339547e+01],\n",
       "       [ 1.13692347e+01,  1.18750574e+01],\n",
       "       [ 1.29069397e+01,  1.00948133e+01],\n",
       "       [ 5.55532863e+00,  9.68740577e+00],\n",
       "       [ 1.25399773e+01,  7.40310384e+00],\n",
       "       [ 1.02151618e+01,  1.12858633e+01],\n",
       "       [ 1.03928651e+01,  7.01821318e+00],\n",
       "       [ 1.02025470e+01,  1.22311547e+01],\n",
       "       [ 9.34861881e+00,  9.49807330e+00],\n",
       "       [ 7.92127851e+00,  1.08000543e+01],\n",
       "       [ 9.69558362e+00,  1.58446116e+01],\n",
       "       [ 9.05948063e+00,  9.12003454e+00],\n",
       "       [ 1.07808260e+01,  8.06736034e+00],\n",
       "       [ 1.13240746e+01,  1.06931558e+01],\n",
       "       [ 9.90129057e+00,  9.59049430e+00],\n",
       "       [ 9.96414474e+00,  1.02577042e+01],\n",
       "       [ 1.13887110e+01,  9.99446823e+00],\n",
       "       [ 1.24157491e+01,  1.09035519e+01],\n",
       "       [ 1.28358435e+01,  8.27082491e+00],\n",
       "       [ 7.99212017e+00,  9.53790437e+00],\n",
       "       [ 1.12987185e+01,  9.84094414e+00],\n",
       "       [ 1.05805399e+01,  9.81313256e+00],\n",
       "       [ 1.20629065e+01,  1.36035919e+01],\n",
       "       [ 1.01515761e+01,  8.66376793e+00],\n",
       "       [ 8.59932669e+00,  8.94812570e+00],\n",
       "       [ 1.21761673e+01,  8.18233807e+00],\n",
       "       [ 7.77268620e+00,  1.32258171e+01],\n",
       "       [ 6.68741630e+00,  1.25157826e+01],\n",
       "       [ 1.00241200e+01,  1.13300703e+01],\n",
       "       [ 1.26153282e+01,  9.98024808e+00],\n",
       "       [ 1.13908155e+01,  1.13917546e+01],\n",
       "       [ 1.04046273e+01,  7.44699281e+00],\n",
       "       [ 1.09887306e+01,  1.05436048e+01],\n",
       "       [ 8.67857757e+00,  1.10715081e+01],\n",
       "       [ 1.26274018e+01,  1.09212096e+01],\n",
       "       [ 1.01472485e+01,  1.22456729e+01],\n",
       "       [ 1.15877574e+01,  1.08844964e+01],\n",
       "       [ 9.53330770e+00,  7.36565107e+00],\n",
       "       [ 9.80848468e+00,  4.95153268e+00],\n",
       "       [ 1.00989259e+01,  1.00432532e+01],\n",
       "       [ 9.20823445e+00,  1.04493579e+01],\n",
       "       [ 7.69771210e+00,  1.04763127e+01],\n",
       "       [ 1.21855945e+01,  8.89823105e+00],\n",
       "       [ 9.21435560e+00,  9.95383630e+00],\n",
       "       [ 1.07359128e+01,  1.32090277e+01],\n",
       "       [ 1.00192207e+01,  9.23286783e+00],\n",
       "       [ 1.02780814e+01,  9.31751522e+00],\n",
       "       [ 9.50937148e+00,  7.32008566e+00],\n",
       "       [ 9.02501450e+00,  8.92328760e+00],\n",
       "       [ 1.03705136e+01,  1.04931622e+01],\n",
       "       [ 7.73124238e+00,  1.02878365e+01],\n",
       "       [ 8.65218577e+00,  6.29788754e+00],\n",
       "       [ 8.52667324e+00,  9.89545835e+00],\n",
       "       [ 1.11544264e+01,  9.93606040e+00],\n",
       "       [ 1.16965450e+01,  8.98273216e+00],\n",
       "       [ 1.11072021e+01,  1.20751443e+01],\n",
       "       [ 5.50315079e+00,  8.90363019e+00],\n",
       "       [ 8.96815814e+00,  1.03907549e+01],\n",
       "       [ 1.08757077e+01,  1.18546189e+01],\n",
       "       [ 8.16957487e+00,  7.87309374e+00],\n",
       "       [ 7.86814063e+00,  1.33372442e+01],\n",
       "       [ 1.08005131e+01,  9.56910389e+00],\n",
       "       [ 8.48796697e+00,  1.02156419e+01],\n",
       "       [ 9.34358450e+00,  9.42281897e+00],\n",
       "       [ 8.00587334e+00,  1.11595657e+01],\n",
       "       [ 8.72667634e+00,  9.41649245e+00],\n",
       "       [ 1.21883108e+01,  1.05470629e+01],\n",
       "       [ 7.86217205e+00,  1.19355229e+01],\n",
       "       [ 9.81423068e+00,  8.47003145e+00],\n",
       "       [ 7.11964867e+00,  9.74323344e+00],\n",
       "       [ 1.29351860e+01,  9.85138576e+00],\n",
       "       [ 8.47292150e+00,  8.36303912e+00],\n",
       "       [ 8.63265249e+00,  7.39881693e+00],\n",
       "       [ 1.12078177e+01,  1.20679530e+01],\n",
       "       [ 6.43058766e+00,  9.45368890e+00],\n",
       "       [ 6.17065267e+00,  1.21262349e+01],\n",
       "       [ 1.24313796e+01,  1.14784166e+01],\n",
       "       [ 7.09721974e+00,  1.10682449e+01],\n",
       "       [ 1.11940474e+01,  8.10926044e+00],\n",
       "       [ 1.19284577e+01,  1.00567656e+01],\n",
       "       [ 1.07432238e+01,  1.23836762e+01],\n",
       "       [ 1.25506576e+01,  8.38260984e+00],\n",
       "       [ 9.53690607e+00,  9.58604486e+00],\n",
       "       [ 8.08376795e+00,  1.09198295e+01],\n",
       "       [ 2.01016723e+00,  1.87267789e+01],\n",
       "       [ 1.34131916e+00,  2.27218322e+01],\n",
       "       [-1.82801814e+00,  2.39722397e+01],\n",
       "       [ 2.28838069e+00,  2.41273223e+01],\n",
       "       [-2.56779465e+00,  1.92216171e+01],\n",
       "       [ 6.28755970e-01,  1.97352659e+01],\n",
       "       [-6.51094384e-01,  2.01410885e+01],\n",
       "       [ 2.99421664e+00,  2.21597161e+01],\n",
       "       [-7.12231837e-01,  2.02882234e+01],\n",
       "       [ 1.04126564e-01,  2.04473654e+01],\n",
       "       [ 3.76646615e+00,  2.18225744e+01],\n",
       "       [-4.17352939e+00,  1.79819101e+01],\n",
       "       [-5.86113305e-01,  2.03530643e+01],\n",
       "       [ 1.95126237e-01,  2.05227914e+01],\n",
       "       [ 3.35574055e+00,  2.10155777e+01],\n",
       "       [-1.74488397e+00,  1.71074278e+01],\n",
       "       [-1.24676675e+00,  2.00553226e+01],\n",
       "       [-2.90047619e+00,  1.94327834e+01],\n",
       "       [-1.16769678e+00,  2.12072892e+01],\n",
       "       [-9.54644243e-02,  1.87451191e+01],\n",
       "       [-6.80260031e-01,  2.07932068e+01],\n",
       "       [ 1.19796324e+00,  2.01877171e+01],\n",
       "       [-2.20135448e+00,  1.96072166e+01],\n",
       "       [-9.19814484e-01,  1.80543094e+01],\n",
       "       [ 6.31673684e-01,  1.89884466e+01],\n",
       "       [ 2.12803478e+00,  2.19107922e+01],\n",
       "       [ 1.31968747e-01,  2.06239699e+01],\n",
       "       [ 1.66009168e+00,  1.98706906e+01],\n",
       "       [-9.83157147e-01,  2.19580469e+01],\n",
       "       [ 1.73931888e-01,  2.21961309e+01],\n",
       "       [-1.50012385e+00,  2.15685556e+01],\n",
       "       [-3.50855149e-01,  2.06250350e+01],\n",
       "       [ 3.39301288e-01,  1.99116883e+01],\n",
       "       [-1.27973368e+00,  1.62192789e+01],\n",
       "       [ 1.79228637e+00,  1.99452177e+01],\n",
       "       [ 2.31554753e+00,  1.75170190e+01],\n",
       "       [ 1.55978675e+00,  2.07051680e+01],\n",
       "       [ 1.34120840e+00,  1.90999704e+01],\n",
       "       [ 1.98811695e+00,  2.01049152e+01],\n",
       "       [ 4.89204824e-01,  2.00025562e+01],\n",
       "       [ 1.55161497e+00,  2.00979536e+01],\n",
       "       [ 3.01538910e+00,  2.05828842e+01],\n",
       "       [-3.58737517e+00,  2.08406897e+01],\n",
       "       [-2.37642512e+00,  1.93141512e+01],\n",
       "       [-2.44025886e-01,  1.99192850e+01],\n",
       "       [ 1.29276914e+00,  1.96144893e+01],\n",
       "       [-2.49066347e+00,  2.36178972e+01],\n",
       "       [-2.40312831e+00,  1.87200529e+01],\n",
       "       [-8.52396292e-01,  1.99265111e+01],\n",
       "       [-2.53328543e+00,  1.99392641e+01],\n",
       "       [-2.99739678e+00,  1.81373903e+01],\n",
       "       [ 2.53829917e+00,  1.94285905e+01],\n",
       "       [-8.74983888e-01,  2.17260969e+01],\n",
       "       [ 5.45968869e-01,  2.15947107e+01],\n",
       "       [-2.55373769e+00,  1.81221390e+01],\n",
       "       [-2.26863555e+00,  1.96267371e+01],\n",
       "       [ 1.00193413e+00,  2.15876865e+01],\n",
       "       [ 2.07936464e+00,  1.97673415e+01],\n",
       "       [ 6.34999003e-01,  1.98389307e+01],\n",
       "       [-1.33048608e+00,  1.72553729e+01],\n",
       "       [ 8.69279750e-01,  2.00825000e+01],\n",
       "       [ 4.48569448e-01,  1.95525248e+01],\n",
       "       [ 1.49753163e+00,  1.58681590e+01],\n",
       "       [ 9.79220924e-01,  1.91374505e+01],\n",
       "       [ 1.72646353e+00,  2.15231801e+01],\n",
       "       [ 1.44188780e+00,  2.03183290e+01],\n",
       "       [-1.94405175e-01,  1.94385771e+01],\n",
       "       [-3.08741125e+00,  2.17234823e+01],\n",
       "       [ 1.38038262e+00,  1.79559682e+01],\n",
       "       [-3.57445789e-01,  1.95272999e+01],\n",
       "       [ 1.63080058e+00,  2.10142491e+01],\n",
       "       [-3.90389824e-01,  1.80719979e+01],\n",
       "       [-1.48452784e+00,  1.69931884e+01],\n",
       "       [-7.22771807e-02,  2.17239706e+01],\n",
       "       [ 7.77873370e-01,  2.07029271e+01],\n",
       "       [ 3.17748737e-01,  2.25002812e+01],\n",
       "       [-6.40167183e-03,  1.75010544e+01],\n",
       "       [-1.75227670e+00,  2.14961713e+01],\n",
       "       [-6.03503697e-01,  2.07895644e+01],\n",
       "       [ 1.16505973e+00,  1.91817804e+01],\n",
       "       [-1.88306182e+00,  2.02387674e+01],\n",
       "       [-3.76766093e-01,  2.33694831e+01],\n",
       "       [-1.08341925e+00,  2.12775533e+01],\n",
       "       [-5.85543357e-01,  2.20791256e+01],\n",
       "       [-3.72619100e-01,  1.99689092e+01],\n",
       "       [-1.39182820e+00,  2.08690777e+01],\n",
       "       [ 7.61411613e-01,  2.21785313e+01],\n",
       "       [ 6.76757334e-01,  1.72801302e+01],\n",
       "       [ 8.65635200e-01,  2.22387418e+01],\n",
       "       [-2.39838303e+00,  1.73158286e+01],\n",
       "       [-1.79071914e-01,  2.11601006e+01],\n",
       "       [-1.51488818e+00,  1.93088912e+01],\n",
       "       [-3.45310438e+00,  1.98165072e+01],\n",
       "       [-7.18342752e-02,  2.18276332e+01],\n",
       "       [-1.28741875e+00,  1.94591832e+01],\n",
       "       [ 6.01045454e-01,  2.06724878e+01],\n",
       "       [ 3.78513012e+00,  2.02401094e+01],\n",
       "       [-2.80073019e+00,  2.25134441e+01],\n",
       "       [ 6.84483694e-01,  1.95452096e+01],\n",
       "       [-1.89398572e+00,  1.93875147e+01],\n",
       "       [ 2.50578584e+01,  1.89764715e+01],\n",
       "       [ 1.68123155e+01,  1.84359994e+01],\n",
       "       [ 1.96678517e+01,  1.93449221e+01],\n",
       "       [ 1.99693528e+01,  2.00998445e+01],\n",
       "       [ 2.00170301e+01,  2.08306381e+01],\n",
       "       [ 2.00140389e+01,  1.78133472e+01],\n",
       "       [ 1.93915215e+01,  2.14332239e+01],\n",
       "       [ 2.09790790e+01,  2.01001378e+01],\n",
       "       [ 2.07609487e+01,  1.74572043e+01],\n",
       "       [ 1.95041169e+01,  1.96901779e+01],\n",
       "       [ 1.96686490e+01,  2.07184462e+01],\n",
       "       [ 1.87362610e+01,  2.10607517e+01],\n",
       "       [ 2.15141440e+01,  2.23167832e+01],\n",
       "       [ 2.11073807e+01,  1.99905247e+01],\n",
       "       [ 2.00922092e+01,  2.22761603e+01],\n",
       "       [ 1.94986727e+01,  2.06255397e+01],\n",
       "       [ 1.69423179e+01,  1.67075153e+01],\n",
       "       [ 1.86648206e+01,  1.84649764e+01],\n",
       "       [ 1.89339569e+01,  1.91806035e+01],\n",
       "       [ 2.04600034e+01,  1.86294665e+01],\n",
       "       [ 1.87793045e+01,  2.16093399e+01],\n",
       "       [ 1.76355161e+01,  2.23157321e+01],\n",
       "       [ 2.10592997e+01,  2.01029322e+01],\n",
       "       [ 1.78437717e+01,  2.51686956e+01],\n",
       "       [ 1.86187229e+01,  2.26238924e+01],\n",
       "       [ 2.02324009e+01,  1.95386118e+01],\n",
       "       [ 2.07142316e+01,  1.96016418e+01],\n",
       "       [ 1.87520111e+01,  1.79128225e+01],\n",
       "       [ 1.91033819e+01,  2.16473480e+01],\n",
       "       [ 1.83734324e+01,  1.89937219e+01],\n",
       "       [ 2.12649220e+01,  1.96978666e+01],\n",
       "       [ 2.09711030e+01,  1.94112296e+01],\n",
       "       [ 2.11487993e+01,  1.84671408e+01],\n",
       "       [ 1.95145391e+01,  2.14635994e+01],\n",
       "       [ 1.92877380e+01,  1.92050759e+01],\n",
       "       [ 1.84055260e+01,  2.06900575e+01],\n",
       "       [ 1.86270689e+01,  2.28798569e+01],\n",
       "       [ 1.85447696e+01,  1.75419353e+01],\n",
       "       [ 2.12720975e+01,  2.08946035e+01],\n",
       "       [ 2.27744447e+01,  1.85773349e+01],\n",
       "       [ 2.08632929e+01,  2.01568717e+01],\n",
       "       [ 1.97721036e+01,  1.89858826e+01],\n",
       "       [ 1.78115461e+01,  1.95384868e+01],\n",
       "       [ 2.02130237e+01,  1.94990750e+01],\n",
       "       [ 1.89113256e+01,  1.77965297e+01],\n",
       "       [ 2.02738433e+01,  1.87849224e+01],\n",
       "       [ 1.77730012e+01,  2.35714774e+01],\n",
       "       [ 1.80256584e+01,  1.54327881e+01],\n",
       "       [ 1.77906845e+01,  2.09801534e+01],\n",
       "       [ 2.21018027e+01,  1.76517861e+01],\n",
       "       [ 1.92969721e+01,  1.91214124e+01],\n",
       "       [ 1.62443687e+01,  1.87191578e+01],\n",
       "       [ 2.12011510e+01,  2.01531089e+01],\n",
       "       [ 2.17922120e+01,  1.86316756e+01],\n",
       "       [ 2.29003332e+01,  1.77360289e+01],\n",
       "       [ 2.25704578e+01,  1.67189238e+01],\n",
       "       [ 2.07567300e+01,  2.16847224e+01],\n",
       "       [ 2.08045384e+01,  1.71417288e+01],\n",
       "       [ 1.84933203e+01,  2.15388102e+01],\n",
       "       [ 1.68157137e+01,  1.66950916e+01],\n",
       "       [ 2.22856616e+01,  2.02498624e+01],\n",
       "       [ 1.98622932e+01,  1.84688657e+01],\n",
       "       [ 1.80144319e+01,  2.08193264e+01],\n",
       "       [ 1.98514384e+01,  2.18925040e+01],\n",
       "       [ 2.10639621e+01,  2.05967103e+01],\n",
       "       [ 2.03526370e+01,  1.81007306e+01],\n",
       "       [ 2.03764496e+01,  1.98507270e+01],\n",
       "       [ 2.15620090e+01,  1.78933099e+01],\n",
       "       [ 2.15418659e+01,  2.13458527e+01],\n",
       "       [ 2.12416329e+01,  2.15376871e+01],\n",
       "       [ 2.10899126e+01,  1.99550212e+01],\n",
       "       [ 2.03773695e+01,  2.12566036e+01],\n",
       "       [ 2.10538219e+01,  2.11258677e+01],\n",
       "       [ 1.97283454e+01,  2.09941236e+01],\n",
       "       [ 1.97437939e+01,  1.88087540e+01],\n",
       "       [ 1.92984014e+01,  1.89374820e+01],\n",
       "       [ 2.17948868e+01,  1.85930439e+01],\n",
       "       [ 2.15561829e+01,  2.09354698e+01],\n",
       "       [ 2.13298939e+01,  1.96856175e+01],\n",
       "       [ 1.99469865e+01,  1.80494415e+01],\n",
       "       [ 1.96734858e+01,  1.96934386e+01],\n",
       "       [ 2.03259330e+01,  1.96793971e+01],\n",
       "       [ 1.99205180e+01,  1.99864671e+01],\n",
       "       [ 1.99816346e+01,  2.18456252e+01],\n",
       "       [ 1.84961074e+01,  2.08811719e+01],\n",
       "       [ 1.81571963e+01,  1.82460347e+01],\n",
       "       [ 2.16177923e+01,  2.01978424e+01],\n",
       "       [ 2.22754315e+01,  2.23403024e+01],\n",
       "       [ 1.91606379e+01,  2.42286446e+01],\n",
       "       [ 2.16260979e+01,  2.18575532e+01],\n",
       "       [ 2.21186190e+01,  1.88459844e+01],\n",
       "       [ 2.04647278e+01,  1.93161900e+01],\n",
       "       [ 1.99603763e+01,  1.95506334e+01],\n",
       "       [ 1.96293497e+01,  1.88165617e+01],\n",
       "       [ 1.90882574e+01,  2.31389793e+01],\n",
       "       [ 2.04769637e+01,  2.29002792e+01],\n",
       "       [ 2.06444480e+01,  2.03199289e+01],\n",
       "       [ 1.96341540e+01,  2.22976088e+01],\n",
       "       [ 2.06509446e+01,  1.84978760e+01],\n",
       "       [ 2.11521920e+01,  2.26459837e+01]])"
      ]
     },
     "execution_count": 12,
     "metadata": {},
     "output_type": "execute_result"
    }
   ],
   "source": [
    "x = np.concatenate((a,b,c))\n",
    "x"
   ]
  },
  {
   "cell_type": "code",
   "execution_count": 13,
   "metadata": {},
   "outputs": [
    {
     "data": {
      "text/plain": [
       "(300, 2)"
      ]
     },
     "execution_count": 13,
     "metadata": {},
     "output_type": "execute_result"
    }
   ],
   "source": [
    "x.shape"
   ]
  },
  {
   "cell_type": "code",
   "execution_count": 16,
   "metadata": {},
   "outputs": [
    {
     "data": {
      "image/png": "[encoded data removed]",
      "text/plain": [
       "<Figure size 576x432 with 1 Axes>"
      ]
     },
     "metadata": {
      "needs_background": "light"
     },
     "output_type": "display_data"
    }
   ],
   "source": [
    "plt.figure(figsize=(8,6))\n",
    "plt.scatter(x[:,0], x[:,1])\n",
    "plt.xlabel('$x$')\n",
    "plt.ylabel('$y$')\n",
    "plt.grid()\n",
    "plt.show()"
   ]
  },
  {
   "cell_type": "code",
   "execution_count": 17,
   "metadata": {},
   "outputs": [
    {
     "name": "stdout",
     "output_type": "stream",
     "text": [
      "Help on function pdist in module scipy.spatial.distance:\n",
      "\n",
      "pdist(X, metric='euclidean', *args, **kwargs)\n",
      "    Pairwise distances between observations in n-dimensional space.\n",
      "    \n",
      "    See Notes for common calling conventions.\n",
      "    \n",
      "    Parameters\n",
      "    ----------\n",
      "    X : ndarray\n",
      "        An m by n array of m original observations in an\n",
      "        n-dimensional space.\n",
      "    metric : str or function, optional\n",
      "        The distance metric to use. The distance function can\n",
      "        be 'braycurtis', 'canberra', 'chebyshev', 'cityblock',\n",
      "        'correlation', 'cosine', 'dice', 'euclidean', 'hamming',\n",
      "        'jaccard', 'jensenshannon', 'kulsinski', 'mahalanobis', 'matching',\n",
      "        'minkowski', 'rogerstanimoto', 'russellrao', 'seuclidean',\n",
      "        'sokalmichener', 'sokalsneath', 'sqeuclidean', 'yule'.\n",
      "    *args : tuple. Deprecated.\n",
      "        Additional arguments should be passed as keyword arguments\n",
      "    **kwargs : dict, optional\n",
      "        Extra arguments to `metric`: refer to each metric documentation for a\n",
      "        list of all possible arguments.\n",
      "    \n",
      "        Some possible arguments:\n",
      "    \n",
      "        p : scalar\n",
      "        The p-norm to apply for Minkowski, weighted and unweighted.\n",
      "        Default: 2.\n",
      "    \n",
      "        w : ndarray\n",
      "        The weight vector for metrics that support weights (e.g., Minkowski).\n",
      "    \n",
      "        V : ndarray\n",
      "        The variance vector for standardized Euclidean.\n",
      "        Default: var(X, axis=0, ddof=1)\n",
      "    \n",
      "        VI : ndarray\n",
      "        The inverse of the covariance matrix for Mahalanobis.\n",
      "        Default: inv(cov(X.T)).T\n",
      "    \n",
      "        out : ndarray.\n",
      "        The output array\n",
      "        If not None, condensed distance matrix Y is stored in this array.\n",
      "        Note: metric independent, it will become a regular keyword arg in a\n",
      "        future scipy version\n",
      "    \n",
      "    Returns\n",
      "    -------\n",
      "    Y : ndarray\n",
      "        Returns a condensed distance matrix Y.  For\n",
      "        each :math:`i` and :math:`j` (where :math:`i<j<m`),where m is the number\n",
      "        of original observations. The metric ``dist(u=X[i], v=X[j])``\n",
      "        is computed and stored in entry \n",
      "        ``m * i + j - ((i + 2) * (i + 1)) // 2``.\n",
      "    \n",
      "    See Also\n",
      "    --------\n",
      "    squareform : converts between condensed distance matrices and\n",
      "                 square distance matrices.\n",
      "    \n",
      "    Notes\n",
      "    -----\n",
      "    See ``squareform`` for information on how to calculate the index of\n",
      "    this entry or to convert the condensed distance matrix to a\n",
      "    redundant square matrix.\n",
      "    \n",
      "    The following are common calling conventions.\n",
      "    \n",
      "    1. ``Y = pdist(X, 'euclidean')``\n",
      "    \n",
      "       Computes the distance between m points using Euclidean distance\n",
      "       (2-norm) as the distance metric between the points. The points\n",
      "       are arranged as m n-dimensional row vectors in the matrix X.\n",
      "    \n",
      "    2. ``Y = pdist(X, 'minkowski', p=2.)``\n",
      "    \n",
      "       Computes the distances using the Minkowski distance\n",
      "       :math:`||u-v||_p` (p-norm) where :math:`p \\geq 1`.\n",
      "    \n",
      "    3. ``Y = pdist(X, 'cityblock')``\n",
      "    \n",
      "       Computes the city block or Manhattan distance between the\n",
      "       points.\n",
      "    \n",
      "    4. ``Y = pdist(X, 'seuclidean', V=None)``\n",
      "    \n",
      "       Computes the standardized Euclidean distance. The standardized\n",
      "       Euclidean distance between two n-vectors ``u`` and ``v`` is\n",
      "    \n",
      "       .. math::\n",
      "    \n",
      "          \\sqrt{\\sum {(u_i-v_i)^2 / V[x_i]}}\n",
      "    \n",
      "    \n",
      "       V is the variance vector; V[i] is the variance computed over all\n",
      "       the i'th components of the points.  If not passed, it is\n",
      "       automatically computed.\n",
      "    \n",
      "    5. ``Y = pdist(X, 'sqeuclidean')``\n",
      "    \n",
      "       Computes the squared Euclidean distance :math:`||u-v||_2^2` between\n",
      "       the vectors.\n",
      "    \n",
      "    6. ``Y = pdist(X, 'cosine')``\n",
      "    \n",
      "       Computes the cosine distance between vectors u and v,\n",
      "    \n",
      "       .. math::\n",
      "    \n",
      "          1 - \\frac{u \\cdot v}\n",
      "                   {{||u||}_2 {||v||}_2}\n",
      "    \n",
      "       where :math:`||*||_2` is the 2-norm of its argument ``*``, and\n",
      "       :math:`u \\cdot v` is the dot product of ``u`` and ``v``.\n",
      "    \n",
      "    7. ``Y = pdist(X, 'correlation')``\n",
      "    \n",
      "       Computes the correlation distance between vectors u and v. This is\n",
      "    \n",
      "       .. math::\n",
      "    \n",
      "          1 - \\frac{(u - \\bar{u}) \\cdot (v - \\bar{v})}\n",
      "                   {{||(u - \\bar{u})||}_2 {||(v - \\bar{v})||}_2}\n",
      "    \n",
      "       where :math:`\\bar{v}` is the mean of the elements of vector v,\n",
      "       and :math:`x \\cdot y` is the dot product of :math:`x` and :math:`y`.\n",
      "    \n",
      "    8. ``Y = pdist(X, 'hamming')``\n",
      "    \n",
      "       Computes the normalized Hamming distance, or the proportion of\n",
      "       those vector elements between two n-vectors ``u`` and ``v``\n",
      "       which disagree. To save memory, the matrix ``X`` can be of type\n",
      "       boolean.\n",
      "    \n",
      "    9. ``Y = pdist(X, 'jaccard')``\n",
      "    \n",
      "       Computes the Jaccard distance between the points. Given two\n",
      "       vectors, ``u`` and ``v``, the Jaccard distance is the\n",
      "       proportion of those elements ``u[i]`` and ``v[i]`` that\n",
      "       disagree.\n",
      "    \n",
      "    10. ``Y = pdist(X, 'chebyshev')``\n",
      "    \n",
      "       Computes the Chebyshev distance between the points. The\n",
      "       Chebyshev distance between two n-vectors ``u`` and ``v`` is the\n",
      "       maximum norm-1 distance between their respective elements. More\n",
      "       precisely, the distance is given by\n",
      "    \n",
      "       .. math::\n",
      "    \n",
      "          d(u,v) = \\max_i {|u_i-v_i|}\n",
      "    \n",
      "    11. ``Y = pdist(X, 'canberra')``\n",
      "    \n",
      "       Computes the Canberra distance between the points. The\n",
      "       Canberra distance between two points ``u`` and ``v`` is\n",
      "    \n",
      "       .. math::\n",
      "    \n",
      "         d(u,v) = \\sum_i \\frac{|u_i-v_i|}\n",
      "                              {|u_i|+|v_i|}\n",
      "    \n",
      "    \n",
      "    12. ``Y = pdist(X, 'braycurtis')``\n",
      "    \n",
      "       Computes the Bray-Curtis distance between the points. The\n",
      "       Bray-Curtis distance between two points ``u`` and ``v`` is\n",
      "    \n",
      "    \n",
      "       .. math::\n",
      "    \n",
      "            d(u,v) = \\frac{\\sum_i {|u_i-v_i|}}\n",
      "                           {\\sum_i {|u_i+v_i|}}\n",
      "    \n",
      "    13. ``Y = pdist(X, 'mahalanobis', VI=None)``\n",
      "    \n",
      "       Computes the Mahalanobis distance between the points. The\n",
      "       Mahalanobis distance between two points ``u`` and ``v`` is\n",
      "       :math:`\\sqrt{(u-v)(1/V)(u-v)^T}` where :math:`(1/V)` (the ``VI``\n",
      "       variable) is the inverse covariance. If ``VI`` is not None,\n",
      "       ``VI`` will be used as the inverse covariance matrix.\n",
      "    \n",
      "    14. ``Y = pdist(X, 'yule')``\n",
      "    \n",
      "       Computes the Yule distance between each pair of boolean\n",
      "       vectors. (see yule function documentation)\n",
      "    \n",
      "    15. ``Y = pdist(X, 'matching')``\n",
      "    \n",
      "       Synonym for 'hamming'.\n",
      "    \n",
      "    16. ``Y = pdist(X, 'dice')``\n",
      "    \n",
      "       Computes the Dice distance between each pair of boolean\n",
      "       vectors. (see dice function documentation)\n",
      "    \n",
      "    17. ``Y = pdist(X, 'kulsinski')``\n",
      "    \n",
      "       Computes the Kulsinski distance between each pair of\n",
      "       boolean vectors. (see kulsinski function documentation)\n",
      "    \n",
      "    18. ``Y = pdist(X, 'rogerstanimoto')``\n",
      "    \n",
      "       Computes the Rogers-Tanimoto distance between each pair of\n",
      "       boolean vectors. (see rogerstanimoto function documentation)\n",
      "    \n",
      "    19. ``Y = pdist(X, 'russellrao')``\n",
      "    \n",
      "       Computes the Russell-Rao distance between each pair of\n",
      "       boolean vectors. (see russellrao function documentation)\n",
      "    \n",
      "    20. ``Y = pdist(X, 'sokalmichener')``\n",
      "    \n",
      "       Computes the Sokal-Michener distance between each pair of\n",
      "       boolean vectors. (see sokalmichener function documentation)\n",
      "    \n",
      "    21. ``Y = pdist(X, 'sokalsneath')``\n",
      "    \n",
      "       Computes the Sokal-Sneath distance between each pair of\n",
      "       boolean vectors. (see sokalsneath function documentation)\n",
      "    \n",
      "    22. ``Y = pdist(X, 'wminkowski', p=2, w=w)``\n",
      "    \n",
      "       Computes the weighted Minkowski distance between each pair of\n",
      "       vectors. (see wminkowski function documentation)\n",
      "    \n",
      "       'wminkowski' is deprecated and will be removed in SciPy 1.8.0.\n",
      "       Use 'minkowski' instead.\n",
      "    \n",
      "    23. ``Y = pdist(X, f)``\n",
      "    \n",
      "       Computes the distance between all pairs of vectors in X\n",
      "       using the user supplied 2-arity function f. For example,\n",
      "       Euclidean distance between the vectors could be computed\n",
      "       as follows::\n",
      "    \n",
      "         dm = pdist(X, lambda u, v: np.sqrt(((u-v)**2).sum()))\n",
      "    \n",
      "       Note that you should avoid passing a reference to one of\n",
      "       the distance functions defined in this library. For example,::\n",
      "    \n",
      "         dm = pdist(X, sokalsneath)\n",
      "    \n",
      "       would calculate the pair-wise distances between the vectors in\n",
      "       X using the Python function sokalsneath. This would result in\n",
      "       sokalsneath being called :math:`{n \\choose 2}` times, which\n",
      "       is inefficient. Instead, the optimized C version is more\n",
      "       efficient, and we call it using the following syntax.::\n",
      "    \n",
      "         dm = pdist(X, 'sokalsneath')\n",
      "\n"
     ]
    }
   ],
   "source": [
    "help(sc.pdist)"
   ]
  },
  {
   "cell_type": "code",
   "execution_count": 23,
   "metadata": {},
   "outputs": [],
   "source": [
    "Simx = sc.pdist(x)"
   ]
  },
  {
   "cell_type": "code",
   "execution_count": 24,
   "metadata": {},
   "outputs": [],
   "source": [
    "MatSimx = sc.squareform(Simx)\n"
   ]
  },
  {
   "cell_type": "code",
   "execution_count": 25,
   "metadata": {},
   "outputs": [
    {
     "data": {
      "text/plain": [
       "(300, 300)"
      ]
     },
     "execution_count": 25,
     "metadata": {},
     "output_type": "execute_result"
    }
   ],
   "source": [
    "MatSimx.shape"
   ]
  },
  {
   "cell_type": "code",
   "execution_count": 26,
   "metadata": {},
   "outputs": [
    {
     "data": {
      "text/plain": [
       "array([[ 0.        ,  4.02837632,  2.68711892, ..., 15.91459356,\n",
       "        13.69252056, 17.09485575],\n",
       "       [ 4.02837632,  0.        ,  6.68816121, ..., 13.21679882,\n",
       "        10.386375  , 14.18080664],\n",
       "       [ 2.68711892,  6.68816121,  0.        , ..., 17.66707703,\n",
       "        15.83901646, 18.95573387],\n",
       "       ...,\n",
       "       [15.91459356, 13.21679882, 17.66707703, ...,  0.        ,\n",
       "         3.93342507,  1.55749947],\n",
       "       [13.69252056, 10.386375  , 15.83901646, ...,  3.93342507,\n",
       "         0.        ,  4.17828277],\n",
       "       [17.09485575, 14.18080664, 18.95573387, ...,  1.55749947,\n",
       "         4.17828277,  0.        ]])"
      ]
     },
     "execution_count": 26,
     "metadata": {},
     "output_type": "execute_result"
    }
   ],
   "source": [
    "MatSimx"
   ]
  },
  {
   "cell_type": "code",
   "execution_count": 27,
   "metadata": {},
   "outputs": [
    {
     "data": {
      "text/html": [
       "<div>\n",
       "<style scoped>\n",
       "    .dataframe tbody tr th:only-of-type {\n",
       "        vertical-align: middle;\n",
       "    }\n",
       "\n",
       "    .dataframe tbody tr th {\n",
       "        vertical-align: top;\n",
       "    }\n",
       "\n",
       "    .dataframe thead th {\n",
       "        text-align: right;\n",
       "    }\n",
       "</style>\n",
       "<table border=\"1\" class=\"dataframe\">\n",
       "  <thead>\n",
       "    <tr style=\"text-align: right;\">\n",
       "      <th></th>\n",
       "      <th>0</th>\n",
       "      <th>1</th>\n",
       "      <th>2</th>\n",
       "      <th>3</th>\n",
       "      <th>4</th>\n",
       "      <th>5</th>\n",
       "      <th>6</th>\n",
       "      <th>7</th>\n",
       "      <th>8</th>\n",
       "      <th>9</th>\n",
       "      <th>...</th>\n",
       "      <th>290</th>\n",
       "      <th>291</th>\n",
       "      <th>292</th>\n",
       "      <th>293</th>\n",
       "      <th>294</th>\n",
       "      <th>295</th>\n",
       "      <th>296</th>\n",
       "      <th>297</th>\n",
       "      <th>298</th>\n",
       "      <th>299</th>\n",
       "    </tr>\n",
       "  </thead>\n",
       "  <tbody>\n",
       "    <tr>\n",
       "      <th>0</th>\n",
       "      <td>0.000000</td>\n",
       "      <td>4.028376</td>\n",
       "      <td>2.687119</td>\n",
       "      <td>1.452544</td>\n",
       "      <td>0.912156</td>\n",
       "      <td>1.496087</td>\n",
       "      <td>0.910264</td>\n",
       "      <td>4.240270</td>\n",
       "      <td>3.317876</td>\n",
       "      <td>0.542366</td>\n",
       "      <td>...</td>\n",
       "      <td>15.023898</td>\n",
       "      <td>14.130951</td>\n",
       "      <td>13.957073</td>\n",
       "      <td>13.192637</td>\n",
       "      <td>16.324341</td>\n",
       "      <td>16.892615</td>\n",
       "      <td>14.986498</td>\n",
       "      <td>15.914594</td>\n",
       "      <td>13.692521</td>\n",
       "      <td>17.094856</td>\n",
       "    </tr>\n",
       "    <tr>\n",
       "      <th>1</th>\n",
       "      <td>4.028376</td>\n",
       "      <td>0.000000</td>\n",
       "      <td>6.688161</td>\n",
       "      <td>4.576312</td>\n",
       "      <td>4.934733</td>\n",
       "      <td>3.375801</td>\n",
       "      <td>3.352276</td>\n",
       "      <td>7.741088</td>\n",
       "      <td>5.235087</td>\n",
       "      <td>3.593706</td>\n",
       "      <td>...</td>\n",
       "      <td>11.573958</td>\n",
       "      <td>10.956168</td>\n",
       "      <td>10.894097</td>\n",
       "      <td>10.093009</td>\n",
       "      <td>13.807082</td>\n",
       "      <td>14.108634</td>\n",
       "      <td>11.903799</td>\n",
       "      <td>13.216799</td>\n",
       "      <td>10.386375</td>\n",
       "      <td>14.180807</td>\n",
       "    </tr>\n",
       "    <tr>\n",
       "      <th>2</th>\n",
       "      <td>2.687119</td>\n",
       "      <td>6.688161</td>\n",
       "      <td>0.000000</td>\n",
       "      <td>3.002745</td>\n",
       "      <td>1.839268</td>\n",
       "      <td>3.591962</td>\n",
       "      <td>3.364419</td>\n",
       "      <td>2.363982</td>\n",
       "      <td>3.853693</td>\n",
       "      <td>3.190865</td>\n",
       "      <td>...</td>\n",
       "      <td>17.235742</td>\n",
       "      <td>16.194804</td>\n",
       "      <td>15.960478</td>\n",
       "      <td>15.232450</td>\n",
       "      <td>17.961307</td>\n",
       "      <td>18.678401</td>\n",
       "      <td>16.982084</td>\n",
       "      <td>17.667077</td>\n",
       "      <td>15.839016</td>\n",
       "      <td>18.955734</td>\n",
       "    </tr>\n",
       "    <tr>\n",
       "      <th>3</th>\n",
       "      <td>1.452544</td>\n",
       "      <td>4.576312</td>\n",
       "      <td>3.002745</td>\n",
       "      <td>0.000000</td>\n",
       "      <td>1.426453</td>\n",
       "      <td>2.889185</td>\n",
       "      <td>2.230409</td>\n",
       "      <td>5.092274</td>\n",
       "      <td>4.743549</td>\n",
       "      <td>1.351527</td>\n",
       "      <td>...</td>\n",
       "      <td>15.991149</td>\n",
       "      <td>15.201070</td>\n",
       "      <td>15.062432</td>\n",
       "      <td>14.282675</td>\n",
       "      <td>17.578332</td>\n",
       "      <td>18.087592</td>\n",
       "      <td>16.090284</td>\n",
       "      <td>17.127054</td>\n",
       "      <td>14.713734</td>\n",
       "      <td>18.256131</td>\n",
       "    </tr>\n",
       "    <tr>\n",
       "      <th>4</th>\n",
       "      <td>0.912156</td>\n",
       "      <td>4.934733</td>\n",
       "      <td>1.839268</td>\n",
       "      <td>1.426453</td>\n",
       "      <td>0.000000</td>\n",
       "      <td>2.221296</td>\n",
       "      <td>1.758926</td>\n",
       "      <td>3.697120</td>\n",
       "      <td>3.543489</td>\n",
       "      <td>1.366397</td>\n",
       "      <td>...</td>\n",
       "      <td>15.885652</td>\n",
       "      <td>14.959544</td>\n",
       "      <td>14.771239</td>\n",
       "      <td>14.014432</td>\n",
       "      <td>17.048533</td>\n",
       "      <td>17.656552</td>\n",
       "      <td>15.800065</td>\n",
       "      <td>16.668659</td>\n",
       "      <td>14.539258</td>\n",
       "      <td>17.877972</td>\n",
       "    </tr>\n",
       "    <tr>\n",
       "      <th>...</th>\n",
       "      <td>...</td>\n",
       "      <td>...</td>\n",
       "      <td>...</td>\n",
       "      <td>...</td>\n",
       "      <td>...</td>\n",
       "      <td>...</td>\n",
       "      <td>...</td>\n",
       "      <td>...</td>\n",
       "      <td>...</td>\n",
       "      <td>...</td>\n",
       "      <td>...</td>\n",
       "      <td>...</td>\n",
       "      <td>...</td>\n",
       "      <td>...</td>\n",
       "      <td>...</td>\n",
       "      <td>...</td>\n",
       "      <td>...</td>\n",
       "      <td>...</td>\n",
       "      <td>...</td>\n",
       "      <td>...</td>\n",
       "      <td>...</td>\n",
       "    </tr>\n",
       "    <tr>\n",
       "      <th>295</th>\n",
       "      <td>16.892615</td>\n",
       "      <td>14.108634</td>\n",
       "      <td>18.678401</td>\n",
       "      <td>18.087592</td>\n",
       "      <td>17.656552</td>\n",
       "      <td>15.438358</td>\n",
       "      <td>15.984272</td>\n",
       "      <td>17.960287</td>\n",
       "      <td>14.939718</td>\n",
       "      <td>16.764815</td>\n",
       "      <td>...</td>\n",
       "      <td>4.374053</td>\n",
       "      <td>3.584110</td>\n",
       "      <td>3.389246</td>\n",
       "      <td>4.170755</td>\n",
       "      <td>1.409072</td>\n",
       "      <td>0.000000</td>\n",
       "      <td>2.585780</td>\n",
       "      <td>1.036118</td>\n",
       "      <td>4.405840</td>\n",
       "      <td>0.721526</td>\n",
       "    </tr>\n",
       "    <tr>\n",
       "      <th>296</th>\n",
       "      <td>14.986498</td>\n",
       "      <td>11.903799</td>\n",
       "      <td>16.982084</td>\n",
       "      <td>16.090284</td>\n",
       "      <td>15.800065</td>\n",
       "      <td>13.583174</td>\n",
       "      <td>14.077290</td>\n",
       "      <td>16.533097</td>\n",
       "      <td>13.391733</td>\n",
       "      <td>14.802409</td>\n",
       "      <td>...</td>\n",
       "      <td>2.084632</td>\n",
       "      <td>1.019702</td>\n",
       "      <td>1.029451</td>\n",
       "      <td>1.813984</td>\n",
       "      <td>3.220058</td>\n",
       "      <td>2.585780</td>\n",
       "      <td>0.000000</td>\n",
       "      <td>2.220791</td>\n",
       "      <td>1.822065</td>\n",
       "      <td>2.380827</td>\n",
       "    </tr>\n",
       "    <tr>\n",
       "      <th>297</th>\n",
       "      <td>15.914594</td>\n",
       "      <td>13.216799</td>\n",
       "      <td>17.667077</td>\n",
       "      <td>17.127054</td>\n",
       "      <td>16.668659</td>\n",
       "      <td>14.453221</td>\n",
       "      <td>15.007738</td>\n",
       "      <td>16.928623</td>\n",
       "      <td>13.917311</td>\n",
       "      <td>15.798371</td>\n",
       "      <td>...</td>\n",
       "      <td>4.252796</td>\n",
       "      <td>3.094949</td>\n",
       "      <td>2.766278</td>\n",
       "      <td>3.481050</td>\n",
       "      <td>1.002949</td>\n",
       "      <td>1.036118</td>\n",
       "      <td>2.220791</td>\n",
       "      <td>0.000000</td>\n",
       "      <td>3.933425</td>\n",
       "      <td>1.557499</td>\n",
       "    </tr>\n",
       "    <tr>\n",
       "      <th>298</th>\n",
       "      <td>13.692521</td>\n",
       "      <td>10.386375</td>\n",
       "      <td>15.839016</td>\n",
       "      <td>14.713734</td>\n",
       "      <td>14.539258</td>\n",
       "      <td>12.345527</td>\n",
       "      <td>12.791291</td>\n",
       "      <td>15.605864</td>\n",
       "      <td>12.409470</td>\n",
       "      <td>13.464004</td>\n",
       "      <td>...</td>\n",
       "      <td>1.508392</td>\n",
       "      <td>0.839234</td>\n",
       "      <td>1.259040</td>\n",
       "      <td>1.070148</td>\n",
       "      <td>4.897125</td>\n",
       "      <td>4.405840</td>\n",
       "      <td>1.822065</td>\n",
       "      <td>3.933425</td>\n",
       "      <td>0.000000</td>\n",
       "      <td>4.178283</td>\n",
       "    </tr>\n",
       "    <tr>\n",
       "      <th>299</th>\n",
       "      <td>17.094856</td>\n",
       "      <td>14.180807</td>\n",
       "      <td>18.955734</td>\n",
       "      <td>18.256131</td>\n",
       "      <td>17.877972</td>\n",
       "      <td>15.656823</td>\n",
       "      <td>16.184834</td>\n",
       "      <td>18.317031</td>\n",
       "      <td>15.256342</td>\n",
       "      <td>16.945503</td>\n",
       "      <td>...</td>\n",
       "      <td>3.920966</td>\n",
       "      <td>3.400020</td>\n",
       "      <td>3.316869</td>\n",
       "      <td>4.121107</td>\n",
       "      <td>2.121997</td>\n",
       "      <td>0.721526</td>\n",
       "      <td>2.380827</td>\n",
       "      <td>1.557499</td>\n",
       "      <td>4.178283</td>\n",
       "      <td>0.000000</td>\n",
       "    </tr>\n",
       "  </tbody>\n",
       "</table>\n",
       "<p>300 rows × 300 columns</p>\n",
       "</div>"
      ],
      "text/plain": [
       "           0          1          2          3          4          5    \\\n",
       "0     0.000000   4.028376   2.687119   1.452544   0.912156   1.496087   \n",
       "1     4.028376   0.000000   6.688161   4.576312   4.934733   3.375801   \n",
       "2     2.687119   6.688161   0.000000   3.002745   1.839268   3.591962   \n",
       "3     1.452544   4.576312   3.002745   0.000000   1.426453   2.889185   \n",
       "4     0.912156   4.934733   1.839268   1.426453   0.000000   2.221296   \n",
       "..         ...        ...        ...        ...        ...        ...   \n",
       "295  16.892615  14.108634  18.678401  18.087592  17.656552  15.438358   \n",
       "296  14.986498  11.903799  16.982084  16.090284  15.800065  13.583174   \n",
       "297  15.914594  13.216799  17.667077  17.127054  16.668659  14.453221   \n",
       "298  13.692521  10.386375  15.839016  14.713734  14.539258  12.345527   \n",
       "299  17.094856  14.180807  18.955734  18.256131  17.877972  15.656823   \n",
       "\n",
       "           6          7          8          9    ...        290        291  \\\n",
       "0     0.910264   4.240270   3.317876   0.542366  ...  15.023898  14.130951   \n",
       "1     3.352276   7.741088   5.235087   3.593706  ...  11.573958  10.956168   \n",
       "2     3.364419   2.363982   3.853693   3.190865  ...  17.235742  16.194804   \n",
       "3     2.230409   5.092274   4.743549   1.351527  ...  15.991149  15.201070   \n",
       "4     1.758926   3.697120   3.543489   1.366397  ...  15.885652  14.959544   \n",
       "..         ...        ...        ...        ...  ...        ...        ...   \n",
       "295  15.984272  17.960287  14.939718  16.764815  ...   4.374053   3.584110   \n",
       "296  14.077290  16.533097  13.391733  14.802409  ...   2.084632   1.019702   \n",
       "297  15.007738  16.928623  13.917311  15.798371  ...   4.252796   3.094949   \n",
       "298  12.791291  15.605864  12.409470  13.464004  ...   1.508392   0.839234   \n",
       "299  16.184834  18.317031  15.256342  16.945503  ...   3.920966   3.400020   \n",
       "\n",
       "           292        293        294        295        296        297  \\\n",
       "0    13.957073  13.192637  16.324341  16.892615  14.986498  15.914594   \n",
       "1    10.894097  10.093009  13.807082  14.108634  11.903799  13.216799   \n",
       "2    15.960478  15.232450  17.961307  18.678401  16.982084  17.667077   \n",
       "3    15.062432  14.282675  17.578332  18.087592  16.090284  17.127054   \n",
       "4    14.771239  14.014432  17.048533  17.656552  15.800065  16.668659   \n",
       "..         ...        ...        ...        ...        ...        ...   \n",
       "295   3.389246   4.170755   1.409072   0.000000   2.585780   1.036118   \n",
       "296   1.029451   1.813984   3.220058   2.585780   0.000000   2.220791   \n",
       "297   2.766278   3.481050   1.002949   1.036118   2.220791   0.000000   \n",
       "298   1.259040   1.070148   4.897125   4.405840   1.822065   3.933425   \n",
       "299   3.316869   4.121107   2.121997   0.721526   2.380827   1.557499   \n",
       "\n",
       "           298        299  \n",
       "0    13.692521  17.094856  \n",
       "1    10.386375  14.180807  \n",
       "2    15.839016  18.955734  \n",
       "3    14.713734  18.256131  \n",
       "4    14.539258  17.877972  \n",
       "..         ...        ...  \n",
       "295   4.405840   0.721526  \n",
       "296   1.822065   2.380827  \n",
       "297   3.933425   1.557499  \n",
       "298   0.000000   4.178283  \n",
       "299   4.178283   0.000000  \n",
       "\n",
       "[300 rows x 300 columns]"
      ]
     },
     "execution_count": 27,
     "metadata": {},
     "output_type": "execute_result"
    }
   ],
   "source": [
    "DisMatSimx = pd.DataFrame(MatSimx)\n",
    "DisMatSimx"
   ]
  },
  {
   "cell_type": "code",
   "execution_count": 28,
   "metadata": {},
   "outputs": [],
   "source": [
    "z = hierarchy.linkage(x,metric='euclidean', method='ward')"
   ]
  },
  {
   "cell_type": "code",
   "execution_count": 29,
   "metadata": {},
   "outputs": [
    {
     "data": {
      "text/plain": [
       "array([[2.53000000e+02, 2.76000000e+02, 3.87241856e-02, 2.00000000e+00],\n",
       "       [2.13000000e+02, 2.70000000e+02, 3.95681113e-02, 2.00000000e+00],\n",
       "       [2.25000000e+02, 2.43000000e+02, 4.40299241e-02, 2.00000000e+00],\n",
       "       ...,\n",
       "       [5.88000000e+02, 5.91000000e+02, 1.98197761e+01, 1.00000000e+02],\n",
       "       [5.94000000e+02, 5.95000000e+02, 1.42535640e+02, 2.00000000e+02],\n",
       "       [5.96000000e+02, 5.97000000e+02, 1.84049586e+02, 3.00000000e+02]])"
      ]
     },
     "execution_count": 29,
     "metadata": {},
     "output_type": "execute_result"
    }
   ],
   "source": [
    "z"
   ]
  },
  {
   "cell_type": "code",
   "execution_count": 31,
   "metadata": {},
   "outputs": [
    {
     "data": {
      "text/plain": [
       "Text(0, 0.5, 'Distancia o medida de similitud')"
      ]
     },
     "execution_count": 31,
     "metadata": {},
     "output_type": "execute_result"
    },
    {
     "data": {
      "image/png": "[encoded data removed]",
      "text/plain": [
       "<Figure size 432x288 with 1 Axes>"
      ]
     },
     "metadata": {
      "needs_background": "light"
     },
     "output_type": "display_data"
    }
   ],
   "source": [
    "dn = hierarchy.dendrogram(z)\n",
    "plt.title('Dendograma completo')\n",
    "plt.xlabel('Indice de la muestra')\n",
    "plt.ylabel('Distancia o medida de similitud')"
   ]
  },
  {
   "cell_type": "markdown",
   "metadata": {},
   "source": [
    "## Criterios de selección de grupos\n"
   ]
  },
  {
   "cell_type": "code",
   "execution_count": 33,
   "metadata": {},
   "outputs": [],
   "source": [
    "# Criterio del dendrograma\n",
    "gruposmax = 3\n",
    "grupos = hierarchy.fcluster(z,gruposmax, criterion='maxclust')\n"
   ]
  },
  {
   "cell_type": "code",
   "execution_count": 34,
   "metadata": {},
   "outputs": [
    {
     "data": {
      "text/plain": [
       "array([3, 3, 3, 3, 3, 3, 3, 3, 3, 3, 3, 3, 3, 3, 3, 3, 3, 3, 3, 3, 3, 3,\n",
       "       3, 3, 3, 3, 3, 3, 3, 3, 3, 3, 3, 3, 3, 3, 3, 3, 3, 3, 3, 3, 3, 3,\n",
       "       3, 3, 3, 3, 3, 3, 3, 3, 3, 3, 3, 3, 3, 3, 3, 3, 3, 3, 3, 3, 3, 3,\n",
       "       3, 3, 3, 3, 3, 3, 3, 3, 3, 3, 3, 3, 3, 3, 3, 3, 3, 3, 3, 3, 3, 3,\n",
       "       3, 3, 3, 3, 3, 3, 3, 3, 3, 3, 3, 3, 1, 1, 1, 1, 1, 1, 1, 1, 1, 1,\n",
       "       1, 1, 1, 1, 1, 1, 1, 1, 1, 1, 1, 1, 1, 1, 1, 1, 1, 1, 1, 1, 1, 1,\n",
       "       1, 1, 1, 1, 1, 1, 1, 1, 1, 1, 1, 1, 1, 1, 1, 1, 1, 1, 1, 1, 1, 1,\n",
       "       1, 1, 1, 1, 1, 1, 1, 1, 1, 1, 1, 1, 1, 1, 1, 1, 1, 1, 1, 1, 1, 1,\n",
       "       1, 1, 1, 1, 1, 1, 1, 1, 1, 1, 1, 1, 1, 1, 1, 1, 1, 1, 1, 1, 1, 1,\n",
       "       1, 1, 2, 2, 2, 2, 2, 2, 2, 2, 2, 2, 2, 2, 2, 2, 2, 2, 2, 2, 2, 2,\n",
       "       2, 2, 2, 2, 2, 2, 2, 2, 2, 2, 2, 2, 2, 2, 2, 2, 2, 2, 2, 2, 2, 2,\n",
       "       2, 2, 2, 2, 2, 2, 2, 2, 2, 2, 2, 2, 2, 2, 2, 2, 2, 2, 2, 2, 2, 2,\n",
       "       2, 2, 2, 2, 2, 2, 2, 2, 2, 2, 2, 2, 2, 2, 2, 2, 2, 2, 2, 2, 2, 2,\n",
       "       2, 2, 2, 2, 2, 2, 2, 2, 2, 2, 2, 2, 2, 2], dtype=int32)"
      ]
     },
     "execution_count": 34,
     "metadata": {},
     "output_type": "execute_result"
    }
   ],
   "source": [
    "grupos"
   ]
  },
  {
   "cell_type": "code",
   "execution_count": 36,
   "metadata": {},
   "outputs": [
    {
     "data": {
      "text/plain": [
       "((300, 2), (300,))"
      ]
     },
     "execution_count": 36,
     "metadata": {},
     "output_type": "execute_result"
    }
   ],
   "source": [
    "x.shape, grupos.shape"
   ]
  },
  {
   "cell_type": "code",
   "execution_count": 37,
   "metadata": {},
   "outputs": [
    {
     "data": {
      "image/png": "[encoded data removed]",
      "text/plain": [
       "<Figure size 576x432 with 1 Axes>"
      ]
     },
     "metadata": {
      "needs_background": "light"
     },
     "output_type": "display_data"
    }
   ],
   "source": [
    "plt.figure(figsize=(8,6))\n",
    "plt.scatter(x[:,0], x[:,1], c=grupos)\n",
    "plt.xlabel('$x$')\n",
    "plt.ylabel('$y$')\n",
    "plt.grid()\n",
    "plt.show()"
   ]
  },
  {
   "cell_type": "code",
   "execution_count": 38,
   "metadata": {},
   "outputs": [
    {
     "data": {
      "text/plain": [
       "array([5, 5, 5, 5, 5, 5, 5, 4, 4, 5, 5, 5, 5, 5, 5, 5, 4, 4, 5, 5, 5, 4,\n",
       "       5, 4, 5, 4, 4, 5, 5, 5, 5, 5, 5, 5, 5, 5, 5, 5, 4, 5, 5, 5, 4, 4,\n",
       "       4, 5, 5, 5, 5, 4, 5, 4, 5, 5, 5, 5, 5, 4, 5, 5, 4, 5, 5, 5, 5, 5,\n",
       "       4, 5, 5, 5, 5, 4, 5, 5, 4, 5, 4, 5, 5, 5, 4, 5, 5, 4, 5, 5, 5, 5,\n",
       "       5, 4, 5, 4, 5, 4, 5, 5, 4, 5, 5, 4, 2, 2, 2, 2, 1, 2, 2, 2, 2, 2,\n",
       "       2, 1, 2, 2, 2, 1, 2, 1, 2, 2, 2, 2, 1, 1, 2, 2, 2, 2, 2, 2, 2, 2,\n",
       "       2, 1, 2, 1, 2, 2, 2, 2, 2, 2, 1, 1, 2, 2, 2, 1, 2, 1, 1, 2, 2, 2,\n",
       "       1, 1, 2, 2, 2, 1, 2, 2, 1, 2, 2, 2, 2, 2, 1, 2, 2, 1, 1, 2, 2, 2,\n",
       "       1, 2, 2, 2, 1, 2, 2, 2, 2, 2, 2, 1, 2, 1, 2, 1, 1, 2, 1, 2, 2, 2,\n",
       "       2, 1, 3, 3, 3, 3, 3, 3, 3, 3, 3, 3, 3, 3, 3, 3, 3, 3, 3, 3, 3, 3,\n",
       "       3, 3, 3, 3, 3, 3, 3, 3, 3, 3, 3, 3, 3, 3, 3, 3, 3, 3, 3, 3, 3, 3,\n",
       "       3, 3, 3, 3, 3, 3, 3, 3, 3, 3, 3, 3, 3, 3, 3, 3, 3, 3, 3, 3, 3, 3,\n",
       "       3, 3, 3, 3, 3, 3, 3, 3, 3, 3, 3, 3, 3, 3, 3, 3, 3, 3, 3, 3, 3, 3,\n",
       "       3, 3, 3, 3, 3, 3, 3, 3, 3, 3, 3, 3, 3, 3], dtype=int32)"
      ]
     },
     "execution_count": 38,
     "metadata": {},
     "output_type": "execute_result"
    }
   ],
   "source": [
    "gruposmax = 5\n",
    "grupos = hierarchy.fcluster(z,gruposmax, criterion='maxclust')\n",
    "grupos"
   ]
  },
  {
   "cell_type": "code",
   "execution_count": 39,
   "metadata": {},
   "outputs": [
    {
     "data": {
      "image/png": "[encoded data removed]",
      "text/plain": [
       "<Figure size 576x432 with 1 Axes>"
      ]
     },
     "metadata": {
      "needs_background": "light"
     },
     "output_type": "display_data"
    }
   ],
   "source": [
    "plt.figure(figsize=(8,6))\n",
    "plt.scatter(x[:,0], x[:,1], c=grupos)\n",
    "plt.xlabel('$x$')\n",
    "plt.ylabel('$y$')\n",
    "plt.grid()\n",
    "plt.show()"
   ]
  },
  {
   "cell_type": "markdown",
   "metadata": {},
   "source": [
    "## Otros criterios de selección"
   ]
  },
  {
   "cell_type": "markdown",
   "metadata": {},
   "source": [
    "### Criterio del Codo (1er criterio)\n"
   ]
  },
  {
   "cell_type": "code",
   "execution_count": 40,
   "metadata": {},
   "outputs": [
    {
     "data": {
      "text/plain": [
       "(299, 4)"
      ]
     },
     "execution_count": 40,
     "metadata": {},
     "output_type": "execute_result"
    }
   ],
   "source": [
    "# Gráfica del codo\n",
    "z.shape"
   ]
  },
  {
   "cell_type": "code",
   "execution_count": 48,
   "metadata": {},
   "outputs": [],
   "source": [
    "last = z[-10:,2]\n",
    "last_rev = last[::-1]\n",
    "idxs = np.arange(1,len(last_rev)+1)"
   ]
  },
  {
   "cell_type": "code",
   "execution_count": 49,
   "metadata": {},
   "outputs": [
    {
     "data": {
      "image/png": "[encoded data removed]",
      "text/plain": [
       "<Figure size 432x288 with 1 Axes>"
      ]
     },
     "metadata": {
      "needs_background": "light"
     },
     "output_type": "display_data"
    }
   ],
   "source": [
    "# Graficar critero del codo\n",
    "plt.figure(figsize=(6,4))\n",
    "plt.plot(idxs, last_rev)\n",
    "plt.xlabel('Grupos')\n",
    "plt.ylabel('Distancia de similitud')\n",
    "plt.grid()\n",
    "plt.show()"
   ]
  },
  {
   "cell_type": "code",
   "execution_count": 52,
   "metadata": {},
   "outputs": [],
   "source": [
    "# Función que gener y grafique el criterio del codo\n",
    "def criterio_codo(z,num_g = 15):\n",
    "    last = z[-num_g:,2]\n",
    "    last_rev = last[::-1]\n",
    "    idxs = np.arange(1,len(last_rev)+1)\n",
    "    \n",
    "    #grupomax = np.argmax()\n",
    "    #print(f'El número de grupos sugerido es: {grupomax}')\n",
    "    \n",
    "    # Graficar critero del codo\n",
    "    plt.figure(figsize=(6,4))\n",
    "    plt.plot(idxs, last_rev)\n",
    "    plt.xlabel('Grupos')\n",
    "    plt.ylabel('Distancia de similitud')\n",
    "    plt.grid()\n",
    "    plt.show()"
   ]
  },
  {
   "cell_type": "code",
   "execution_count": 53,
   "metadata": {},
   "outputs": [
    {
     "data": {
      "image/png": "[encoded data removed]",
      "text/plain": [
       "<Figure size 432x288 with 1 Axes>"
      ]
     },
     "metadata": {
      "needs_background": "light"
     },
     "output_type": "display_data"
    }
   ],
   "source": [
    "criterio_codo(z, 15)"
   ]
  },
  {
   "cell_type": "markdown",
   "metadata": {},
   "source": [
    "### Criterio del gradiente\n"
   ]
  },
  {
   "cell_type": "code",
   "execution_count": 66,
   "metadata": {},
   "outputs": [],
   "source": [
    "last = z[-15:,2]\n",
    "gradiente = np.diff(last)\n",
    "grad_rev = gradiente[::-1]\n",
    "idxs = np.arange(1,len(last)+1)"
   ]
  },
  {
   "cell_type": "code",
   "execution_count": 65,
   "metadata": {},
   "outputs": [
    {
     "data": {
      "text/plain": [
       "(15,)"
      ]
     },
     "execution_count": 65,
     "metadata": {},
     "output_type": "execute_result"
    }
   ],
   "source": [
    "last.shape"
   ]
  },
  {
   "cell_type": "code",
   "execution_count": 62,
   "metadata": {},
   "outputs": [
    {
     "data": {
      "text/plain": [
       "(14,)"
      ]
     },
     "execution_count": 62,
     "metadata": {},
     "output_type": "execute_result"
    }
   ],
   "source": [
    "grad_rev.shape"
   ]
  },
  {
   "cell_type": "code",
   "execution_count": 63,
   "metadata": {},
   "outputs": [
    {
     "data": {
      "text/plain": [
       "(14,)"
      ]
     },
     "execution_count": 63,
     "metadata": {},
     "output_type": "execute_result"
    }
   ],
   "source": [
    "idxs.shape"
   ]
  },
  {
   "cell_type": "code",
   "execution_count": 67,
   "metadata": {},
   "outputs": [
    {
     "data": {
      "image/png": "[encoded data removed]",
      "text/plain": [
       "<Figure size 432x288 with 1 Axes>"
      ]
     },
     "metadata": {
      "needs_background": "light"
     },
     "output_type": "display_data"
    }
   ],
   "source": [
    "plt.figure(figsize=(6,4))\n",
    "plt.plot(idxs[1:], grad_rev)\n",
    "plt.xlabel('Grupos')\n",
    "plt.ylabel('Distancia de similitud')\n",
    "plt.grid()\n",
    "plt.show()"
   ]
  },
  {
   "cell_type": "code",
   "execution_count": 68,
   "metadata": {},
   "outputs": [],
   "source": [
    "def criterio_gradiente(z, num_g=15):\n",
    "    last = z[-num_g:,2]\n",
    "    gradiente = np.diff(last)\n",
    "    grad_rev = gradiente[::-1]\n",
    "    idxs = np.arange(1,len(last)+1)\n",
    "    \n",
    "    plt.figure(figsize=(6,4))\n",
    "    plt.plot(idxs[1:], grad_rev)\n",
    "    plt.xlabel('Grupos')\n",
    "    plt.ylabel('Distancia de similitud')\n",
    "    plt.grid()\n",
    "    plt.show()"
   ]
  },
  {
   "cell_type": "code",
   "execution_count": 69,
   "metadata": {},
   "outputs": [
    {
     "data": {
      "image/png": "[encoded data removed]",
      "text/plain": [
       "<Figure size 432x288 with 1 Axes>"
      ]
     },
     "metadata": {
      "needs_background": "light"
     },
     "output_type": "display_data"
    }
   ],
   "source": [
    "criterio_gradiente(z,10)"
   ]
  },
  {
   "cell_type": "markdown",
   "metadata": {},
   "source": [
    "## Aplicar número de grupos opt"
   ]
  },
  {
   "cell_type": "code",
   "execution_count": 70,
   "metadata": {},
   "outputs": [
    {
     "data": {
      "image/png": "[encoded data removed]",
      "text/plain": [
       "<Figure size 576x432 with 1 Axes>"
      ]
     },
     "metadata": {
      "needs_background": "light"
     },
     "output_type": "display_data"
    }
   ],
   "source": [
    "gruposmax = 3\n",
    "grupos = hierarchy.fcluster(z,gruposmax, criterion='maxclust')\n",
    "\n",
    "plt.figure(figsize=(8,6))\n",
    "plt.scatter(x[:,0], x[:,1], c=grupos)\n",
    "plt.xlabel('$x$')\n",
    "plt.ylabel('$y$')\n",
    "plt.grid()\n",
    "plt.show()"
   ]
  },
  {
   "cell_type": "markdown",
   "metadata": {},
   "source": [
    "## Ejemplo 2: \n",
    "\n",
    "Consideremos el datasety `shopping-data.csv`, este dataset contiene información sobre el ingreso anual y gastos de clientes de una empresa.\n",
    "\n",
    "Conservaremos las columnas Ingresos anuales (en miles de dólares) y Puntuación de gastos (1-100). La columna Spending Score indica la frecuencia con la que una persona gasta dinero en un centro comercial en una escala del 1 al 100, siendo 100 el que más gasta."
   ]
  },
  {
   "cell_type": "code",
   "execution_count": 72,
   "metadata": {
    "scrolled": true
   },
   "outputs": [
    {
     "data": {
      "text/html": [
       "<div>\n",
       "<style scoped>\n",
       "    .dataframe tbody tr th:only-of-type {\n",
       "        vertical-align: middle;\n",
       "    }\n",
       "\n",
       "    .dataframe tbody tr th {\n",
       "        vertical-align: top;\n",
       "    }\n",
       "\n",
       "    .dataframe thead th {\n",
       "        text-align: right;\n",
       "    }\n",
       "</style>\n",
       "<table border=\"1\" class=\"dataframe\">\n",
       "  <thead>\n",
       "    <tr style=\"text-align: right;\">\n",
       "      <th></th>\n",
       "      <th>CustomerID</th>\n",
       "      <th>Genre</th>\n",
       "      <th>Age</th>\n",
       "      <th>Annual Income (k$)</th>\n",
       "      <th>Spending Score (1-100)</th>\n",
       "    </tr>\n",
       "  </thead>\n",
       "  <tbody>\n",
       "    <tr>\n",
       "      <th>0</th>\n",
       "      <td>1</td>\n",
       "      <td>Male</td>\n",
       "      <td>19</td>\n",
       "      <td>15</td>\n",
       "      <td>39</td>\n",
       "    </tr>\n",
       "    <tr>\n",
       "      <th>1</th>\n",
       "      <td>2</td>\n",
       "      <td>Male</td>\n",
       "      <td>21</td>\n",
       "      <td>15</td>\n",
       "      <td>81</td>\n",
       "    </tr>\n",
       "    <tr>\n",
       "      <th>2</th>\n",
       "      <td>3</td>\n",
       "      <td>Female</td>\n",
       "      <td>20</td>\n",
       "      <td>16</td>\n",
       "      <td>6</td>\n",
       "    </tr>\n",
       "    <tr>\n",
       "      <th>3</th>\n",
       "      <td>4</td>\n",
       "      <td>Female</td>\n",
       "      <td>23</td>\n",
       "      <td>16</td>\n",
       "      <td>77</td>\n",
       "    </tr>\n",
       "    <tr>\n",
       "      <th>4</th>\n",
       "      <td>5</td>\n",
       "      <td>Female</td>\n",
       "      <td>31</td>\n",
       "      <td>17</td>\n",
       "      <td>40</td>\n",
       "    </tr>\n",
       "    <tr>\n",
       "      <th>...</th>\n",
       "      <td>...</td>\n",
       "      <td>...</td>\n",
       "      <td>...</td>\n",
       "      <td>...</td>\n",
       "      <td>...</td>\n",
       "    </tr>\n",
       "    <tr>\n",
       "      <th>195</th>\n",
       "      <td>196</td>\n",
       "      <td>Female</td>\n",
       "      <td>35</td>\n",
       "      <td>120</td>\n",
       "      <td>79</td>\n",
       "    </tr>\n",
       "    <tr>\n",
       "      <th>196</th>\n",
       "      <td>197</td>\n",
       "      <td>Female</td>\n",
       "      <td>45</td>\n",
       "      <td>126</td>\n",
       "      <td>28</td>\n",
       "    </tr>\n",
       "    <tr>\n",
       "      <th>197</th>\n",
       "      <td>198</td>\n",
       "      <td>Male</td>\n",
       "      <td>32</td>\n",
       "      <td>126</td>\n",
       "      <td>74</td>\n",
       "    </tr>\n",
       "    <tr>\n",
       "      <th>198</th>\n",
       "      <td>199</td>\n",
       "      <td>Male</td>\n",
       "      <td>32</td>\n",
       "      <td>137</td>\n",
       "      <td>18</td>\n",
       "    </tr>\n",
       "    <tr>\n",
       "      <th>199</th>\n",
       "      <td>200</td>\n",
       "      <td>Male</td>\n",
       "      <td>30</td>\n",
       "      <td>137</td>\n",
       "      <td>83</td>\n",
       "    </tr>\n",
       "  </tbody>\n",
       "</table>\n",
       "<p>200 rows × 5 columns</p>\n",
       "</div>"
      ],
      "text/plain": [
       "     CustomerID   Genre  Age  Annual Income (k$)  Spending Score (1-100)\n",
       "0             1    Male   19                  15                      39\n",
       "1             2    Male   21                  15                      81\n",
       "2             3  Female   20                  16                       6\n",
       "3             4  Female   23                  16                      77\n",
       "4             5  Female   31                  17                      40\n",
       "..          ...     ...  ...                 ...                     ...\n",
       "195         196  Female   35                 120                      79\n",
       "196         197  Female   45                 126                      28\n",
       "197         198    Male   32                 126                      74\n",
       "198         199    Male   32                 137                      18\n",
       "199         200    Male   30                 137                      83\n",
       "\n",
       "[200 rows x 5 columns]"
      ]
     },
     "execution_count": 72,
     "metadata": {},
     "output_type": "execute_result"
    }
   ],
   "source": [
    "data = pd.read_csv('Data/shopping-data.csv')\n",
    "data"
   ]
  },
  {
   "cell_type": "code",
   "execution_count": 74,
   "metadata": {},
   "outputs": [
    {
     "name": "stdout",
     "output_type": "stream",
     "text": [
      "<class 'pandas.core.frame.DataFrame'>\n",
      "RangeIndex: 200 entries, 0 to 199\n",
      "Data columns (total 5 columns):\n",
      " #   Column                  Non-Null Count  Dtype \n",
      "---  ------                  --------------  ----- \n",
      " 0   CustomerID              200 non-null    int64 \n",
      " 1   Genre                   200 non-null    object\n",
      " 2   Age                     200 non-null    int64 \n",
      " 3   Annual Income (k$)      200 non-null    int64 \n",
      " 4   Spending Score (1-100)  200 non-null    int64 \n",
      "dtypes: int64(4), object(1)\n",
      "memory usage: 7.9+ KB\n"
     ]
    }
   ],
   "source": [
    "data.info()"
   ]
  },
  {
   "cell_type": "code",
   "execution_count": 75,
   "metadata": {},
   "outputs": [
    {
     "data": {
      "text/html": [
       "<div>\n",
       "<style scoped>\n",
       "    .dataframe tbody tr th:only-of-type {\n",
       "        vertical-align: middle;\n",
       "    }\n",
       "\n",
       "    .dataframe tbody tr th {\n",
       "        vertical-align: top;\n",
       "    }\n",
       "\n",
       "    .dataframe thead th {\n",
       "        text-align: right;\n",
       "    }\n",
       "</style>\n",
       "<table border=\"1\" class=\"dataframe\">\n",
       "  <thead>\n",
       "    <tr style=\"text-align: right;\">\n",
       "      <th></th>\n",
       "      <th>CustomerID</th>\n",
       "      <th>Age</th>\n",
       "      <th>Annual Income (k$)</th>\n",
       "      <th>Spending Score (1-100)</th>\n",
       "    </tr>\n",
       "  </thead>\n",
       "  <tbody>\n",
       "    <tr>\n",
       "      <th>count</th>\n",
       "      <td>200.000000</td>\n",
       "      <td>200.000000</td>\n",
       "      <td>200.000000</td>\n",
       "      <td>200.000000</td>\n",
       "    </tr>\n",
       "    <tr>\n",
       "      <th>mean</th>\n",
       "      <td>100.500000</td>\n",
       "      <td>38.850000</td>\n",
       "      <td>60.560000</td>\n",
       "      <td>50.200000</td>\n",
       "    </tr>\n",
       "    <tr>\n",
       "      <th>std</th>\n",
       "      <td>57.879185</td>\n",
       "      <td>13.969007</td>\n",
       "      <td>26.264721</td>\n",
       "      <td>25.823522</td>\n",
       "    </tr>\n",
       "    <tr>\n",
       "      <th>min</th>\n",
       "      <td>1.000000</td>\n",
       "      <td>18.000000</td>\n",
       "      <td>15.000000</td>\n",
       "      <td>1.000000</td>\n",
       "    </tr>\n",
       "    <tr>\n",
       "      <th>25%</th>\n",
       "      <td>50.750000</td>\n",
       "      <td>28.750000</td>\n",
       "      <td>41.500000</td>\n",
       "      <td>34.750000</td>\n",
       "    </tr>\n",
       "    <tr>\n",
       "      <th>50%</th>\n",
       "      <td>100.500000</td>\n",
       "      <td>36.000000</td>\n",
       "      <td>61.500000</td>\n",
       "      <td>50.000000</td>\n",
       "    </tr>\n",
       "    <tr>\n",
       "      <th>75%</th>\n",
       "      <td>150.250000</td>\n",
       "      <td>49.000000</td>\n",
       "      <td>78.000000</td>\n",
       "      <td>73.000000</td>\n",
       "    </tr>\n",
       "    <tr>\n",
       "      <th>max</th>\n",
       "      <td>200.000000</td>\n",
       "      <td>70.000000</td>\n",
       "      <td>137.000000</td>\n",
       "      <td>99.000000</td>\n",
       "    </tr>\n",
       "  </tbody>\n",
       "</table>\n",
       "</div>"
      ],
      "text/plain": [
       "       CustomerID         Age  Annual Income (k$)  Spending Score (1-100)\n",
       "count  200.000000  200.000000          200.000000              200.000000\n",
       "mean   100.500000   38.850000           60.560000               50.200000\n",
       "std     57.879185   13.969007           26.264721               25.823522\n",
       "min      1.000000   18.000000           15.000000                1.000000\n",
       "25%     50.750000   28.750000           41.500000               34.750000\n",
       "50%    100.500000   36.000000           61.500000               50.000000\n",
       "75%    150.250000   49.000000           78.000000               73.000000\n",
       "max    200.000000   70.000000          137.000000               99.000000"
      ]
     },
     "execution_count": 75,
     "metadata": {},
     "output_type": "execute_result"
    }
   ],
   "source": [
    "data.describe()"
   ]
  },
  {
   "cell_type": "code",
   "execution_count": 77,
   "metadata": {},
   "outputs": [
    {
     "data": {
      "text/html": [
       "<div>\n",
       "<style scoped>\n",
       "    .dataframe tbody tr th:only-of-type {\n",
       "        vertical-align: middle;\n",
       "    }\n",
       "\n",
       "    .dataframe tbody tr th {\n",
       "        vertical-align: top;\n",
       "    }\n",
       "\n",
       "    .dataframe thead th {\n",
       "        text-align: right;\n",
       "    }\n",
       "</style>\n",
       "<table border=\"1\" class=\"dataframe\">\n",
       "  <thead>\n",
       "    <tr style=\"text-align: right;\">\n",
       "      <th></th>\n",
       "      <th>Age</th>\n",
       "      <th>Annual Income (k$)</th>\n",
       "      <th>Spending Score (1-100)</th>\n",
       "    </tr>\n",
       "  </thead>\n",
       "  <tbody>\n",
       "    <tr>\n",
       "      <th>0</th>\n",
       "      <td>19</td>\n",
       "      <td>15</td>\n",
       "      <td>39</td>\n",
       "    </tr>\n",
       "    <tr>\n",
       "      <th>1</th>\n",
       "      <td>21</td>\n",
       "      <td>15</td>\n",
       "      <td>81</td>\n",
       "    </tr>\n",
       "    <tr>\n",
       "      <th>2</th>\n",
       "      <td>20</td>\n",
       "      <td>16</td>\n",
       "      <td>6</td>\n",
       "    </tr>\n",
       "    <tr>\n",
       "      <th>3</th>\n",
       "      <td>23</td>\n",
       "      <td>16</td>\n",
       "      <td>77</td>\n",
       "    </tr>\n",
       "    <tr>\n",
       "      <th>4</th>\n",
       "      <td>31</td>\n",
       "      <td>17</td>\n",
       "      <td>40</td>\n",
       "    </tr>\n",
       "  </tbody>\n",
       "</table>\n",
       "</div>"
      ],
      "text/plain": [
       "   Age  Annual Income (k$)  Spending Score (1-100)\n",
       "0   19                  15                      39\n",
       "1   21                  15                      81\n",
       "2   20                  16                       6\n",
       "3   23                  16                      77\n",
       "4   31                  17                      40"
      ]
     },
     "execution_count": 77,
     "metadata": {},
     "output_type": "execute_result"
    }
   ],
   "source": [
    "data_clientes = data[['Age', 'Annual Income (k$)', 'Spending Score (1-100)']]\n",
    "data_clientes.head()"
   ]
  },
  {
   "cell_type": "code",
   "execution_count": 78,
   "metadata": {},
   "outputs": [
    {
     "data": {
      "image/png": "[encoded data removed]",
      "text/plain": [
       "<Figure size 432x288 with 1 Axes>"
      ]
     },
     "metadata": {
      "needs_background": "light"
     },
     "output_type": "display_data"
    }
   ],
   "source": [
    "plt.figure(figsize=(6,4))\n",
    "plt.scatter(data_clientes.iloc[:,1],data_clientes.iloc[:,2])\n",
    "plt.xlabel('Annual Income (k$)')\n",
    "plt.ylabel('Spending Score (1-100)')\n",
    "plt.grid()\n",
    "plt.show()"
   ]
  },
  {
   "cell_type": "code",
   "execution_count": 79,
   "metadata": {},
   "outputs": [
    {
     "data": {
      "image/png": "[encoded data removed]",
      "text/plain": [
       "<Figure size 432x288 with 1 Axes>"
      ]
     },
     "metadata": {
      "needs_background": "light"
     },
     "output_type": "display_data"
    }
   ],
   "source": [
    "plt.figure(figsize=(6,4))\n",
    "plt.scatter(data_clientes.iloc[:,0],data_clientes.iloc[:,2])\n",
    "plt.xlabel('Age')\n",
    "plt.ylabel('Spending Score (1-100)')\n",
    "plt.grid()\n",
    "plt.show()"
   ]
  },
  {
   "cell_type": "code",
   "execution_count": 80,
   "metadata": {},
   "outputs": [
    {
     "data": {
      "image/png": "[encoded data removed]",
      "text/plain": [
       "<Figure size 432x288 with 1 Axes>"
      ]
     },
     "metadata": {
      "needs_background": "light"
     },
     "output_type": "display_data"
    }
   ],
   "source": [
    "plt.figure(figsize=(6,4))\n",
    "plt.scatter(data_clientes.iloc[:,0],data_clientes.iloc[:,1])\n",
    "plt.xlabel('Age')\n",
    "plt.ylabel('Annual Income (k$)')\n",
    "plt.grid()\n",
    "plt.show()"
   ]
  },
  {
   "cell_type": "code",
   "execution_count": 82,
   "metadata": {},
   "outputs": [
    {
     "data": {
      "text/plain": [
       "array([[ 19,  15,  39],\n",
       "       [ 21,  15,  81],\n",
       "       [ 20,  16,   6],\n",
       "       [ 23,  16,  77],\n",
       "       [ 31,  17,  40],\n",
       "       [ 22,  17,  76],\n",
       "       [ 35,  18,   6],\n",
       "       [ 23,  18,  94],\n",
       "       [ 64,  19,   3],\n",
       "       [ 30,  19,  72],\n",
       "       [ 67,  19,  14],\n",
       "       [ 35,  19,  99],\n",
       "       [ 58,  20,  15],\n",
       "       [ 24,  20,  77],\n",
       "       [ 37,  20,  13],\n",
       "       [ 22,  20,  79],\n",
       "       [ 35,  21,  35],\n",
       "       [ 20,  21,  66],\n",
       "       [ 52,  23,  29],\n",
       "       [ 35,  23,  98],\n",
       "       [ 35,  24,  35],\n",
       "       [ 25,  24,  73],\n",
       "       [ 46,  25,   5],\n",
       "       [ 31,  25,  73],\n",
       "       [ 54,  28,  14],\n",
       "       [ 29,  28,  82],\n",
       "       [ 45,  28,  32],\n",
       "       [ 35,  28,  61],\n",
       "       [ 40,  29,  31],\n",
       "       [ 23,  29,  87],\n",
       "       [ 60,  30,   4],\n",
       "       [ 21,  30,  73],\n",
       "       [ 53,  33,   4],\n",
       "       [ 18,  33,  92],\n",
       "       [ 49,  33,  14],\n",
       "       [ 21,  33,  81],\n",
       "       [ 42,  34,  17],\n",
       "       [ 30,  34,  73],\n",
       "       [ 36,  37,  26],\n",
       "       [ 20,  37,  75],\n",
       "       [ 65,  38,  35],\n",
       "       [ 24,  38,  92],\n",
       "       [ 48,  39,  36],\n",
       "       [ 31,  39,  61],\n",
       "       [ 49,  39,  28],\n",
       "       [ 24,  39,  65],\n",
       "       [ 50,  40,  55],\n",
       "       [ 27,  40,  47],\n",
       "       [ 29,  40,  42],\n",
       "       [ 31,  40,  42],\n",
       "       [ 49,  42,  52],\n",
       "       [ 33,  42,  60],\n",
       "       [ 31,  43,  54],\n",
       "       [ 59,  43,  60],\n",
       "       [ 50,  43,  45],\n",
       "       [ 47,  43,  41],\n",
       "       [ 51,  44,  50],\n",
       "       [ 69,  44,  46],\n",
       "       [ 27,  46,  51],\n",
       "       [ 53,  46,  46],\n",
       "       [ 70,  46,  56],\n",
       "       [ 19,  46,  55],\n",
       "       [ 67,  47,  52],\n",
       "       [ 54,  47,  59],\n",
       "       [ 63,  48,  51],\n",
       "       [ 18,  48,  59],\n",
       "       [ 43,  48,  50],\n",
       "       [ 68,  48,  48],\n",
       "       [ 19,  48,  59],\n",
       "       [ 32,  48,  47],\n",
       "       [ 70,  49,  55],\n",
       "       [ 47,  49,  42],\n",
       "       [ 60,  50,  49],\n",
       "       [ 60,  50,  56],\n",
       "       [ 59,  54,  47],\n",
       "       [ 26,  54,  54],\n",
       "       [ 45,  54,  53],\n",
       "       [ 40,  54,  48],\n",
       "       [ 23,  54,  52],\n",
       "       [ 49,  54,  42],\n",
       "       [ 57,  54,  51],\n",
       "       [ 38,  54,  55],\n",
       "       [ 67,  54,  41],\n",
       "       [ 46,  54,  44],\n",
       "       [ 21,  54,  57],\n",
       "       [ 48,  54,  46],\n",
       "       [ 55,  57,  58],\n",
       "       [ 22,  57,  55],\n",
       "       [ 34,  58,  60],\n",
       "       [ 50,  58,  46],\n",
       "       [ 68,  59,  55],\n",
       "       [ 18,  59,  41],\n",
       "       [ 48,  60,  49],\n",
       "       [ 40,  60,  40],\n",
       "       [ 32,  60,  42],\n",
       "       [ 24,  60,  52],\n",
       "       [ 47,  60,  47],\n",
       "       [ 27,  60,  50],\n",
       "       [ 48,  61,  42],\n",
       "       [ 20,  61,  49],\n",
       "       [ 23,  62,  41],\n",
       "       [ 49,  62,  48],\n",
       "       [ 67,  62,  59],\n",
       "       [ 26,  62,  55],\n",
       "       [ 49,  62,  56],\n",
       "       [ 21,  62,  42],\n",
       "       [ 66,  63,  50],\n",
       "       [ 54,  63,  46],\n",
       "       [ 68,  63,  43],\n",
       "       [ 66,  63,  48],\n",
       "       [ 65,  63,  52],\n",
       "       [ 19,  63,  54],\n",
       "       [ 38,  64,  42],\n",
       "       [ 19,  64,  46],\n",
       "       [ 18,  65,  48],\n",
       "       [ 19,  65,  50],\n",
       "       [ 63,  65,  43],\n",
       "       [ 49,  65,  59],\n",
       "       [ 51,  67,  43],\n",
       "       [ 50,  67,  57],\n",
       "       [ 27,  67,  56],\n",
       "       [ 38,  67,  40],\n",
       "       [ 40,  69,  58],\n",
       "       [ 39,  69,  91],\n",
       "       [ 23,  70,  29],\n",
       "       [ 31,  70,  77],\n",
       "       [ 43,  71,  35],\n",
       "       [ 40,  71,  95],\n",
       "       [ 59,  71,  11],\n",
       "       [ 38,  71,  75],\n",
       "       [ 47,  71,   9],\n",
       "       [ 39,  71,  75],\n",
       "       [ 25,  72,  34],\n",
       "       [ 31,  72,  71],\n",
       "       [ 20,  73,   5],\n",
       "       [ 29,  73,  88],\n",
       "       [ 44,  73,   7],\n",
       "       [ 32,  73,  73],\n",
       "       [ 19,  74,  10],\n",
       "       [ 35,  74,  72],\n",
       "       [ 57,  75,   5],\n",
       "       [ 32,  75,  93],\n",
       "       [ 28,  76,  40],\n",
       "       [ 32,  76,  87],\n",
       "       [ 25,  77,  12],\n",
       "       [ 28,  77,  97],\n",
       "       [ 48,  77,  36],\n",
       "       [ 32,  77,  74],\n",
       "       [ 34,  78,  22],\n",
       "       [ 34,  78,  90],\n",
       "       [ 43,  78,  17],\n",
       "       [ 39,  78,  88],\n",
       "       [ 44,  78,  20],\n",
       "       [ 38,  78,  76],\n",
       "       [ 47,  78,  16],\n",
       "       [ 27,  78,  89],\n",
       "       [ 37,  78,   1],\n",
       "       [ 30,  78,  78],\n",
       "       [ 34,  78,   1],\n",
       "       [ 30,  78,  73],\n",
       "       [ 56,  79,  35],\n",
       "       [ 29,  79,  83],\n",
       "       [ 19,  81,   5],\n",
       "       [ 31,  81,  93],\n",
       "       [ 50,  85,  26],\n",
       "       [ 36,  85,  75],\n",
       "       [ 42,  86,  20],\n",
       "       [ 33,  86,  95],\n",
       "       [ 36,  87,  27],\n",
       "       [ 32,  87,  63],\n",
       "       [ 40,  87,  13],\n",
       "       [ 28,  87,  75],\n",
       "       [ 36,  87,  10],\n",
       "       [ 36,  87,  92],\n",
       "       [ 52,  88,  13],\n",
       "       [ 30,  88,  86],\n",
       "       [ 58,  88,  15],\n",
       "       [ 27,  88,  69],\n",
       "       [ 59,  93,  14],\n",
       "       [ 35,  93,  90],\n",
       "       [ 37,  97,  32],\n",
       "       [ 32,  97,  86],\n",
       "       [ 46,  98,  15],\n",
       "       [ 29,  98,  88],\n",
       "       [ 41,  99,  39],\n",
       "       [ 30,  99,  97],\n",
       "       [ 54, 101,  24],\n",
       "       [ 28, 101,  68],\n",
       "       [ 41, 103,  17],\n",
       "       [ 36, 103,  85],\n",
       "       [ 34, 103,  23],\n",
       "       [ 32, 103,  69],\n",
       "       [ 33, 113,   8],\n",
       "       [ 38, 113,  91],\n",
       "       [ 47, 120,  16],\n",
       "       [ 35, 120,  79],\n",
       "       [ 45, 126,  28],\n",
       "       [ 32, 126,  74],\n",
       "       [ 32, 137,  18],\n",
       "       [ 30, 137,  83]], dtype=int64)"
      ]
     },
     "execution_count": 82,
     "metadata": {},
     "output_type": "execute_result"
    }
   ],
   "source": [
    "X_clientes = data_clientes.values\n",
    "X_clientes"
   ]
  },
  {
   "cell_type": "code",
   "execution_count": 83,
   "metadata": {},
   "outputs": [],
   "source": [
    "# Clustering Jerárquico\n",
    "Z = hierarchy.linkage(X_clientes, metric='euclidean', method='complete')\n"
   ]
  },
  {
   "cell_type": "code",
   "execution_count": 84,
   "metadata": {},
   "outputs": [
    {
     "data": {
      "image/png": "[encoded data removed]",
      "text/plain": [
       "<Figure size 432x288 with 1 Axes>"
      ]
     },
     "metadata": {
      "needs_background": "light"
     },
     "output_type": "display_data"
    }
   ],
   "source": [
    "#Dendrograma\n",
    "plt.figure(figsize=(6,4))\n",
    "plt.title('Dendrorama de Clientes')\n",
    "dend = hierarchy.dendrogram(Z)"
   ]
  },
  {
   "cell_type": "code",
   "execution_count": 86,
   "metadata": {},
   "outputs": [
    {
     "data": {
      "image/png": "[encoded data removed]",
      "text/plain": [
       "<Figure size 432x288 with 1 Axes>"
      ]
     },
     "metadata": {
      "needs_background": "light"
     },
     "output_type": "display_data"
    }
   ],
   "source": [
    "# 2do criterio (criterio del codo)\n",
    "criterio_codo(Z,num_g=30)"
   ]
  },
  {
   "cell_type": "code",
   "execution_count": null,
   "metadata": {},
   "outputs": [],
   "source": [
    "# 3er criterio (criterio del gradiente)\n",
    "criterio_codo(Z,num_g=30)\n"
   ]
  },
  {
   "cell_type": "code",
   "execution_count": 87,
   "metadata": {},
   "outputs": [
    {
     "data": {
      "image/png": "[encoded data removed]",
      "text/plain": [
       "<Figure size 432x288 with 1 Axes>"
      ]
     },
     "metadata": {
      "needs_background": "light"
     },
     "output_type": "display_data"
    }
   ],
   "source": [
    "criterio_gradiente(Z, num_g=30)"
   ]
  },
  {
   "cell_type": "markdown",
   "metadata": {},
   "source": []
  },
  {
   "cell_type": "code",
   "execution_count": 88,
   "metadata": {},
   "outputs": [],
   "source": [
    "grupomax=5\n",
    "grupos = hierarchy.fcluster(Z,grupomax, criterion='maxclust')"
   ]
  },
  {
   "cell_type": "code",
   "execution_count": 89,
   "metadata": {},
   "outputs": [
    {
     "data": {
      "text/plain": [
       "array([2, 1, 2, 1, 2, 1, 2, 1, 2, 1, 2, 1, 2, 1, 2, 1, 2, 1, 2, 1, 2, 1,\n",
       "       2, 1, 2, 1, 2, 3, 2, 1, 2, 1, 2, 1, 2, 1, 2, 1, 2, 1, 2, 1, 2, 3,\n",
       "       2, 3, 3, 3, 3, 3, 3, 3, 3, 3, 3, 3, 3, 3, 3, 3, 3, 3, 3, 3, 3, 3,\n",
       "       3, 3, 3, 3, 3, 3, 3, 3, 3, 3, 3, 3, 3, 3, 3, 3, 3, 3, 3, 3, 3, 3,\n",
       "       3, 3, 3, 3, 3, 3, 3, 3, 3, 3, 3, 3, 3, 3, 3, 3, 3, 3, 3, 3, 3, 3,\n",
       "       3, 3, 3, 3, 3, 3, 3, 3, 3, 3, 3, 3, 3, 4, 3, 4, 5, 4, 5, 4, 5, 4,\n",
       "       3, 4, 5, 4, 5, 4, 5, 4, 5, 4, 3, 4, 5, 4, 5, 4, 5, 4, 5, 4, 5, 4,\n",
       "       5, 4, 5, 4, 5, 4, 5, 4, 5, 4, 5, 4, 5, 4, 5, 4, 5, 4, 5, 4, 5, 4,\n",
       "       5, 4, 5, 4, 5, 4, 5, 4, 5, 4, 5, 4, 5, 4, 5, 4, 5, 4, 5, 4, 5, 4,\n",
       "       5, 4], dtype=int32)"
      ]
     },
     "execution_count": 89,
     "metadata": {},
     "output_type": "execute_result"
    }
   ],
   "source": [
    "grupos"
   ]
  },
  {
   "cell_type": "code",
   "execution_count": 90,
   "metadata": {},
   "outputs": [
    {
     "name": "stderr",
     "output_type": "stream",
     "text": [
      "C:\\Users\\uie70742\\AppData\\Local\\Temp/ipykernel_33340/2262162585.py:1: SettingWithCopyWarning: \n",
      "A value is trying to be set on a copy of a slice from a DataFrame.\n",
      "Try using .loc[row_indexer,col_indexer] = value instead\n",
      "\n",
      "See the caveats in the documentation: https://pandas.pydata.org/pandas-docs/stable/user_guide/indexing.html#returning-a-view-versus-a-copy\n",
      "  data_clientes['Cluster'] = grupos\n"
     ]
    },
    {
     "data": {
      "text/html": [
       "<div>\n",
       "<style scoped>\n",
       "    .dataframe tbody tr th:only-of-type {\n",
       "        vertical-align: middle;\n",
       "    }\n",
       "\n",
       "    .dataframe tbody tr th {\n",
       "        vertical-align: top;\n",
       "    }\n",
       "\n",
       "    .dataframe thead th {\n",
       "        text-align: right;\n",
       "    }\n",
       "</style>\n",
       "<table border=\"1\" class=\"dataframe\">\n",
       "  <thead>\n",
       "    <tr style=\"text-align: right;\">\n",
       "      <th></th>\n",
       "      <th>Age</th>\n",
       "      <th>Annual Income (k$)</th>\n",
       "      <th>Spending Score (1-100)</th>\n",
       "      <th>Cluster</th>\n",
       "    </tr>\n",
       "  </thead>\n",
       "  <tbody>\n",
       "    <tr>\n",
       "      <th>0</th>\n",
       "      <td>19</td>\n",
       "      <td>15</td>\n",
       "      <td>39</td>\n",
       "      <td>2</td>\n",
       "    </tr>\n",
       "    <tr>\n",
       "      <th>1</th>\n",
       "      <td>21</td>\n",
       "      <td>15</td>\n",
       "      <td>81</td>\n",
       "      <td>1</td>\n",
       "    </tr>\n",
       "    <tr>\n",
       "      <th>2</th>\n",
       "      <td>20</td>\n",
       "      <td>16</td>\n",
       "      <td>6</td>\n",
       "      <td>2</td>\n",
       "    </tr>\n",
       "    <tr>\n",
       "      <th>3</th>\n",
       "      <td>23</td>\n",
       "      <td>16</td>\n",
       "      <td>77</td>\n",
       "      <td>1</td>\n",
       "    </tr>\n",
       "    <tr>\n",
       "      <th>4</th>\n",
       "      <td>31</td>\n",
       "      <td>17</td>\n",
       "      <td>40</td>\n",
       "      <td>2</td>\n",
       "    </tr>\n",
       "    <tr>\n",
       "      <th>...</th>\n",
       "      <td>...</td>\n",
       "      <td>...</td>\n",
       "      <td>...</td>\n",
       "      <td>...</td>\n",
       "    </tr>\n",
       "    <tr>\n",
       "      <th>195</th>\n",
       "      <td>35</td>\n",
       "      <td>120</td>\n",
       "      <td>79</td>\n",
       "      <td>4</td>\n",
       "    </tr>\n",
       "    <tr>\n",
       "      <th>196</th>\n",
       "      <td>45</td>\n",
       "      <td>126</td>\n",
       "      <td>28</td>\n",
       "      <td>5</td>\n",
       "    </tr>\n",
       "    <tr>\n",
       "      <th>197</th>\n",
       "      <td>32</td>\n",
       "      <td>126</td>\n",
       "      <td>74</td>\n",
       "      <td>4</td>\n",
       "    </tr>\n",
       "    <tr>\n",
       "      <th>198</th>\n",
       "      <td>32</td>\n",
       "      <td>137</td>\n",
       "      <td>18</td>\n",
       "      <td>5</td>\n",
       "    </tr>\n",
       "    <tr>\n",
       "      <th>199</th>\n",
       "      <td>30</td>\n",
       "      <td>137</td>\n",
       "      <td>83</td>\n",
       "      <td>4</td>\n",
       "    </tr>\n",
       "  </tbody>\n",
       "</table>\n",
       "<p>200 rows × 4 columns</p>\n",
       "</div>"
      ],
      "text/plain": [
       "     Age  Annual Income (k$)  Spending Score (1-100)  Cluster\n",
       "0     19                  15                      39        2\n",
       "1     21                  15                      81        1\n",
       "2     20                  16                       6        2\n",
       "3     23                  16                      77        1\n",
       "4     31                  17                      40        2\n",
       "..   ...                 ...                     ...      ...\n",
       "195   35                 120                      79        4\n",
       "196   45                 126                      28        5\n",
       "197   32                 126                      74        4\n",
       "198   32                 137                      18        5\n",
       "199   30                 137                      83        4\n",
       "\n",
       "[200 rows x 4 columns]"
      ]
     },
     "execution_count": 90,
     "metadata": {},
     "output_type": "execute_result"
    }
   ],
   "source": [
    "data_clientes['Cluster'] = grupos\n",
    "data_clientes"
   ]
  },
  {
   "cell_type": "code",
   "execution_count": 91,
   "metadata": {},
   "outputs": [
    {
     "data": {
      "text/html": [
       "<div>\n",
       "<style scoped>\n",
       "    .dataframe tbody tr th:only-of-type {\n",
       "        vertical-align: middle;\n",
       "    }\n",
       "\n",
       "    .dataframe tbody tr th {\n",
       "        vertical-align: top;\n",
       "    }\n",
       "\n",
       "    .dataframe thead th {\n",
       "        text-align: right;\n",
       "    }\n",
       "</style>\n",
       "<table border=\"1\" class=\"dataframe\">\n",
       "  <thead>\n",
       "    <tr style=\"text-align: right;\">\n",
       "      <th></th>\n",
       "      <th>Age</th>\n",
       "      <th>Annual Income (k$)</th>\n",
       "      <th>Spending Score (1-100)</th>\n",
       "      <th>Cluster</th>\n",
       "    </tr>\n",
       "  </thead>\n",
       "  <tbody>\n",
       "    <tr>\n",
       "      <th>0</th>\n",
       "      <td>19</td>\n",
       "      <td>15</td>\n",
       "      <td>39</td>\n",
       "      <td>2</td>\n",
       "    </tr>\n",
       "    <tr>\n",
       "      <th>2</th>\n",
       "      <td>20</td>\n",
       "      <td>16</td>\n",
       "      <td>6</td>\n",
       "      <td>2</td>\n",
       "    </tr>\n",
       "    <tr>\n",
       "      <th>4</th>\n",
       "      <td>31</td>\n",
       "      <td>17</td>\n",
       "      <td>40</td>\n",
       "      <td>2</td>\n",
       "    </tr>\n",
       "    <tr>\n",
       "      <th>6</th>\n",
       "      <td>35</td>\n",
       "      <td>18</td>\n",
       "      <td>6</td>\n",
       "      <td>2</td>\n",
       "    </tr>\n",
       "    <tr>\n",
       "      <th>8</th>\n",
       "      <td>64</td>\n",
       "      <td>19</td>\n",
       "      <td>3</td>\n",
       "      <td>2</td>\n",
       "    </tr>\n",
       "    <tr>\n",
       "      <th>10</th>\n",
       "      <td>67</td>\n",
       "      <td>19</td>\n",
       "      <td>14</td>\n",
       "      <td>2</td>\n",
       "    </tr>\n",
       "    <tr>\n",
       "      <th>12</th>\n",
       "      <td>58</td>\n",
       "      <td>20</td>\n",
       "      <td>15</td>\n",
       "      <td>2</td>\n",
       "    </tr>\n",
       "    <tr>\n",
       "      <th>14</th>\n",
       "      <td>37</td>\n",
       "      <td>20</td>\n",
       "      <td>13</td>\n",
       "      <td>2</td>\n",
       "    </tr>\n",
       "    <tr>\n",
       "      <th>16</th>\n",
       "      <td>35</td>\n",
       "      <td>21</td>\n",
       "      <td>35</td>\n",
       "      <td>2</td>\n",
       "    </tr>\n",
       "    <tr>\n",
       "      <th>18</th>\n",
       "      <td>52</td>\n",
       "      <td>23</td>\n",
       "      <td>29</td>\n",
       "      <td>2</td>\n",
       "    </tr>\n",
       "    <tr>\n",
       "      <th>20</th>\n",
       "      <td>35</td>\n",
       "      <td>24</td>\n",
       "      <td>35</td>\n",
       "      <td>2</td>\n",
       "    </tr>\n",
       "    <tr>\n",
       "      <th>22</th>\n",
       "      <td>46</td>\n",
       "      <td>25</td>\n",
       "      <td>5</td>\n",
       "      <td>2</td>\n",
       "    </tr>\n",
       "    <tr>\n",
       "      <th>24</th>\n",
       "      <td>54</td>\n",
       "      <td>28</td>\n",
       "      <td>14</td>\n",
       "      <td>2</td>\n",
       "    </tr>\n",
       "    <tr>\n",
       "      <th>26</th>\n",
       "      <td>45</td>\n",
       "      <td>28</td>\n",
       "      <td>32</td>\n",
       "      <td>2</td>\n",
       "    </tr>\n",
       "    <tr>\n",
       "      <th>28</th>\n",
       "      <td>40</td>\n",
       "      <td>29</td>\n",
       "      <td>31</td>\n",
       "      <td>2</td>\n",
       "    </tr>\n",
       "    <tr>\n",
       "      <th>30</th>\n",
       "      <td>60</td>\n",
       "      <td>30</td>\n",
       "      <td>4</td>\n",
       "      <td>2</td>\n",
       "    </tr>\n",
       "    <tr>\n",
       "      <th>32</th>\n",
       "      <td>53</td>\n",
       "      <td>33</td>\n",
       "      <td>4</td>\n",
       "      <td>2</td>\n",
       "    </tr>\n",
       "    <tr>\n",
       "      <th>34</th>\n",
       "      <td>49</td>\n",
       "      <td>33</td>\n",
       "      <td>14</td>\n",
       "      <td>2</td>\n",
       "    </tr>\n",
       "    <tr>\n",
       "      <th>36</th>\n",
       "      <td>42</td>\n",
       "      <td>34</td>\n",
       "      <td>17</td>\n",
       "      <td>2</td>\n",
       "    </tr>\n",
       "    <tr>\n",
       "      <th>38</th>\n",
       "      <td>36</td>\n",
       "      <td>37</td>\n",
       "      <td>26</td>\n",
       "      <td>2</td>\n",
       "    </tr>\n",
       "    <tr>\n",
       "      <th>40</th>\n",
       "      <td>65</td>\n",
       "      <td>38</td>\n",
       "      <td>35</td>\n",
       "      <td>2</td>\n",
       "    </tr>\n",
       "    <tr>\n",
       "      <th>42</th>\n",
       "      <td>48</td>\n",
       "      <td>39</td>\n",
       "      <td>36</td>\n",
       "      <td>2</td>\n",
       "    </tr>\n",
       "    <tr>\n",
       "      <th>44</th>\n",
       "      <td>49</td>\n",
       "      <td>39</td>\n",
       "      <td>28</td>\n",
       "      <td>2</td>\n",
       "    </tr>\n",
       "  </tbody>\n",
       "</table>\n",
       "</div>"
      ],
      "text/plain": [
       "    Age  Annual Income (k$)  Spending Score (1-100)  Cluster\n",
       "0    19                  15                      39        2\n",
       "2    20                  16                       6        2\n",
       "4    31                  17                      40        2\n",
       "6    35                  18                       6        2\n",
       "8    64                  19                       3        2\n",
       "10   67                  19                      14        2\n",
       "12   58                  20                      15        2\n",
       "14   37                  20                      13        2\n",
       "16   35                  21                      35        2\n",
       "18   52                  23                      29        2\n",
       "20   35                  24                      35        2\n",
       "22   46                  25                       5        2\n",
       "24   54                  28                      14        2\n",
       "26   45                  28                      32        2\n",
       "28   40                  29                      31        2\n",
       "30   60                  30                       4        2\n",
       "32   53                  33                       4        2\n",
       "34   49                  33                      14        2\n",
       "36   42                  34                      17        2\n",
       "38   36                  37                      26        2\n",
       "40   65                  38                      35        2\n",
       "42   48                  39                      36        2\n",
       "44   49                  39                      28        2"
      ]
     },
     "execution_count": 91,
     "metadata": {},
     "output_type": "execute_result"
    }
   ],
   "source": [
    "data_clientes[data_clientes['Cluster']==2]"
   ]
  },
  {
   "cell_type": "code",
   "execution_count": 92,
   "metadata": {},
   "outputs": [
    {
     "data": {
      "image/png": "[encoded data removed]",
      "text/plain": [
       "<Figure size 432x288 with 1 Axes>"
      ]
     },
     "metadata": {
      "needs_background": "light"
     },
     "output_type": "display_data"
    }
   ],
   "source": [
    "plt.figure(figsize=(6,4))\n",
    "plt.scatter(data_clientes.iloc[:,1],data_clientes.iloc[:,2], c=grupos)\n",
    "plt.xlabel('Annual Income (k$)')\n",
    "plt.ylabel('Spending Score (1-100)')\n",
    "plt.grid()\n",
    "plt.show()"
   ]
  },
  {
   "cell_type": "code",
   "execution_count": 93,
   "metadata": {},
   "outputs": [
    {
     "data": {
      "text/html": [
       "<div>\n",
       "<style scoped>\n",
       "    .dataframe tbody tr th:only-of-type {\n",
       "        vertical-align: middle;\n",
       "    }\n",
       "\n",
       "    .dataframe tbody tr th {\n",
       "        vertical-align: top;\n",
       "    }\n",
       "\n",
       "    .dataframe thead th {\n",
       "        text-align: right;\n",
       "    }\n",
       "</style>\n",
       "<table border=\"1\" class=\"dataframe\">\n",
       "  <thead>\n",
       "    <tr style=\"text-align: right;\">\n",
       "      <th></th>\n",
       "      <th>CustomerID</th>\n",
       "      <th>Genre</th>\n",
       "      <th>Age</th>\n",
       "      <th>Annual Income (k$)</th>\n",
       "      <th>Spending Score (1-100)</th>\n",
       "    </tr>\n",
       "  </thead>\n",
       "  <tbody>\n",
       "    <tr>\n",
       "      <th>0</th>\n",
       "      <td>1</td>\n",
       "      <td>Male</td>\n",
       "      <td>19</td>\n",
       "      <td>15</td>\n",
       "      <td>39</td>\n",
       "    </tr>\n",
       "    <tr>\n",
       "      <th>1</th>\n",
       "      <td>2</td>\n",
       "      <td>Male</td>\n",
       "      <td>21</td>\n",
       "      <td>15</td>\n",
       "      <td>81</td>\n",
       "    </tr>\n",
       "    <tr>\n",
       "      <th>2</th>\n",
       "      <td>3</td>\n",
       "      <td>Female</td>\n",
       "      <td>20</td>\n",
       "      <td>16</td>\n",
       "      <td>6</td>\n",
       "    </tr>\n",
       "    <tr>\n",
       "      <th>3</th>\n",
       "      <td>4</td>\n",
       "      <td>Female</td>\n",
       "      <td>23</td>\n",
       "      <td>16</td>\n",
       "      <td>77</td>\n",
       "    </tr>\n",
       "    <tr>\n",
       "      <th>4</th>\n",
       "      <td>5</td>\n",
       "      <td>Female</td>\n",
       "      <td>31</td>\n",
       "      <td>17</td>\n",
       "      <td>40</td>\n",
       "    </tr>\n",
       "    <tr>\n",
       "      <th>...</th>\n",
       "      <td>...</td>\n",
       "      <td>...</td>\n",
       "      <td>...</td>\n",
       "      <td>...</td>\n",
       "      <td>...</td>\n",
       "    </tr>\n",
       "    <tr>\n",
       "      <th>195</th>\n",
       "      <td>196</td>\n",
       "      <td>Female</td>\n",
       "      <td>35</td>\n",
       "      <td>120</td>\n",
       "      <td>79</td>\n",
       "    </tr>\n",
       "    <tr>\n",
       "      <th>196</th>\n",
       "      <td>197</td>\n",
       "      <td>Female</td>\n",
       "      <td>45</td>\n",
       "      <td>126</td>\n",
       "      <td>28</td>\n",
       "    </tr>\n",
       "    <tr>\n",
       "      <th>197</th>\n",
       "      <td>198</td>\n",
       "      <td>Male</td>\n",
       "      <td>32</td>\n",
       "      <td>126</td>\n",
       "      <td>74</td>\n",
       "    </tr>\n",
       "    <tr>\n",
       "      <th>198</th>\n",
       "      <td>199</td>\n",
       "      <td>Male</td>\n",
       "      <td>32</td>\n",
       "      <td>137</td>\n",
       "      <td>18</td>\n",
       "    </tr>\n",
       "    <tr>\n",
       "      <th>199</th>\n",
       "      <td>200</td>\n",
       "      <td>Male</td>\n",
       "      <td>30</td>\n",
       "      <td>137</td>\n",
       "      <td>83</td>\n",
       "    </tr>\n",
       "  </tbody>\n",
       "</table>\n",
       "<p>200 rows × 5 columns</p>\n",
       "</div>"
      ],
      "text/plain": [
       "     CustomerID   Genre  Age  Annual Income (k$)  Spending Score (1-100)\n",
       "0             1    Male   19                  15                      39\n",
       "1             2    Male   21                  15                      81\n",
       "2             3  Female   20                  16                       6\n",
       "3             4  Female   23                  16                      77\n",
       "4             5  Female   31                  17                      40\n",
       "..          ...     ...  ...                 ...                     ...\n",
       "195         196  Female   35                 120                      79\n",
       "196         197  Female   45                 126                      28\n",
       "197         198    Male   32                 126                      74\n",
       "198         199    Male   32                 137                      18\n",
       "199         200    Male   30                 137                      83\n",
       "\n",
       "[200 rows x 5 columns]"
      ]
     },
     "execution_count": 93,
     "metadata": {},
     "output_type": "execute_result"
    }
   ],
   "source": [
    "data"
   ]
  },
  {
   "cell_type": "code",
   "execution_count": 94,
   "metadata": {},
   "outputs": [
    {
     "data": {
      "image/png": "[encoded data removed]",
      "text/plain": [
       "<Figure size 432x288 with 1 Axes>"
      ]
     },
     "metadata": {
      "needs_background": "light"
     },
     "output_type": "display_data"
    }
   ],
   "source": [
    "plt.figure(figsize=(6,4))\n",
    "plt.scatter(data_clientes.iloc[:,0],data_clientes.iloc[:,2], c=grupos)\n",
    "plt.xlabel('Age')\n",
    "plt.ylabel('Spending Score (1-100)')\n",
    "plt.grid()\n",
    "plt.show()"
   ]
  },
  {
   "cell_type": "code",
   "execution_count": 95,
   "metadata": {},
   "outputs": [
    {
     "data": {
      "image/png": "[encoded data removed]",
      "text/plain": [
       "<Figure size 432x288 with 1 Axes>"
      ]
     },
     "metadata": {
      "needs_background": "light"
     },
     "output_type": "display_data"
    }
   ],
   "source": [
    "plt.figure(figsize=(6,4))\n",
    "plt.scatter(data_clientes.iloc[:,0],data_clientes.iloc[:,1], c=grupos)\n",
    "plt.xlabel('Age')\n",
    "plt.ylabel('Annual Income (k$)')\n",
    "plt.grid()\n",
    "plt.show()"
   ]
  },
  {
   "cell_type": "code",
   "execution_count": null,
   "metadata": {},
   "outputs": [],
   "source": []
  }
 ],
 "metadata": {
  "kernelspec": {
   "display_name": "Python 3 (ipykernel)",
   "language": "python",
   "name": "python3"
  },
  "language_info": {
   "codemirror_mode": {
    "name": "ipython",
    "version": 3
   },
   "file_extension": ".py",
   "mimetype": "text/x-python",
   "name": "python",
   "nbconvert_exporter": "python",
   "pygments_lexer": "ipython3",
   "version": "3.8.8"
  }
 },
 "nbformat": 4,
 "nbformat_minor": 4
}
