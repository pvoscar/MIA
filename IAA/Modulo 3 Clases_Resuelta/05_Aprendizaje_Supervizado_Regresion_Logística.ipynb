{
 "cells": [
  {
   "cell_type": "markdown",
   "metadata": {},
   "source": [
    "<img style=\"float: left;;\" src='Figures/alinco.png' /></a>\n",
    "\n",
    "# <center> <font color= #000047> Módulo 2: Aprendizaje supervizado: Regresión Logística "
   ]
  },
  {
   "cell_type": "markdown",
   "metadata": {},
   "source": [
    "> La **regresión logística** es un método estadístico que trata de modelar la probabilidad de una variable cualitativa binaria (dos posibles valores) en función de una o más variables independientes. La principal aplicación de la regresión logística es la creación de modelos de clasificación binaria.\n",
    "\n",
    "Se llama **regresión logística simple** cuando solo hay una variable independiente y **regresión logística múltiple*** cuando hay más de una. Dependiendo del contexto, a la variable modelada se le conoce como variable dependiente o variable respuesta, y a las variables independientes como **regresores, predictores o features**."
   ]
  },
  {
   "cell_type": "markdown",
   "metadata": {},
   "source": [
    "Si una variable cualitativa con dos niveles (binaría) se codifica como 0 y 1, matemáticamente es posible ajustar un modelo de regresión lineal por mínimos cuadrados. Sin embargo, esta aproximación tiene dos problemas:\n",
    "\n",
    "- Al generar una recta (hiperplano si hay múltiples variables), se pueden obtener valores predichos distintos de 0 y 1, lo que entra en contradicción con la definición de la variable respuesta binaria.\n",
    "\n",
    "- Si se quiere interpretar las predicciones del modelo como probabilidades de pertenencia a cada clase, no se cumpliría la condición de que toda probabilidad ha de estar dentro del intervalo [0,1], ya que podrían obtenerse valores fuera de este.\n",
    "\n",
    "Para evitar estos problemas, la **regresión logística** transforma el valor devuelto por la regresión lineal con una función cuyo resultado siempre está comprendido entre 0 y 1 (función sigmoide). \n",
    "\n",
    "> Existen varias funciones que cumplen esta descripción, una de las más utilizadas es la función logística (también conocida como función sigmoide):\n",
    "\n",
    "$$sigmoide = \\sigma(y) = \\frac{1}{1+e^{-y}}$$\n",
    "\n",
    "<img style=\"float: center;;\" src='Figures/sigmoide.png' width=\"500\" height=\"100\"/></a>"
   ]
  },
  {
   "cell_type": "markdown",
   "metadata": {},
   "source": [
    "\n",
    "> Para valores de $y$  positivos muy grandes,  $e^{−y}$  es aproximadamente 0, por lo que el valor de la función sigmoide es 1. Para valores de  $y$ negativos muy grandes,  $e^{−y}$  tiende a infinito, por lo que el valor de la función sigmoide es 0.\n",
    "\n",
    "> Sustituyendo la  y  de la ecuación anterior por la función de un modelo lineal $y=\\beta_0 + \\beta_1 x_1 + ... + \\beta_p x_p$ se obtiene que:\n",
    "\n",
    "$$P(y=1|X=x) = \\frac{e^{\\beta_0 + \\beta_1x_1 +...+\\beta_px_p}}{1 + e^{\\beta_0 + \\beta_1x_1 +...+\\beta_px_p}}$$\n",
    "\n",
    "> donde $P(y=1|X=x)$ puede interpretarse como la probabilidad de que la variable respuesta  y  adquiera el valor 1 (clase de referencia), dado los predictores $x_1,...,x_p$. El modelo resultante tiene los coeficientes de regresión en los exponentes, por lo que no es un modelo lineal.\n",
    "\n",
    "> La expresión obtenida tiene la característica de ser siempre positiva, ya que la función exponencial solo toma valores positivos y, el cociente de valores positivos, es siempre positivo. Esto hace posible aplicarle el logaritmo:\n",
    "\n",
    "$$ln(\\frac{P(y=1|X=x)}{P(y=0|X=x)}) = \\beta_0 + \\beta_1x_1 +...+\\beta_px_p$$\n",
    "\n",
    "> Al realizar la transformación, en el lado derecho se obtiene la ecuación de un modelo lineal. El término de la izquierda resulta ser el logaritmo de un cociente de probabilidades, lo que se conoce como razón de probabilidad (log of odds).\n",
    "\n",
    "> Como resultado de este proceso se consigue convertir un problema de clasificación no lineal, en un problema de regresión lineal que sí puede ajustarse mediante los métodos convencionales.\n",
    "\n"
   ]
  },
  {
   "cell_type": "markdown",
   "metadata": {},
   "source": [
    "### Función de Costo\n",
    "\n",
    "$$J(\\beta) = -\\frac{1}{m} \\sum_{i=1}^m[y^{(i)}\\log\\hat{y}(x^{(i)}) + (1-y^{(i)})\\log(1 - \\hat{y}(x^{(i)}))]$$"
   ]
  },
  {
   "cell_type": "markdown",
   "metadata": {},
   "source": [
    "### Ejemplos:"
   ]
  },
  {
   "cell_type": "code",
   "execution_count": 1,
   "metadata": {},
   "outputs": [],
   "source": [
    "import pandas as pd\n",
    "import numpy as np\n",
    "import matplotlib.pyplot as plt\n",
    "from sklearn.datasets import make_blobs\n",
    "import scipy.optimize as opt"
   ]
  },
  {
   "cell_type": "code",
   "execution_count": 3,
   "metadata": {},
   "outputs": [],
   "source": [
    "X, Y = make_blobs(n_samples=200, centers= [[0,0],[3,3]],cluster_std=0.5, n_features=2)\n"
   ]
  },
  {
   "cell_type": "code",
   "execution_count": 6,
   "metadata": {},
   "outputs": [
    {
     "data": {
      "text/plain": [
       "array([[-1.13382590e-01, -1.20615518e+00],\n",
       "       [ 2.50003760e+00,  3.24280498e+00],\n",
       "       [ 3.43398415e+00,  2.91972205e+00],\n",
       "       [ 2.52836459e+00,  2.37402870e+00],\n",
       "       [ 3.06134179e+00,  2.52992491e+00],\n",
       "       [ 1.36673099e-01,  3.11202638e-01],\n",
       "       [-6.40821654e-01,  7.73435392e-01],\n",
       "       [ 9.11989276e-01, -4.52821181e-01],\n",
       "       [ 2.80552672e+00,  3.53179221e+00],\n",
       "       [-1.07917414e-01,  5.43422652e-01],\n",
       "       [ 3.00120787e+00,  3.13941074e+00],\n",
       "       [-9.81577411e-01, -1.82114722e-01],\n",
       "       [ 7.02000217e-01,  5.64236625e-01],\n",
       "       [-2.37930214e-01,  2.92847403e-01],\n",
       "       [ 3.38059339e+00,  2.86695781e+00],\n",
       "       [ 3.03762091e+00,  2.76228412e+00],\n",
       "       [ 2.82334022e+00,  3.67373442e+00],\n",
       "       [ 3.31231241e+00,  2.79659434e+00],\n",
       "       [-2.09062208e-03, -5.48045082e-01],\n",
       "       [-2.82286684e-01,  4.40213741e-01],\n",
       "       [ 3.38733441e+00,  2.63037281e+00],\n",
       "       [ 2.91628740e+00,  3.38007763e+00],\n",
       "       [ 2.72005927e+00,  3.13807049e+00],\n",
       "       [-2.45171103e-01, -4.06190394e-01],\n",
       "       [ 2.67218733e+00,  3.70551180e+00],\n",
       "       [ 2.88395668e+00,  2.95428367e+00],\n",
       "       [ 2.88820800e+00,  2.86851460e+00],\n",
       "       [ 3.89140376e+00,  2.58756973e+00],\n",
       "       [ 2.80853388e+00,  3.03079578e+00],\n",
       "       [-1.53538909e-01,  3.92904602e-01],\n",
       "       [ 3.35351707e+00,  3.61293352e+00],\n",
       "       [ 2.89548306e+00,  2.73425722e+00],\n",
       "       [ 3.07353037e-01, -4.27597378e-03],\n",
       "       [ 1.85022141e+00,  3.03009881e+00],\n",
       "       [ 3.23904852e+00,  2.20326149e+00],\n",
       "       [ 4.14661771e+00,  3.43222352e+00],\n",
       "       [ 1.98933242e-01, -4.91158934e-01],\n",
       "       [ 4.39864558e-01,  2.60617982e-01],\n",
       "       [ 6.09848452e-01, -1.26016047e-01],\n",
       "       [ 7.94301840e-01,  5.99992182e-02],\n",
       "       [ 3.78854181e+00,  2.82405809e+00],\n",
       "       [ 1.43200852e-02,  5.76277433e-02],\n",
       "       [-4.25866327e-01, -6.99166909e-01],\n",
       "       [-1.09150365e+00, -5.00180498e-01],\n",
       "       [ 3.08728577e+00,  3.89816185e+00],\n",
       "       [ 1.83674115e-01,  1.29573359e-01],\n",
       "       [ 3.87032052e+00,  3.39740119e+00],\n",
       "       [-2.59858857e-01,  1.54863968e-01],\n",
       "       [ 5.86875106e-01,  9.49392799e-01],\n",
       "       [ 2.36974168e-01,  1.79882441e-01],\n",
       "       [-2.44048652e-01, -4.57931787e-01],\n",
       "       [ 3.36915348e+00,  2.82067231e+00],\n",
       "       [ 2.68111810e+00,  3.57132183e+00],\n",
       "       [ 3.33231583e+00,  3.56644746e+00],\n",
       "       [-2.05932136e-01,  1.83773264e-01],\n",
       "       [ 3.12053811e+00,  3.37878651e+00],\n",
       "       [ 3.07511539e+00,  3.86108844e+00],\n",
       "       [ 5.79300807e-01,  4.27365064e-01],\n",
       "       [ 3.18824980e+00,  2.14775652e+00],\n",
       "       [ 3.17836397e+00,  3.81357664e+00],\n",
       "       [ 3.32839109e+00,  3.59020803e+00],\n",
       "       [ 1.83381150e-01, -6.19160760e-02],\n",
       "       [ 2.46949151e+00,  3.49892884e+00],\n",
       "       [ 3.50159397e+00,  2.94156860e+00],\n",
       "       [ 2.77861604e+00,  3.31808021e+00],\n",
       "       [-1.26976418e+00,  2.56903728e-01],\n",
       "       [ 2.64837111e+00,  3.16202935e+00],\n",
       "       [-4.48858217e-02, -9.73071929e-01],\n",
       "       [-2.50887321e-01, -1.27492014e-02],\n",
       "       [ 3.36535986e+00,  2.99422493e+00],\n",
       "       [ 3.35992409e+00,  3.19748630e+00],\n",
       "       [ 2.02775934e-02,  9.39392470e-01],\n",
       "       [ 1.24271151e+00,  2.89239733e-01],\n",
       "       [ 6.41256299e-01,  5.67391938e-01],\n",
       "       [ 2.68919901e+00,  3.06050550e+00],\n",
       "       [ 3.13133287e+00,  2.63670915e+00],\n",
       "       [ 3.46881807e+00,  2.87955152e+00],\n",
       "       [ 1.79097740e-01, -3.68893514e-01],\n",
       "       [ 2.67133797e+00,  2.74395647e+00],\n",
       "       [-1.30869366e-01, -3.91579519e-02],\n",
       "       [-4.88771502e-01,  1.06372412e+00],\n",
       "       [-8.21447869e-01,  2.24066445e-01],\n",
       "       [ 2.57071839e+00,  2.53356137e+00],\n",
       "       [ 4.13207241e-01,  7.18072323e-02],\n",
       "       [ 7.63418070e-02, -3.50604788e-01],\n",
       "       [ 4.53278735e-02,  6.84735082e-01],\n",
       "       [-5.29224794e-02,  7.68816285e-01],\n",
       "       [ 3.09060951e+00,  2.97105506e+00],\n",
       "       [ 3.53211491e-01, -1.31285599e-02],\n",
       "       [ 7.19642761e-01,  2.76888235e-01],\n",
       "       [ 6.24975688e-01,  4.12620954e-01],\n",
       "       [-7.14843055e-02,  2.47929864e-01],\n",
       "       [ 5.14119075e-01, -7.46127183e-03],\n",
       "       [ 2.25094398e+00,  3.08806119e+00],\n",
       "       [ 3.39650569e+00,  3.39097028e+00],\n",
       "       [ 2.72182109e+00,  3.77043050e+00],\n",
       "       [-7.78617368e-01,  1.04796468e+00],\n",
       "       [ 2.73430103e+00,  2.52885530e+00],\n",
       "       [ 5.05866260e-02, -7.27650968e-01],\n",
       "       [ 2.74718188e+00,  2.92141973e+00],\n",
       "       [-5.74248567e-01,  3.26478173e-01],\n",
       "       [ 3.47254036e+00,  4.80597916e+00],\n",
       "       [ 2.71234109e+00,  3.19970360e+00],\n",
       "       [ 3.88054024e+00,  2.84028715e+00],\n",
       "       [ 1.70238487e-01, -4.65037583e-01],\n",
       "       [ 4.47025516e-01, -2.19558665e-01],\n",
       "       [ 3.32511571e+00,  2.74284403e+00],\n",
       "       [-8.57239098e-01,  1.46221773e-01],\n",
       "       [-2.91952353e-01,  4.00145766e-01],\n",
       "       [ 2.40331970e-01, -2.82829924e-01],\n",
       "       [ 3.20561731e+00,  3.06726939e+00],\n",
       "       [ 2.41474778e+00,  2.81268883e+00],\n",
       "       [ 2.83438533e+00,  3.30003986e+00],\n",
       "       [ 1.19660860e-01, -7.72047366e-01],\n",
       "       [-4.99010616e-01, -1.24920416e-02],\n",
       "       [-1.09842532e+00, -7.60357500e-01],\n",
       "       [ 3.60818053e+00,  3.32009716e+00],\n",
       "       [ 2.18337671e+00,  3.46013296e+00],\n",
       "       [ 3.22029775e+00,  2.65683491e+00],\n",
       "       [ 5.18467021e-01,  2.69547981e-01],\n",
       "       [-5.86593630e-01, -9.85984106e-02],\n",
       "       [ 6.44111788e-01,  4.12256323e-01],\n",
       "       [ 2.61173420e+00,  3.30700605e+00],\n",
       "       [ 2.98764821e-01,  7.89441646e-02],\n",
       "       [ 2.28813726e+00,  2.98281446e+00],\n",
       "       [ 2.85676569e-01,  2.23879130e-01],\n",
       "       [ 4.68114701e-02, -7.50895994e-01],\n",
       "       [ 5.14908257e-01,  1.03782253e-01],\n",
       "       [ 6.91673950e-02, -2.20574825e-01],\n",
       "       [ 2.39206415e+00,  2.80230838e+00],\n",
       "       [ 3.77481827e+00,  3.09297923e+00],\n",
       "       [ 8.07318520e-02,  7.87295098e-01],\n",
       "       [ 2.05270677e+00,  3.27649317e+00],\n",
       "       [ 6.13090826e-01, -7.70909333e-02],\n",
       "       [ 2.52134618e+00,  2.67455277e+00],\n",
       "       [-4.14242843e-02,  6.56031829e-01],\n",
       "       [ 2.23893143e+00,  2.99371101e+00],\n",
       "       [ 3.02253848e+00,  2.33932493e+00],\n",
       "       [ 1.34940474e-01, -3.02768370e-01],\n",
       "       [ 2.78123097e+00,  2.58719657e+00],\n",
       "       [ 3.91033728e-02,  4.60184944e-01],\n",
       "       [ 3.00767043e+00,  2.46447174e+00],\n",
       "       [ 3.20986518e+00,  2.65820869e+00],\n",
       "       [ 9.51582523e-02, -1.23668097e-01],\n",
       "       [ 3.67408398e+00,  3.76642721e+00],\n",
       "       [ 2.71745202e+00,  2.79143703e+00],\n",
       "       [ 3.27380508e+00,  3.28162187e+00],\n",
       "       [ 3.50566621e+00,  2.56616469e+00],\n",
       "       [ 6.48795149e-01, -8.22312280e-01],\n",
       "       [ 3.20463467e+00,  3.85690956e+00],\n",
       "       [ 4.68383210e-01, -4.38281356e-01],\n",
       "       [ 3.25916899e+00,  3.51717026e+00],\n",
       "       [ 2.39236405e+00,  2.07822744e+00],\n",
       "       [-1.55413528e-01, -3.55633248e-01],\n",
       "       [ 1.27357556e+00, -6.47364707e-02],\n",
       "       [ 1.41910480e-01,  6.92081231e-01],\n",
       "       [ 2.96898490e-02,  1.98335123e-01],\n",
       "       [-6.25147870e-01,  1.45874809e-02],\n",
       "       [-2.99185527e-01, -9.17778268e-01],\n",
       "       [-6.62818650e-01, -1.87578338e-01],\n",
       "       [-7.08298889e-04,  3.70829127e-01],\n",
       "       [ 2.46459286e+00,  2.46914049e+00],\n",
       "       [ 2.50873497e+00,  2.96165071e+00],\n",
       "       [ 2.16836446e-01, -3.71029453e-01],\n",
       "       [-2.15272698e-01, -5.46026879e-01],\n",
       "       [ 3.24346193e+00,  2.90540570e+00],\n",
       "       [ 3.46979780e+00,  3.39037451e+00],\n",
       "       [ 3.42717811e+00,  2.56448182e+00],\n",
       "       [ 2.47501425e+00,  2.79925825e+00],\n",
       "       [ 3.51152169e+00,  2.20509498e+00],\n",
       "       [ 3.84783892e-01,  4.12715476e-01],\n",
       "       [ 2.78837067e+00,  2.82077308e+00],\n",
       "       [-2.30043080e-01, -5.12702458e-02],\n",
       "       [-9.82374594e-02, -1.50682112e+00],\n",
       "       [ 2.98861326e+00,  3.00616804e+00],\n",
       "       [ 2.93691049e+00,  2.69694273e+00],\n",
       "       [-2.00731502e-01, -2.90478614e-01],\n",
       "       [ 9.99288106e-02, -1.75348161e-01],\n",
       "       [ 2.79119256e+00,  3.17435713e+00],\n",
       "       [ 1.95726919e-01,  1.92527900e-01],\n",
       "       [ 2.73737230e-01,  3.20608747e-01],\n",
       "       [ 3.49091482e+00,  3.42300906e+00],\n",
       "       [ 1.14153178e-01,  2.79844982e-01],\n",
       "       [ 5.14612638e-02, -7.52527108e-01],\n",
       "       [-9.11415384e-03, -1.08560024e-01],\n",
       "       [ 4.47666186e-01,  4.32281156e-01],\n",
       "       [ 3.02994105e+00,  2.49080028e+00],\n",
       "       [ 2.43393029e+00,  1.68011834e+00],\n",
       "       [-1.15666249e-01,  2.55702034e-02],\n",
       "       [ 2.64746511e+00,  3.36322358e+00],\n",
       "       [ 3.00082989e+00,  2.81504081e+00],\n",
       "       [ 1.88339493e-01,  6.22778132e-02],\n",
       "       [ 2.52933609e+00,  2.97758157e+00],\n",
       "       [-4.88952695e-01,  1.49497980e-01],\n",
       "       [ 2.72431298e+00,  3.03772564e+00],\n",
       "       [ 2.86611220e+00,  2.68896423e+00],\n",
       "       [ 2.86358801e+00,  3.77625056e+00],\n",
       "       [ 3.09899533e+00,  2.72333848e+00],\n",
       "       [-6.12817078e-01, -8.22024672e-03],\n",
       "       [ 3.41054736e-01,  4.25997498e-01]])"
      ]
     },
     "execution_count": 6,
     "metadata": {},
     "output_type": "execute_result"
    }
   ],
   "source": [
    "X"
   ]
  },
  {
   "cell_type": "code",
   "execution_count": 5,
   "metadata": {},
   "outputs": [
    {
     "data": {
      "text/plain": [
       "array([0, 1, 1, 1, 1, 0, 0, 0, 1, 0, 1, 0, 0, 0, 1, 1, 1, 1, 0, 0, 1, 1,\n",
       "       1, 0, 1, 1, 1, 1, 1, 0, 1, 1, 0, 1, 1, 1, 0, 0, 0, 0, 1, 0, 0, 0,\n",
       "       1, 0, 1, 0, 0, 0, 0, 1, 1, 1, 0, 1, 1, 0, 1, 1, 1, 0, 1, 1, 1, 0,\n",
       "       1, 0, 0, 1, 1, 0, 0, 0, 1, 1, 1, 0, 1, 0, 0, 0, 1, 0, 0, 0, 0, 1,\n",
       "       0, 0, 0, 0, 0, 1, 1, 1, 0, 1, 0, 1, 0, 1, 1, 1, 0, 0, 1, 0, 0, 0,\n",
       "       1, 1, 1, 0, 0, 0, 1, 1, 1, 0, 0, 0, 1, 0, 1, 0, 0, 0, 0, 1, 1, 0,\n",
       "       1, 0, 1, 0, 1, 1, 0, 1, 0, 1, 1, 0, 1, 1, 1, 1, 0, 1, 0, 1, 1, 0,\n",
       "       0, 0, 0, 0, 0, 0, 0, 1, 1, 0, 0, 1, 1, 1, 1, 1, 0, 1, 0, 0, 1, 1,\n",
       "       0, 0, 1, 0, 0, 1, 0, 0, 0, 0, 1, 1, 0, 1, 1, 0, 1, 0, 1, 1, 1, 1,\n",
       "       0, 0])"
      ]
     },
     "execution_count": 5,
     "metadata": {},
     "output_type": "execute_result"
    }
   ],
   "source": [
    "Y"
   ]
  },
  {
   "cell_type": "code",
   "execution_count": 4,
   "metadata": {},
   "outputs": [
    {
     "data": {
      "text/plain": [
       "Text(0, 0.5, '$x_2$')"
      ]
     },
     "execution_count": 4,
     "metadata": {},
     "output_type": "execute_result"
    },
    {
     "data": {
      "image/png": "[encoded data removed]",
      "text/plain": [
       "<Figure size 432x288 with 1 Axes>"
      ]
     },
     "metadata": {
      "needs_background": "light"
     },
     "output_type": "display_data"
    }
   ],
   "source": [
    "plt.figure(figsize=(6,4))\n",
    "plt.scatter(X[:,0],X[:,1], c=Y)\n",
    "plt.xlabel('$x_1$')\n",
    "plt.ylabel('$x_2$')"
   ]
  },
  {
   "cell_type": "code",
   "execution_count": 7,
   "metadata": {},
   "outputs": [],
   "source": [
    "def fun_log(z):\n",
    "    return 1/(1+np.exp(-z))"
   ]
  },
  {
   "cell_type": "code",
   "execution_count": 8,
   "metadata": {},
   "outputs": [],
   "source": [
    "#g(z) = 1/(1 + e^z)\n",
    "# z = b0 +b1x1+ b2x2 +...+bnxn = X*B^T\n",
    "# yhat = g(z) = g(b0 +b1x1+ b2x2 +...+bnxn ) = 1/(1 + e^(b0 +b1x1+ b2x2 +...+bnxn ))\n",
    "def re_log(B,X):\n",
    "    z = np.matrix(X)*np.matrix(B).transpose()\n",
    "    y_hat = np.array(fun_log(z))\n",
    "    return y_hat[:,0]"
   ]
  },
  {
   "cell_type": "code",
   "execution_count": 9,
   "metadata": {},
   "outputs": [],
   "source": [
    "def fun_cost(B,X,Y):\n",
    "    m=len(Y)\n",
    "    y_hat = re_log(B,X)\n",
    "    J = (1/m)*np.sum(-Y*np.log(y_hat) - (1-Y)*np.log(1-y_hat))\n",
    "    return J"
   ]
  },
  {
   "cell_type": "code",
   "execution_count": 13,
   "metadata": {},
   "outputs": [
    {
     "data": {
      "text/plain": [
       "array([[ 1.00000000e+00, -1.13382590e-01, -1.20615518e+00],\n",
       "       [ 1.00000000e+00,  2.50003760e+00,  3.24280498e+00],\n",
       "       [ 1.00000000e+00,  3.43398415e+00,  2.91972205e+00],\n",
       "       [ 1.00000000e+00,  2.52836459e+00,  2.37402870e+00],\n",
       "       [ 1.00000000e+00,  3.06134179e+00,  2.52992491e+00],\n",
       "       [ 1.00000000e+00,  1.36673099e-01,  3.11202638e-01],\n",
       "       [ 1.00000000e+00, -6.40821654e-01,  7.73435392e-01],\n",
       "       [ 1.00000000e+00,  9.11989276e-01, -4.52821181e-01],\n",
       "       [ 1.00000000e+00,  2.80552672e+00,  3.53179221e+00],\n",
       "       [ 1.00000000e+00, -1.07917414e-01,  5.43422652e-01],\n",
       "       [ 1.00000000e+00,  3.00120787e+00,  3.13941074e+00],\n",
       "       [ 1.00000000e+00, -9.81577411e-01, -1.82114722e-01],\n",
       "       [ 1.00000000e+00,  7.02000217e-01,  5.64236625e-01],\n",
       "       [ 1.00000000e+00, -2.37930214e-01,  2.92847403e-01],\n",
       "       [ 1.00000000e+00,  3.38059339e+00,  2.86695781e+00],\n",
       "       [ 1.00000000e+00,  3.03762091e+00,  2.76228412e+00],\n",
       "       [ 1.00000000e+00,  2.82334022e+00,  3.67373442e+00],\n",
       "       [ 1.00000000e+00,  3.31231241e+00,  2.79659434e+00],\n",
       "       [ 1.00000000e+00, -2.09062208e-03, -5.48045082e-01],\n",
       "       [ 1.00000000e+00, -2.82286684e-01,  4.40213741e-01],\n",
       "       [ 1.00000000e+00,  3.38733441e+00,  2.63037281e+00],\n",
       "       [ 1.00000000e+00,  2.91628740e+00,  3.38007763e+00],\n",
       "       [ 1.00000000e+00,  2.72005927e+00,  3.13807049e+00],\n",
       "       [ 1.00000000e+00, -2.45171103e-01, -4.06190394e-01],\n",
       "       [ 1.00000000e+00,  2.67218733e+00,  3.70551180e+00],\n",
       "       [ 1.00000000e+00,  2.88395668e+00,  2.95428367e+00],\n",
       "       [ 1.00000000e+00,  2.88820800e+00,  2.86851460e+00],\n",
       "       [ 1.00000000e+00,  3.89140376e+00,  2.58756973e+00],\n",
       "       [ 1.00000000e+00,  2.80853388e+00,  3.03079578e+00],\n",
       "       [ 1.00000000e+00, -1.53538909e-01,  3.92904602e-01],\n",
       "       [ 1.00000000e+00,  3.35351707e+00,  3.61293352e+00],\n",
       "       [ 1.00000000e+00,  2.89548306e+00,  2.73425722e+00],\n",
       "       [ 1.00000000e+00,  3.07353037e-01, -4.27597378e-03],\n",
       "       [ 1.00000000e+00,  1.85022141e+00,  3.03009881e+00],\n",
       "       [ 1.00000000e+00,  3.23904852e+00,  2.20326149e+00],\n",
       "       [ 1.00000000e+00,  4.14661771e+00,  3.43222352e+00],\n",
       "       [ 1.00000000e+00,  1.98933242e-01, -4.91158934e-01],\n",
       "       [ 1.00000000e+00,  4.39864558e-01,  2.60617982e-01],\n",
       "       [ 1.00000000e+00,  6.09848452e-01, -1.26016047e-01],\n",
       "       [ 1.00000000e+00,  7.94301840e-01,  5.99992182e-02],\n",
       "       [ 1.00000000e+00,  3.78854181e+00,  2.82405809e+00],\n",
       "       [ 1.00000000e+00,  1.43200852e-02,  5.76277433e-02],\n",
       "       [ 1.00000000e+00, -4.25866327e-01, -6.99166909e-01],\n",
       "       [ 1.00000000e+00, -1.09150365e+00, -5.00180498e-01],\n",
       "       [ 1.00000000e+00,  3.08728577e+00,  3.89816185e+00],\n",
       "       [ 1.00000000e+00,  1.83674115e-01,  1.29573359e-01],\n",
       "       [ 1.00000000e+00,  3.87032052e+00,  3.39740119e+00],\n",
       "       [ 1.00000000e+00, -2.59858857e-01,  1.54863968e-01],\n",
       "       [ 1.00000000e+00,  5.86875106e-01,  9.49392799e-01],\n",
       "       [ 1.00000000e+00,  2.36974168e-01,  1.79882441e-01],\n",
       "       [ 1.00000000e+00, -2.44048652e-01, -4.57931787e-01],\n",
       "       [ 1.00000000e+00,  3.36915348e+00,  2.82067231e+00],\n",
       "       [ 1.00000000e+00,  2.68111810e+00,  3.57132183e+00],\n",
       "       [ 1.00000000e+00,  3.33231583e+00,  3.56644746e+00],\n",
       "       [ 1.00000000e+00, -2.05932136e-01,  1.83773264e-01],\n",
       "       [ 1.00000000e+00,  3.12053811e+00,  3.37878651e+00],\n",
       "       [ 1.00000000e+00,  3.07511539e+00,  3.86108844e+00],\n",
       "       [ 1.00000000e+00,  5.79300807e-01,  4.27365064e-01],\n",
       "       [ 1.00000000e+00,  3.18824980e+00,  2.14775652e+00],\n",
       "       [ 1.00000000e+00,  3.17836397e+00,  3.81357664e+00],\n",
       "       [ 1.00000000e+00,  3.32839109e+00,  3.59020803e+00],\n",
       "       [ 1.00000000e+00,  1.83381150e-01, -6.19160760e-02],\n",
       "       [ 1.00000000e+00,  2.46949151e+00,  3.49892884e+00],\n",
       "       [ 1.00000000e+00,  3.50159397e+00,  2.94156860e+00],\n",
       "       [ 1.00000000e+00,  2.77861604e+00,  3.31808021e+00],\n",
       "       [ 1.00000000e+00, -1.26976418e+00,  2.56903728e-01],\n",
       "       [ 1.00000000e+00,  2.64837111e+00,  3.16202935e+00],\n",
       "       [ 1.00000000e+00, -4.48858217e-02, -9.73071929e-01],\n",
       "       [ 1.00000000e+00, -2.50887321e-01, -1.27492014e-02],\n",
       "       [ 1.00000000e+00,  3.36535986e+00,  2.99422493e+00],\n",
       "       [ 1.00000000e+00,  3.35992409e+00,  3.19748630e+00],\n",
       "       [ 1.00000000e+00,  2.02775934e-02,  9.39392470e-01],\n",
       "       [ 1.00000000e+00,  1.24271151e+00,  2.89239733e-01],\n",
       "       [ 1.00000000e+00,  6.41256299e-01,  5.67391938e-01],\n",
       "       [ 1.00000000e+00,  2.68919901e+00,  3.06050550e+00],\n",
       "       [ 1.00000000e+00,  3.13133287e+00,  2.63670915e+00],\n",
       "       [ 1.00000000e+00,  3.46881807e+00,  2.87955152e+00],\n",
       "       [ 1.00000000e+00,  1.79097740e-01, -3.68893514e-01],\n",
       "       [ 1.00000000e+00,  2.67133797e+00,  2.74395647e+00],\n",
       "       [ 1.00000000e+00, -1.30869366e-01, -3.91579519e-02],\n",
       "       [ 1.00000000e+00, -4.88771502e-01,  1.06372412e+00],\n",
       "       [ 1.00000000e+00, -8.21447869e-01,  2.24066445e-01],\n",
       "       [ 1.00000000e+00,  2.57071839e+00,  2.53356137e+00],\n",
       "       [ 1.00000000e+00,  4.13207241e-01,  7.18072323e-02],\n",
       "       [ 1.00000000e+00,  7.63418070e-02, -3.50604788e-01],\n",
       "       [ 1.00000000e+00,  4.53278735e-02,  6.84735082e-01],\n",
       "       [ 1.00000000e+00, -5.29224794e-02,  7.68816285e-01],\n",
       "       [ 1.00000000e+00,  3.09060951e+00,  2.97105506e+00],\n",
       "       [ 1.00000000e+00,  3.53211491e-01, -1.31285599e-02],\n",
       "       [ 1.00000000e+00,  7.19642761e-01,  2.76888235e-01],\n",
       "       [ 1.00000000e+00,  6.24975688e-01,  4.12620954e-01],\n",
       "       [ 1.00000000e+00, -7.14843055e-02,  2.47929864e-01],\n",
       "       [ 1.00000000e+00,  5.14119075e-01, -7.46127183e-03],\n",
       "       [ 1.00000000e+00,  2.25094398e+00,  3.08806119e+00],\n",
       "       [ 1.00000000e+00,  3.39650569e+00,  3.39097028e+00],\n",
       "       [ 1.00000000e+00,  2.72182109e+00,  3.77043050e+00],\n",
       "       [ 1.00000000e+00, -7.78617368e-01,  1.04796468e+00],\n",
       "       [ 1.00000000e+00,  2.73430103e+00,  2.52885530e+00],\n",
       "       [ 1.00000000e+00,  5.05866260e-02, -7.27650968e-01],\n",
       "       [ 1.00000000e+00,  2.74718188e+00,  2.92141973e+00],\n",
       "       [ 1.00000000e+00, -5.74248567e-01,  3.26478173e-01],\n",
       "       [ 1.00000000e+00,  3.47254036e+00,  4.80597916e+00],\n",
       "       [ 1.00000000e+00,  2.71234109e+00,  3.19970360e+00],\n",
       "       [ 1.00000000e+00,  3.88054024e+00,  2.84028715e+00],\n",
       "       [ 1.00000000e+00,  1.70238487e-01, -4.65037583e-01],\n",
       "       [ 1.00000000e+00,  4.47025516e-01, -2.19558665e-01],\n",
       "       [ 1.00000000e+00,  3.32511571e+00,  2.74284403e+00],\n",
       "       [ 1.00000000e+00, -8.57239098e-01,  1.46221773e-01],\n",
       "       [ 1.00000000e+00, -2.91952353e-01,  4.00145766e-01],\n",
       "       [ 1.00000000e+00,  2.40331970e-01, -2.82829924e-01],\n",
       "       [ 1.00000000e+00,  3.20561731e+00,  3.06726939e+00],\n",
       "       [ 1.00000000e+00,  2.41474778e+00,  2.81268883e+00],\n",
       "       [ 1.00000000e+00,  2.83438533e+00,  3.30003986e+00],\n",
       "       [ 1.00000000e+00,  1.19660860e-01, -7.72047366e-01],\n",
       "       [ 1.00000000e+00, -4.99010616e-01, -1.24920416e-02],\n",
       "       [ 1.00000000e+00, -1.09842532e+00, -7.60357500e-01],\n",
       "       [ 1.00000000e+00,  3.60818053e+00,  3.32009716e+00],\n",
       "       [ 1.00000000e+00,  2.18337671e+00,  3.46013296e+00],\n",
       "       [ 1.00000000e+00,  3.22029775e+00,  2.65683491e+00],\n",
       "       [ 1.00000000e+00,  5.18467021e-01,  2.69547981e-01],\n",
       "       [ 1.00000000e+00, -5.86593630e-01, -9.85984106e-02],\n",
       "       [ 1.00000000e+00,  6.44111788e-01,  4.12256323e-01],\n",
       "       [ 1.00000000e+00,  2.61173420e+00,  3.30700605e+00],\n",
       "       [ 1.00000000e+00,  2.98764821e-01,  7.89441646e-02],\n",
       "       [ 1.00000000e+00,  2.28813726e+00,  2.98281446e+00],\n",
       "       [ 1.00000000e+00,  2.85676569e-01,  2.23879130e-01],\n",
       "       [ 1.00000000e+00,  4.68114701e-02, -7.50895994e-01],\n",
       "       [ 1.00000000e+00,  5.14908257e-01,  1.03782253e-01],\n",
       "       [ 1.00000000e+00,  6.91673950e-02, -2.20574825e-01],\n",
       "       [ 1.00000000e+00,  2.39206415e+00,  2.80230838e+00],\n",
       "       [ 1.00000000e+00,  3.77481827e+00,  3.09297923e+00],\n",
       "       [ 1.00000000e+00,  8.07318520e-02,  7.87295098e-01],\n",
       "       [ 1.00000000e+00,  2.05270677e+00,  3.27649317e+00],\n",
       "       [ 1.00000000e+00,  6.13090826e-01, -7.70909333e-02],\n",
       "       [ 1.00000000e+00,  2.52134618e+00,  2.67455277e+00],\n",
       "       [ 1.00000000e+00, -4.14242843e-02,  6.56031829e-01],\n",
       "       [ 1.00000000e+00,  2.23893143e+00,  2.99371101e+00],\n",
       "       [ 1.00000000e+00,  3.02253848e+00,  2.33932493e+00],\n",
       "       [ 1.00000000e+00,  1.34940474e-01, -3.02768370e-01],\n",
       "       [ 1.00000000e+00,  2.78123097e+00,  2.58719657e+00],\n",
       "       [ 1.00000000e+00,  3.91033728e-02,  4.60184944e-01],\n",
       "       [ 1.00000000e+00,  3.00767043e+00,  2.46447174e+00],\n",
       "       [ 1.00000000e+00,  3.20986518e+00,  2.65820869e+00],\n",
       "       [ 1.00000000e+00,  9.51582523e-02, -1.23668097e-01],\n",
       "       [ 1.00000000e+00,  3.67408398e+00,  3.76642721e+00],\n",
       "       [ 1.00000000e+00,  2.71745202e+00,  2.79143703e+00],\n",
       "       [ 1.00000000e+00,  3.27380508e+00,  3.28162187e+00],\n",
       "       [ 1.00000000e+00,  3.50566621e+00,  2.56616469e+00],\n",
       "       [ 1.00000000e+00,  6.48795149e-01, -8.22312280e-01],\n",
       "       [ 1.00000000e+00,  3.20463467e+00,  3.85690956e+00],\n",
       "       [ 1.00000000e+00,  4.68383210e-01, -4.38281356e-01],\n",
       "       [ 1.00000000e+00,  3.25916899e+00,  3.51717026e+00],\n",
       "       [ 1.00000000e+00,  2.39236405e+00,  2.07822744e+00],\n",
       "       [ 1.00000000e+00, -1.55413528e-01, -3.55633248e-01],\n",
       "       [ 1.00000000e+00,  1.27357556e+00, -6.47364707e-02],\n",
       "       [ 1.00000000e+00,  1.41910480e-01,  6.92081231e-01],\n",
       "       [ 1.00000000e+00,  2.96898490e-02,  1.98335123e-01],\n",
       "       [ 1.00000000e+00, -6.25147870e-01,  1.45874809e-02],\n",
       "       [ 1.00000000e+00, -2.99185527e-01, -9.17778268e-01],\n",
       "       [ 1.00000000e+00, -6.62818650e-01, -1.87578338e-01],\n",
       "       [ 1.00000000e+00, -7.08298889e-04,  3.70829127e-01],\n",
       "       [ 1.00000000e+00,  2.46459286e+00,  2.46914049e+00],\n",
       "       [ 1.00000000e+00,  2.50873497e+00,  2.96165071e+00],\n",
       "       [ 1.00000000e+00,  2.16836446e-01, -3.71029453e-01],\n",
       "       [ 1.00000000e+00, -2.15272698e-01, -5.46026879e-01],\n",
       "       [ 1.00000000e+00,  3.24346193e+00,  2.90540570e+00],\n",
       "       [ 1.00000000e+00,  3.46979780e+00,  3.39037451e+00],\n",
       "       [ 1.00000000e+00,  3.42717811e+00,  2.56448182e+00],\n",
       "       [ 1.00000000e+00,  2.47501425e+00,  2.79925825e+00],\n",
       "       [ 1.00000000e+00,  3.51152169e+00,  2.20509498e+00],\n",
       "       [ 1.00000000e+00,  3.84783892e-01,  4.12715476e-01],\n",
       "       [ 1.00000000e+00,  2.78837067e+00,  2.82077308e+00],\n",
       "       [ 1.00000000e+00, -2.30043080e-01, -5.12702458e-02],\n",
       "       [ 1.00000000e+00, -9.82374594e-02, -1.50682112e+00],\n",
       "       [ 1.00000000e+00,  2.98861326e+00,  3.00616804e+00],\n",
       "       [ 1.00000000e+00,  2.93691049e+00,  2.69694273e+00],\n",
       "       [ 1.00000000e+00, -2.00731502e-01, -2.90478614e-01],\n",
       "       [ 1.00000000e+00,  9.99288106e-02, -1.75348161e-01],\n",
       "       [ 1.00000000e+00,  2.79119256e+00,  3.17435713e+00],\n",
       "       [ 1.00000000e+00,  1.95726919e-01,  1.92527900e-01],\n",
       "       [ 1.00000000e+00,  2.73737230e-01,  3.20608747e-01],\n",
       "       [ 1.00000000e+00,  3.49091482e+00,  3.42300906e+00],\n",
       "       [ 1.00000000e+00,  1.14153178e-01,  2.79844982e-01],\n",
       "       [ 1.00000000e+00,  5.14612638e-02, -7.52527108e-01],\n",
       "       [ 1.00000000e+00, -9.11415384e-03, -1.08560024e-01],\n",
       "       [ 1.00000000e+00,  4.47666186e-01,  4.32281156e-01],\n",
       "       [ 1.00000000e+00,  3.02994105e+00,  2.49080028e+00],\n",
       "       [ 1.00000000e+00,  2.43393029e+00,  1.68011834e+00],\n",
       "       [ 1.00000000e+00, -1.15666249e-01,  2.55702034e-02],\n",
       "       [ 1.00000000e+00,  2.64746511e+00,  3.36322358e+00],\n",
       "       [ 1.00000000e+00,  3.00082989e+00,  2.81504081e+00],\n",
       "       [ 1.00000000e+00,  1.88339493e-01,  6.22778132e-02],\n",
       "       [ 1.00000000e+00,  2.52933609e+00,  2.97758157e+00],\n",
       "       [ 1.00000000e+00, -4.88952695e-01,  1.49497980e-01],\n",
       "       [ 1.00000000e+00,  2.72431298e+00,  3.03772564e+00],\n",
       "       [ 1.00000000e+00,  2.86611220e+00,  2.68896423e+00],\n",
       "       [ 1.00000000e+00,  2.86358801e+00,  3.77625056e+00],\n",
       "       [ 1.00000000e+00,  3.09899533e+00,  2.72333848e+00],\n",
       "       [ 1.00000000e+00, -6.12817078e-01, -8.22024672e-03],\n",
       "       [ 1.00000000e+00,  3.41054736e-01,  4.25997498e-01]])"
      ]
     },
     "execution_count": 13,
     "metadata": {},
     "output_type": "execute_result"
    }
   ],
   "source": [
    "#Inicializar las variables\n",
    "#X=[1;x1;x2]\n",
    "#B = [b0,b1,b2]   --> z = b0 +b1x1 + b2x2\n",
    "Xa = np.append(np.ones((len(Y),1)), X, axis=1)\n",
    "Xa"
   ]
  },
  {
   "cell_type": "code",
   "execution_count": 14,
   "metadata": {},
   "outputs": [],
   "source": [
    "m,n = np.shape(Xa)\n",
    "B=np.zeros(n)"
   ]
  },
  {
   "cell_type": "code",
   "execution_count": 15,
   "metadata": {},
   "outputs": [
    {
     "name": "stderr",
     "output_type": "stream",
     "text": [
      "C:\\Users\\uie70742\\AppData\\Local\\Temp/ipykernel_60604/655728019.py:4: RuntimeWarning: divide by zero encountered in log\n",
      "  J = (1/m)*np.sum(-Y*np.log(y_hat) - (1-Y)*np.log(1-y_hat))\n",
      "C:\\Users\\uie70742\\AppData\\Local\\Temp/ipykernel_60604/655728019.py:4: RuntimeWarning: invalid value encountered in multiply\n",
      "  J = (1/m)*np.sum(-Y*np.log(y_hat) - (1-Y)*np.log(1-y_hat))\n",
      "C:\\Users\\uie70742\\AppData\\Local\\Temp/ipykernel_60604/4036894083.py:2: RuntimeWarning: overflow encountered in exp\n",
      "  return 1/(1+np.exp(-z))\n",
      "C:\\Users\\uie70742\\AppData\\Local\\Temp/ipykernel_60604/655728019.py:4: RuntimeWarning: divide by zero encountered in log\n",
      "  J = (1/m)*np.sum(-Y*np.log(y_hat) - (1-Y)*np.log(1-y_hat))\n",
      "C:\\Users\\uie70742\\AppData\\Local\\Temp/ipykernel_60604/655728019.py:4: RuntimeWarning: invalid value encountered in multiply\n",
      "  J = (1/m)*np.sum(-Y*np.log(y_hat) - (1-Y)*np.log(1-y_hat))\n",
      "C:\\Users\\uie70742\\AppData\\Local\\Temp/ipykernel_60604/4036894083.py:2: RuntimeWarning: overflow encountered in exp\n",
      "  return 1/(1+np.exp(-z))\n",
      "C:\\Users\\uie70742\\AppData\\Local\\Temp/ipykernel_60604/4036894083.py:2: RuntimeWarning: overflow encountered in exp\n",
      "  return 1/(1+np.exp(-z))\n",
      "C:\\Users\\uie70742\\AppData\\Local\\Temp/ipykernel_60604/655728019.py:4: RuntimeWarning: divide by zero encountered in log\n",
      "  J = (1/m)*np.sum(-Y*np.log(y_hat) - (1-Y)*np.log(1-y_hat))\n",
      "C:\\Users\\uie70742\\AppData\\Local\\Temp/ipykernel_60604/655728019.py:4: RuntimeWarning: invalid value encountered in multiply\n",
      "  J = (1/m)*np.sum(-Y*np.log(y_hat) - (1-Y)*np.log(1-y_hat))\n"
     ]
    }
   ],
   "source": [
    "sol = opt.minimize(fun_cost, B, args=(Xa,Y))\n",
    "B=sol.x"
   ]
  },
  {
   "cell_type": "code",
   "execution_count": 16,
   "metadata": {},
   "outputs": [
    {
     "data": {
      "text/plain": [
       "array([-5193.68244223,  1381.52738768,  1450.6587111 ])"
      ]
     },
     "execution_count": 16,
     "metadata": {},
     "output_type": "execute_result"
    }
   ],
   "source": [
    "B"
   ]
  },
  {
   "cell_type": "markdown",
   "metadata": {},
   "source": [
    "$$J(\\beta) = -\\frac{1}{m} \\sum_{i=1}^m[y^{(i)}\\log\\hat{y}(x^{(i)}) + (1-y^{(i)})\\log(1 - \\hat{y}(x^{(i)}))]$$"
   ]
  },
  {
   "cell_type": "code",
   "execution_count": null,
   "metadata": {},
   "outputs": [],
   "source": [
    "#z = -5193.68 + 1381.52x1 + 1450.658x2\n",
    "# y = 1 /(1+e^z)"
   ]
  },
  {
   "cell_type": "code",
   "execution_count": 18,
   "metadata": {},
   "outputs": [
    {
     "name": "stderr",
     "output_type": "stream",
     "text": [
      "C:\\Users\\uie70742\\AppData\\Local\\Temp/ipykernel_60604/4036894083.py:2: RuntimeWarning: overflow encountered in exp\n",
      "  return 1/(1+np.exp(-z))\n"
     ]
    },
    {
     "data": {
      "text/plain": [
       "array([0., 1., 1., 1., 1., 0., 0., 0., 1., 0., 1., 0., 0., 0., 1., 1., 1.,\n",
       "       1., 0., 0., 1., 1., 1., 0., 1., 1., 1., 1., 1., 0., 1., 1., 0., 1.,\n",
       "       1., 1., 0., 0., 0., 0., 1., 0., 0., 0., 1., 0., 1., 0., 0., 0., 0.,\n",
       "       1., 1., 1., 0., 1., 1., 0., 1., 1., 1., 0., 1., 1., 1., 0., 1., 0.,\n",
       "       0., 1., 1., 0., 0., 0., 1., 1., 1., 0., 1., 0., 0., 0., 1., 0., 0.,\n",
       "       0., 0., 1., 0., 0., 0., 0., 0., 1., 1., 1., 0., 1., 0., 1., 0., 1.,\n",
       "       1., 1., 0., 0., 1., 0., 0., 0., 1., 1., 1., 0., 0., 0., 1., 1., 1.,\n",
       "       0., 0., 0., 1., 0., 1., 0., 0., 0., 0., 1., 1., 0., 1., 0., 1., 0.,\n",
       "       1., 1., 0., 1., 0., 1., 1., 0., 1., 1., 1., 1., 0., 1., 0., 1., 1.,\n",
       "       0., 0., 0., 0., 0., 0., 0., 0., 1., 1., 0., 0., 1., 1., 1., 1., 1.,\n",
       "       0., 1., 0., 0., 1., 1., 0., 0., 1., 0., 0., 1., 0., 0., 0., 0., 1.,\n",
       "       1., 0., 1., 1., 0., 1., 0., 1., 1., 1., 1., 0., 0.])"
      ]
     },
     "execution_count": 18,
     "metadata": {},
     "output_type": "execute_result"
    }
   ],
   "source": [
    "y_hat_pred = np.round(re_log(B,Xa),0)\n",
    "y_hat_pred"
   ]
  },
  {
   "cell_type": "code",
   "execution_count": 19,
   "metadata": {},
   "outputs": [
    {
     "data": {
      "text/plain": [
       "array([[-1.13382590e-01, -1.20615518e+00],\n",
       "       [ 2.50003760e+00,  3.24280498e+00],\n",
       "       [ 3.43398415e+00,  2.91972205e+00],\n",
       "       [ 2.52836459e+00,  2.37402870e+00],\n",
       "       [ 3.06134179e+00,  2.52992491e+00],\n",
       "       [ 1.36673099e-01,  3.11202638e-01],\n",
       "       [-6.40821654e-01,  7.73435392e-01],\n",
       "       [ 9.11989276e-01, -4.52821181e-01],\n",
       "       [ 2.80552672e+00,  3.53179221e+00],\n",
       "       [-1.07917414e-01,  5.43422652e-01],\n",
       "       [ 3.00120787e+00,  3.13941074e+00],\n",
       "       [-9.81577411e-01, -1.82114722e-01],\n",
       "       [ 7.02000217e-01,  5.64236625e-01],\n",
       "       [-2.37930214e-01,  2.92847403e-01],\n",
       "       [ 3.38059339e+00,  2.86695781e+00],\n",
       "       [ 3.03762091e+00,  2.76228412e+00],\n",
       "       [ 2.82334022e+00,  3.67373442e+00],\n",
       "       [ 3.31231241e+00,  2.79659434e+00],\n",
       "       [-2.09062208e-03, -5.48045082e-01],\n",
       "       [-2.82286684e-01,  4.40213741e-01],\n",
       "       [ 3.38733441e+00,  2.63037281e+00],\n",
       "       [ 2.91628740e+00,  3.38007763e+00],\n",
       "       [ 2.72005927e+00,  3.13807049e+00],\n",
       "       [-2.45171103e-01, -4.06190394e-01],\n",
       "       [ 2.67218733e+00,  3.70551180e+00],\n",
       "       [ 2.88395668e+00,  2.95428367e+00],\n",
       "       [ 2.88820800e+00,  2.86851460e+00],\n",
       "       [ 3.89140376e+00,  2.58756973e+00],\n",
       "       [ 2.80853388e+00,  3.03079578e+00],\n",
       "       [-1.53538909e-01,  3.92904602e-01],\n",
       "       [ 3.35351707e+00,  3.61293352e+00],\n",
       "       [ 2.89548306e+00,  2.73425722e+00],\n",
       "       [ 3.07353037e-01, -4.27597378e-03],\n",
       "       [ 1.85022141e+00,  3.03009881e+00],\n",
       "       [ 3.23904852e+00,  2.20326149e+00],\n",
       "       [ 4.14661771e+00,  3.43222352e+00],\n",
       "       [ 1.98933242e-01, -4.91158934e-01],\n",
       "       [ 4.39864558e-01,  2.60617982e-01],\n",
       "       [ 6.09848452e-01, -1.26016047e-01],\n",
       "       [ 7.94301840e-01,  5.99992182e-02],\n",
       "       [ 3.78854181e+00,  2.82405809e+00],\n",
       "       [ 1.43200852e-02,  5.76277433e-02],\n",
       "       [-4.25866327e-01, -6.99166909e-01],\n",
       "       [-1.09150365e+00, -5.00180498e-01],\n",
       "       [ 3.08728577e+00,  3.89816185e+00],\n",
       "       [ 1.83674115e-01,  1.29573359e-01],\n",
       "       [ 3.87032052e+00,  3.39740119e+00],\n",
       "       [-2.59858857e-01,  1.54863968e-01],\n",
       "       [ 5.86875106e-01,  9.49392799e-01],\n",
       "       [ 2.36974168e-01,  1.79882441e-01],\n",
       "       [-2.44048652e-01, -4.57931787e-01],\n",
       "       [ 3.36915348e+00,  2.82067231e+00],\n",
       "       [ 2.68111810e+00,  3.57132183e+00],\n",
       "       [ 3.33231583e+00,  3.56644746e+00],\n",
       "       [-2.05932136e-01,  1.83773264e-01],\n",
       "       [ 3.12053811e+00,  3.37878651e+00],\n",
       "       [ 3.07511539e+00,  3.86108844e+00],\n",
       "       [ 5.79300807e-01,  4.27365064e-01],\n",
       "       [ 3.18824980e+00,  2.14775652e+00],\n",
       "       [ 3.17836397e+00,  3.81357664e+00],\n",
       "       [ 3.32839109e+00,  3.59020803e+00],\n",
       "       [ 1.83381150e-01, -6.19160760e-02],\n",
       "       [ 2.46949151e+00,  3.49892884e+00],\n",
       "       [ 3.50159397e+00,  2.94156860e+00],\n",
       "       [ 2.77861604e+00,  3.31808021e+00],\n",
       "       [-1.26976418e+00,  2.56903728e-01],\n",
       "       [ 2.64837111e+00,  3.16202935e+00],\n",
       "       [-4.48858217e-02, -9.73071929e-01],\n",
       "       [-2.50887321e-01, -1.27492014e-02],\n",
       "       [ 3.36535986e+00,  2.99422493e+00],\n",
       "       [ 3.35992409e+00,  3.19748630e+00],\n",
       "       [ 2.02775934e-02,  9.39392470e-01],\n",
       "       [ 1.24271151e+00,  2.89239733e-01],\n",
       "       [ 6.41256299e-01,  5.67391938e-01],\n",
       "       [ 2.68919901e+00,  3.06050550e+00],\n",
       "       [ 3.13133287e+00,  2.63670915e+00],\n",
       "       [ 3.46881807e+00,  2.87955152e+00],\n",
       "       [ 1.79097740e-01, -3.68893514e-01],\n",
       "       [ 2.67133797e+00,  2.74395647e+00],\n",
       "       [-1.30869366e-01, -3.91579519e-02],\n",
       "       [-4.88771502e-01,  1.06372412e+00],\n",
       "       [-8.21447869e-01,  2.24066445e-01],\n",
       "       [ 2.57071839e+00,  2.53356137e+00],\n",
       "       [ 4.13207241e-01,  7.18072323e-02],\n",
       "       [ 7.63418070e-02, -3.50604788e-01],\n",
       "       [ 4.53278735e-02,  6.84735082e-01],\n",
       "       [-5.29224794e-02,  7.68816285e-01],\n",
       "       [ 3.09060951e+00,  2.97105506e+00],\n",
       "       [ 3.53211491e-01, -1.31285599e-02],\n",
       "       [ 7.19642761e-01,  2.76888235e-01],\n",
       "       [ 6.24975688e-01,  4.12620954e-01],\n",
       "       [-7.14843055e-02,  2.47929864e-01],\n",
       "       [ 5.14119075e-01, -7.46127183e-03],\n",
       "       [ 2.25094398e+00,  3.08806119e+00],\n",
       "       [ 3.39650569e+00,  3.39097028e+00],\n",
       "       [ 2.72182109e+00,  3.77043050e+00],\n",
       "       [-7.78617368e-01,  1.04796468e+00],\n",
       "       [ 2.73430103e+00,  2.52885530e+00],\n",
       "       [ 5.05866260e-02, -7.27650968e-01],\n",
       "       [ 2.74718188e+00,  2.92141973e+00],\n",
       "       [-5.74248567e-01,  3.26478173e-01],\n",
       "       [ 3.47254036e+00,  4.80597916e+00],\n",
       "       [ 2.71234109e+00,  3.19970360e+00],\n",
       "       [ 3.88054024e+00,  2.84028715e+00],\n",
       "       [ 1.70238487e-01, -4.65037583e-01],\n",
       "       [ 4.47025516e-01, -2.19558665e-01],\n",
       "       [ 3.32511571e+00,  2.74284403e+00],\n",
       "       [-8.57239098e-01,  1.46221773e-01],\n",
       "       [-2.91952353e-01,  4.00145766e-01],\n",
       "       [ 2.40331970e-01, -2.82829924e-01],\n",
       "       [ 3.20561731e+00,  3.06726939e+00],\n",
       "       [ 2.41474778e+00,  2.81268883e+00],\n",
       "       [ 2.83438533e+00,  3.30003986e+00],\n",
       "       [ 1.19660860e-01, -7.72047366e-01],\n",
       "       [-4.99010616e-01, -1.24920416e-02],\n",
       "       [-1.09842532e+00, -7.60357500e-01],\n",
       "       [ 3.60818053e+00,  3.32009716e+00],\n",
       "       [ 2.18337671e+00,  3.46013296e+00],\n",
       "       [ 3.22029775e+00,  2.65683491e+00],\n",
       "       [ 5.18467021e-01,  2.69547981e-01],\n",
       "       [-5.86593630e-01, -9.85984106e-02],\n",
       "       [ 6.44111788e-01,  4.12256323e-01],\n",
       "       [ 2.61173420e+00,  3.30700605e+00],\n",
       "       [ 2.98764821e-01,  7.89441646e-02],\n",
       "       [ 2.28813726e+00,  2.98281446e+00],\n",
       "       [ 2.85676569e-01,  2.23879130e-01],\n",
       "       [ 4.68114701e-02, -7.50895994e-01],\n",
       "       [ 5.14908257e-01,  1.03782253e-01],\n",
       "       [ 6.91673950e-02, -2.20574825e-01],\n",
       "       [ 2.39206415e+00,  2.80230838e+00],\n",
       "       [ 3.77481827e+00,  3.09297923e+00],\n",
       "       [ 8.07318520e-02,  7.87295098e-01],\n",
       "       [ 2.05270677e+00,  3.27649317e+00],\n",
       "       [ 6.13090826e-01, -7.70909333e-02],\n",
       "       [ 2.52134618e+00,  2.67455277e+00],\n",
       "       [-4.14242843e-02,  6.56031829e-01],\n",
       "       [ 2.23893143e+00,  2.99371101e+00],\n",
       "       [ 3.02253848e+00,  2.33932493e+00],\n",
       "       [ 1.34940474e-01, -3.02768370e-01],\n",
       "       [ 2.78123097e+00,  2.58719657e+00],\n",
       "       [ 3.91033728e-02,  4.60184944e-01],\n",
       "       [ 3.00767043e+00,  2.46447174e+00],\n",
       "       [ 3.20986518e+00,  2.65820869e+00],\n",
       "       [ 9.51582523e-02, -1.23668097e-01],\n",
       "       [ 3.67408398e+00,  3.76642721e+00],\n",
       "       [ 2.71745202e+00,  2.79143703e+00],\n",
       "       [ 3.27380508e+00,  3.28162187e+00],\n",
       "       [ 3.50566621e+00,  2.56616469e+00],\n",
       "       [ 6.48795149e-01, -8.22312280e-01],\n",
       "       [ 3.20463467e+00,  3.85690956e+00],\n",
       "       [ 4.68383210e-01, -4.38281356e-01],\n",
       "       [ 3.25916899e+00,  3.51717026e+00],\n",
       "       [ 2.39236405e+00,  2.07822744e+00],\n",
       "       [-1.55413528e-01, -3.55633248e-01],\n",
       "       [ 1.27357556e+00, -6.47364707e-02],\n",
       "       [ 1.41910480e-01,  6.92081231e-01],\n",
       "       [ 2.96898490e-02,  1.98335123e-01],\n",
       "       [-6.25147870e-01,  1.45874809e-02],\n",
       "       [-2.99185527e-01, -9.17778268e-01],\n",
       "       [-6.62818650e-01, -1.87578338e-01],\n",
       "       [-7.08298889e-04,  3.70829127e-01],\n",
       "       [ 2.46459286e+00,  2.46914049e+00],\n",
       "       [ 2.50873497e+00,  2.96165071e+00],\n",
       "       [ 2.16836446e-01, -3.71029453e-01],\n",
       "       [-2.15272698e-01, -5.46026879e-01],\n",
       "       [ 3.24346193e+00,  2.90540570e+00],\n",
       "       [ 3.46979780e+00,  3.39037451e+00],\n",
       "       [ 3.42717811e+00,  2.56448182e+00],\n",
       "       [ 2.47501425e+00,  2.79925825e+00],\n",
       "       [ 3.51152169e+00,  2.20509498e+00],\n",
       "       [ 3.84783892e-01,  4.12715476e-01],\n",
       "       [ 2.78837067e+00,  2.82077308e+00],\n",
       "       [-2.30043080e-01, -5.12702458e-02],\n",
       "       [-9.82374594e-02, -1.50682112e+00],\n",
       "       [ 2.98861326e+00,  3.00616804e+00],\n",
       "       [ 2.93691049e+00,  2.69694273e+00],\n",
       "       [-2.00731502e-01, -2.90478614e-01],\n",
       "       [ 9.99288106e-02, -1.75348161e-01],\n",
       "       [ 2.79119256e+00,  3.17435713e+00],\n",
       "       [ 1.95726919e-01,  1.92527900e-01],\n",
       "       [ 2.73737230e-01,  3.20608747e-01],\n",
       "       [ 3.49091482e+00,  3.42300906e+00],\n",
       "       [ 1.14153178e-01,  2.79844982e-01],\n",
       "       [ 5.14612638e-02, -7.52527108e-01],\n",
       "       [-9.11415384e-03, -1.08560024e-01],\n",
       "       [ 4.47666186e-01,  4.32281156e-01],\n",
       "       [ 3.02994105e+00,  2.49080028e+00],\n",
       "       [ 2.43393029e+00,  1.68011834e+00],\n",
       "       [-1.15666249e-01,  2.55702034e-02],\n",
       "       [ 2.64746511e+00,  3.36322358e+00],\n",
       "       [ 3.00082989e+00,  2.81504081e+00],\n",
       "       [ 1.88339493e-01,  6.22778132e-02],\n",
       "       [ 2.52933609e+00,  2.97758157e+00],\n",
       "       [-4.88952695e-01,  1.49497980e-01],\n",
       "       [ 2.72431298e+00,  3.03772564e+00],\n",
       "       [ 2.86611220e+00,  2.68896423e+00],\n",
       "       [ 2.86358801e+00,  3.77625056e+00],\n",
       "       [ 3.09899533e+00,  2.72333848e+00],\n",
       "       [-6.12817078e-01, -8.22024672e-03],\n",
       "       [ 3.41054736e-01,  4.25997498e-01]])"
      ]
     },
     "execution_count": 19,
     "metadata": {},
     "output_type": "execute_result"
    }
   ],
   "source": [
    "X"
   ]
  },
  {
   "cell_type": "code",
   "execution_count": 21,
   "metadata": {},
   "outputs": [
    {
     "data": {
      "text/plain": [
       "Text(0, 0.5, '$x_2$')"
      ]
     },
     "execution_count": 21,
     "metadata": {},
     "output_type": "execute_result"
    },
    {
     "data": {
      "image/png": "[encoded data removed]",
      "text/plain": [
       "<Figure size 432x288 with 1 Axes>"
      ]
     },
     "metadata": {
      "needs_background": "light"
     },
     "output_type": "display_data"
    }
   ],
   "source": [
    "plt.figure(figsize=(6,4))\n",
    "plt.scatter(X[:,0],X[:,1], c=Y)\n",
    "plt.xlabel('$x_1$')\n",
    "plt.ylabel('$x_2$')"
   ]
  },
  {
   "cell_type": "code",
   "execution_count": 20,
   "metadata": {},
   "outputs": [
    {
     "data": {
      "text/plain": [
       "Text(0, 0.5, '$x_2$')"
      ]
     },
     "execution_count": 20,
     "metadata": {},
     "output_type": "execute_result"
    },
    {
     "data": {
      "image/png": "[encoded data removed]",
      "text/plain": [
       "<Figure size 432x288 with 1 Axes>"
      ]
     },
     "metadata": {
      "needs_background": "light"
     },
     "output_type": "display_data"
    }
   ],
   "source": [
    "plt.figure(figsize=(6,4))\n",
    "plt.scatter(X[:,0],X[:,1], c=y_hat_pred)\n",
    "plt.xlabel('$x_1$')\n",
    "plt.ylabel('$x_2$')"
   ]
  },
  {
   "cell_type": "code",
   "execution_count": 23,
   "metadata": {},
   "outputs": [
    {
     "data": {
      "text/plain": [
       "Text(0, 0.5, '$x_2$')"
      ]
     },
     "execution_count": 23,
     "metadata": {},
     "output_type": "execute_result"
    },
    {
     "data": {
      "image/png": "[encoded data removed]",
      "text/plain": [
       "<Figure size 432x288 with 1 Axes>"
      ]
     },
     "metadata": {
      "needs_background": "light"
     },
     "output_type": "display_data"
    }
   ],
   "source": [
    "Xnew = np.array([[1,1,1],\n",
    "                 [1,-1,3],\n",
    "                 [1,4,2]])\n",
    "plt.figure(figsize=(6,4))\n",
    "plt.scatter(X[:,0],X[:,1], c=y_hat_pred)\n",
    "plt.plot(Xnew[0,1],Xnew[0,2], '^r', label = f'{(Xnew[0,1],Xnew[0,2])}' )\n",
    "plt.plot(Xnew[1,1],Xnew[1,2], '^g', label = f'{(Xnew[1,1],Xnew[1,2])}' )\n",
    "plt.plot(Xnew[2,1],Xnew[2,2], '^k', label = f'{(Xnew[2,1],Xnew[2,2])}' )\n",
    "plt.xlabel('$x_1$')\n",
    "plt.ylabel('$x_2$')"
   ]
  },
  {
   "cell_type": "code",
   "execution_count": 24,
   "metadata": {},
   "outputs": [
    {
     "name": "stderr",
     "output_type": "stream",
     "text": [
      "C:\\Users\\uie70742\\AppData\\Local\\Temp/ipykernel_60604/4036894083.py:2: RuntimeWarning: overflow encountered in exp\n",
      "  return 1/(1+np.exp(-z))\n"
     ]
    },
    {
     "data": {
      "text/plain": [
       "array([0., 0., 1.])"
      ]
     },
     "execution_count": 24,
     "metadata": {},
     "output_type": "execute_result"
    }
   ],
   "source": [
    "y_hat_pred_new = np.round(re_log(B,Xnew),0)\n",
    "y_hat_pred_new"
   ]
  },
  {
   "cell_type": "markdown",
   "metadata": {},
   "source": [
    "## Ejemplo 2: Realizar el ejemplo anterior utilizando las librerías de sklearn"
   ]
  },
  {
   "cell_type": "code",
   "execution_count": 30,
   "metadata": {},
   "outputs": [],
   "source": []
  },
  {
   "cell_type": "code",
   "execution_count": null,
   "metadata": {},
   "outputs": [],
   "source": [
    "#Dibujar la frontera de separación\n"
   ]
  },
  {
   "cell_type": "markdown",
   "metadata": {},
   "source": [
    "### Ejemplo 3:  RgresiónLogística (datos que no son linealmente separables)"
   ]
  },
  {
   "cell_type": "code",
   "execution_count": 47,
   "metadata": {},
   "outputs": [],
   "source": []
  },
  {
   "cell_type": "code",
   "execution_count": null,
   "metadata": {},
   "outputs": [],
   "source": []
  },
  {
   "cell_type": "code",
   "execution_count": null,
   "metadata": {},
   "outputs": [],
   "source": []
  },
  {
   "cell_type": "markdown",
   "metadata": {},
   "source": [
    "### Actividad: Social_Network_Adds"
   ]
  },
  {
   "cell_type": "code",
   "execution_count": null,
   "metadata": {},
   "outputs": [],
   "source": [
    "# 1.- Estandarizar los datos (StandardScaler) x_std = (x - x.mean())/x.std()\n",
    "# 2.- Utilizando las librerías de sklearn, encontrar un modelo de reg. logística \n",
    "# (X, Xa)\n",
    "# 3.- El modelo encontrado tenga un accuracy mayor al 85% \n",
    "# 4.- Predecir datos nuevos (clientes nuevos) C_new =[35, 58000]\n"
   ]
  },
  {
   "cell_type": "code",
   "execution_count": null,
   "metadata": {},
   "outputs": [],
   "source": []
  }
 ],
 "metadata": {
  "kernelspec": {
   "display_name": "Python 3 (ipykernel)",
   "language": "python",
   "name": "python3"
  },
  "language_info": {
   "codemirror_mode": {
    "name": "ipython",
    "version": 3
   },
   "file_extension": ".py",
   "mimetype": "text/x-python",
   "name": "python",
   "nbconvert_exporter": "python",
   "pygments_lexer": "ipython3",
   "version": "3.8.8"
  }
 },
 "nbformat": 4,
 "nbformat_minor": 2
}
