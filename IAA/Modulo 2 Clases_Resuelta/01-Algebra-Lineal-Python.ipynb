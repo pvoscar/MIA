{
 "cells": [
  {
   "cell_type": "markdown",
   "metadata": {},
   "source": [
    "\n",
    "<img style=\"float: left;;\" src='Figures/alinco.png' /></a>\n",
    "    \n",
    "# <center> <font color= #000047>  Algebra Lineal con Python</font>\n",
    "___\n",
    "\n",
    "<img style=\"float: right; margin: 0px 0px 15px 15px;\" src=\"https://d3f1iyfxxz8i1e.cloudfront.net/courses/course_image/8873f981418c.jpeg\" width=\"400px\" height=\"400px\" />"
   ]
  },
  {
   "cell_type": "markdown",
   "metadata": {},
   "source": [
    "## Motivación\n",
    "\n",
    "Una de las herramientas matemáticas más utilizadas en *machine learning* e Inteligencia Artificial es el *Álgebra lineal*, por tanto, si queremos incursionar en el fascinante mundo del aprendizaje automático y el análisis de datos es importante reforzar los conceptos que forman parte de sus cimientos. \n",
    "\n",
    "> El *Álgebra lineal* es una rama de las *matemáticas* que es sumamente utilizada en el estudio de una gran variedad de ciencias, como son: ingeniería, finanzas, investigación operativa, entre otras. \n",
    "\n",
    "> Es una extensión del *álgebra* que aprendemos en la escuela secundaria, hacia un mayor número de dimensiones; en lugar de trabajar con incógnitas a nivel de <a href=\"http://es.wikipedia.org/wiki/Escalar_(matem%C3%A1tica)\">escalares</a> comenzamos a trabajar con <a href=\"http://es.wikipedia.org/wiki/Matriz_(matem%C3%A1ticas)\">matrices</a> y vectores.  \n",
    "\n",
    "El estudio del *Álgebra lineal* implica trabajar con varios objetos matemáticos, como son:\n",
    "\n",
    "> **Los Escalares**: Un *escalar* es un solo número, en contraste con la mayoría de los otros objetos estudiados en *Álgebra lineal*, que son generalmente una colección de múltiples números.\n",
    "\n",
    "> **Los Vectores**:Un *vector* es una serie de números. Los números tienen una orden preestablecido, y podemos identificar cada número individual por su índice en ese orden. Podemos pensar en los  *vectores* como la identificación de puntos en el espacio, con cada elemento que da la coordenada a lo largo de un eje diferente. Existen dos tipos de *vectores*, los *vectores de fila* y los *vectores de columna*. Podemos representarlos de la siguiente manera, dónde *f* es un vector de fila y *c* es un vector de columna:\n",
    "$$f=\\begin{bmatrix}0&1&-1\\end{bmatrix} ;       c=\\begin{bmatrix}0\\\\1\\\\-1\\end{bmatrix}$$\n",
    "\n",
    "> **Las Matrices**: Una *matriz* es un arreglo bidimensional de números (llamados entradas de la matriz) ordenados en filas (o renglones) y columnas, donde una fila es cada una de las líneas horizontales de la matriz y una columna es cada una de las líneas verticales. En una *matriz* cada elemento puede ser identificado utilizando dos índices, uno para la fila y otro para la columna en que se encuentra. Las podemos representar de la siguiente manera, *A* es una matriz de 3x2.\n",
    "$$A=\\begin{bmatrix}0 & 1& \\\\-1 & 2 \\\\ -2 & 3\\end{bmatrix}$$\n",
    "\n",
    ">**Los *Tensores***:En algunos casos necesitaremos una matriz con más de dos ejes. En general, una serie de números dispuestos en una cuadrícula regular con un número variable de ejes es conocido como un *tensor*.\n",
    "\n",
    "Sobre estos objetos podemos realizar las operaciones matemáticas básicas, como la *adición*, *multiplicación*, *sustracción* y *división*, es decir que vamos a poder sumar *vectores* con *matrices*, multiplicar escalares con *vectores* y demás."
   ]
  },
  {
   "cell_type": "markdown",
   "metadata": {
    "collapsed": true
   },
   "source": [
    "## Librerías de Python para álgebra lineal\n",
    "\n",
    "Los principales módulos que [Python](http://python.org/) nos ofrece para realizar operaciones de *Álgebra lineal*  son los siguientes:\n",
    "\n",
    "> **[Numpy](http://www.numpy.org/)**: El popular paquete matemático de Python, nos va a permitir crear *vectores*, *matrices* y *tensores* con suma facilidad.\n",
    "\n",
    "> **[numpy.linalg](http://docs.scipy.org/doc/numpy/reference/routines.linalg.html)**: Este es un submodulo dentro de Numpy con un gran número de funciones para resolver ecuaciones de Álgebra lineal.\n",
    "\n",
    "> **[scipy.linalg](http://docs.scipy.org/doc/scipy/reference/tutorial/linalg.html)**: Este submodulo del paquete científico [Scipy](http://docs.scipy.org/doc/scipy/reference/index.html) es muy similar al anterior, pero con algunas más funciones y optimaciones.\n",
    "\n",
    "> **[Sympy](http://www.sympy.org/es/)**: Esta librería nos permite trabajar con matemática simbólica, convierte a Python en un [sistema algebraico computacional](http://es.wikipedia.org/wiki/Sistema_algebraico_computacional). Nos va a permitir trabajar con ecuaciones y fórmulas simbólicamente, en lugar de numéricamente.\n",
    "\n",
    "> **[CVXOPT](http://cvxopt.org/)**: Este módulo nos permite resolver problemas de optimizaciones de programación lineal.\n",
    "\n",
    "> **[PuLP](http://pythonhosted.org//PuLP/)**: Esta librería nos permite crear modelos de programación lineal en forma muy sencilla con Python"
   ]
  },
  {
   "cell_type": "markdown",
   "metadata": {},
   "source": [
    "# Operaciones básicas "
   ]
  },
  {
   "cell_type": "markdown",
   "metadata": {
    "collapsed": true
   },
   "source": [
    "### Vectores\n",
    "\n",
    "Un *vector* de tamaño `n` es una secuencia (o *array*, o *tupla*) de `n` números. La solemos escribir como x=(x1,...,xn) o x=[x1,...,xn]\n",
    "\n",
    "En Python, un *vector* puede ser representado con una simple *lista*, o con un *array* de [Numpy](http://www.numpy.org/); siendo preferible utilizar esta última opción."
   ]
  },
  {
   "cell_type": "code",
   "execution_count": 1,
   "metadata": {},
   "outputs": [
    {
     "data": {
      "text/plain": [
       "[2, 4, 6]"
      ]
     },
     "execution_count": 1,
     "metadata": {},
     "output_type": "execute_result"
    }
   ],
   "source": [
    "# Vector como lista de Python\n",
    "v1=[2,4,6]\n",
    "v1"
   ]
  },
  {
   "cell_type": "code",
   "execution_count": 2,
   "metadata": {},
   "outputs": [],
   "source": [
    "# Vectores con numpy\n",
    "import numpy as np"
   ]
  },
  {
   "cell_type": "code",
   "execution_count": 3,
   "metadata": {},
   "outputs": [],
   "source": [
    "v2 = np.ones(3)"
   ]
  },
  {
   "cell_type": "code",
   "execution_count": 4,
   "metadata": {},
   "outputs": [
    {
     "data": {
      "text/plain": [
       "array([1., 1., 1.])"
      ]
     },
     "execution_count": 4,
     "metadata": {},
     "output_type": "execute_result"
    }
   ],
   "source": [
    "v2"
   ]
  },
  {
   "cell_type": "code",
   "execution_count": 5,
   "metadata": {},
   "outputs": [],
   "source": [
    "v3=np.arange(1,8)"
   ]
  },
  {
   "cell_type": "code",
   "execution_count": 6,
   "metadata": {},
   "outputs": [
    {
     "data": {
      "text/plain": [
       "array([1, 2, 3, 4, 5, 6, 7])"
      ]
     },
     "execution_count": 6,
     "metadata": {},
     "output_type": "execute_result"
    }
   ],
   "source": [
    "v3"
   ]
  },
  {
   "cell_type": "code",
   "execution_count": 7,
   "metadata": {},
   "outputs": [
    {
     "data": {
      "text/plain": [
       "array([ 3,  6,  9, 12, 15, 18, 21])"
      ]
     },
     "execution_count": 7,
     "metadata": {},
     "output_type": "execute_result"
    }
   ],
   "source": [
    "v3+2*v3"
   ]
  },
  {
   "cell_type": "code",
   "execution_count": null,
   "metadata": {},
   "outputs": [],
   "source": []
  },
  {
   "cell_type": "code",
   "execution_count": null,
   "metadata": {},
   "outputs": [],
   "source": []
  },
  {
   "cell_type": "code",
   "execution_count": null,
   "metadata": {},
   "outputs": [],
   "source": []
  },
  {
   "cell_type": "markdown",
   "metadata": {},
   "source": [
    "### Representación gráfica\n",
    "\n",
    "Tradicionalmente, los *vectores* son representados visualmente como flechas que parten desde el origen hacia un punto.\n",
    "\n",
    "Por ejemplo, si quisiéramos representar graficamente a los vectores v1=[2, 4], v2=[-3, 3] y v3=[-4, -3.5], podríamos hacerlo de la siguiente manera."
   ]
  },
  {
   "cell_type": "code",
   "execution_count": 8,
   "metadata": {},
   "outputs": [],
   "source": [
    "import matplotlib.pyplot as plt\n",
    "from warnings import filterwarnings\n",
    "\n",
    "%matplotlib inline\n",
    "filterwarnings('ignore') # Ignorar warnings"
   ]
  },
  {
   "cell_type": "code",
   "execution_count": 17,
   "metadata": {},
   "outputs": [],
   "source": [
    "def move_spines():\n",
    "    \"\"\"Crea la figura de pyplot y los ejes. Mueve las lineas de la izquierda y de abajo\n",
    "    para que se intersecten con el origen. Elimina las lineas de la derecha y la de arriba.\n",
    "    Devuelve los ejes.\"\"\"\n",
    "    fix, ax = plt.subplots()\n",
    "    for spine in [\"left\", \"bottom\"]:\n",
    "        ax.spines[spine].set_position(\"zero\")\n",
    "    \n",
    "    for spine in [\"right\", \"top\"]:\n",
    "        ax.spines[spine].set_color(\"none\")\n",
    "        \n",
    "    return ax \n",
    "\n",
    "def vect_fig(vecs): \n",
    "    \"\"\"Genera el grafico de los vectores en el plano\"\"\"\n",
    "    ax = move_spines()\n",
    "    \n",
    "    ax.set_xlim(-5,5)\n",
    "    ax.set_ylim(-5,5)\n",
    "    \n",
    "    ax.grid()\n",
    "    \n",
    "    for v in vecs:\n",
    "        ax.annotate(\" \", xy=v, xytext=[0,0],\n",
    "                  arrowprops = dict(facecolor = 'blue',\n",
    "                                   shrink=0,\n",
    "                                   alpha=0.7,\n",
    "                                   width=0.5))\n",
    "        ax.text(1.1*v[0], 1.1*v[1], v)\n",
    "        \n",
    "    "
   ]
  },
  {
   "cell_type": "code",
   "execution_count": 21,
   "metadata": {},
   "outputs": [
    {
     "data": {
      "image/png": "[encoded data removed]",
      "text/plain": [
       "<Figure size 432x288 with 1 Axes>"
      ]
     },
     "metadata": {
      "needs_background": "light"
     },
     "output_type": "display_data"
    }
   ],
   "source": [
    "vecs = [[2,4],[1,1],[-3,5]] #lista de vectores\n",
    "vect_fig(vecs) # crea el gráfico"
   ]
  },
  {
   "cell_type": "markdown",
   "metadata": {},
   "source": [
    "### Operaciones con vectores\n",
    "\n",
    "Las operaciones más comunes que utilizamos cuando trabajamos con *vectores* son la *suma*, la *resta* y la *multiplicación por escalares*.\n",
    "\n",
    "Cuando *sumamos* dos *vectores*, vamos sumando elemento por elemento de cada\n",
    "*vector*.\n",
    "\n",
    "$$ \\begin{split}x + y\n",
    "=\n",
    "\\left[\n",
    "\\begin{array}{c}\n",
    "    x_1 \\\\\n",
    "    x_2 \\\\\n",
    "    \\vdots \\\\\n",
    "    x_n\n",
    "\\end{array}\n",
    "\\right]\n",
    "+\n",
    "\\left[\n",
    "\\begin{array}{c}\n",
    "     y_1 \\\\\n",
    "     y_2 \\\\\n",
    "    \\vdots \\\\\n",
    "     y_n\n",
    "\\end{array}\n",
    "\\right]\n",
    ":=\n",
    "\\left[\n",
    "\\begin{array}{c}\n",
    "    x_1 + y_1 \\\\\n",
    "    x_2 + y_2 \\\\\n",
    "    \\vdots \\\\\n",
    "    x_n + y_n\n",
    "\\end{array}\n",
    "\\right]\\end{split}$$\n",
    "\n",
    "De forma similar funciona la operación de resta.\n",
    "\n",
    "$$ \\begin{split}x - y\n",
    "=\n",
    "\\left[\n",
    "\\begin{array}{c}\n",
    "    x_1 \\\\\n",
    "    x_2 \\\\\n",
    "    \\vdots \\\\\n",
    "    x_n\n",
    "\\end{array}\n",
    "\\right]\n",
    "-\n",
    "\\left[\n",
    "\\begin{array}{c}\n",
    "     y_1 \\\\\n",
    "     y_2 \\\\\n",
    "    \\vdots \\\\\n",
    "     y_n\n",
    "\\end{array}\n",
    "\\right]\n",
    ":=\n",
    "\\left[\n",
    "\\begin{array}{c}\n",
    "    x_1 - y_1 \\\\\n",
    "    x_2 - y_2 \\\\\n",
    "    \\vdots \\\\\n",
    "    x_n - y_n\n",
    "\\end{array}\n",
    "\\right]\\end{split}$$\n",
    "\n",
    "La *multiplicación por escalares* es una operación que toma a un número $\\gamma$, y a un *vector* $x$ y produce un nuevo *vector* donde cada elemento del vector $x$ es multiplicado por el número $\\gamma$.\n",
    "\n",
    "$$\\begin{split}\\gamma x\n",
    ":=\n",
    "\\left[\n",
    "\\begin{array}{c}\n",
    "    \\gamma x_1 \\\\\n",
    "    \\gamma x_2 \\\\\n",
    "    \\vdots \\\\\n",
    "    \\gamma x_n\n",
    "\\end{array}\n",
    "\\right]\\end{split}$$\n",
    "\n",
    "En Python podríamos realizar estas operaciones en forma muy sencilla:"
   ]
  },
  {
   "cell_type": "code",
   "execution_count": 22,
   "metadata": {},
   "outputs": [
    {
     "data": {
      "text/plain": [
       "(array([1, 2, 3, 4]), array([2, 4, 6, 8]))"
      ]
     },
     "execution_count": 22,
     "metadata": {},
     "output_type": "execute_result"
    }
   ],
   "source": [
    "# Ejemplo en Python\n",
    "x = np.arange(1,5)\n",
    "y = np.array([2,4,6,8])\n",
    "x,y"
   ]
  },
  {
   "cell_type": "code",
   "execution_count": null,
   "metadata": {},
   "outputs": [],
   "source": []
  },
  {
   "cell_type": "code",
   "execution_count": 23,
   "metadata": {},
   "outputs": [
    {
     "data": {
      "text/plain": [
       "array([ 3,  6,  9, 12])"
      ]
     },
     "execution_count": 23,
     "metadata": {},
     "output_type": "execute_result"
    }
   ],
   "source": [
    "# sumando dos vectores numpy\n",
    "x+y"
   ]
  },
  {
   "cell_type": "code",
   "execution_count": 24,
   "metadata": {},
   "outputs": [
    {
     "data": {
      "text/plain": [
       "array([-1, -2, -3, -4])"
      ]
     },
     "execution_count": 24,
     "metadata": {},
     "output_type": "execute_result"
    }
   ],
   "source": [
    "# restando dos vectores\n",
    "x-y"
   ]
  },
  {
   "cell_type": "code",
   "execution_count": 25,
   "metadata": {},
   "outputs": [
    {
     "data": {
      "text/plain": [
       "array([ 3,  6,  9, 12])"
      ]
     },
     "execution_count": 25,
     "metadata": {},
     "output_type": "execute_result"
    }
   ],
   "source": [
    "# multiplicando por un escalar\n",
    "x*3"
   ]
  },
  {
   "cell_type": "code",
   "execution_count": 31,
   "metadata": {},
   "outputs": [],
   "source": [
    "x=np.array([1,3])\n",
    "y=np.array([-1,1])"
   ]
  },
  {
   "cell_type": "code",
   "execution_count": 33,
   "metadata": {},
   "outputs": [
    {
     "data": {
      "text/plain": [
       "array([1, 3])"
      ]
     },
     "execution_count": 33,
     "metadata": {},
     "output_type": "execute_result"
    }
   ],
   "source": [
    "x"
   ]
  },
  {
   "cell_type": "code",
   "execution_count": 34,
   "metadata": {},
   "outputs": [
    {
     "data": {
      "text/plain": [
       "array([-1,  1])"
      ]
     },
     "execution_count": 34,
     "metadata": {},
     "output_type": "execute_result"
    }
   ],
   "source": [
    "y"
   ]
  },
  {
   "cell_type": "code",
   "execution_count": 37,
   "metadata": {},
   "outputs": [
    {
     "data": {
      "image/png": "[encoded data removed]",
      "text/plain": [
       "<Figure size 432x288 with 1 Axes>"
      ]
     },
     "metadata": {
      "needs_background": "light"
     },
     "output_type": "display_data"
    }
   ],
   "source": [
    "vecs = [x.tolist(),y.tolist()]\n",
    "vect_fig(vecs)"
   ]
  },
  {
   "cell_type": "code",
   "execution_count": 39,
   "metadata": {},
   "outputs": [
    {
     "data": {
      "text/plain": [
       "array([0, 4])"
      ]
     },
     "execution_count": 39,
     "metadata": {},
     "output_type": "execute_result"
    }
   ],
   "source": [
    "rxy = x+y\n",
    "rxy"
   ]
  },
  {
   "cell_type": "code",
   "execution_count": 50,
   "metadata": {},
   "outputs": [
    {
     "data": {
      "image/png": "[encoded data removed]",
      "text/plain": [
       "<Figure size 432x288 with 1 Axes>"
      ]
     },
     "metadata": {
      "needs_background": "light"
     },
     "output_type": "display_data"
    }
   ],
   "source": [
    "vect_fig([rxy,[4,0]])"
   ]
  },
  {
   "cell_type": "markdown",
   "metadata": {},
   "source": [
    "#### Producto escalar o interior\n",
    "\n",
    "El p*roducto escalar* de dos *vectores* se define como la suma de los productos de sus elementos, suele representarse matemáticamente como < x, y > o x'y, donde x e y son dos vectores.\n",
    "\n",
    "$$< x, y > := \\sum_{i=1}^n x_i y_i$$\n",
    "\n",
    "Dos *vectores* son <a href=\"https://es.wikipedia.org/wiki/Ortogonalidad_(matem%C3%A1ticas)\">ortogonales</a> o perpendiculares cuando forman ángulo recto entre sí. Si el producto escalar de dos vectores es cero, ambos vectores son *ortogonales*.\n",
    "\n",
    "Adicionalmente, todo producto escalar induce una [norma](https://es.wikipedia.org/wiki/Norma_vectorial) sobre el espacio en el que está definido, de la siguiente manera:\n",
    "\n",
    "$$\\| x \\| := \\sqrt{< x, x>} := \\left( \\sum_{i=1}^n x_i^2 \\right)^{1/2}$$\n",
    "\n",
    "En Python  lo podemos calcular de la siguiente forma:"
   ]
  },
  {
   "cell_type": "code",
   "execution_count": 41,
   "metadata": {},
   "outputs": [
    {
     "data": {
      "text/plain": [
       "2"
      ]
     },
     "execution_count": 41,
     "metadata": {},
     "output_type": "execute_result"
    }
   ],
   "source": [
    "# Calculando el producto escalar de los vectores x e y\n",
    "np.dot(x,y)"
   ]
  },
  {
   "cell_type": "code",
   "execution_count": 43,
   "metadata": {},
   "outputs": [
    {
     "data": {
      "text/plain": [
       "(array([1, 3]), array([-1,  1]))"
      ]
     },
     "execution_count": 43,
     "metadata": {},
     "output_type": "execute_result"
    }
   ],
   "source": [
    "x,y"
   ]
  },
  {
   "cell_type": "code",
   "execution_count": 44,
   "metadata": {},
   "outputs": [
    {
     "data": {
      "text/plain": [
       "array([-1,  3])"
      ]
     },
     "execution_count": 44,
     "metadata": {},
     "output_type": "execute_result"
    }
   ],
   "source": [
    "x*y"
   ]
  },
  {
   "cell_type": "code",
   "execution_count": 45,
   "metadata": {},
   "outputs": [
    {
     "data": {
      "text/plain": [
       "2"
      ]
     },
     "execution_count": 45,
     "metadata": {},
     "output_type": "execute_result"
    }
   ],
   "source": [
    "# o lo que es lo mismo, que:\n",
    "sum(x*y)"
   ]
  },
  {
   "cell_type": "code",
   "execution_count": 47,
   "metadata": {},
   "outputs": [
    {
     "data": {
      "text/plain": [
       "3.1622776601683795"
      ]
     },
     "execution_count": 47,
     "metadata": {},
     "output_type": "execute_result"
    }
   ],
   "source": [
    "# Calculando la norma del vector X\n",
    "(sum(x*x))**(0.5)"
   ]
  },
  {
   "cell_type": "code",
   "execution_count": 48,
   "metadata": {},
   "outputs": [
    {
     "data": {
      "text/plain": [
       "3.1622776601683795"
      ]
     },
     "execution_count": 48,
     "metadata": {},
     "output_type": "execute_result"
    }
   ],
   "source": [
    "# otra forma de calcular la norma de x\n",
    "np.linalg.norm(x)"
   ]
  },
  {
   "cell_type": "code",
   "execution_count": 49,
   "metadata": {},
   "outputs": [
    {
     "data": {
      "text/plain": [
       "3.1622776601683795"
      ]
     },
     "execution_count": 49,
     "metadata": {},
     "output_type": "execute_result"
    }
   ],
   "source": [
    "np.sqrt(np.dot(x,x))"
   ]
  },
  {
   "cell_type": "code",
   "execution_count": 51,
   "metadata": {},
   "outputs": [
    {
     "data": {
      "text/plain": [
       "0"
      ]
     },
     "execution_count": 51,
     "metadata": {},
     "output_type": "execute_result"
    }
   ],
   "source": [
    "v1 = np.array([0,4])\n",
    "v2 = np.array([4,0])\n",
    "np.dot(v1,v2)"
   ]
  },
  {
   "cell_type": "markdown",
   "metadata": {},
   "source": [
    "### Matrices\n",
    "\n",
    "Las <a href=\"http://es.wikipedia.org/wiki/Matriz_(matem%C3%A1ticas)\">matrices</a> son una forma clara y sencilla de organizar los datos para su uso en operaciones lineales.\n",
    "\n",
    "Una *matriz* `n × k` es una agrupación rectangular de números con n filas y k columnas; se representa de la siguiente forma:\n",
    "\n",
    "$$\\begin{split}A =\n",
    "\\left[\n",
    "\\begin{array}{cccc}\n",
    "    a_{11} & a_{12} & \\cdots & a_{1k} \\\\\n",
    "    a_{21} & a_{22} & \\cdots & a_{2k} \\\\\n",
    "    \\vdots & \\vdots &  & \\vdots \\\\\n",
    "    a_{n1} & a_{n2} & \\cdots & a_{nk}\n",
    "\\end{array}\n",
    "\\right]\\end{split}$$\n",
    "\n",
    "En la *matriz* $A$, el símbolo $a_{nk}$ representa el elemento  n-ésimo de la fila en la k-ésima columna. La *matriz* $A$ también puede ser llamada un *vector* si cualquiera de n o k son iguales a 1. En el caso de n=1, A es un *vector fila*, mientras que en el caso de k=1 se denomina un *vector columna*.\n",
    "\n",
    "Las matrices se utilizan para múltiples aplicaciones y sirven, en particular, para representar los coeficientes de los sistemas de ecuaciones lineales o para representar transformaciones lineales dada una base. Pueden sumarse, multiplicarse y descomponerse de varias formas."
   ]
  },
  {
   "cell_type": "markdown",
   "metadata": {},
   "source": [
    "### Operaciones con matrices\n",
    "\n",
    "Al igual que con los *vectores*, que no son más que un caso particular, las *matrices* se pueden *sumar*, *restar* y *multiplicar por escalares*.\n",
    "\n",
    "Multiplicacion por escalares:\n",
    "$$\\begin{split}\\gamma A\n",
    "\\left[\n",
    "\\begin{array}{ccc}\n",
    "    a_{11} &  \\cdots & a_{1k} \\\\\n",
    "    \\vdots & \\vdots  & \\vdots \\\\\n",
    "    a_{n1} &  \\cdots & a_{nk} \\\\\n",
    "\\end{array}\n",
    "\\right]\n",
    ":=\n",
    "\\left[\n",
    "\\begin{array}{ccc}\n",
    "    \\gamma a_{11} & \\cdots & \\gamma a_{1k} \\\\\n",
    "    \\vdots & \\vdots & \\vdots \\\\\n",
    "    \\gamma a_{n1} & \\cdots & \\gamma a_{nk} \\\\\n",
    "\\end{array}\n",
    "\\right]\\end{split}$$\n",
    "\n",
    "Suma de matrices: $$\\begin{split}A + B =\n",
    "\\left[\n",
    "\\begin{array}{ccc}\n",
    "    a_{11} & \\cdots & a_{1k} \\\\\n",
    "    \\vdots & \\vdots & \\vdots \\\\\n",
    "    a_{n1} & \\cdots & a_{nk} \\\\\n",
    "\\end{array}\n",
    "\\right]\n",
    "+\n",
    "\\left[\n",
    "\\begin{array}{ccc}\n",
    "    b_{11} & \\cdots & b_{1k} \\\\\n",
    "    \\vdots & \\vdots & \\vdots \\\\\n",
    "    b_{n1} & \\cdots & b_{nk} \\\\\n",
    "\\end{array}\n",
    "\\right]\n",
    ":=\n",
    "\\left[\n",
    "\\begin{array}{ccc}\n",
    "    a_{11} + b_{11} &  \\cdots & a_{1k} + b_{1k} \\\\\n",
    "    \\vdots & \\vdots & \\vdots \\\\\n",
    "    a_{n1} + b_{n1} &  \\cdots & a_{nk} + b_{nk} \\\\\n",
    "\\end{array}\n",
    "\\right]\\end{split}$$\n",
    "\n",
    "Resta de matrices: $$\\begin{split}A - B =\n",
    "\\left[\n",
    "\\begin{array}{ccc}\n",
    "    a_{11} & \\cdots & a_{1k} \\\\\n",
    "    \\vdots & \\vdots & \\vdots \\\\\n",
    "    a_{n1} & \\cdots & a_{nk} \\\\\n",
    "\\end{array}\n",
    "\\right]-\n",
    "\\left[\n",
    "\\begin{array}{ccc}\n",
    "    b_{11} & \\cdots & b_{1k} \\\\\n",
    "    \\vdots & \\vdots & \\vdots \\\\\n",
    "    b_{n1} & \\cdots & b_{nk} \\\\\n",
    "\\end{array}\n",
    "\\right]\n",
    ":=\n",
    "\\left[\n",
    "\\begin{array}{ccc}\n",
    "    a_{11} - b_{11} &  \\cdots & a_{1k} - b_{1k} \\\\\n",
    "    \\vdots & \\vdots & \\vdots \\\\\n",
    "    a_{n1} - b_{n1} &  \\cdots & a_{nk} - b_{nk} \\\\\n",
    "\\end{array}\n",
    "\\right]\\end{split}$$\n",
    "\n",
    "Para los casos de suma y resta, hay que tener en cuenta que solo se pueden sumar o restar matrices que tengan las mismas dimensiones, es decir que si tengo una matriz A de dimensión 3x2 (3 filas y 2 columnas) solo voy a poder sumar o restar la matriz B si esta también tiene 3 filas y 2 columnas."
   ]
  },
  {
   "cell_type": "code",
   "execution_count": 56,
   "metadata": {},
   "outputs": [
    {
     "data": {
      "text/plain": [
       "(array([[1, 3, 3],\n",
       "        [1, 0, 0],\n",
       "        [1, 2, 2]]),\n",
       " array([[1, 0, 5],\n",
       "        [7, 5, 0],\n",
       "        [2, 1, 1]]))"
      ]
     },
     "execution_count": 56,
     "metadata": {},
     "output_type": "execute_result"
    }
   ],
   "source": [
    "# Ejemplo en Python\n",
    "A = np.array([[1,3,3],\n",
    "             [1,0,0],\n",
    "             [1,2,2]])\n",
    "\n",
    "B= np.array([[1,0,5],\n",
    "             [7,5,0],\n",
    "             [2,1,1]])\n",
    "\n",
    "A,B"
   ]
  },
  {
   "cell_type": "code",
   "execution_count": 57,
   "metadata": {},
   "outputs": [
    {
     "data": {
      "text/plain": [
       "array([[2, 3, 8],\n",
       "       [8, 5, 0],\n",
       "       [3, 3, 3]])"
      ]
     },
     "execution_count": 57,
     "metadata": {},
     "output_type": "execute_result"
    }
   ],
   "source": [
    "# suma de las matrices A y B\n",
    "A+B"
   ]
  },
  {
   "cell_type": "code",
   "execution_count": 58,
   "metadata": {},
   "outputs": [
    {
     "data": {
      "text/plain": [
       "array([[ 0,  3, -2],\n",
       "       [-6, -5,  0],\n",
       "       [-1,  1,  1]])"
      ]
     },
     "execution_count": 58,
     "metadata": {},
     "output_type": "execute_result"
    }
   ],
   "source": [
    "# resta de matrices\n",
    "A-B"
   ]
  },
  {
   "cell_type": "code",
   "execution_count": 59,
   "metadata": {},
   "outputs": [
    {
     "data": {
      "text/plain": [
       "array([[2, 6, 6],\n",
       "       [2, 0, 0],\n",
       "       [2, 4, 4]])"
      ]
     },
     "execution_count": 59,
     "metadata": {},
     "output_type": "execute_result"
    }
   ],
   "source": [
    "# multiplicando matrices por escalares\n",
    "2*A"
   ]
  },
  {
   "cell_type": "code",
   "execution_count": 60,
   "metadata": {},
   "outputs": [
    {
     "data": {
      "text/plain": [
       "array([[ 3,  0, 15],\n",
       "       [21, 15,  0],\n",
       "       [ 6,  3,  3]])"
      ]
     },
     "execution_count": 60,
     "metadata": {},
     "output_type": "execute_result"
    }
   ],
   "source": [
    "B*3"
   ]
  },
  {
   "cell_type": "code",
   "execution_count": 61,
   "metadata": {},
   "outputs": [
    {
     "data": {
      "text/plain": [
       "(3, 3)"
      ]
     },
     "execution_count": 61,
     "metadata": {},
     "output_type": "execute_result"
    }
   ],
   "source": [
    "# ver la dimension de una matriz\n",
    "A.shape"
   ]
  },
  {
   "cell_type": "code",
   "execution_count": 62,
   "metadata": {},
   "outputs": [
    {
     "data": {
      "text/plain": [
       "9"
      ]
     },
     "execution_count": 62,
     "metadata": {},
     "output_type": "execute_result"
    }
   ],
   "source": [
    "# ver cantidad de elementos de una matriz\n",
    "A.size"
   ]
  },
  {
   "cell_type": "markdown",
   "metadata": {},
   "source": [
    "#### Multiplicacion o Producto de matrices\n",
    "\n",
    "La regla para la multiplicación de matrices generaliza la idea del [producto interior](https://es.wikipedia.org/wiki/Producto_escalar) que vimos con los vectores; y esta diseñada para facilitar las operaciones lineales básicas.\n",
    "Cuando multiplicamos matrices, el número de columnas de la primera matriz debe ser igual al número de filas de la segunda matriz; y el resultado de esta multiplicación va a tener el mismo número de filas que la primer matriz y el número de la columnas de la segunda matriz. \n",
    "\n",
    "Algo a tener en cuenta a la hora de multiplicar matrices es que la propiedad [connmutativa](https://es.wikipedia.org/wiki/Conmutatividad) no se cumple. AxB no es lo mismo que BxA.\n",
    "\n",
    "Veamos algunos ejemplos:"
   ]
  },
  {
   "cell_type": "markdown",
   "metadata": {},
   "source": [
    "$$AB != BA$$"
   ]
  },
  {
   "cell_type": "code",
   "execution_count": 63,
   "metadata": {},
   "outputs": [
    {
     "data": {
      "text/plain": [
       "array([[ 1,  2,  3,  4],\n",
       "       [ 5,  6,  7,  8],\n",
       "       [ 9, 10, 11, 12]])"
      ]
     },
     "execution_count": 63,
     "metadata": {},
     "output_type": "execute_result"
    }
   ],
   "source": [
    "# Ejemplo multiplicación de matrices\n",
    "A = np.arange(1,13).reshape(3,4)\n",
    "A"
   ]
  },
  {
   "cell_type": "code",
   "execution_count": 65,
   "metadata": {},
   "outputs": [
    {
     "data": {
      "text/plain": [
       "array([[0, 1],\n",
       "       [2, 3],\n",
       "       [4, 5],\n",
       "       [6, 7]])"
      ]
     },
     "execution_count": 65,
     "metadata": {},
     "output_type": "execute_result"
    }
   ],
   "source": [
    "B = np.arange(8).reshape(4,2)\n",
    "B"
   ]
  },
  {
   "cell_type": "code",
   "execution_count": 68,
   "metadata": {},
   "outputs": [
    {
     "data": {
      "text/plain": [
       "(array([[ 40,  50],\n",
       "        [ 88, 114],\n",
       "        [136, 178]]),\n",
       " array([[ 40,  50],\n",
       "        [ 88, 114],\n",
       "        [136, 178]]),\n",
       " array([[ 40,  50],\n",
       "        [ 88, 114],\n",
       "        [136, 178]]))"
      ]
     },
     "execution_count": 68,
     "metadata": {},
     "output_type": "execute_result"
    }
   ],
   "source": [
    "# Multiplicando A x B\n",
    "A@B, np.dot(A,B), A.dot(B)"
   ]
  },
  {
   "cell_type": "code",
   "execution_count": 69,
   "metadata": {},
   "outputs": [
    {
     "ename": "ValueError",
     "evalue": "matmul: Input operand 1 has a mismatch in its core dimension 0, with gufunc signature (n?,k),(k,m?)->(n?,m?) (size 3 is different from 2)",
     "output_type": "error",
     "traceback": [
      "\u001b[1;31m---------------------------------------------------------------------------\u001b[0m",
      "\u001b[1;31mValueError\u001b[0m                                Traceback (most recent call last)",
      "\u001b[1;32m~\\AppData\\Local\\Temp/ipykernel_21700/2938471579.py\u001b[0m in \u001b[0;36m<module>\u001b[1;34m\u001b[0m\n\u001b[0;32m      1\u001b[0m \u001b[1;31m# Multiplicando B x A\u001b[0m\u001b[1;33m\u001b[0m\u001b[1;33m\u001b[0m\u001b[1;33m\u001b[0m\u001b[0m\n\u001b[1;32m----> 2\u001b[1;33m \u001b[0mB\u001b[0m\u001b[1;33m@\u001b[0m\u001b[0mA\u001b[0m\u001b[1;33m\u001b[0m\u001b[1;33m\u001b[0m\u001b[0m\n\u001b[0m",
      "\u001b[1;31mValueError\u001b[0m: matmul: Input operand 1 has a mismatch in its core dimension 0, with gufunc signature (n?,k),(k,m?)->(n?,m?) (size 3 is different from 2)"
     ]
    }
   ],
   "source": [
    "# Multiplicando B x A\n",
    "B@A"
   ]
  },
  {
   "cell_type": "markdown",
   "metadata": {},
   "source": [
    "Este ultimo ejemplo vemos que la propiedad conmutativa no se cumple, es más, Python nos arroja un error, ya que el número de columnas de B no coincide con el número de filas de A, por lo que ni siquiera se puede realizar la multiplicación de B x A.\n"
   ]
  },
  {
   "cell_type": "markdown",
   "metadata": {},
   "source": [
    "#### La matriz identidad,  la matriz inversa,  la matrix transpuesta y el determinante\n",
    "\n",
    "La [matriz identidad](https://es.wikipedia.org/wiki/Matriz_identidad) es el elemento neutro en la multiplicación de matrices, es el equivalente al número 1. Cualquier matriz multiplicada por la matriz identidad nos da como resultado la misma matriz. La matriz identidad es una [matriz cuadrada](https://es.wikipedia.org/wiki/Matriz_cuadrada) (tiene siempre el mismo número de filas que de columnas); y su diagonal principal se compone de todos elementos 1 y el resto de los elementos se completan con 0. Suele representase con la letra I\n",
    "\n",
    "Por ejemplo la matriz identidad de 3x3 sería la siguiente:\n",
    "\n",
    "$$I=\\begin{bmatrix}1 & 0 & 0 & \\\\0 & 1 & 0\\\\ 0 & 0 & 1\\end{bmatrix}$$\n",
    "\n",
    "Ahora que conocemos el concepto de la matriz identidad, podemos llegar al concepto de la [matriz inversa](https://es.wikipedia.org/wiki/Matriz_invertible). Si tenemos una matriz A, la matriz inversa de A, que se representa como $A^{-1}$ es aquella matriz cuadrada que hace que la multiplicación $A$x$A^{-1}$ sea igual a la matriz identidad I. Es decir que es la matriz recíproca de A.\n",
    "\n",
    "$$A × A^{-1} = A^{-1} × A = I$$\n",
    "\n",
    "Tener en cuenta que esta [matriz inversa](https://es.wikipedia.org/wiki/Matriz_invertible) en muchos casos puede no existir.En este caso se dice que la matriz es singular o degenerada. Una matriz es singular si y solo si su <a href=\"https://es.wikipedia.org/wiki/Determinante_(matem%C3%A1tica)\">determinante</a> es nulo.\n",
    "\n",
    "El determinante es un número especial que puede calcularse sobre las matrices cuadradas. Se calcula como la suma de los productos de las diagonales de la matriz en una dirección menos la suma de los productos de las diagonales en la otra dirección. Se represente con el símbolo |A|.\n",
    "\n",
    "$$A=\\begin{bmatrix}a_{11} & a_{12} & a_{13} & \\\\a_{21} & a_{22} & a_{23} & \\\\ a_{31} & a_{32} & a_{33} & \\end{bmatrix}$$\n",
    "\n",
    "$$|A| = \n",
    "     (a_{11} a_{22} a_{33} \n",
    "   + a_{12} a_{23} a_{31} \n",
    "   + a_{13} a_{21} a_{32} )\n",
    "   - (a_{31} a_{22} a_{13} \n",
    "   + a_{32} a_{23} a_{11} \n",
    "   + a_{33} a_{21} a_{12})\n",
    " $$\n",
    "\n",
    "Por último, la [matriz transpuesta](http://es.wikipedia.org/wiki/Matriz_transpuesta) es aquella en que las filas se transforman en columnas y las columnas en filas. Se representa con el símbolo $A^\\intercal$\n",
    "\n",
    "$$\\begin{bmatrix}a & b & \\\\c & d & \\\\ e & f & \\end{bmatrix}^T:=\\begin{bmatrix}a & c & e &\\\\b & d & f & \\end{bmatrix}$$\n",
    "\n",
    "Ejemplos en Python"
   ]
  },
  {
   "cell_type": "code",
   "execution_count": 72,
   "metadata": {},
   "outputs": [
    {
     "data": {
      "text/plain": [
       "array([[1, 0],\n",
       "       [0, 1]])"
      ]
     },
     "execution_count": 72,
     "metadata": {},
     "output_type": "execute_result"
    }
   ],
   "source": [
    "# Creando una matriz identidad de 2x2\n",
    "I2 = np.array([1,0,0,1]).reshape(2,2)\n",
    "I2"
   ]
  },
  {
   "cell_type": "code",
   "execution_count": 77,
   "metadata": {},
   "outputs": [
    {
     "data": {
      "text/plain": [
       "array([[1., 0.],\n",
       "       [0., 1.]])"
      ]
     },
     "execution_count": 77,
     "metadata": {},
     "output_type": "execute_result"
    }
   ],
   "source": [
    "I2=np.eye(2)\n",
    "I2"
   ]
  },
  {
   "cell_type": "code",
   "execution_count": 78,
   "metadata": {},
   "outputs": [
    {
     "data": {
      "text/plain": [
       "array([[4, 7],\n",
       "       [2, 6]])"
      ]
     },
     "execution_count": 78,
     "metadata": {},
     "output_type": "execute_result"
    }
   ],
   "source": [
    "# Multiplicar una matriz por la identidad nos da la misma matriz\n",
    "A = np.array([[4,7],[2,6]])\n",
    "A"
   ]
  },
  {
   "cell_type": "code",
   "execution_count": 85,
   "metadata": {},
   "outputs": [
    {
     "data": {
      "text/plain": [
       "10"
      ]
     },
     "execution_count": 85,
     "metadata": {},
     "output_type": "execute_result"
    }
   ],
   "source": [
    "detA = 4*6 - 2*7\n",
    "detA"
   ]
  },
  {
   "cell_type": "code",
   "execution_count": 81,
   "metadata": {},
   "outputs": [
    {
     "data": {
      "text/plain": [
       "(array([[4., 7.],\n",
       "        [2., 6.]]),\n",
       " array([[4., 7.],\n",
       "        [2., 6.]]))"
      ]
     },
     "execution_count": 81,
     "metadata": {},
     "output_type": "execute_result"
    }
   ],
   "source": [
    "A.dot(I2), I2.dot(A)"
   ]
  },
  {
   "cell_type": "code",
   "execution_count": 83,
   "metadata": {},
   "outputs": [
    {
     "data": {
      "text/plain": [
       "10.000000000000002"
      ]
     },
     "execution_count": 83,
     "metadata": {},
     "output_type": "execute_result"
    }
   ],
   "source": [
    "np.linalg.det(A)"
   ]
  },
  {
   "cell_type": "code",
   "execution_count": null,
   "metadata": {},
   "outputs": [],
   "source": []
  },
  {
   "cell_type": "code",
   "execution_count": 86,
   "metadata": {},
   "outputs": [
    {
     "data": {
      "text/plain": [
       "array([[ 0.6, -0.7],\n",
       "       [-0.2,  0.4]])"
      ]
     },
     "execution_count": 86,
     "metadata": {},
     "output_type": "execute_result"
    }
   ],
   "source": [
    "# Calculando la inversa de A.\n",
    "Ainv = np.linalg.inv(A)\n",
    "Ainv"
   ]
  },
  {
   "cell_type": "code",
   "execution_count": 88,
   "metadata": {},
   "outputs": [
    {
     "data": {
      "text/plain": [
       "array([[ 1.00000000e+00, -1.11022302e-16],\n",
       "       [ 1.11022302e-16,  1.00000000e+00]])"
      ]
     },
     "execution_count": 88,
     "metadata": {},
     "output_type": "execute_result"
    }
   ],
   "source": [
    "# A x A_inv nos da como resultado I.\n",
    "np.dot(A,Ainv)"
   ]
  },
  {
   "cell_type": "code",
   "execution_count": 89,
   "metadata": {},
   "outputs": [
    {
     "data": {
      "text/plain": [
       "array([[0, 1],\n",
       "       [2, 3],\n",
       "       [4, 5]])"
      ]
     },
     "execution_count": 89,
     "metadata": {},
     "output_type": "execute_result"
    }
   ],
   "source": [
    "# Trasponiendo una matriz\n",
    "A = np.arange(6).reshape(3, 2)\n",
    "A"
   ]
  },
  {
   "cell_type": "code",
   "execution_count": 90,
   "metadata": {},
   "outputs": [
    {
     "data": {
      "text/plain": [
       "array([[0, 2, 4],\n",
       "       [1, 3, 5]])"
      ]
     },
     "execution_count": 90,
     "metadata": {},
     "output_type": "execute_result"
    }
   ],
   "source": [
    "np.transpose(A)"
   ]
  },
  {
   "cell_type": "code",
   "execution_count": 91,
   "metadata": {},
   "outputs": [
    {
     "data": {
      "text/plain": [
       "array([[0, 2, 4],\n",
       "       [1, 3, 5]])"
      ]
     },
     "execution_count": 91,
     "metadata": {},
     "output_type": "execute_result"
    }
   ],
   "source": [
    "A.T"
   ]
  },
  {
   "cell_type": "markdown",
   "metadata": {},
   "source": [
    "### Sistemas de ecuaciones lineales\n",
    "\n",
    "Una de las principales aplicaciones del Álgebra lineal consiste en resolver problemas de sistemas de ecuaciones lineales.\n",
    "\n",
    "Una [ecuación lineal](https://es.wikipedia.org/wiki/Ecuaci%C3%B3n_de_primer_grado) es una ecuación que solo involucra sumas y restas de una variable o mas variables a la primera potencia. Es la ecuación de la línea recta.Cuando nuestro problema esta representado por más de una ecuación lineal, hablamos de un [sistema de ecuaciones lineales](http://es.wikipedia.org/wiki/Sistema_de_ecuaciones_lineales). Por ejemplo, podríamos tener un sistema de dos ecuaciones con dos incógnitas como el siguiente:\n",
    "\n",
    "$$ x - 2y = 1$$ \n",
    "$$3x + 2y = 11$$\n",
    "\n",
    "La idea es encontrar el valor de $x$ e $y$ que resuelva ambas ecuaciones. Una forma en que podemos hacer esto, puede ser representando graficamente ambas rectas y buscar los puntos en que las rectas se cruzan. \n",
    "\n",
    "En Python esto se puede hacer en forma muy sencilla con la ayuda de [matplotlib](http://matplotlib.org/)."
   ]
  },
  {
   "cell_type": "code",
   "execution_count": 96,
   "metadata": {},
   "outputs": [
    {
     "data": {
      "image/png": "[encoded data removed]",
      "text/plain": [
       "<Figure size 432x288 with 1 Axes>"
      ]
     },
     "metadata": {
      "needs_background": "light"
     },
     "output_type": "display_data"
    }
   ],
   "source": [
    "# graficando el sistema de ecuaciones.\n",
    "x_vals = np.linspace(0,5,50)\n",
    "plt.figure(figsize=(6,4))\n",
    "plt.plot(x_vals, (1-x_vals)/-2) # ec 1\n",
    "plt.plot(x_vals, (11-3*x_vals)/2) # ec 2\n",
    "plt.axis(ymin=0)\n",
    "plt.show()"
   ]
  },
  {
   "cell_type": "markdown",
   "metadata": {},
   "source": [
    "Luego de haber graficado las funciones, podemos ver que ambas rectas se cruzan en el punto (3, 1), es decir que la solución de nuestro sistema sería $x=3$ e $y=1$. En este caso, al tratarse de un sistema simple y con solo dos incógnitas, la solución gráfica puede ser de utilidad, pero para sistemas más complicados se necesita una solución numérica, es aquí donde entran a jugar las matrices.\n",
    "\n",
    "Ese mismo sistema se podría representar como una ecuación matricial de la siguiente forma:\n",
    "\n",
    "$$\\begin{bmatrix}1 & -2 & \\\\3 & 2 & \\end{bmatrix} \\begin{bmatrix}x & \\\\y & \\end{bmatrix} = \\begin{bmatrix}1 & \\\\11 & \\end{bmatrix}$$\n",
    "\n",
    "Lo que es lo mismo que decir que la matriz A por la  matriz $X$ nos da como resultado el vector b.\n",
    "\n",
    "$$ AX = b$$\n",
    "\n",
    "En este caso, ya sabemos el resultado de $x$, por lo que podemos comprobar que nuestra solución es correcta realizando la multiplicación de matrices."
   ]
  },
  {
   "cell_type": "code",
   "execution_count": 97,
   "metadata": {},
   "outputs": [
    {
     "data": {
      "text/plain": [
       "array([[ 1],\n",
       "       [11]])"
      ]
     },
     "execution_count": 97,
     "metadata": {},
     "output_type": "execute_result"
    }
   ],
   "source": [
    "# Comprobando la solucion con la multiplicación de matrices.\n",
    "A = np.array([[1,-2],[3,2]])\n",
    "X = np.array([[3],[1]])\n",
    "\n",
    "A.dot(X)"
   ]
  },
  {
   "cell_type": "markdown",
   "metadata": {},
   "source": [
    "Para resolver en forma numérica los [sistema de ecuaciones](http://es.wikipedia.org/wiki/Sistema_de_ecuaciones_lineales), existen varios métodos:\n",
    "\n",
    "* **El método de sustitución**: El cual consiste en despejar en una de las ecuaciones cualquier incógnita, preferiblemente la que tenga menor coeficiente y a continuación sustituirla en otra ecuación por su valor.\n",
    "\n",
    "* **El método de igualacion**: El cual se puede entender como un caso particular del método de sustitución en el que se despeja la misma incógnita en dos ecuaciones y a continuación se igualan entre sí la parte derecha de ambas ecuaciones.\n",
    "\n",
    "* **El método de reduccion**: El procedimiento de este método consiste en transformar una de las ecuaciones (generalmente, mediante productos), de manera que obtengamos dos ecuaciones en la que una misma incógnita aparezca con el mismo coeficiente y distinto signo. A continuación, se suman ambas ecuaciones produciéndose así la reducción o cancelación de dicha incógnita, obteniendo una ecuación con una sola incógnita, donde el método de resolución es simple.\n",
    "\n",
    "* **El método gráfico**: Que consiste en construir el gráfica de cada una de las ecuaciones del sistema. Este método (manualmente aplicado) solo resulta eficiente en el plano cartesiano (solo dos incógnitas).\n",
    "\n",
    "* **El método de Gauss**: El método de eliminación de Gauss o simplemente método de Gauss consiste en convertir un sistema lineal de n ecuaciones con n incógnitas, en uno escalonado, en el que la primera ecuación tiene n incógnitas, la segunda ecuación tiene n - 1 incógnitas, ..., hasta la última ecuación, que tiene 1 incógnita. De esta forma, será fácil partir de la última ecuación e ir subiendo para calcular el valor de las demás incógnitas.\n",
    "\n",
    "* **El método de Eliminación de Gauss-Jordan**: El cual es una variante del método anterior, y consistente en triangular la matriz aumentada del sistema mediante transformaciones elementales, hasta obtener ecuaciones de una sola incógnita.\n",
    "\n",
    "* **El método de Cramer**: El cual consiste en aplicar la [regla de Cramer](http://es.wikipedia.org/wiki/Regla_de_Cramer) para resolver el sistema. Este método solo se puede aplicar cuando la matriz de coeficientes del sistema es cuadrada y de determinante no nulo.\n",
    "\n",
    "La idea no es explicar cada uno de estos métodos, sino saber que existen y que Python nos hacer la vida mucho más fácil, ya que para resolver un [sistema de ecuaciones](http://es.wikipedia.org/wiki/Sistema_de_ecuaciones_lineales) simplemente debemos llamar a la función `solve()`.\n",
    "\n",
    "Por ejemplo, para resolver este sistema de 3 ecuaciones y 3 incógnitas.\n",
    "\n",
    "$$ x + 2y + 3z = 6$$\n",
    "$$ 2x + 5y + 2z = 4$$\n",
    "$$ 6x - 3y + z = 2$$\n",
    "\n",
    "Primero armamos la matriz A de coeficientes y la matriz b de resultados y luego utilizamos `solve()` para resolverla."
   ]
  },
  {
   "cell_type": "code",
   "execution_count": 110,
   "metadata": {},
   "outputs": [
    {
     "data": {
      "text/plain": [
       "array([[ 1.,  2.,  3.],\n",
       "       [ 2.,  5.,  2.],\n",
       "       [ 6., -3.,  1.]])"
      ]
     },
     "execution_count": 110,
     "metadata": {},
     "output_type": "execute_result"
    }
   ],
   "source": [
    "# Creando matriz de coeficientes\n",
    "# Ax = b\n",
    "A = np.array([[1.,2.,3.],\n",
    "             [2.,5.,2.],\n",
    "             [6.,-3.,1.]])\n",
    "A"
   ]
  },
  {
   "cell_type": "code",
   "execution_count": 111,
   "metadata": {},
   "outputs": [
    {
     "data": {
      "text/plain": [
       "array([6, 4, 2])"
      ]
     },
     "execution_count": 111,
     "metadata": {},
     "output_type": "execute_result"
    }
   ],
   "source": [
    "# Creando matriz de resultados\n",
    "b = np.array([6,4,2])\n",
    "b"
   ]
  },
  {
   "cell_type": "code",
   "execution_count": 103,
   "metadata": {},
   "outputs": [
    {
     "name": "stdout",
     "output_type": "stream",
     "text": [
      "Help on function solve in module numpy.linalg:\n",
      "\n",
      "solve(a, b)\n",
      "    Solve a linear matrix equation, or system of linear scalar equations.\n",
      "    \n",
      "    Computes the \"exact\" solution, `x`, of the well-determined, i.e., full\n",
      "    rank, linear matrix equation `ax = b`.\n",
      "    \n",
      "    Parameters\n",
      "    ----------\n",
      "    a : (..., M, M) array_like\n",
      "        Coefficient matrix.\n",
      "    b : {(..., M,), (..., M, K)}, array_like\n",
      "        Ordinate or \"dependent variable\" values.\n",
      "    \n",
      "    Returns\n",
      "    -------\n",
      "    x : {(..., M,), (..., M, K)} ndarray\n",
      "        Solution to the system a x = b.  Returned shape is identical to `b`.\n",
      "    \n",
      "    Raises\n",
      "    ------\n",
      "    LinAlgError\n",
      "        If `a` is singular or not square.\n",
      "    \n",
      "    See Also\n",
      "    --------\n",
      "    scipy.linalg.solve : Similar function in SciPy.\n",
      "    \n",
      "    Notes\n",
      "    -----\n",
      "    \n",
      "    .. versionadded:: 1.8.0\n",
      "    \n",
      "    Broadcasting rules apply, see the `numpy.linalg` documentation for\n",
      "    details.\n",
      "    \n",
      "    The solutions are computed using LAPACK routine ``_gesv``.\n",
      "    \n",
      "    `a` must be square and of full-rank, i.e., all rows (or, equivalently,\n",
      "    columns) must be linearly independent; if either is not true, use\n",
      "    `lstsq` for the least-squares best \"solution\" of the\n",
      "    system/equation.\n",
      "    \n",
      "    References\n",
      "    ----------\n",
      "    .. [1] G. Strang, *Linear Algebra and Its Applications*, 2nd Ed., Orlando,\n",
      "           FL, Academic Press, Inc., 1980, pg. 22.\n",
      "    \n",
      "    Examples\n",
      "    --------\n",
      "    Solve the system of equations ``x0 + 2 * x1 = 1`` and ``3 * x0 + 5 * x1 = 2``:\n",
      "    \n",
      "    >>> a = np.array([[1, 2], [3, 5]])\n",
      "    >>> b = np.array([1, 2])\n",
      "    >>> x = np.linalg.solve(a, b)\n",
      "    >>> x\n",
      "    array([-1.,  1.])\n",
      "    \n",
      "    Check that the solution is correct:\n",
      "    \n",
      "    >>> np.allclose(np.dot(a, x), b)\n",
      "    True\n",
      "\n"
     ]
    }
   ],
   "source": [
    "help(np.linalg.solve)"
   ]
  },
  {
   "cell_type": "code",
   "execution_count": 106,
   "metadata": {},
   "outputs": [
    {
     "data": {
      "text/plain": [
       "array([[ 1,  2,  3],\n",
       "       [ 2,  5,  2],\n",
       "       [ 6, -3,  1]])"
      ]
     },
     "execution_count": 106,
     "metadata": {},
     "output_type": "execute_result"
    }
   ],
   "source": [
    "A"
   ]
  },
  {
   "cell_type": "code",
   "execution_count": 107,
   "metadata": {},
   "outputs": [
    {
     "data": {
      "text/plain": [
       "array([6, 4, 2])"
      ]
     },
     "execution_count": 107,
     "metadata": {},
     "output_type": "execute_result"
    }
   ],
   "source": [
    "b"
   ]
  },
  {
   "cell_type": "code",
   "execution_count": 108,
   "metadata": {},
   "outputs": [
    {
     "data": {
      "text/plain": [
       "array([-1.48029737e-16, -1.48029737e-16,  2.00000000e+00])"
      ]
     },
     "execution_count": 108,
     "metadata": {},
     "output_type": "execute_result"
    }
   ],
   "source": [
    "# Resolviendo sistema de ecuaciones\n",
    "x = np.linalg.solve(A,b)\n",
    "x"
   ]
  },
  {
   "cell_type": "code",
   "execution_count": 105,
   "metadata": {},
   "outputs": [
    {
     "data": {
      "text/plain": [
       "array([6, 4, 2])"
      ]
     },
     "execution_count": 105,
     "metadata": {},
     "output_type": "execute_result"
    }
   ],
   "source": [
    "b"
   ]
  },
  {
   "cell_type": "code",
   "execution_count": 109,
   "metadata": {},
   "outputs": [
    {
     "data": {
      "text/plain": [
       "array([6., 4., 2.])"
      ]
     },
     "execution_count": 109,
     "metadata": {},
     "output_type": "execute_result"
    }
   ],
   "source": [
    "# Comprobando la solucion\n",
    "A.dot(x) "
   ]
  },
  {
   "cell_type": "markdown",
   "metadata": {},
   "source": []
  },
  {
   "cell_type": "code",
   "execution_count": null,
   "metadata": {},
   "outputs": [],
   "source": []
  },
  {
   "cell_type": "code",
   "execution_count": null,
   "metadata": {},
   "outputs": [],
   "source": []
  }
 ],
 "metadata": {
  "kernelspec": {
   "display_name": "Python 3 (ipykernel)",
   "language": "python",
   "name": "python3"
  },
  "language_info": {
   "codemirror_mode": {
    "name": "ipython",
    "version": 3
   },
   "file_extension": ".py",
   "mimetype": "text/x-python",
   "name": "python",
   "nbconvert_exporter": "python",
   "pygments_lexer": "ipython3",
   "version": "3.8.8"
  }
 },
 "nbformat": 4,
 "nbformat_minor": 1
}
