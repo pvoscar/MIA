{
 "cells": [
  {
   "cell_type": "markdown",
   "metadata": {},
   "source": [
    "<img style=\"float: left;;\" src='Figures/alinco.png' /></a>\n",
    "    \n",
    "# <center> <font color= #000047> Introducción: Herramientas Computacionales\n"
   ]
  },
  {
   "cell_type": "markdown",
   "metadata": {},
   "source": [
    "\n",
    "<img style=\"float: right; margin: 0px 0px 15px 15px;\" src=\"https://upload.wikimedia.org/wikipedia/commons/c/c3/Python-logo-notext.svg\" width=\"200px\" height=\"200px\" />\n",
    "\n",
    "> Introducción a la materia, guía de instalación y descripción de las herramientas computacionales que se van a utilizar a lo largo del curso. "
   ]
  },
  {
   "cell_type": "markdown",
   "metadata": {},
   "source": [
    "## Herramientas computacionales"
   ]
  },
  {
   "cell_type": "markdown",
   "metadata": {},
   "source": [
    "### [Python](https://www.python.org) "
   ]
  },
  {
   "cell_type": "markdown",
   "metadata": {},
   "source": [
    "<img style=\"float: left; margin: 0px 0px 15px 15px;\" src=\"https://www.python.org/static/community_logos/python-logo.png\" width=\"200px\" height=\"200px\" alt=\"atom\" />"
   ]
  },
  {
   "cell_type": "markdown",
   "metadata": {},
   "source": [
    "### [Anaconda](https://www.anaconda.com/products/individual-b) "
   ]
  },
  {
   "cell_type": "markdown",
   "metadata": {},
   "source": [
    "<img style=\"float: left; margin: 0px 0px 15px 15px;\" src=\"https://upload.wikimedia.org/wikipedia/en/c/cd/Anaconda_Logo.png\" width=\"120\" />"
   ]
  },
  {
   "cell_type": "markdown",
   "metadata": {},
   "source": [
    "### [Jupyter](https://jupyter.org/)"
   ]
  },
  {
   "cell_type": "markdown",
   "metadata": {},
   "source": [
    "<img style=\"float: left; margin: 0px 0px 15px 15px;\" src=\"http://jupyter.org/assets/main-logo.svg\" width=\"80\" />\n"
   ]
  },
  {
   "cell_type": "markdown",
   "metadata": {},
   "source": [
    "## Jupyter Notebook\n",
    "\n",
    "Los notebooks tienen celdas de entrada de código, las cuales pueden tener o no salida, así como celdas tipo [Markdown](https://www.markdownguide.org/basic-syntax/), que es lo que estas leyendo ahora. \n",
    "\n",
    "Las celdas de código inician con \"In []:\" con algún numero en los brackets. Si te ubicas sobre una salda de entrada y presionas Shift-Enter, el código correrá en el interprete de python y el resultado se imprimirá en la celda de salida.\n",
    "\n",
    "Ejemplo:"
   ]
  },
  {
   "cell_type": "markdown",
   "metadata": {},
   "source": [
    "## Herramientas de gestión de versiones"
   ]
  },
  {
   "cell_type": "markdown",
   "metadata": {},
   "source": [
    "## [git](https://git-scm.com/)\n",
    "\n",
    "![git](https://git-scm.com/images/logo@2x.png)\n",
    "\n",
    "git es un software (de código abierto) de control de versiones diseñado por Linus Torvalds, pensando en la eficiencia y la confiabilidad del mantenimiento de versiones de aplicaciones cuando éstas tienen un gran número de archivos de código fuente.\n",
    "\n",
    "Se llama control de versiones a la gestión de los diversos cambios que se realizan sobre los elementos de algún producto o una configuración del mismo. Una versión, revisión o edición de un producto, es el estado en el que se encuentra el mismo en un momento dado de su desarrollo o modificación.\n",
    "\n",
    "git es independiente de GitHub, y es el programa que se usa para gestionar todos los cambios en las versiones de un proyecto (individual o colaborativo, local o de acceso remoto)."
   ]
  },
  {
   "cell_type": "markdown",
   "metadata": {},
   "source": [
    "## [GitHub](https://github.com/)\n",
    "\n",
    "![github](https://upload.wikimedia.org/wikipedia/commons/thumb/9/91/Octicons-mark-github.svg/240px-Octicons-mark-github.svg.png)\n",
    "\n",
    "GitHub es una compañía que ofrece servicios de hosting para repositorios de git, y es la forma más popular para trabajar con el control de versiones que brinda git de forma colaborativa. En pocas palabras, permite que tanto tú como otras personas del mundo trabajen juntos en proyectos, haciendo control de versiones con git.\n",
    "\n",
    "De forma que usando git y GitHub en conjunto se puede trabajar tanto:\n",
    "\n",
    "- De forma local: repositorios en tu equipo, sin necesidad de conexión a internet (usando únicamente git).\n",
    "- De forma remota: repositorios remotos (compartidos) que no están necesariamente en tu máquina.\n",
    "\n",
    "Importante: se recomienda crear una cuenta seria, no solo porque la vamos a utilizar continuamente en el curso, sino porque probablemente sea parte importante de su carrera profesional."
   ]
  },
  {
   "cell_type": "markdown",
   "metadata": {},
   "source": [
    "## [GitKraken](https://www.gitkraken.com/)\n",
    "\n",
    "Usamos git desde una interfaz gráfica :)\n",
    "\n",
    "Todos los procedimientos con git se pueden correr desde la consola. Sin embargo, este modo de utilizar git puede ser tedioso para algunos (esto no solo ocurre con git).\n",
    "\n",
    "Por ello, git viene con algunas herramientas GUI (Graphical User Interface) por defecto con su instalación. Aún así, existen varias GUI desarrolladas por otras compañías para brindar una experiencia más cómoda según el sistema operativo.\n",
    "\n",
    "GitKraken es entonces una de estas GUI, gratuita para el uso no comercial, que tiene versiones para los sistemas operativos Windows, Mac y Linux. La estaremos usando en el curso por su versatilidad."
   ]
  },
  {
   "cell_type": "markdown",
   "metadata": {},
   "source": [
    "### Seguir un proyecto en github\n",
    "\n",
    "Vamos a seguir el proyecto de este curso, para siempre estar todos sincronizados con el material.\n",
    "\n",
    "Los siguientes pasos nos enseñarán como mantener nuestro repositorio local actualizado con el repositorio de la asignatura.\n",
    "\n",
    "1. Entrar al repositorio https://github.com/gdesirena/Introduccion_Aprendizaje_Automatico.\n",
    "2. En la esquina superior derecha, dar click en fork y esperar un momento. Esta acción copia en su cuenta de GitHub un repositorio idéntico al de la materia (con el mismo nombre).\n",
    "3. Desde GitKraken o Github, clonar el repositorio (el que ya está en su cuenta)."
   ]
  },
  {
   "cell_type": "code",
   "execution_count": null,
   "metadata": {},
   "outputs": [],
   "source": []
  }
 ],
 "metadata": {
  "anaconda-cloud": {},
  "kernelspec": {
   "display_name": "Python 3 (ipykernel)",
   "language": "python",
   "name": "python3"
  },
  "language_info": {
   "codemirror_mode": {
    "name": "ipython",
    "version": 3
   },
   "file_extension": ".py",
   "mimetype": "text/x-python",
   "name": "python",
   "nbconvert_exporter": "python",
   "pygments_lexer": "ipython3",
   "version": "3.8.8"
  }
 },
 "nbformat": 4,
 "nbformat_minor": 1
}
