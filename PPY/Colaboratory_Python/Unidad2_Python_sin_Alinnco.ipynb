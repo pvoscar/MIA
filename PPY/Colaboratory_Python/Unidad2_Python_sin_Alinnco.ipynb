{
  "nbformat": 4,
  "nbformat_minor": 0,
  "metadata": {
    "colab": {
      "provenance": [],
      "include_colab_link": true
    },
    "kernelspec": {
      "name": "python3",
      "display_name": "Python 3"
    },
    "language_info": {
      "name": "python"
    }
  },
  "cells": [
    {
      "cell_type": "markdown",
      "metadata": {
        "id": "view-in-github",
        "colab_type": "text"
      },
      "source": [
        "<a href=\"https://colab.research.google.com/github/pvoscar/Colaboratory_Python/blob/main/Unidad2_Python_sin_Alinnco.ipynb\" target=\"_parent\"><img src=\"https://colab.research.google.com/assets/colab-badge.svg\" alt=\"Open In Colab\"/></a>"
      ]
    },
    {
      "cell_type": "markdown",
      "source": [
        "![logo-alinnco.jpg](data:image/jpeg;base64,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) \n",
        "\n",
        "# ***PROGRAMACIÓN PYTHON***\n",
        "\n",
        "---\n",
        "\n",
        "\n",
        "\n"
      ],
      "metadata": {
        "id": "hvOSDIk18k-O"
      }
    },
    {
      "cell_type": "markdown",
      "source": [
        "# **UNIDAD 2 - Lazos e iteraciones.**\n",
        "\n",
        "---\n",
        "## Ejecución condicional: if, elif y else.\n",
        "\n",
        "Como en cualquier lenguaje de programación, las estructuras de control en Python permiten cambiar el flujo de ejecución de los programas.\n",
        "\n",
        "La palabra reservada *if* permite direccionar el flujo de ejecución\n",
        "del programa dependiendo de que alguna condición puede ser\n",
        "verdadera o falsa.\n",
        "\n",
        "La sintaxis es la siguiente: \n",
        "\n",
        "**if** *condición*:\n",
        "\n",
        "> *acción1*\n",
        "\n",
        "> *accion2*\n",
        "\n",
        "> ...\n",
        "\n",
        "> *accionM*\n",
        "\n",
        "\n",
        "Como ejemplo práctico, hay que realizar un programa que resuelva ecuaciones de primer grado.\n"
      ],
      "metadata": {
        "id": "ORKz6k_BKrNv"
      }
    },
    {
      "cell_type": "code",
      "source": [
        "a = float(input(\"valor a: \"))\n",
        "b = float(input(\"valor b: \"))\n",
        "\n",
        "x = -b/a\n",
        "\n",
        "print(\"Solución: \", x)"
      ],
      "metadata": {
        "colab": {
          "base_uri": "https://localhost:8080/"
        },
        "id": "c-n1Bcko_pIu",
        "outputId": "66e17978-e81c-4317-d389-9d29f3f92712"
      },
      "execution_count": null,
      "outputs": [
        {
          "output_type": "stream",
          "name": "stdout",
          "text": [
            "valor a: 10\n",
            "valor b: 5\n",
            "Solución:  -0.5\n"
          ]
        }
      ]
    },
    {
      "cell_type": "markdown",
      "source": [
        "Para corregirlo se añadirán condiciones if para evaluar los posibles condiciones en las que puede incurrir el código. Probarlo con valores positivos, negativos, a en cero y b en cero.\n",
        "\n",
        "**NOTA**: Observe las tabulaciones que están dentro de las condiciones if."
      ],
      "metadata": {
        "id": "1JVtC6jyB7NM"
      }
    },
    {
      "cell_type": "code",
      "source": [
        "a = float(input(\"valor a: \"))\n",
        "b = float(input(\"valor b: \"))\n",
        "\n",
        "if a != 0:\n",
        "  x = -b/a\n",
        "  print(\"Solución: \", x)\n",
        "\n",
        "if a == 0:\n",
        "  if b != 0:\n",
        "    print(\"La ecuación no tiene solución\")\n",
        "  if b == 0:\n",
        "    print(\"La ecuación tiene infinitas soluciones\")\n",
        "    "
      ],
      "metadata": {
        "colab": {
          "base_uri": "https://localhost:8080/"
        },
        "id": "AX157CAZA8xv",
        "outputId": "bb69d735-1452-4752-f64f-8ceade93de4d"
      },
      "execution_count": null,
      "outputs": [
        {
          "output_type": "stream",
          "name": "stdout",
          "text": [
            "valor a: 0\n",
            "valor b: 0\n",
            "La ecuación tiene infinitas soluciones\n"
          ]
        }
      ]
    },
    {
      "cell_type": "markdown",
      "source": [
        "Si es necesario ejecutar acciones distintas cuando la evaluación\n",
        "de la condición sea verdadera o falsa. Se puede utilizar la\n",
        "palabra reservada *else*."
      ],
      "metadata": {
        "id": "2mnjA_BqUEk0"
      }
    },
    {
      "cell_type": "code",
      "source": [
        "a = float(input(\"valor a: \"))\n",
        "b = float(input(\"valor b: \"))\n",
        "\n",
        "if a != 0:\n",
        "  x = -b / a\n",
        "  print(\"Solución: \", x)\n",
        "else:\n",
        "  if b != 0:\n",
        "    print(\"La ecuación no tiene solución\")\n",
        "  else:\n",
        "    print(\"La ecuación tiene infinitas soluciones\")"
      ],
      "metadata": {
        "id": "6wMkQwXTUL_G",
        "colab": {
          "base_uri": "https://localhost:8080/"
        },
        "outputId": "19860b37-c703-419c-b4dc-9afad5cdad66"
      },
      "execution_count": null,
      "outputs": [
        {
          "output_type": "stream",
          "name": "stdout",
          "text": [
            "valor a: 0\n",
            "valor b: 0\n",
            "La ecuación tiene infinitas soluciones\n"
          ]
        }
      ]
    },
    {
      "cell_type": "markdown",
      "source": [
        "También es posible crear estructuras condicionales múltiples con la palabra reservada *elif*."
      ],
      "metadata": {
        "id": "h_4aurGKUbtr"
      }
    },
    {
      "cell_type": "code",
      "source": [
        "a = 40\n",
        "b = 41\n",
        "if a < b:\n",
        "  print(a, \" es menor que \", b)\n",
        "elif a > b:\n",
        "  print(a, \" es mayor que \", b)\n",
        "else:\n",
        "  print(a, \" es igual que \", b)"
      ],
      "metadata": {
        "id": "z0V18wuzU-1e",
        "colab": {
          "base_uri": "https://localhost:8080/"
        },
        "outputId": "12615380-1f38-4fce-f0ec-5ab8e9e45c4e"
      },
      "execution_count": null,
      "outputs": [
        {
          "output_type": "stream",
          "name": "stdout",
          "text": [
            "40  es menor que  41\n"
          ]
        }
      ]
    },
    {
      "cell_type": "markdown",
      "source": [
        "### Operador ternario.\n",
        "\n",
        "En Python existen también el operador ternario, se trata de una clúsula *if - else* que se define dentro de una sola línea, incluso puede ser utilizada dentro de un print(). La estructura es la siguiente:\n",
        "\n",
        "*`[código si se cumple] if [condición] else [código si no se cumple]`*\n",
        "\n"
      ],
      "metadata": {
        "id": "1gIUVTC7V1BT"
      }
    },
    {
      "cell_type": "code",
      "source": [
        "x = 8\n",
        "print(\"Es 5\" if x == 5 else \"No es 5\")"
      ],
      "metadata": {
        "id": "THOK1ewLZqkL",
        "colab": {
          "base_uri": "https://localhost:8080/"
        },
        "outputId": "7dc6c879-8790-4899-90ac-01ea5f0df336"
      },
      "execution_count": null,
      "outputs": [
        {
          "output_type": "stream",
          "name": "stdout",
          "text": [
            "No es 5\n"
          ]
        }
      ]
    },
    {
      "cell_type": "markdown",
      "source": [
        "También se puede utilizar para asignar valores a variables:"
      ],
      "metadata": {
        "id": "O3IIYOW5Z-ZP"
      }
    },
    {
      "cell_type": "code",
      "source": [
        "a = 10\n",
        "b = 5\n",
        "c = a/b if b != 0 else -1\n",
        "print(c)"
      ],
      "metadata": {
        "id": "nsx8LJRfaDY8",
        "colab": {
          "base_uri": "https://localhost:8080/"
        },
        "outputId": "cef96bcc-ca37-478f-e905-950b4853534f"
      },
      "execution_count": null,
      "outputs": [
        {
          "output_type": "stream",
          "name": "stdout",
          "text": [
            "2.0\n"
          ]
        }
      ]
    },
    {
      "cell_type": "markdown",
      "source": [
        "Utilizar if en una lista:"
      ],
      "metadata": {
        "id": "WL06HHr4Hetq"
      }
    },
    {
      "cell_type": "code",
      "source": [
        "precioArt = 100\n",
        "\n",
        "listaNombre = [\"Carlos\", \"Roberto\", \"Viridiana\", \"Susana\"]\n",
        "\n",
        "if listaNombre[0] == \"Carlos\":\n",
        "  precioArt = precioArt - 10\n",
        "else:\n",
        "  pass\n",
        "\n",
        "print(precioArt)"
      ],
      "metadata": {
        "colab": {
          "base_uri": "https://localhost:8080/"
        },
        "id": "fFTN1UpYHqu8",
        "outputId": "d982d435-f0f5-4e5a-ae26-a402abb464fb"
      },
      "execution_count": null,
      "outputs": [
        {
          "output_type": "stream",
          "name": "stdout",
          "text": [
            "90\n"
          ]
        }
      ]
    },
    {
      "cell_type": "markdown",
      "source": [
        "\n",
        "\n",
        "---\n",
        "\n",
        "\n",
        "## Iteraciones: while, for.\n",
        "\n",
        "\n",
        "### Ciclo for.\n",
        "\n",
        "Este ciclo se caracteriza por tener un número de iteraciones definido de antemano. No tiene una condición de paro, más bien contiene un *iterable* que define las veces que se ejecutará el código. El siguiente ejemplo representa un ciclo por contador:"
      ],
      "metadata": {
        "id": "h-uOUZdlbDRM"
      }
    },
    {
      "cell_type": "code",
      "source": [
        "for cont in range(0, 6, 1):\n",
        "#           listaNombre\n",
        "  print(\"valor de contador: \" + str(cont))\n",
        "\n",
        "print(\"Fin de ciclo\")"
      ],
      "metadata": {
        "id": "lp3beJGPonqH",
        "colab": {
          "base_uri": "https://localhost:8080/"
        },
        "outputId": "fd35d95e-4338-4d42-f81d-277b0d99d38a"
      },
      "execution_count": null,
      "outputs": [
        {
          "output_type": "stream",
          "name": "stdout",
          "text": [
            "valor de contador: 0\n",
            "valor de contador: 1\n",
            "valor de contador: 2\n",
            "valor de contador: 3\n",
            "valor de contador: 4\n",
            "valor de contador: 5\n",
            "Fin de ciclo\n"
          ]
        }
      ]
    },
    {
      "cell_type": "markdown",
      "source": [
        "### Iterables e iteradores\n",
        "\n",
        "Los **iterables** son aquellos objetos que como su nombre indica pueden ser iterados, lo que dicho de otra forma es, que puedan ser indexados. Si piensas en una`list`, podemos indexarlo con `lista[1]` por ejemplo, por lo que sería un iterable. Algunos ejemplos son: listas, tuplas, cadenas o diccionarios.\n",
        "\n",
        "Los **iteradores** son objetos que hacen referencia a un elemento, y que tienen un método `next` que permite hacer referencia al siguiente.\n",
        "\n",
        "El ciclo for es capaz de recorrer los objetos iterables mediante la siguiente sintaxis:\n",
        "\n",
        "```\n",
        "for <variable> in <iterable>:\n",
        "    <Código>\n",
        "```\n",
        "\n",
        "Para saber si un objeto es iterable, se puede usar la función `isinstance()`:"
      ],
      "metadata": {
        "id": "8jVa4toCo-lK"
      }
    },
    {
      "cell_type": "code",
      "source": [
        "from collections.abc import Iterable\n",
        "\n",
        "lista = [1, 2, 3, 4]\n",
        "cadena = \"Python\"\n",
        "numero = 10\n",
        "myset = {\"Platano\", \"Manzana\", \"Cereza\"}\n",
        "\n",
        "print(isinstance(lista, Iterable))\n",
        "print(isinstance(cadena, Iterable))\n",
        "print(isinstance(numero, Iterable))\n",
        "print(isinstance(myset, Iterable))"
      ],
      "metadata": {
        "id": "KCeQcbX1zorw",
        "colab": {
          "base_uri": "https://localhost:8080/"
        },
        "outputId": "00aa894f-f512-47c9-bba1-c00e3fe9e199"
      },
      "execution_count": null,
      "outputs": [
        {
          "output_type": "stream",
          "name": "stdout",
          "text": [
            "True\n",
            "True\n",
            "False\n",
            "True\n"
          ]
        }
      ]
    },
    {
      "cell_type": "markdown",
      "source": [
        "La función `iter()` puede ser llamada desde un objeto que sea iterable y retorna un iterador, que es una variable que hace referencia al objeto iterable original y permite acceder a sus elementos con `next()`. Cuando comienza, el iterador apunta afuera de la lista, y no hace referencia al primer elemento hasta que se llame a `next()` por primera vez."
      ],
      "metadata": {
        "id": "5GLAVL7x0qu7"
      }
    },
    {
      "cell_type": "code",
      "source": [
        "it = iter(lista)\n",
        "print(next(it))\n",
        "print(next(it))\n",
        "print(next(it))"
      ],
      "metadata": {
        "id": "QZjKMRJY1Q0F",
        "colab": {
          "base_uri": "https://localhost:8080/"
        },
        "outputId": "e2b96019-e734-4ebf-8e40-8e2634f43190"
      },
      "execution_count": null,
      "outputs": [
        {
          "output_type": "stream",
          "name": "stdout",
          "text": [
            "1\n",
            "2\n",
            "3\n"
          ]
        }
      ]
    },
    {
      "cell_type": "markdown",
      "source": [
        "Existen iteradores para diferentes clases:\n",
        "\n",
        "`str_iterator` para cadenas.\n",
        "\n",
        "`list_iterator` para listas.\n",
        "\n",
        "`tuple_iterator` para tuplas.\n",
        "\n",
        "`set_iterator` para sets.\n",
        "\n",
        "`dict_keyiterator` para diccionarios.\n",
        "\n",
        "El ciclo for, como ya se mencionó anteriormente, permite recorrer objetos iterables, ejemplos:"
      ],
      "metadata": {
        "id": "OOaU_IcJ1frS"
      }
    },
    {
      "cell_type": "code",
      "source": [
        "for i in cadena:\n",
        "  print(i)"
      ],
      "metadata": {
        "id": "Lk4xHnQb2or-",
        "colab": {
          "base_uri": "https://localhost:8080/"
        },
        "outputId": "41115af6-6286-4951-9406-aacfcf0cd460"
      },
      "execution_count": null,
      "outputs": [
        {
          "output_type": "stream",
          "name": "stdout",
          "text": [
            "P\n",
            "y\n",
            "t\n",
            "h\n",
            "o\n",
            "n\n"
          ]
        }
      ]
    },
    {
      "cell_type": "code",
      "source": [
        "for i in myset:\n",
        "  print(i)"
      ],
      "metadata": {
        "id": "Q0KL4TAk22os",
        "colab": {
          "base_uri": "https://localhost:8080/"
        },
        "outputId": "447aba1d-5b4b-4e95-9de3-f7ebe3cb5074"
      },
      "execution_count": null,
      "outputs": [
        {
          "output_type": "stream",
          "name": "stdout",
          "text": [
            "Manzana\n",
            "Platano\n",
            "Cereza\n"
          ]
        }
      ]
    },
    {
      "cell_type": "markdown",
      "source": [
        "La función `range()` genera una secuencia de números que van desde 0 por defecto hasta el número que se pasa como parámetro menos 1. En realidad, se pueden pasar hasta tres parámetros separados por coma, donde el primer es el inicio de la secuencia, el segundo el final y el tercero el salto que se desea entre números. Por defecto se empieza en 0 y el salto es de 1:\n",
        "\n",
        "`range(inicio, fin, salto)`"
      ],
      "metadata": {
        "id": "C72VB5o13Yq9"
      }
    },
    {
      "cell_type": "code",
      "source": [
        "for i in range(5, 20, 2):\n",
        "  print(i)"
      ],
      "metadata": {
        "id": "9Cs82QqR4aGe",
        "colab": {
          "base_uri": "https://localhost:8080/"
        },
        "outputId": "ceb1dc6d-18c2-4ce9-9460-3f1062747801"
      },
      "execution_count": 1,
      "outputs": [
        {
          "output_type": "stream",
          "name": "stdout",
          "text": [
            "5\n",
            "7\n",
            "9\n",
            "11\n",
            "13\n",
            "15\n",
            "17\n",
            "19\n"
          ]
        }
      ]
    },
    {
      "cell_type": "code",
      "source": [
        "for i in range(5, 0, -1):\n",
        "  print(i)"
      ],
      "metadata": {
        "id": "bRq9nUcM4cQD",
        "colab": {
          "base_uri": "https://localhost:8080/"
        },
        "outputId": "1449ed3e-fdc2-496f-d271-960544ee1c80"
      },
      "execution_count": 2,
      "outputs": [
        {
          "output_type": "stream",
          "name": "stdout",
          "text": [
            "5\n",
            "4\n",
            "3\n",
            "2\n",
            "1\n"
          ]
        }
      ]
    },
    {
      "cell_type": "markdown",
      "source": [
        "Los ciclos `for` también pueden anidarse, como en cualquier lenguaje de programación:"
      ],
      "metadata": {
        "id": "SvTghbBV7QJZ"
      }
    },
    {
      "cell_type": "code",
      "source": [
        "lista = [[56, 34, 1],\n",
        "         [12, 4, 5],\n",
        "         [9, 4, 3]]\n",
        "\n",
        "for i in lista:\n",
        "  print(i)\n",
        "\n",
        "print(\"\\nFor anidado\\n\")\n",
        "\n",
        "for i in lista:\n",
        "  for j in i:\n",
        "    print(j)"
      ],
      "metadata": {
        "id": "id-E0OHJ7fuE",
        "colab": {
          "base_uri": "https://localhost:8080/"
        },
        "outputId": "f27357b6-617d-49c3-b716-01941e6f4f08"
      },
      "execution_count": 3,
      "outputs": [
        {
          "output_type": "stream",
          "name": "stdout",
          "text": [
            "[56, 34, 1]\n",
            "[12, 4, 5]\n",
            "[9, 4, 3]\n",
            "\n",
            "For anidado\n",
            "\n",
            "56\n",
            "34\n",
            "1\n",
            "12\n",
            "4\n",
            "5\n",
            "9\n",
            "4\n",
            "3\n"
          ]
        }
      ]
    },
    {
      "cell_type": "markdown",
      "source": [
        "## Ciclo while\n",
        "\n",
        "EL ciclo while repetirá las sentencias dentro de él, mientras se cumpla la condición especificada."
      ],
      "metadata": {
        "id": "UzmhbaSt3M2H"
      }
    },
    {
      "cell_type": "code",
      "source": [
        "x = 0\n",
        "while x < 6:\n",
        "  print(\"Valor de contador: \", x)\n",
        "  x += 1\n",
        "\n",
        "print(\"Fin de ciclo\")\n"
      ],
      "metadata": {
        "id": "7QhxewRQ5QXr",
        "colab": {
          "base_uri": "https://localhost:8080/"
        },
        "outputId": "106a6b9c-912f-4a9a-eeae-a5a6f11d5db9"
      },
      "execution_count": 4,
      "outputs": [
        {
          "output_type": "stream",
          "name": "stdout",
          "text": [
            "Valor de contador:  0\n",
            "Valor de contador:  1\n",
            "Valor de contador:  2\n",
            "Valor de contador:  3\n",
            "Valor de contador:  4\n",
            "Valor de contador:  5\n",
            "Fin de ciclo\n"
          ]
        }
      ]
    },
    {
      "cell_type": "markdown",
      "source": [
        "También es posible escribir ciclos while en una sóla línea."
      ],
      "metadata": {
        "id": "is175SQ25my4"
      }
    },
    {
      "cell_type": "code",
      "source": [
        "x = 6\n",
        "while x > 0: print(\"Valor de contador: \", x); x -= 1\n",
        "\n",
        "print(\"Fin de ciclo\")"
      ],
      "metadata": {
        "id": "gSGf-US-5v51",
        "colab": {
          "base_uri": "https://localhost:8080/"
        },
        "outputId": "67ea5bb6-699c-4fc6-9dc8-f99f2a371ae2"
      },
      "execution_count": 5,
      "outputs": [
        {
          "output_type": "stream",
          "name": "stdout",
          "text": [
            "Valor de contador:  6\n",
            "Valor de contador:  5\n",
            "Valor de contador:  4\n",
            "Valor de contador:  3\n",
            "Valor de contador:  2\n",
            "Valor de contador:  1\n",
            "Fin de ciclo\n"
          ]
        }
      ]
    },
    {
      "cell_type": "markdown",
      "source": [
        "También permite recorrer algún elemento iterable mientras existan elementos en él, por ejemplo, una lista y en cada iteración se va eliminando un dato:"
      ],
      "metadata": {
        "id": "zA1soQIf6Blf"
      }
    },
    {
      "cell_type": "code",
      "source": [
        "x = [\"Uno\", \"Dos\", \"Tres\"]\n",
        "while x:\n",
        "  x.pop(0)\n",
        "  print(x)"
      ],
      "metadata": {
        "id": "V8xuzrnH6OHq",
        "colab": {
          "base_uri": "https://localhost:8080/"
        },
        "outputId": "a888fd13-db50-4142-d861-617264af7e96"
      },
      "execution_count": 6,
      "outputs": [
        {
          "output_type": "stream",
          "name": "stdout",
          "text": [
            "['Dos', 'Tres']\n",
            "['Tres']\n",
            "[]\n"
          ]
        }
      ]
    },
    {
      "cell_type": "markdown",
      "source": [
        "En Python, es posible mezclar la palabra reservada `else`, con el `while`. Servirá para ejecutar código una vez que el ciclo allá terminado normalmente:"
      ],
      "metadata": {
        "id": "39fdoJ1D6yId"
      }
    },
    {
      "cell_type": "code",
      "source": [
        "x = 0\n",
        "while x < 6:\n",
        "  print(\"Valor de contador: \", x)\n",
        "  x += 1\n",
        "else:\n",
        "  print(\"Fin de ciclo\")"
      ],
      "metadata": {
        "id": "RoZNYls067TJ",
        "colab": {
          "base_uri": "https://localhost:8080/"
        },
        "outputId": "f5a6be1d-33ec-48f8-dc00-c6c30a0c6d1c"
      },
      "execution_count": 7,
      "outputs": [
        {
          "output_type": "stream",
          "name": "stdout",
          "text": [
            "Valor de contador:  0\n",
            "Valor de contador:  1\n",
            "Valor de contador:  2\n",
            "Valor de contador:  3\n",
            "Valor de contador:  4\n",
            "Valor de contador:  5\n",
            "Fin de ciclo\n"
          ]
        }
      ]
    },
    {
      "cell_type": "markdown",
      "source": [
        "Como el ciclo `while` ejecuta las sentencias en su interior cuando la condición es verdadera, se deberá tener cuidado de no generar ciclos infinitos, a menos que sea requerido por el programa a realizar. El siguiente ejemplo es válido, pero ocasionará que el programa quedé \"colgado\" infinitamente:\n",
        "```\n",
        "while True:\n",
        "  print(\"hola\")\n",
        "```"
      ],
      "metadata": {
        "id": "pRd6tSDV8G__"
      }
    },
    {
      "cell_type": "markdown",
      "source": [
        "## Modificación de ciclos.\n",
        "\n",
        "`Break` permite detener la ejecución del ciclo. Una vez que el interprete encuentre la palabra, el ciclo terminará, sin embargo se puede considerar que es un final forzado.\n",
        "\n",
        "Se puede utilizar tanto con ciclos `for` y `while`. Comúnmente se usa para establecer una condición de parada del ciclo y así evitar consumir ciclos de reloj de la computadora:"
      ],
      "metadata": {
        "id": "-214nBsp9I_P"
      }
    },
    {
      "cell_type": "code",
      "source": [
        "cadena = \"Python\"\n",
        "for letra in cadena:\n",
        "  if letra == 'h':\n",
        "    print(\"Se encontró la h\")\n",
        "    break\n",
        "  print(letra)"
      ],
      "metadata": {
        "id": "S2clWJf6Gbww",
        "colab": {
          "base_uri": "https://localhost:8080/"
        },
        "outputId": "a407d47f-78d0-4804-e235-25e41b230675"
      },
      "execution_count": 10,
      "outputs": [
        {
          "output_type": "stream",
          "name": "stdout",
          "text": [
            "P\n",
            "y\n",
            "t\n",
            "Se encontró la h\n"
          ]
        }
      ]
    },
    {
      "cell_type": "code",
      "source": [
        "x = 5\n",
        "while True:\n",
        "  x -= 1\n",
        "  print(x)\n",
        "\n",
        "  if x == 0:\n",
        "    break\n",
        "\n",
        "print(\"Fin del ciclo\")"
      ],
      "metadata": {
        "id": "5412fI7IWiwr",
        "colab": {
          "base_uri": "https://localhost:8080/"
        },
        "outputId": "42545da6-1434-431a-845b-566be54fb3ff"
      },
      "execution_count": 11,
      "outputs": [
        {
          "output_type": "stream",
          "name": "stdout",
          "text": [
            "4\n",
            "3\n",
            "2\n",
            "1\n",
            "0\n",
            "Fin del ciclo\n"
          ]
        }
      ]
    },
    {
      "cell_type": "markdown",
      "source": [
        "El siguiente ejemplo muestra como un ciclo infinito se puede detener con una condición y un sentencia `break`:"
      ],
      "metadata": {
        "id": "V01ic2svGlTQ"
      }
    },
    {
      "cell_type": "code",
      "source": [
        "x = 5\n",
        "while True:\n",
        "  x -= 1\n",
        "  print(x)\n",
        "\n",
        "  if x == 0:\n",
        "    break\n",
        "\n",
        "print(\"Fin del ciclo\")"
      ],
      "metadata": {
        "id": "u085-tTgGvU2",
        "colab": {
          "base_uri": "https://localhost:8080/"
        },
        "outputId": "8f98b50c-7bf1-4f28-933f-6fe27d5c2cd6"
      },
      "execution_count": 12,
      "outputs": [
        {
          "output_type": "stream",
          "name": "stdout",
          "text": [
            "4\n",
            "3\n",
            "2\n",
            "1\n",
            "0\n",
            "Fin del ciclo\n"
          ]
        }
      ]
    },
    {
      "cell_type": "markdown",
      "source": [
        "Si `break` se encuentra dentro de ciclos anidados, únicamente detendŕa el ciclo en el que se encuentra:"
      ],
      "metadata": {
        "id": "1TdVnd3KHjQ7"
      }
    },
    {
      "cell_type": "code",
      "source": [
        "for i in range(0, 4):\n",
        "  for j in range(0, 4):\n",
        "    break\n",
        "  print(i, j)"
      ],
      "metadata": {
        "id": "rJ10913nHqDg",
        "colab": {
          "base_uri": "https://localhost:8080/"
        },
        "outputId": "e08f33f8-15f7-4b45-b532-41e30d383227"
      },
      "execution_count": 14,
      "outputs": [
        {
          "output_type": "stream",
          "name": "stdout",
          "text": [
            "0 0\n",
            "1 0\n",
            "2 0\n",
            "3 0\n"
          ]
        }
      ]
    },
    {
      "cell_type": "markdown",
      "source": [
        "La otra sentencia que permite modificar los ciclos en Python es la palabra reservada `continue`. Ésta permite que dentro de un ciclo se \"salte\" las líneas posteriores a donde se encuentra, haciendo que el ciclo continue su ejecución en la siguiente iteración:"
      ],
      "metadata": {
        "id": "bZVwKZY-I8dd"
      }
    },
    {
      "cell_type": "code",
      "source": [
        "for letra in cadena:\n",
        "  if letra == 't':\n",
        "     continue\n",
        "  print(letra)"
      ],
      "metadata": {
        "id": "nqOnyWCwJ8C4",
        "colab": {
          "base_uri": "https://localhost:8080/"
        },
        "outputId": "3a060d9c-d8d7-4a0e-ef62-ee227a0d2a39"
      },
      "execution_count": 16,
      "outputs": [
        {
          "output_type": "stream",
          "name": "stdout",
          "text": [
            "P\n",
            "y\n",
            "h\n",
            "o\n",
            "n\n"
          ]
        }
      ]
    },
    {
      "cell_type": "markdown",
      "source": [
        "Como se puede observar, si bien se brinco el `print()`, únicamente no lo ejecuta en esa iteración, siendo que en las demás se ejecuta normalmente.\n",
        "\n",
        "Un ejemplo con `while`:"
      ],
      "metadata": {
        "id": "2UdG4xMyKCvr"
      }
    },
    {
      "cell_type": "code",
      "source": [
        "x = 5\n",
        "while x > 0:\n",
        "  x -= 1\n",
        "  if x == 3:\n",
        "    continue\n",
        "  print(x)"
      ],
      "metadata": {
        "id": "YicB0SL3MXQw",
        "colab": {
          "base_uri": "https://localhost:8080/"
        },
        "outputId": "c658b7d3-64ef-4d49-f589-da6100f53347"
      },
      "execution_count": 17,
      "outputs": [
        {
          "output_type": "stream",
          "name": "stdout",
          "text": [
            "4\n",
            "2\n",
            "1\n",
            "0\n"
          ]
        }
      ]
    },
    {
      "cell_type": "markdown",
      "source": [
        "***COMPARTE TUS REFLEXIONES DE LOS TEMAS VISTOS ANTERIORMENTE.***"
      ],
      "metadata": {
        "id": "SG9zH2AYMsnV"
      }
    },
    {
      "cell_type": "markdown",
      "source": [
        "Las sentencias condicionales e iterativas ya las había aplicado en otros lenguajes, por lo que no se me hizo difícil entender su función. Lo interesante es la potencia que encontramos en Python pata iterar una colección de datos y la sencillo que es utilizarlas. \n"
      ],
      "metadata": {
        "id": "zsdUdF9w-pew"
      }
    }
  ]
}